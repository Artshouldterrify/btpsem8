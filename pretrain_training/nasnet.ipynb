{
 "cells": [
  {
   "cell_type": "code",
   "execution_count": 1,
   "id": "ac7f0fdc",
   "metadata": {
    "execution": {
     "iopub.execute_input": "2024-04-29T14:36:20.211229Z",
     "iopub.status.busy": "2024-04-29T14:36:20.210951Z",
     "iopub.status.idle": "2024-04-29T14:36:35.502431Z",
     "shell.execute_reply": "2024-04-29T14:36:35.500730Z"
    },
    "id": "380dVmoMbVoM",
    "outputId": "3f49e613-6318-4c4d-8e0d-05bc4c90f86c",
    "papermill": {
     "duration": 15.300254,
     "end_time": "2024-04-29T14:36:35.505413",
     "exception": false,
     "start_time": "2024-04-29T14:36:20.205159",
     "status": "completed"
    },
    "tags": []
   },
   "outputs": [
    {
     "name": "stdout",
     "output_type": "stream",
     "text": [
      "Collecting mealpy==2.5.4\r\n",
      "  Downloading mealpy-2.5.4-py3-none-any.whl.metadata (92 kB)\r\n",
      "\u001b[2K     \u001b[90m━━━━━━━━━━━━━━━━━━━━━━━━━━━━━━━━━━━━━━━━\u001b[0m \u001b[32m92.0/92.0 kB\u001b[0m \u001b[31m4.3 MB/s\u001b[0m eta \u001b[36m0:00:00\u001b[0m\r\n",
      "\u001b[?25hRequirement already satisfied: numpy>=1.16.5 in /opt/conda/lib/python3.10/site-packages (from mealpy==2.5.4) (1.26.4)\r\n",
      "Requirement already satisfied: matplotlib>=3.3.0 in /opt/conda/lib/python3.10/site-packages (from mealpy==2.5.4) (3.7.5)\r\n",
      "Requirement already satisfied: scipy>=1.7.1 in /opt/conda/lib/python3.10/site-packages (from mealpy==2.5.4) (1.11.4)\r\n",
      "Requirement already satisfied: pandas>=1.2.0 in /opt/conda/lib/python3.10/site-packages (from mealpy==2.5.4) (2.1.4)\r\n",
      "Collecting opfunu>=1.0.0 (from mealpy==2.5.4)\r\n",
      "  Downloading opfunu-1.0.2-py3-none-any.whl.metadata (9.0 kB)\r\n",
      "Requirement already satisfied: contourpy>=1.0.1 in /opt/conda/lib/python3.10/site-packages (from matplotlib>=3.3.0->mealpy==2.5.4) (1.2.0)\r\n",
      "Requirement already satisfied: cycler>=0.10 in /opt/conda/lib/python3.10/site-packages (from matplotlib>=3.3.0->mealpy==2.5.4) (0.12.1)\r\n",
      "Requirement already satisfied: fonttools>=4.22.0 in /opt/conda/lib/python3.10/site-packages (from matplotlib>=3.3.0->mealpy==2.5.4) (4.47.0)\r\n",
      "Requirement already satisfied: kiwisolver>=1.0.1 in /opt/conda/lib/python3.10/site-packages (from matplotlib>=3.3.0->mealpy==2.5.4) (1.4.5)\r\n",
      "Requirement already satisfied: packaging>=20.0 in /opt/conda/lib/python3.10/site-packages (from matplotlib>=3.3.0->mealpy==2.5.4) (21.3)\r\n",
      "Requirement already satisfied: pillow>=6.2.0 in /opt/conda/lib/python3.10/site-packages (from matplotlib>=3.3.0->mealpy==2.5.4) (9.5.0)\r\n",
      "Requirement already satisfied: pyparsing>=2.3.1 in /opt/conda/lib/python3.10/site-packages (from matplotlib>=3.3.0->mealpy==2.5.4) (3.1.1)\r\n",
      "Requirement already satisfied: python-dateutil>=2.7 in /opt/conda/lib/python3.10/site-packages (from matplotlib>=3.3.0->mealpy==2.5.4) (2.8.2)\r\n",
      "Requirement already satisfied: requests>=2.27.0 in /opt/conda/lib/python3.10/site-packages (from opfunu>=1.0.0->mealpy==2.5.4) (2.31.0)\r\n",
      "Requirement already satisfied: pytz>=2020.1 in /opt/conda/lib/python3.10/site-packages (from pandas>=1.2.0->mealpy==2.5.4) (2023.3.post1)\r\n",
      "Requirement already satisfied: tzdata>=2022.1 in /opt/conda/lib/python3.10/site-packages (from pandas>=1.2.0->mealpy==2.5.4) (2023.4)\r\n",
      "Requirement already satisfied: six>=1.5 in /opt/conda/lib/python3.10/site-packages (from python-dateutil>=2.7->matplotlib>=3.3.0->mealpy==2.5.4) (1.16.0)\r\n",
      "Requirement already satisfied: charset-normalizer<4,>=2 in /opt/conda/lib/python3.10/site-packages (from requests>=2.27.0->opfunu>=1.0.0->mealpy==2.5.4) (3.3.2)\r\n",
      "Requirement already satisfied: idna<4,>=2.5 in /opt/conda/lib/python3.10/site-packages (from requests>=2.27.0->opfunu>=1.0.0->mealpy==2.5.4) (3.6)\r\n",
      "Requirement already satisfied: urllib3<3,>=1.21.1 in /opt/conda/lib/python3.10/site-packages (from requests>=2.27.0->opfunu>=1.0.0->mealpy==2.5.4) (1.26.18)\r\n",
      "Requirement already satisfied: certifi>=2017.4.17 in /opt/conda/lib/python3.10/site-packages (from requests>=2.27.0->opfunu>=1.0.0->mealpy==2.5.4) (2024.2.2)\r\n",
      "Downloading mealpy-2.5.4-py3-none-any.whl (377 kB)\r\n",
      "\u001b[2K   \u001b[90m━━━━━━━━━━━━━━━━━━━━━━━━━━━━━━━━━━━━━━━━\u001b[0m \u001b[32m378.0/378.0 kB\u001b[0m \u001b[31m17.5 MB/s\u001b[0m eta \u001b[36m0:00:00\u001b[0m\r\n",
      "\u001b[?25hDownloading opfunu-1.0.2-py3-none-any.whl (13.0 MB)\r\n",
      "\u001b[2K   \u001b[90m━━━━━━━━━━━━━━━━━━━━━━━━━━━━━━━━━━━━━━━━\u001b[0m \u001b[32m13.0/13.0 MB\u001b[0m \u001b[31m88.5 MB/s\u001b[0m eta \u001b[36m0:00:00\u001b[0m\r\n",
      "\u001b[?25hInstalling collected packages: opfunu, mealpy\r\n",
      "Successfully installed mealpy-2.5.4 opfunu-1.0.2\r\n",
      "Note: you may need to restart the kernel to use updated packages.\n"
     ]
    }
   ],
   "source": [
    "pip install mealpy==2.5.4"
   ]
  },
  {
   "cell_type": "code",
   "execution_count": 2,
   "id": "55fe08d3",
   "metadata": {
    "execution": {
     "iopub.execute_input": "2024-04-29T14:36:35.521102Z",
     "iopub.status.busy": "2024-04-29T14:36:35.520353Z",
     "iopub.status.idle": "2024-04-29T14:36:52.216379Z",
     "shell.execute_reply": "2024-04-29T14:36:52.215127Z"
    },
    "papermill": {
     "duration": 16.704835,
     "end_time": "2024-04-29T14:36:52.218410",
     "exception": false,
     "start_time": "2024-04-29T14:36:35.513575",
     "status": "completed"
    },
    "tags": []
   },
   "outputs": [
    {
     "name": "stdout",
     "output_type": "stream",
     "text": [
      "Collecting mafese==0.1.9\r\n",
      "  Downloading mafese-0.1.9-py3-none-any.whl.metadata (15 kB)\r\n",
      "Requirement already satisfied: numpy>=1.17.1 in /opt/conda/lib/python3.10/site-packages (from mafese==0.1.9) (1.26.4)\r\n",
      "Requirement already satisfied: scipy>=1.7.1 in /opt/conda/lib/python3.10/site-packages (from mafese==0.1.9) (1.11.4)\r\n",
      "Requirement already satisfied: scikit-learn>=1.0.2 in /opt/conda/lib/python3.10/site-packages (from mafese==0.1.9) (1.2.2)\r\n",
      "Requirement already satisfied: pandas>=1.3.5 in /opt/conda/lib/python3.10/site-packages (from mafese==0.1.9) (2.1.4)\r\n",
      "Requirement already satisfied: mealpy>=2.5.4 in /opt/conda/lib/python3.10/site-packages (from mafese==0.1.9) (2.5.4)\r\n",
      "Collecting permetrics>=1.4.2 (from mafese==0.1.9)\r\n",
      "  Downloading permetrics-2.0.0-py3-none-any.whl.metadata (8.7 kB)\r\n",
      "Requirement already satisfied: plotly>=5.10.0 in /opt/conda/lib/python3.10/site-packages (from mafese==0.1.9) (5.18.0)\r\n",
      "Collecting kaleido>=0.2.1 (from mafese==0.1.9)\r\n",
      "  Downloading kaleido-0.2.1-py2.py3-none-manylinux1_x86_64.whl.metadata (15 kB)\r\n",
      "Requirement already satisfied: matplotlib>=3.3.0 in /opt/conda/lib/python3.10/site-packages (from mealpy>=2.5.4->mafese==0.1.9) (3.7.5)\r\n",
      "Requirement already satisfied: opfunu>=1.0.0 in /opt/conda/lib/python3.10/site-packages (from mealpy>=2.5.4->mafese==0.1.9) (1.0.2)\r\n",
      "Requirement already satisfied: python-dateutil>=2.8.2 in /opt/conda/lib/python3.10/site-packages (from pandas>=1.3.5->mafese==0.1.9) (2.8.2)\r\n",
      "Requirement already satisfied: pytz>=2020.1 in /opt/conda/lib/python3.10/site-packages (from pandas>=1.3.5->mafese==0.1.9) (2023.3.post1)\r\n",
      "Requirement already satisfied: tzdata>=2022.1 in /opt/conda/lib/python3.10/site-packages (from pandas>=1.3.5->mafese==0.1.9) (2023.4)\r\n",
      "Requirement already satisfied: tenacity>=6.2.0 in /opt/conda/lib/python3.10/site-packages (from plotly>=5.10.0->mafese==0.1.9) (8.2.3)\r\n",
      "Requirement already satisfied: packaging in /opt/conda/lib/python3.10/site-packages (from plotly>=5.10.0->mafese==0.1.9) (21.3)\r\n",
      "Requirement already satisfied: joblib>=1.1.1 in /opt/conda/lib/python3.10/site-packages (from scikit-learn>=1.0.2->mafese==0.1.9) (1.3.2)\r\n",
      "Requirement already satisfied: threadpoolctl>=2.0.0 in /opt/conda/lib/python3.10/site-packages (from scikit-learn>=1.0.2->mafese==0.1.9) (3.2.0)\r\n",
      "Requirement already satisfied: contourpy>=1.0.1 in /opt/conda/lib/python3.10/site-packages (from matplotlib>=3.3.0->mealpy>=2.5.4->mafese==0.1.9) (1.2.0)\r\n",
      "Requirement already satisfied: cycler>=0.10 in /opt/conda/lib/python3.10/site-packages (from matplotlib>=3.3.0->mealpy>=2.5.4->mafese==0.1.9) (0.12.1)\r\n",
      "Requirement already satisfied: fonttools>=4.22.0 in /opt/conda/lib/python3.10/site-packages (from matplotlib>=3.3.0->mealpy>=2.5.4->mafese==0.1.9) (4.47.0)\r\n",
      "Requirement already satisfied: kiwisolver>=1.0.1 in /opt/conda/lib/python3.10/site-packages (from matplotlib>=3.3.0->mealpy>=2.5.4->mafese==0.1.9) (1.4.5)\r\n",
      "Requirement already satisfied: pillow>=6.2.0 in /opt/conda/lib/python3.10/site-packages (from matplotlib>=3.3.0->mealpy>=2.5.4->mafese==0.1.9) (9.5.0)\r\n",
      "Requirement already satisfied: pyparsing>=2.3.1 in /opt/conda/lib/python3.10/site-packages (from matplotlib>=3.3.0->mealpy>=2.5.4->mafese==0.1.9) (3.1.1)\r\n",
      "Requirement already satisfied: requests>=2.27.0 in /opt/conda/lib/python3.10/site-packages (from opfunu>=1.0.0->mealpy>=2.5.4->mafese==0.1.9) (2.31.0)\r\n",
      "Requirement already satisfied: six>=1.5 in /opt/conda/lib/python3.10/site-packages (from python-dateutil>=2.8.2->pandas>=1.3.5->mafese==0.1.9) (1.16.0)\r\n",
      "Requirement already satisfied: charset-normalizer<4,>=2 in /opt/conda/lib/python3.10/site-packages (from requests>=2.27.0->opfunu>=1.0.0->mealpy>=2.5.4->mafese==0.1.9) (3.3.2)\r\n",
      "Requirement already satisfied: idna<4,>=2.5 in /opt/conda/lib/python3.10/site-packages (from requests>=2.27.0->opfunu>=1.0.0->mealpy>=2.5.4->mafese==0.1.9) (3.6)\r\n",
      "Requirement already satisfied: urllib3<3,>=1.21.1 in /opt/conda/lib/python3.10/site-packages (from requests>=2.27.0->opfunu>=1.0.0->mealpy>=2.5.4->mafese==0.1.9) (1.26.18)\r\n",
      "Requirement already satisfied: certifi>=2017.4.17 in /opt/conda/lib/python3.10/site-packages (from requests>=2.27.0->opfunu>=1.0.0->mealpy>=2.5.4->mafese==0.1.9) (2024.2.2)\r\n",
      "Downloading mafese-0.1.9-py3-none-any.whl (4.2 MB)\r\n",
      "\u001b[2K   \u001b[90m━━━━━━━━━━━━━━━━━━━━━━━━━━━━━━━━━━━━━━━━\u001b[0m \u001b[32m4.2/4.2 MB\u001b[0m \u001b[31m10.2 MB/s\u001b[0m eta \u001b[36m0:00:00\u001b[0m\r\n",
      "\u001b[?25hDownloading kaleido-0.2.1-py2.py3-none-manylinux1_x86_64.whl (79.9 MB)\r\n",
      "\u001b[2K   \u001b[90m━━━━━━━━━━━━━━━━━━━━━━━━━━━━━━━━━━━━━━━━\u001b[0m \u001b[32m79.9/79.9 MB\u001b[0m \u001b[31m20.9 MB/s\u001b[0m eta \u001b[36m0:00:00\u001b[0m\r\n",
      "\u001b[?25hDownloading permetrics-2.0.0-py3-none-any.whl (52 kB)\r\n",
      "\u001b[2K   \u001b[90m━━━━━━━━━━━━━━━━━━━━━━━━━━━━━━━━━━━━━━━━\u001b[0m \u001b[32m52.6/52.6 kB\u001b[0m \u001b[31m3.5 MB/s\u001b[0m eta \u001b[36m0:00:00\u001b[0m\r\n",
      "\u001b[?25hInstalling collected packages: kaleido, permetrics, mafese\r\n",
      "Successfully installed kaleido-0.2.1 mafese-0.1.9 permetrics-2.0.0\r\n",
      "Note: you may need to restart the kernel to use updated packages.\n"
     ]
    }
   ],
   "source": [
    "pip install mafese==0.1.9"
   ]
  },
  {
   "cell_type": "code",
   "execution_count": 3,
   "id": "51a578f3",
   "metadata": {
    "execution": {
     "iopub.execute_input": "2024-04-29T14:36:52.239448Z",
     "iopub.status.busy": "2024-04-29T14:36:52.239157Z",
     "iopub.status.idle": "2024-04-29T14:37:06.483630Z",
     "shell.execute_reply": "2024-04-29T14:37:06.482659Z"
    },
    "id": "6j4sBROet5iQ",
    "papermill": {
     "duration": 14.257892,
     "end_time": "2024-04-29T14:37:06.486077",
     "exception": false,
     "start_time": "2024-04-29T14:36:52.228185",
     "status": "completed"
    },
    "tags": []
   },
   "outputs": [
    {
     "name": "stderr",
     "output_type": "stream",
     "text": [
      "2024-04-29 14:36:53.988272: E external/local_xla/xla/stream_executor/cuda/cuda_dnn.cc:9261] Unable to register cuDNN factory: Attempting to register factory for plugin cuDNN when one has already been registered\n",
      "2024-04-29 14:36:53.988365: E external/local_xla/xla/stream_executor/cuda/cuda_fft.cc:607] Unable to register cuFFT factory: Attempting to register factory for plugin cuFFT when one has already been registered\n",
      "2024-04-29 14:36:54.117188: E external/local_xla/xla/stream_executor/cuda/cuda_blas.cc:1515] Unable to register cuBLAS factory: Attempting to register factory for plugin cuBLAS when one has already been registered\n"
     ]
    }
   ],
   "source": [
    "# imports\n",
    "\n",
    "import tensorflow as tf\n",
    "import matplotlib.pyplot as plt\n",
    "import numpy as np\n",
    "import seaborn as sns\n",
    "import mafese as mfse"
   ]
  },
  {
   "cell_type": "code",
   "execution_count": 4,
   "id": "ee3c074c",
   "metadata": {
    "execution": {
     "iopub.execute_input": "2024-04-29T14:37:06.506909Z",
     "iopub.status.busy": "2024-04-29T14:37:06.506343Z",
     "iopub.status.idle": "2024-04-29T14:37:06.516413Z",
     "shell.execute_reply": "2024-04-29T14:37:06.515732Z"
    },
    "id": "fDTRo85EuGgV",
    "papermill": {
     "duration": 0.022404,
     "end_time": "2024-04-29T14:37:06.518295",
     "exception": false,
     "start_time": "2024-04-29T14:37:06.495891",
     "status": "completed"
    },
    "tags": []
   },
   "outputs": [],
   "source": [
    "# loading the images\n",
    "train_dir = \"/kaggle/input/cifake-real-and-ai-generated-synthetic-images/train\"\n",
    "test_dir = \"/kaggle/input/cifake-real-and-ai-generated-synthetic-images/test\"\n",
    "\n",
    "# generator\n",
    "def datagen(func):\n",
    "  train_gen = tf.keras.preprocessing.image.ImageDataGenerator(\n",
    "              preprocessing_function=func,\n",
    "              horizontal_flip = True,\n",
    "              vertical_flip = True,\n",
    "              rotation_range = 0.5,\n",
    "              width_shift_range = 0.25,\n",
    "              height_shift_range = 0.25,\n",
    "              shear_range = 0.2,\n",
    "              zoom_range = 0.4,\n",
    "              validation_split = 0.92)\n",
    "\n",
    "  test_gen = tf.keras.preprocessing.image.ImageDataGenerator(\n",
    "              preprocessing_function=func,\n",
    "              validation_split = 0.8)\n",
    "\n",
    "  test_gen_2 = tf.keras.preprocessing.image.ImageDataGenerator(\n",
    "              preprocessing_function=func,\n",
    "              validation_split = 0.2)\n",
    "\n",
    "  pred_gen = tf.keras.preprocessing.image.ImageDataGenerator(\n",
    "              preprocessing_function=func,\n",
    "              validation_split = 0.92)\n",
    "\n",
    "  train_set = train_gen.flow_from_directory(train_dir, class_mode = \"binary\", batch_size = 128, target_size = (224,224), shuffle = True, subset = 'training')\n",
    "  test_set = test_gen.flow_from_directory(test_dir, class_mode = \"binary\", batch_size = 128, target_size = (224,224), shuffle = False, subset='training')\n",
    "  val_set = test_gen_2.flow_from_directory(test_dir, class_mode = \"binary\", batch_size = 128, target_size = (224,224), shuffle = False, subset='validation')\n",
    "  pred_tr_set = pred_gen.flow_from_directory(train_dir, class_mode = \"binary\", batch_size = 128, target_size = (224,224), shuffle = False, subset = 'training')\n",
    "  return train_set, test_set, val_set, pred_tr_set"
   ]
  },
  {
   "cell_type": "code",
   "execution_count": 5,
   "id": "639f2347",
   "metadata": {
    "execution": {
     "iopub.execute_input": "2024-04-29T14:37:06.538362Z",
     "iopub.status.busy": "2024-04-29T14:37:06.538083Z",
     "iopub.status.idle": "2024-04-29T14:37:23.373102Z",
     "shell.execute_reply": "2024-04-29T14:37:23.372387Z"
    },
    "id": "voerm_OwuWwO",
    "outputId": "d123e920-2be2-4402-f8a8-f6a5693b1031",
    "papermill": {
     "duration": 16.847298,
     "end_time": "2024-04-29T14:37:23.375056",
     "exception": false,
     "start_time": "2024-04-29T14:37:06.527758",
     "status": "completed"
    },
    "tags": []
   },
   "outputs": [
    {
     "name": "stdout",
     "output_type": "stream",
     "text": [
      "Downloading data from https://storage.googleapis.com/tensorflow/keras-applications/nasnet/NASNet-large-no-top.h5\n",
      "\u001b[1m343610240/343610240\u001b[0m \u001b[32m━━━━━━━━━━━━━━━━━━━━\u001b[0m\u001b[37m\u001b[0m \u001b[1m9s\u001b[0m 0us/step\n"
     ]
    },
    {
     "data": {
      "text/html": [
       "<pre style=\"white-space:pre;overflow-x:auto;line-height:normal;font-family:Menlo,'DejaVu Sans Mono',consolas,'Courier New',monospace\"><span style=\"font-weight: bold\">Model: \"functional_1\"</span>\n",
       "</pre>\n"
      ],
      "text/plain": [
       "\u001b[1mModel: \"functional_1\"\u001b[0m\n"
      ]
     },
     "metadata": {},
     "output_type": "display_data"
    },
    {
     "data": {
      "text/html": [
       "<pre style=\"white-space:pre;overflow-x:auto;line-height:normal;font-family:Menlo,'DejaVu Sans Mono',consolas,'Courier New',monospace\">┏━━━━━━━━━━━━━━━━━━━━━━━━━━━━━━━━━┳━━━━━━━━━━━━━━━━━━━━━━━━┳━━━━━━━━━━━━━━━┓\n",
       "┃<span style=\"font-weight: bold\"> Layer (type)                    </span>┃<span style=\"font-weight: bold\"> Output Shape           </span>┃<span style=\"font-weight: bold\">       Param # </span>┃\n",
       "┡━━━━━━━━━━━━━━━━━━━━━━━━━━━━━━━━━╇━━━━━━━━━━━━━━━━━━━━━━━━╇━━━━━━━━━━━━━━━┩\n",
       "│ input_layer_1 (<span style=\"color: #0087ff; text-decoration-color: #0087ff\">InputLayer</span>)      │ (<span style=\"color: #00d7ff; text-decoration-color: #00d7ff\">None</span>, <span style=\"color: #00af00; text-decoration-color: #00af00\">224</span>, <span style=\"color: #00af00; text-decoration-color: #00af00\">224</span>, <span style=\"color: #00af00; text-decoration-color: #00af00\">3</span>)    │             <span style=\"color: #00af00; text-decoration-color: #00af00\">0</span> │\n",
       "├─────────────────────────────────┼────────────────────────┼───────────────┤\n",
       "│ NASNet (<span style=\"color: #0087ff; text-decoration-color: #0087ff\">Functional</span>)             │ (<span style=\"color: #00d7ff; text-decoration-color: #00d7ff\">None</span>, <span style=\"color: #00af00; text-decoration-color: #00af00\">7</span>, <span style=\"color: #00af00; text-decoration-color: #00af00\">7</span>, <span style=\"color: #00af00; text-decoration-color: #00af00\">4032</span>)     │    <span style=\"color: #00af00; text-decoration-color: #00af00\">84,916,818</span> │\n",
       "├─────────────────────────────────┼────────────────────────┼───────────────┤\n",
       "│ global_average_pooling2d        │ (<span style=\"color: #00d7ff; text-decoration-color: #00d7ff\">None</span>, <span style=\"color: #00af00; text-decoration-color: #00af00\">4032</span>)           │             <span style=\"color: #00af00; text-decoration-color: #00af00\">0</span> │\n",
       "│ (<span style=\"color: #0087ff; text-decoration-color: #0087ff\">GlobalAveragePooling2D</span>)        │                        │               │\n",
       "├─────────────────────────────────┼────────────────────────┼───────────────┤\n",
       "│ dense (<span style=\"color: #0087ff; text-decoration-color: #0087ff\">Dense</span>)                   │ (<span style=\"color: #00d7ff; text-decoration-color: #00d7ff\">None</span>, <span style=\"color: #00af00; text-decoration-color: #00af00\">2</span>)              │         <span style=\"color: #00af00; text-decoration-color: #00af00\">8,066</span> │\n",
       "└─────────────────────────────────┴────────────────────────┴───────────────┘\n",
       "</pre>\n"
      ],
      "text/plain": [
       "┏━━━━━━━━━━━━━━━━━━━━━━━━━━━━━━━━━┳━━━━━━━━━━━━━━━━━━━━━━━━┳━━━━━━━━━━━━━━━┓\n",
       "┃\u001b[1m \u001b[0m\u001b[1mLayer (type)                   \u001b[0m\u001b[1m \u001b[0m┃\u001b[1m \u001b[0m\u001b[1mOutput Shape          \u001b[0m\u001b[1m \u001b[0m┃\u001b[1m \u001b[0m\u001b[1m      Param #\u001b[0m\u001b[1m \u001b[0m┃\n",
       "┡━━━━━━━━━━━━━━━━━━━━━━━━━━━━━━━━━╇━━━━━━━━━━━━━━━━━━━━━━━━╇━━━━━━━━━━━━━━━┩\n",
       "│ input_layer_1 (\u001b[38;5;33mInputLayer\u001b[0m)      │ (\u001b[38;5;45mNone\u001b[0m, \u001b[38;5;34m224\u001b[0m, \u001b[38;5;34m224\u001b[0m, \u001b[38;5;34m3\u001b[0m)    │             \u001b[38;5;34m0\u001b[0m │\n",
       "├─────────────────────────────────┼────────────────────────┼───────────────┤\n",
       "│ NASNet (\u001b[38;5;33mFunctional\u001b[0m)             │ (\u001b[38;5;45mNone\u001b[0m, \u001b[38;5;34m7\u001b[0m, \u001b[38;5;34m7\u001b[0m, \u001b[38;5;34m4032\u001b[0m)     │    \u001b[38;5;34m84,916,818\u001b[0m │\n",
       "├─────────────────────────────────┼────────────────────────┼───────────────┤\n",
       "│ global_average_pooling2d        │ (\u001b[38;5;45mNone\u001b[0m, \u001b[38;5;34m4032\u001b[0m)           │             \u001b[38;5;34m0\u001b[0m │\n",
       "│ (\u001b[38;5;33mGlobalAveragePooling2D\u001b[0m)        │                        │               │\n",
       "├─────────────────────────────────┼────────────────────────┼───────────────┤\n",
       "│ dense (\u001b[38;5;33mDense\u001b[0m)                   │ (\u001b[38;5;45mNone\u001b[0m, \u001b[38;5;34m2\u001b[0m)              │         \u001b[38;5;34m8,066\u001b[0m │\n",
       "└─────────────────────────────────┴────────────────────────┴───────────────┘\n"
      ]
     },
     "metadata": {},
     "output_type": "display_data"
    },
    {
     "data": {
      "text/html": [
       "<pre style=\"white-space:pre;overflow-x:auto;line-height:normal;font-family:Menlo,'DejaVu Sans Mono',consolas,'Courier New',monospace\"><span style=\"font-weight: bold\"> Total params: </span><span style=\"color: #00af00; text-decoration-color: #00af00\">84,924,884</span> (323.96 MB)\n",
       "</pre>\n"
      ],
      "text/plain": [
       "\u001b[1m Total params: \u001b[0m\u001b[38;5;34m84,924,884\u001b[0m (323.96 MB)\n"
      ]
     },
     "metadata": {},
     "output_type": "display_data"
    },
    {
     "data": {
      "text/html": [
       "<pre style=\"white-space:pre;overflow-x:auto;line-height:normal;font-family:Menlo,'DejaVu Sans Mono',consolas,'Courier New',monospace\"><span style=\"font-weight: bold\"> Trainable params: </span><span style=\"color: #00af00; text-decoration-color: #00af00\">8,066</span> (31.51 KB)\n",
       "</pre>\n"
      ],
      "text/plain": [
       "\u001b[1m Trainable params: \u001b[0m\u001b[38;5;34m8,066\u001b[0m (31.51 KB)\n"
      ]
     },
     "metadata": {},
     "output_type": "display_data"
    },
    {
     "data": {
      "text/html": [
       "<pre style=\"white-space:pre;overflow-x:auto;line-height:normal;font-family:Menlo,'DejaVu Sans Mono',consolas,'Courier New',monospace\"><span style=\"font-weight: bold\"> Non-trainable params: </span><span style=\"color: #00af00; text-decoration-color: #00af00\">84,916,818</span> (323.93 MB)\n",
       "</pre>\n"
      ],
      "text/plain": [
       "\u001b[1m Non-trainable params: \u001b[0m\u001b[38;5;34m84,916,818\u001b[0m (323.93 MB)\n"
      ]
     },
     "metadata": {},
     "output_type": "display_data"
    }
   ],
   "source": [
    "# model\n",
    "base_model = tf.keras.applications.NASNetLarge(include_top=False, weights='imagenet', input_shape=(224,224,3))\n",
    "base_model.trainable = False\n",
    "inputs = tf.keras.Input(shape=(224,224,3))\n",
    "x = base_model(inputs, training=False)\n",
    "x = tf.keras.layers.GlobalAveragePooling2D()(x)\n",
    "outputs = tf.keras.layers.Dense(2, activation=\"softmax\")(x)\n",
    "model = tf.keras.Model(inputs, outputs)\n",
    "model.summary()\n",
    "model.compile(loss=tf.keras.losses.SparseCategoricalCrossentropy(from_logits=False), optimizer=tf.keras.optimizers.Adam(learning_rate=0.0001), metrics\n",
    "              =[\"accuracy\"])"
   ]
  },
  {
   "cell_type": "code",
   "execution_count": 6,
   "id": "9a87ac91",
   "metadata": {
    "execution": {
     "iopub.execute_input": "2024-04-29T14:37:23.418085Z",
     "iopub.status.busy": "2024-04-29T14:37:23.417789Z",
     "iopub.status.idle": "2024-04-29T14:37:23.424267Z",
     "shell.execute_reply": "2024-04-29T14:37:23.423439Z"
    },
    "id": "16BJGzvDJTpb",
    "outputId": "067bb365-7dbc-4180-9a45-aab325929e40",
    "papermill": {
     "duration": 0.030026,
     "end_time": "2024-04-29T14:37:23.426044",
     "exception": false,
     "start_time": "2024-04-29T14:37:23.396018",
     "status": "completed"
    },
    "tags": []
   },
   "outputs": [
    {
     "data": {
      "text/plain": [
       "1039"
      ]
     },
     "execution_count": 6,
     "metadata": {},
     "output_type": "execute_result"
    }
   ],
   "source": [
    "len(model.layers[1].layers)"
   ]
  },
  {
   "cell_type": "code",
   "execution_count": 7,
   "id": "0d4a12ef",
   "metadata": {
    "execution": {
     "iopub.execute_input": "2024-04-29T14:37:23.469924Z",
     "iopub.status.busy": "2024-04-29T14:37:23.469629Z",
     "iopub.status.idle": "2024-04-29T14:39:29.711292Z",
     "shell.execute_reply": "2024-04-29T14:39:29.710361Z"
    },
    "id": "9KbLcJsnGCmZ",
    "outputId": "17f275a0-dba1-44ac-c340-82d865528066",
    "papermill": {
     "duration": 126.269041,
     "end_time": "2024-04-29T14:39:29.717030",
     "exception": false,
     "start_time": "2024-04-29T14:37:23.447989",
     "status": "completed"
    },
    "tags": []
   },
   "outputs": [
    {
     "name": "stdout",
     "output_type": "stream",
     "text": [
      "Found 8000 images belonging to 2 classes.\n",
      "Found 4000 images belonging to 2 classes.\n",
      "Found 4000 images belonging to 2 classes.\n",
      "Found 8000 images belonging to 2 classes.\n"
     ]
    }
   ],
   "source": [
    "tr_set, te_set, v_set, pr_set = datagen(tf.keras.applications.nasnet.preprocess_input)"
   ]
  },
  {
   "cell_type": "code",
   "execution_count": 8,
   "id": "4ab64bf0",
   "metadata": {
    "execution": {
     "iopub.execute_input": "2024-04-29T14:39:29.760080Z",
     "iopub.status.busy": "2024-04-29T14:39:29.759787Z",
     "iopub.status.idle": "2024-04-29T17:41:32.229494Z",
     "shell.execute_reply": "2024-04-29T17:41:32.228633Z"
    },
    "id": "sO8GdihAePEe",
    "outputId": "5b044fd2-b58f-43ad-bfae-794e803cb3ac",
    "papermill": {
     "duration": 10922.493903,
     "end_time": "2024-04-29T17:41:32.231912",
     "exception": false,
     "start_time": "2024-04-29T14:39:29.738009",
     "status": "completed"
    },
    "tags": []
   },
   "outputs": [
    {
     "name": "stdout",
     "output_type": "stream",
     "text": [
      "Epoch 1/100\n"
     ]
    },
    {
     "name": "stderr",
     "output_type": "stream",
     "text": [
      "/opt/conda/lib/python3.10/site-packages/keras/src/trainers/data_adapters/py_dataset_adapter.py:122: UserWarning:\n",
      "\n",
      "Your `PyDataset` class should call `super().__init__(**kwargs)` in its constructor. `**kwargs` can include `workers`, `use_multiprocessing`, `max_queue_size`. Do not pass these arguments to `fit()`, as they will be ignored.\n",
      "\n",
      "WARNING: All log messages before absl::InitializeLog() is called are written to STDERR\n",
      "I0000 00:00:1714401647.385496      84 device_compiler.h:186] Compiled cluster using XLA!  This line is logged at most once for the lifetime of the process.\n",
      "W0000 00:00:1714401647.681841      84 graph_launch.cc:671] Fallback to op-by-op mode because memset node breaks graph update\n"
     ]
    },
    {
     "name": "stdout",
     "output_type": "stream",
     "text": [
      "\u001b[1m63/63\u001b[0m \u001b[32m━━━━━━━━━━━━━━━━━━━━\u001b[0m\u001b[37m\u001b[0m \u001b[1m0s\u001b[0m 2s/step - accuracy: 0.5554 - loss: 0.7123"
     ]
    },
    {
     "name": "stderr",
     "output_type": "stream",
     "text": [
      "W0000 00:00:1714401809.531224      85 graph_launch.cc:671] Fallback to op-by-op mode because memset node breaks graph update\n"
     ]
    },
    {
     "name": "stdout",
     "output_type": "stream",
     "text": [
      "\u001b[1m63/63\u001b[0m \u001b[32m━━━━━━━━━━━━━━━━━━━━\u001b[0m\u001b[37m\u001b[0m \u001b[1m288s\u001b[0m 3s/step - accuracy: 0.5561 - loss: 0.7117 - val_accuracy: 0.6693 - val_loss: 0.6020 - learning_rate: 1.0000e-04\n",
      "Epoch 2/100\n",
      "\u001b[1m63/63\u001b[0m \u001b[32m━━━━━━━━━━━━━━━━━━━━\u001b[0m\u001b[37m\u001b[0m \u001b[1m118s\u001b[0m 2s/step - accuracy: 0.6742 - loss: 0.6043 - val_accuracy: 0.7210 - val_loss: 0.5539 - learning_rate: 1.0000e-04\n",
      "Epoch 3/100\n",
      "\u001b[1m63/63\u001b[0m \u001b[32m━━━━━━━━━━━━━━━━━━━━\u001b[0m\u001b[37m\u001b[0m \u001b[1m116s\u001b[0m 2s/step - accuracy: 0.7141 - loss: 0.5595 - val_accuracy: 0.7460 - val_loss: 0.5243 - learning_rate: 1.0000e-04\n",
      "Epoch 4/100\n",
      "\u001b[1m63/63\u001b[0m \u001b[32m━━━━━━━━━━━━━━━━━━━━\u001b[0m\u001b[37m\u001b[0m \u001b[1m117s\u001b[0m 2s/step - accuracy: 0.7435 - loss: 0.5205 - val_accuracy: 0.7570 - val_loss: 0.5094 - learning_rate: 1.0000e-04\n",
      "Epoch 5/100\n",
      "\u001b[1m63/63\u001b[0m \u001b[32m━━━━━━━━━━━━━━━━━━━━\u001b[0m\u001b[37m\u001b[0m \u001b[1m116s\u001b[0m 2s/step - accuracy: 0.7581 - loss: 0.5080 - val_accuracy: 0.7660 - val_loss: 0.5001 - learning_rate: 1.0000e-04\n",
      "Epoch 6/100\n",
      "\u001b[1m63/63\u001b[0m \u001b[32m━━━━━━━━━━━━━━━━━━━━\u001b[0m\u001b[37m\u001b[0m \u001b[1m117s\u001b[0m 2s/step - accuracy: 0.7662 - loss: 0.4993 - val_accuracy: 0.7750 - val_loss: 0.4801 - learning_rate: 1.0000e-04\n",
      "Epoch 7/100\n",
      "\u001b[1m63/63\u001b[0m \u001b[32m━━━━━━━━━━━━━━━━━━━━\u001b[0m\u001b[37m\u001b[0m \u001b[1m116s\u001b[0m 2s/step - accuracy: 0.7712 - loss: 0.4811 - val_accuracy: 0.7862 - val_loss: 0.4668 - learning_rate: 1.0000e-04\n",
      "Epoch 8/100\n",
      "\u001b[1m63/63\u001b[0m \u001b[32m━━━━━━━━━━━━━━━━━━━━\u001b[0m\u001b[37m\u001b[0m \u001b[1m116s\u001b[0m 2s/step - accuracy: 0.7682 - loss: 0.4850 - val_accuracy: 0.7893 - val_loss: 0.4637 - learning_rate: 1.0000e-04\n",
      "Epoch 9/100\n",
      "\u001b[1m63/63\u001b[0m \u001b[32m━━━━━━━━━━━━━━━━━━━━\u001b[0m\u001b[37m\u001b[0m \u001b[1m117s\u001b[0m 2s/step - accuracy: 0.7727 - loss: 0.4758 - val_accuracy: 0.7943 - val_loss: 0.4555 - learning_rate: 1.0000e-04\n",
      "Epoch 10/100\n",
      "\u001b[1m63/63\u001b[0m \u001b[32m━━━━━━━━━━━━━━━━━━━━\u001b[0m\u001b[37m\u001b[0m \u001b[1m116s\u001b[0m 2s/step - accuracy: 0.7767 - loss: 0.4692 - val_accuracy: 0.7910 - val_loss: 0.4594 - learning_rate: 1.0000e-04\n",
      "Epoch 11/100\n",
      "\u001b[1m63/63\u001b[0m \u001b[32m━━━━━━━━━━━━━━━━━━━━\u001b[0m\u001b[37m\u001b[0m \u001b[1m117s\u001b[0m 2s/step - accuracy: 0.7803 - loss: 0.4579 - val_accuracy: 0.7970 - val_loss: 0.4471 - learning_rate: 1.0000e-04\n",
      "Epoch 12/100\n",
      "\u001b[1m63/63\u001b[0m \u001b[32m━━━━━━━━━━━━━━━━━━━━\u001b[0m\u001b[37m\u001b[0m \u001b[1m116s\u001b[0m 2s/step - accuracy: 0.7808 - loss: 0.4595 - val_accuracy: 0.7987 - val_loss: 0.4450 - learning_rate: 1.0000e-04\n",
      "Epoch 13/100\n",
      "\u001b[1m63/63\u001b[0m \u001b[32m━━━━━━━━━━━━━━━━━━━━\u001b[0m\u001b[37m\u001b[0m \u001b[1m117s\u001b[0m 2s/step - accuracy: 0.7945 - loss: 0.4449 - val_accuracy: 0.8025 - val_loss: 0.4380 - learning_rate: 1.0000e-04\n",
      "Epoch 14/100\n",
      "\u001b[1m63/63\u001b[0m \u001b[32m━━━━━━━━━━━━━━━━━━━━\u001b[0m\u001b[37m\u001b[0m \u001b[1m143s\u001b[0m 2s/step - accuracy: 0.8057 - loss: 0.4366 - val_accuracy: 0.8037 - val_loss: 0.4366 - learning_rate: 1.0000e-04\n",
      "Epoch 15/100\n",
      "\u001b[1m63/63\u001b[0m \u001b[32m━━━━━━━━━━━━━━━━━━━━\u001b[0m\u001b[37m\u001b[0m \u001b[1m117s\u001b[0m 2s/step - accuracy: 0.7879 - loss: 0.4494 - val_accuracy: 0.8070 - val_loss: 0.4328 - learning_rate: 1.0000e-04\n",
      "Epoch 16/100\n",
      "\u001b[1m63/63\u001b[0m \u001b[32m━━━━━━━━━━━━━━━━━━━━\u001b[0m\u001b[37m\u001b[0m \u001b[1m116s\u001b[0m 2s/step - accuracy: 0.8008 - loss: 0.4382 - val_accuracy: 0.8138 - val_loss: 0.4239 - learning_rate: 1.0000e-04\n",
      "Epoch 17/100\n",
      "\u001b[1m63/63\u001b[0m \u001b[32m━━━━━━━━━━━━━━━━━━━━\u001b[0m\u001b[37m\u001b[0m \u001b[1m117s\u001b[0m 2s/step - accuracy: 0.8046 - loss: 0.4329 - val_accuracy: 0.8045 - val_loss: 0.4320 - learning_rate: 1.0000e-04\n",
      "Epoch 18/100\n",
      "\u001b[1m63/63\u001b[0m \u001b[32m━━━━━━━━━━━━━━━━━━━━\u001b[0m\u001b[37m\u001b[0m \u001b[1m117s\u001b[0m 2s/step - accuracy: 0.8003 - loss: 0.4307 - val_accuracy: 0.8120 - val_loss: 0.4244 - learning_rate: 1.0000e-04\n",
      "Epoch 19/100\n",
      "\u001b[1m63/63\u001b[0m \u001b[32m━━━━━━━━━━━━━━━━━━━━\u001b[0m\u001b[37m\u001b[0m \u001b[1m117s\u001b[0m 2s/step - accuracy: 0.7991 - loss: 0.4306 - val_accuracy: 0.8227 - val_loss: 0.4124 - learning_rate: 1.0000e-04\n",
      "Epoch 20/100\n",
      "\u001b[1m63/63\u001b[0m \u001b[32m━━━━━━━━━━━━━━━━━━━━\u001b[0m\u001b[37m\u001b[0m \u001b[1m118s\u001b[0m 2s/step - accuracy: 0.8014 - loss: 0.4293 - val_accuracy: 0.8158 - val_loss: 0.4209 - learning_rate: 1.0000e-04\n",
      "Epoch 21/100\n",
      "\u001b[1m63/63\u001b[0m \u001b[32m━━━━━━━━━━━━━━━━━━━━\u001b[0m\u001b[37m\u001b[0m \u001b[1m117s\u001b[0m 2s/step - accuracy: 0.8018 - loss: 0.4241 - val_accuracy: 0.8130 - val_loss: 0.4211 - learning_rate: 1.0000e-04\n",
      "Epoch 22/100\n",
      "\u001b[1m63/63\u001b[0m \u001b[32m━━━━━━━━━━━━━━━━━━━━\u001b[0m\u001b[37m\u001b[0m \u001b[1m117s\u001b[0m 2s/step - accuracy: 0.8053 - loss: 0.4242 - val_accuracy: 0.8260 - val_loss: 0.4061 - learning_rate: 1.0000e-04\n",
      "Epoch 23/100\n",
      "\u001b[1m63/63\u001b[0m \u001b[32m━━━━━━━━━━━━━━━━━━━━\u001b[0m\u001b[37m\u001b[0m \u001b[1m118s\u001b[0m 2s/step - accuracy: 0.8106 - loss: 0.4182 - val_accuracy: 0.8263 - val_loss: 0.4026 - learning_rate: 1.0000e-04\n",
      "Epoch 24/100\n",
      "\u001b[1m63/63\u001b[0m \u001b[32m━━━━━━━━━━━━━━━━━━━━\u001b[0m\u001b[37m\u001b[0m \u001b[1m117s\u001b[0m 2s/step - accuracy: 0.7997 - loss: 0.4300 - val_accuracy: 0.8242 - val_loss: 0.4031 - learning_rate: 1.0000e-04\n",
      "Epoch 25/100\n",
      "\u001b[1m63/63\u001b[0m \u001b[32m━━━━━━━━━━━━━━━━━━━━\u001b[0m\u001b[37m\u001b[0m \u001b[1m116s\u001b[0m 2s/step - accuracy: 0.8032 - loss: 0.4209 - val_accuracy: 0.8245 - val_loss: 0.4073 - learning_rate: 1.0000e-04\n",
      "Epoch 26/100\n",
      "\u001b[1m63/63\u001b[0m \u001b[32m━━━━━━━━━━━━━━━━━━━━\u001b[0m\u001b[37m\u001b[0m \u001b[1m116s\u001b[0m 2s/step - accuracy: 0.8143 - loss: 0.4087 - val_accuracy: 0.8248 - val_loss: 0.4056 - learning_rate: 1.0000e-04\n",
      "Epoch 27/100\n",
      "\u001b[1m63/63\u001b[0m \u001b[32m━━━━━━━━━━━━━━━━━━━━\u001b[0m\u001b[37m\u001b[0m \u001b[1m117s\u001b[0m 2s/step - accuracy: 0.8156 - loss: 0.4142 - val_accuracy: 0.8270 - val_loss: 0.4011 - learning_rate: 1.0000e-04\n",
      "Epoch 28/100\n",
      "\u001b[1m63/63\u001b[0m \u001b[32m━━━━━━━━━━━━━━━━━━━━\u001b[0m\u001b[37m\u001b[0m \u001b[1m119s\u001b[0m 2s/step - accuracy: 0.8155 - loss: 0.4130 - val_accuracy: 0.8292 - val_loss: 0.3993 - learning_rate: 1.0000e-04\n",
      "Epoch 29/100\n",
      "\u001b[1m63/63\u001b[0m \u001b[32m━━━━━━━━━━━━━━━━━━━━\u001b[0m\u001b[37m\u001b[0m \u001b[1m117s\u001b[0m 2s/step - accuracy: 0.8168 - loss: 0.4102 - val_accuracy: 0.8255 - val_loss: 0.4034 - learning_rate: 1.0000e-04\n",
      "Epoch 30/100\n",
      "\u001b[1m63/63\u001b[0m \u001b[32m━━━━━━━━━━━━━━━━━━━━\u001b[0m\u001b[37m\u001b[0m \u001b[1m118s\u001b[0m 2s/step - accuracy: 0.8183 - loss: 0.4071 - val_accuracy: 0.8260 - val_loss: 0.3939 - learning_rate: 1.0000e-04\n",
      "Epoch 31/100\n",
      "\u001b[1m63/63\u001b[0m \u001b[32m━━━━━━━━━━━━━━━━━━━━\u001b[0m\u001b[37m\u001b[0m \u001b[1m142s\u001b[0m 2s/step - accuracy: 0.8042 - loss: 0.4184 - val_accuracy: 0.8275 - val_loss: 0.3955 - learning_rate: 1.0000e-04\n",
      "Epoch 32/100\n",
      "\u001b[1m63/63\u001b[0m \u001b[32m━━━━━━━━━━━━━━━━━━━━\u001b[0m\u001b[37m\u001b[0m \u001b[1m117s\u001b[0m 2s/step - accuracy: 0.8145 - loss: 0.4210 - val_accuracy: 0.8285 - val_loss: 0.4004 - learning_rate: 1.0000e-04\n",
      "Epoch 33/100\n",
      "\u001b[1m63/63\u001b[0m \u001b[32m━━━━━━━━━━━━━━━━━━━━\u001b[0m\u001b[37m\u001b[0m \u001b[1m117s\u001b[0m 2s/step - accuracy: 0.8178 - loss: 0.4082 - val_accuracy: 0.8285 - val_loss: 0.3953 - learning_rate: 1.0000e-04\n",
      "Epoch 34/100\n",
      "\u001b[1m63/63\u001b[0m \u001b[32m━━━━━━━━━━━━━━━━━━━━\u001b[0m\u001b[37m\u001b[0m \u001b[1m116s\u001b[0m 2s/step - accuracy: 0.8003 - loss: 0.4228 - val_accuracy: 0.8245 - val_loss: 0.4039 - learning_rate: 1.0000e-04\n",
      "Epoch 35/100\n",
      "\u001b[1m63/63\u001b[0m \u001b[32m━━━━━━━━━━━━━━━━━━━━\u001b[0m\u001b[37m\u001b[0m \u001b[1m118s\u001b[0m 2s/step - accuracy: 0.8099 - loss: 0.4151 - val_accuracy: 0.8320 - val_loss: 0.3927 - learning_rate: 1.0000e-04\n",
      "Epoch 36/100\n",
      "\u001b[1m63/63\u001b[0m \u001b[32m━━━━━━━━━━━━━━━━━━━━\u001b[0m\u001b[37m\u001b[0m \u001b[1m117s\u001b[0m 2s/step - accuracy: 0.8235 - loss: 0.4050 - val_accuracy: 0.8338 - val_loss: 0.3904 - learning_rate: 1.0000e-04\n",
      "Epoch 37/100\n",
      "\u001b[1m63/63\u001b[0m \u001b[32m━━━━━━━━━━━━━━━━━━━━\u001b[0m\u001b[37m\u001b[0m \u001b[1m135s\u001b[0m 2s/step - accuracy: 0.8276 - loss: 0.3926 - val_accuracy: 0.8347 - val_loss: 0.3846 - learning_rate: 1.0000e-04\n",
      "Epoch 38/100\n",
      "\u001b[1m63/63\u001b[0m \u001b[32m━━━━━━━━━━━━━━━━━━━━\u001b[0m\u001b[37m\u001b[0m \u001b[1m116s\u001b[0m 2s/step - accuracy: 0.8150 - loss: 0.4050 - val_accuracy: 0.8290 - val_loss: 0.3969 - learning_rate: 1.0000e-04\n",
      "Epoch 39/100\n",
      "\u001b[1m63/63\u001b[0m \u001b[32m━━━━━━━━━━━━━━━━━━━━\u001b[0m\u001b[37m\u001b[0m \u001b[1m117s\u001b[0m 2s/step - accuracy: 0.8229 - loss: 0.3989 - val_accuracy: 0.8288 - val_loss: 0.3971 - learning_rate: 1.0000e-04\n",
      "Epoch 40/100\n",
      "\u001b[1m63/63\u001b[0m \u001b[32m━━━━━━━━━━━━━━━━━━━━\u001b[0m\u001b[37m\u001b[0m \u001b[1m116s\u001b[0m 2s/step - accuracy: 0.8148 - loss: 0.4010 - val_accuracy: 0.8303 - val_loss: 0.3898 - learning_rate: 1.0000e-04\n",
      "Epoch 41/100\n",
      "\u001b[1m63/63\u001b[0m \u001b[32m━━━━━━━━━━━━━━━━━━━━\u001b[0m\u001b[37m\u001b[0m \u001b[1m116s\u001b[0m 2s/step - accuracy: 0.8224 - loss: 0.3970 - val_accuracy: 0.8307 - val_loss: 0.3885 - learning_rate: 1.0000e-04\n",
      "Epoch 42/100\n",
      "\u001b[1m63/63\u001b[0m \u001b[32m━━━━━━━━━━━━━━━━━━━━\u001b[0m\u001b[37m\u001b[0m \u001b[1m117s\u001b[0m 2s/step - accuracy: 0.8306 - loss: 0.3841 - val_accuracy: 0.8340 - val_loss: 0.3888 - learning_rate: 1.0000e-04\n",
      "Epoch 43/100\n",
      "\u001b[1m63/63\u001b[0m \u001b[32m━━━━━━━━━━━━━━━━━━━━\u001b[0m\u001b[37m\u001b[0m \u001b[1m117s\u001b[0m 2s/step - accuracy: 0.8068 - loss: 0.4157 - val_accuracy: 0.8342 - val_loss: 0.3831 - learning_rate: 1.0000e-04\n",
      "Epoch 44/100\n",
      "\u001b[1m63/63\u001b[0m \u001b[32m━━━━━━━━━━━━━━━━━━━━\u001b[0m\u001b[37m\u001b[0m \u001b[1m118s\u001b[0m 2s/step - accuracy: 0.8228 - loss: 0.4027 - val_accuracy: 0.8363 - val_loss: 0.3855 - learning_rate: 1.0000e-04\n",
      "Epoch 45/100\n",
      "\u001b[1m63/63\u001b[0m \u001b[32m━━━━━━━━━━━━━━━━━━━━\u001b[0m\u001b[37m\u001b[0m \u001b[1m118s\u001b[0m 2s/step - accuracy: 0.8268 - loss: 0.3950 - val_accuracy: 0.8375 - val_loss: 0.3804 - learning_rate: 1.0000e-04\n",
      "Epoch 46/100\n",
      "\u001b[1m63/63\u001b[0m \u001b[32m━━━━━━━━━━━━━━━━━━━━\u001b[0m\u001b[37m\u001b[0m \u001b[1m117s\u001b[0m 2s/step - accuracy: 0.8240 - loss: 0.3940 - val_accuracy: 0.8372 - val_loss: 0.3811 - learning_rate: 1.0000e-04\n",
      "Epoch 47/100\n",
      "\u001b[1m63/63\u001b[0m \u001b[32m━━━━━━━━━━━━━━━━━━━━\u001b[0m\u001b[37m\u001b[0m \u001b[1m116s\u001b[0m 2s/step - accuracy: 0.8189 - loss: 0.4024 - val_accuracy: 0.8353 - val_loss: 0.3796 - learning_rate: 1.0000e-04\n",
      "Epoch 48/100\n",
      "\u001b[1m63/63\u001b[0m \u001b[32m━━━━━━━━━━━━━━━━━━━━\u001b[0m\u001b[37m\u001b[0m \u001b[1m117s\u001b[0m 2s/step - accuracy: 0.8142 - loss: 0.3969 - val_accuracy: 0.8405 - val_loss: 0.3741 - learning_rate: 1.0000e-04\n",
      "Epoch 49/100\n",
      "\u001b[1m63/63\u001b[0m \u001b[32m━━━━━━━━━━━━━━━━━━━━\u001b[0m\u001b[37m\u001b[0m \u001b[1m116s\u001b[0m 2s/step - accuracy: 0.8143 - loss: 0.4081 - val_accuracy: 0.8372 - val_loss: 0.3769 - learning_rate: 1.0000e-04\n",
      "Epoch 50/100\n",
      "\u001b[1m63/63\u001b[0m \u001b[32m━━━━━━━━━━━━━━━━━━━━\u001b[0m\u001b[37m\u001b[0m \u001b[1m116s\u001b[0m 2s/step - accuracy: 0.8112 - loss: 0.4144 - val_accuracy: 0.8317 - val_loss: 0.3830 - learning_rate: 1.0000e-04\n",
      "Epoch 51/100\n",
      "\u001b[1m63/63\u001b[0m \u001b[32m━━━━━━━━━━━━━━━━━━━━\u001b[0m\u001b[37m\u001b[0m \u001b[1m116s\u001b[0m 2s/step - accuracy: 0.8280 - loss: 0.3928 - val_accuracy: 0.8405 - val_loss: 0.3735 - learning_rate: 1.0000e-04\n",
      "Epoch 52/100\n",
      "\u001b[1m63/63\u001b[0m \u001b[32m━━━━━━━━━━━━━━━━━━━━\u001b[0m\u001b[37m\u001b[0m \u001b[1m142s\u001b[0m 2s/step - accuracy: 0.8333 - loss: 0.3832 - val_accuracy: 0.8403 - val_loss: 0.3734 - learning_rate: 1.0000e-04\n",
      "Epoch 53/100\n",
      "\u001b[1m63/63\u001b[0m \u001b[32m━━━━━━━━━━━━━━━━━━━━\u001b[0m\u001b[37m\u001b[0m \u001b[1m117s\u001b[0m 2s/step - accuracy: 0.8263 - loss: 0.3926 - val_accuracy: 0.8360 - val_loss: 0.3821 - learning_rate: 1.0000e-04\n",
      "Epoch 54/100\n",
      "\u001b[1m63/63\u001b[0m \u001b[32m━━━━━━━━━━━━━━━━━━━━\u001b[0m\u001b[37m\u001b[0m \u001b[1m118s\u001b[0m 2s/step - accuracy: 0.8184 - loss: 0.3988 - val_accuracy: 0.8375 - val_loss: 0.3777 - learning_rate: 1.0000e-04\n",
      "Epoch 55/100\n",
      "\u001b[1m63/63\u001b[0m \u001b[32m━━━━━━━━━━━━━━━━━━━━\u001b[0m\u001b[37m\u001b[0m \u001b[1m117s\u001b[0m 2s/step - accuracy: 0.8224 - loss: 0.4024 - val_accuracy: 0.8355 - val_loss: 0.3803 - learning_rate: 1.0000e-04\n",
      "Epoch 56/100\n",
      "\u001b[1m63/63\u001b[0m \u001b[32m━━━━━━━━━━━━━━━━━━━━\u001b[0m\u001b[37m\u001b[0m \u001b[1m117s\u001b[0m 2s/step - accuracy: 0.8227 - loss: 0.3852 - val_accuracy: 0.8328 - val_loss: 0.3802 - learning_rate: 1.0000e-04\n",
      "Epoch 57/100\n",
      "\u001b[1m63/63\u001b[0m \u001b[32m━━━━━━━━━━━━━━━━━━━━\u001b[0m\u001b[37m\u001b[0m \u001b[1m118s\u001b[0m 2s/step - accuracy: 0.8217 - loss: 0.3938 - val_accuracy: 0.8263 - val_loss: 0.3899 - learning_rate: 1.0000e-04\n",
      "Epoch 58/100\n",
      "\u001b[1m63/63\u001b[0m \u001b[32m━━━━━━━━━━━━━━━━━━━━\u001b[0m\u001b[37m\u001b[0m \u001b[1m117s\u001b[0m 2s/step - accuracy: 0.8368 - loss: 0.3820 - val_accuracy: 0.8375 - val_loss: 0.3737 - learning_rate: 1.0000e-04\n",
      "Epoch 59/100\n",
      "\u001b[1m63/63\u001b[0m \u001b[32m━━━━━━━━━━━━━━━━━━━━\u001b[0m\u001b[37m\u001b[0m \u001b[1m115s\u001b[0m 2s/step - accuracy: 0.8198 - loss: 0.3963 - val_accuracy: 0.8372 - val_loss: 0.3762 - learning_rate: 1.0000e-04\n",
      "Epoch 60/100\n",
      "\u001b[1m63/63\u001b[0m \u001b[32m━━━━━━━━━━━━━━━━━━━━\u001b[0m\u001b[37m\u001b[0m \u001b[1m116s\u001b[0m 2s/step - accuracy: 0.8252 - loss: 0.3893 - val_accuracy: 0.8382 - val_loss: 0.3715 - learning_rate: 1.0000e-04\n",
      "Epoch 61/100\n",
      "\u001b[1m63/63\u001b[0m \u001b[32m━━━━━━━━━━━━━━━━━━━━\u001b[0m\u001b[37m\u001b[0m \u001b[1m116s\u001b[0m 2s/step - accuracy: 0.8176 - loss: 0.3939 - val_accuracy: 0.8405 - val_loss: 0.3706 - learning_rate: 1.0000e-04\n",
      "Epoch 62/100\n",
      "\u001b[1m63/63\u001b[0m \u001b[32m━━━━━━━━━━━━━━━━━━━━\u001b[0m\u001b[37m\u001b[0m \u001b[1m116s\u001b[0m 2s/step - accuracy: 0.8233 - loss: 0.3879 - val_accuracy: 0.8300 - val_loss: 0.3839 - learning_rate: 1.0000e-04\n",
      "Epoch 63/100\n",
      "\u001b[1m63/63\u001b[0m \u001b[32m━━━━━━━━━━━━━━━━━━━━\u001b[0m\u001b[37m\u001b[0m \u001b[1m117s\u001b[0m 2s/step - accuracy: 0.8215 - loss: 0.3929 - val_accuracy: 0.8367 - val_loss: 0.3756 - learning_rate: 1.0000e-04\n",
      "Epoch 64/100\n",
      "\u001b[1m63/63\u001b[0m \u001b[32m━━━━━━━━━━━━━━━━━━━━\u001b[0m\u001b[37m\u001b[0m \u001b[1m117s\u001b[0m 2s/step - accuracy: 0.8234 - loss: 0.3825 - val_accuracy: 0.8347 - val_loss: 0.3770 - learning_rate: 1.0000e-04\n",
      "Epoch 65/100\n",
      "\u001b[1m63/63\u001b[0m \u001b[32m━━━━━━━━━━━━━━━━━━━━\u001b[0m\u001b[37m\u001b[0m \u001b[1m117s\u001b[0m 2s/step - accuracy: 0.8275 - loss: 0.3985 - val_accuracy: 0.8292 - val_loss: 0.3878 - learning_rate: 1.0000e-04\n",
      "Epoch 66/100\n",
      "\u001b[1m63/63\u001b[0m \u001b[32m━━━━━━━━━━━━━━━━━━━━\u001b[0m\u001b[37m\u001b[0m \u001b[1m117s\u001b[0m 2s/step - accuracy: 0.8272 - loss: 0.3814 - val_accuracy: 0.8400 - val_loss: 0.3702 - learning_rate: 1.0000e-04\n",
      "Epoch 67/100\n",
      "\u001b[1m63/63\u001b[0m \u001b[32m━━━━━━━━━━━━━━━━━━━━\u001b[0m\u001b[37m\u001b[0m \u001b[1m117s\u001b[0m 2s/step - accuracy: 0.8362 - loss: 0.3710 - val_accuracy: 0.8468 - val_loss: 0.3671 - learning_rate: 1.0000e-04\n",
      "Epoch 68/100\n",
      "\u001b[1m63/63\u001b[0m \u001b[32m━━━━━━━━━━━━━━━━━━━━\u001b[0m\u001b[37m\u001b[0m \u001b[1m117s\u001b[0m 2s/step - accuracy: 0.8289 - loss: 0.3856 - val_accuracy: 0.8378 - val_loss: 0.3757 - learning_rate: 1.0000e-04\n",
      "Epoch 69/100\n",
      "\u001b[1m63/63\u001b[0m \u001b[32m━━━━━━━━━━━━━━━━━━━━\u001b[0m\u001b[37m\u001b[0m \u001b[1m117s\u001b[0m 2s/step - accuracy: 0.8295 - loss: 0.3839 - val_accuracy: 0.8397 - val_loss: 0.3733 - learning_rate: 1.0000e-04\n",
      "Epoch 70/100\n",
      "\u001b[1m63/63\u001b[0m \u001b[32m━━━━━━━━━━━━━━━━━━━━\u001b[0m\u001b[37m\u001b[0m \u001b[1m117s\u001b[0m 2s/step - accuracy: 0.8337 - loss: 0.3810 - val_accuracy: 0.8363 - val_loss: 0.3789 - learning_rate: 1.0000e-04\n",
      "Epoch 71/100\n",
      "\u001b[1m63/63\u001b[0m \u001b[32m━━━━━━━━━━━━━━━━━━━━\u001b[0m\u001b[37m\u001b[0m \u001b[1m117s\u001b[0m 2s/step - accuracy: 0.8326 - loss: 0.3884 - val_accuracy: 0.8425 - val_loss: 0.3708 - learning_rate: 1.0000e-04\n",
      "Epoch 72/100\n",
      "\u001b[1m63/63\u001b[0m \u001b[32m━━━━━━━━━━━━━━━━━━━━\u001b[0m\u001b[37m\u001b[0m \u001b[1m117s\u001b[0m 2s/step - accuracy: 0.8376 - loss: 0.3690 - val_accuracy: 0.8438 - val_loss: 0.3669 - learning_rate: 1.0000e-04\n",
      "Epoch 73/100\n",
      "\u001b[1m63/63\u001b[0m \u001b[32m━━━━━━━━━━━━━━━━━━━━\u001b[0m\u001b[37m\u001b[0m \u001b[1m116s\u001b[0m 2s/step - accuracy: 0.8303 - loss: 0.3768 - val_accuracy: 0.8353 - val_loss: 0.3757 - learning_rate: 1.0000e-04\n",
      "Epoch 74/100\n",
      "\u001b[1m63/63\u001b[0m \u001b[32m━━━━━━━━━━━━━━━━━━━━\u001b[0m\u001b[37m\u001b[0m \u001b[1m142s\u001b[0m 2s/step - accuracy: 0.8265 - loss: 0.3900 - val_accuracy: 0.8432 - val_loss: 0.3688 - learning_rate: 1.0000e-04\n",
      "Epoch 75/100\n",
      "\u001b[1m63/63\u001b[0m \u001b[32m━━━━━━━━━━━━━━━━━━━━\u001b[0m\u001b[37m\u001b[0m \u001b[1m117s\u001b[0m 2s/step - accuracy: 0.8265 - loss: 0.3865 - val_accuracy: 0.8395 - val_loss: 0.3755 - learning_rate: 1.0000e-04\n",
      "Epoch 76/100\n",
      "\u001b[1m63/63\u001b[0m \u001b[32m━━━━━━━━━━━━━━━━━━━━\u001b[0m\u001b[37m\u001b[0m \u001b[1m117s\u001b[0m 2s/step - accuracy: 0.8263 - loss: 0.3894 - val_accuracy: 0.8457 - val_loss: 0.3648 - learning_rate: 1.0000e-04\n",
      "Epoch 77/100\n",
      "\u001b[1m63/63\u001b[0m \u001b[32m━━━━━━━━━━━━━━━━━━━━\u001b[0m\u001b[37m\u001b[0m \u001b[1m117s\u001b[0m 2s/step - accuracy: 0.8282 - loss: 0.3769 - val_accuracy: 0.8350 - val_loss: 0.3759 - learning_rate: 1.0000e-04\n",
      "Epoch 78/100\n",
      "\u001b[1m63/63\u001b[0m \u001b[32m━━━━━━━━━━━━━━━━━━━━\u001b[0m\u001b[37m\u001b[0m \u001b[1m116s\u001b[0m 2s/step - accuracy: 0.8281 - loss: 0.3802 - val_accuracy: 0.8367 - val_loss: 0.3789 - learning_rate: 1.0000e-04\n",
      "Epoch 79/100\n",
      "\u001b[1m63/63\u001b[0m \u001b[32m━━━━━━━━━━━━━━━━━━━━\u001b[0m\u001b[37m\u001b[0m \u001b[1m117s\u001b[0m 2s/step - accuracy: 0.8308 - loss: 0.3772 - val_accuracy: 0.8465 - val_loss: 0.3652 - learning_rate: 1.0000e-04\n",
      "Epoch 80/100\n",
      "\u001b[1m63/63\u001b[0m \u001b[32m━━━━━━━━━━━━━━━━━━━━\u001b[0m\u001b[37m\u001b[0m \u001b[1m117s\u001b[0m 2s/step - accuracy: 0.8293 - loss: 0.3689 - val_accuracy: 0.8455 - val_loss: 0.3647 - learning_rate: 1.0000e-04\n",
      "Epoch 81/100\n",
      "\u001b[1m63/63\u001b[0m \u001b[32m━━━━━━━━━━━━━━━━━━━━\u001b[0m\u001b[37m\u001b[0m \u001b[1m117s\u001b[0m 2s/step - accuracy: 0.8261 - loss: 0.3983 - val_accuracy: 0.8468 - val_loss: 0.3625 - learning_rate: 1.0000e-04\n",
      "Epoch 82/100\n",
      "\u001b[1m63/63\u001b[0m \u001b[32m━━━━━━━━━━━━━━━━━━━━\u001b[0m\u001b[37m\u001b[0m \u001b[1m116s\u001b[0m 2s/step - accuracy: 0.8294 - loss: 0.3793 - val_accuracy: 0.8395 - val_loss: 0.3732 - learning_rate: 1.0000e-04\n",
      "Epoch 83/100\n",
      "\u001b[1m63/63\u001b[0m \u001b[32m━━━━━━━━━━━━━━━━━━━━\u001b[0m\u001b[37m\u001b[0m \u001b[1m116s\u001b[0m 2s/step - accuracy: 0.8331 - loss: 0.3791 - val_accuracy: 0.8443 - val_loss: 0.3645 - learning_rate: 1.0000e-04\n",
      "Epoch 84/100\n",
      "\u001b[1m63/63\u001b[0m \u001b[32m━━━━━━━━━━━━━━━━━━━━\u001b[0m\u001b[37m\u001b[0m \u001b[1m117s\u001b[0m 2s/step - accuracy: 0.8313 - loss: 0.3840 - val_accuracy: 0.8457 - val_loss: 0.3635 - learning_rate: 1.0000e-04\n",
      "Epoch 85/100\n",
      "\u001b[1m63/63\u001b[0m \u001b[32m━━━━━━━━━━━━━━━━━━━━\u001b[0m\u001b[37m\u001b[0m \u001b[1m116s\u001b[0m 2s/step - accuracy: 0.8403 - loss: 0.3721 - val_accuracy: 0.8403 - val_loss: 0.3694 - learning_rate: 1.0000e-04\n",
      "Epoch 86/100\n",
      "\u001b[1m63/63\u001b[0m \u001b[32m━━━━━━━━━━━━━━━━━━━━\u001b[0m\u001b[37m\u001b[0m \u001b[1m116s\u001b[0m 2s/step - accuracy: 0.8352 - loss: 0.3849 - val_accuracy: 0.8432 - val_loss: 0.3639 - learning_rate: 1.0000e-04\n",
      "Epoch 87/100\n",
      "\u001b[1m63/63\u001b[0m \u001b[32m━━━━━━━━━━━━━━━━━━━━\u001b[0m\u001b[37m\u001b[0m \u001b[1m117s\u001b[0m 2s/step - accuracy: 0.8301 - loss: 0.3740 - val_accuracy: 0.8432 - val_loss: 0.3644 - learning_rate: 1.0000e-04\n",
      "Epoch 88/100\n",
      "\u001b[1m63/63\u001b[0m \u001b[32m━━━━━━━━━━━━━━━━━━━━\u001b[0m\u001b[37m\u001b[0m \u001b[1m116s\u001b[0m 2s/step - accuracy: 0.8348 - loss: 0.3760 - val_accuracy: 0.8418 - val_loss: 0.3693 - learning_rate: 1.0000e-04\n",
      "Epoch 89/100\n",
      "\u001b[1m63/63\u001b[0m \u001b[32m━━━━━━━━━━━━━━━━━━━━\u001b[0m\u001b[37m\u001b[0m \u001b[1m117s\u001b[0m 2s/step - accuracy: 0.8412 - loss: 0.3715 - val_accuracy: 0.8405 - val_loss: 0.3702 - learning_rate: 1.0000e-04\n",
      "Epoch 90/100\n",
      "\u001b[1m63/63\u001b[0m \u001b[32m━━━━━━━━━━━━━━━━━━━━\u001b[0m\u001b[37m\u001b[0m \u001b[1m117s\u001b[0m 2s/step - accuracy: 0.8311 - loss: 0.3852 - val_accuracy: 0.8425 - val_loss: 0.3672 - learning_rate: 1.0000e-04\n",
      "Epoch 91/100\n",
      "\u001b[1m63/63\u001b[0m \u001b[32m━━━━━━━━━━━━━━━━━━━━\u001b[0m\u001b[37m\u001b[0m \u001b[1m116s\u001b[0m 2s/step - accuracy: 0.8270 - loss: 0.3908 - val_accuracy: 0.8432 - val_loss: 0.3637 - learning_rate: 1.0000e-04\n",
      "Epoch 91: early stopping\n",
      "Restoring model weights from the end of the best epoch: 81.\n"
     ]
    }
   ],
   "source": [
    "# callback and fit\n",
    "early_stopping_callbacks = [tf.keras.callbacks.EarlyStopping(monitor = 'val_loss', patience = 10, restore_best_weights = True, verbose = 1),\n",
    "                            tf.keras.callbacks.ReduceLROnPlateau(paitence = 10, monitor = 'val_loss', min_lr = 0.00001)]\n",
    "\n",
    "history = model.fit(tr_set, epochs = 100, validation_data = v_set, callbacks = early_stopping_callbacks)"
   ]
  },
  {
   "cell_type": "code",
   "execution_count": 9,
   "id": "4c0b3cfd",
   "metadata": {
    "execution": {
     "iopub.execute_input": "2024-04-29T17:41:33.227547Z",
     "iopub.status.busy": "2024-04-29T17:41:33.227179Z",
     "iopub.status.idle": "2024-04-29T17:41:33.722431Z",
     "shell.execute_reply": "2024-04-29T17:41:33.721491Z"
    },
    "id": "aT97vDrB66EQ",
    "papermill": {
     "duration": 0.992359,
     "end_time": "2024-04-29T17:41:33.724624",
     "exception": false,
     "start_time": "2024-04-29T17:41:32.732265",
     "status": "completed"
    },
    "tags": []
   },
   "outputs": [
    {
     "data": {
      "image/png": "[encoded data removed]",
      "text/plain": [
       "<Figure size 640x480 with 1 Axes>"
      ]
     },
     "metadata": {},
     "output_type": "display_data"
    },
    {
     "data": {
      "image/png": "[encoded data removed]",
      "text/plain": [
       "<Figure size 640x480 with 1 Axes>"
      ]
     },
     "metadata": {},
     "output_type": "display_data"
    }
   ],
   "source": [
    "# loss curve\n",
    "\n",
    "l = np.concatenate([history.history['loss']])\n",
    "acc = np.concatenate([history.history['accuracy']])\n",
    "lv = np.concatenate([history.history['val_loss']])\n",
    "accv = np.concatenate([history.history['val_accuracy']])\n",
    "\n",
    "plt.plot(l, label=\"Loss\")\n",
    "plt.plot(acc, label=\"Accuracy\")\n",
    "plt.legend()\n",
    "plt.show()\n",
    "plt.plot(lv, label=\"Val_Loss\")\n",
    "plt.plot(accv, label=\"Val_Accuracy\")\n",
    "plt.legend()\n",
    "plt.show()"
   ]
  },
  {
   "cell_type": "code",
   "execution_count": 10,
   "id": "6458bd7e",
   "metadata": {
    "execution": {
     "iopub.execute_input": "2024-04-29T17:41:34.844722Z",
     "iopub.status.busy": "2024-04-29T17:41:34.843944Z",
     "iopub.status.idle": "2024-04-29T17:41:38.211453Z",
     "shell.execute_reply": "2024-04-29T17:41:38.210653Z"
    },
    "papermill": {
     "duration": 3.951104,
     "end_time": "2024-04-29T17:41:38.213686",
     "exception": false,
     "start_time": "2024-04-29T17:41:34.262582",
     "status": "completed"
    },
    "tags": []
   },
   "outputs": [],
   "source": [
    "model.save(\"nasnetlarge_pretrain_2.keras\")"
   ]
  },
  {
   "cell_type": "code",
   "execution_count": 11,
   "id": "21d9c446",
   "metadata": {
    "execution": {
     "iopub.execute_input": "2024-04-29T17:41:39.200175Z",
     "iopub.status.busy": "2024-04-29T17:41:39.199822Z",
     "iopub.status.idle": "2024-04-29T19:21:44.991690Z",
     "shell.execute_reply": "2024-04-29T19:21:44.990665Z"
    },
    "id": "jYjmoez2eSuv",
    "papermill": {
     "duration": 6006.287708,
     "end_time": "2024-04-29T19:21:44.993897",
     "exception": false,
     "start_time": "2024-04-29T17:41:38.706189",
     "status": "completed"
    },
    "tags": []
   },
   "outputs": [
    {
     "name": "stdout",
     "output_type": "stream",
     "text": [
      "Epoch 1/50\n",
      "\u001b[1m 1/63\u001b[0m \u001b[37m━━━━━━━━━━━━━━━━━━━━\u001b[0m \u001b[1m1:11:44\u001b[0m 69s/step - accuracy: 0.7812 - loss: 0.4196"
     ]
    },
    {
     "name": "stderr",
     "output_type": "stream",
     "text": [
      "W0000 00:00:1714412594.391432      83 graph_launch.cc:671] Fallback to op-by-op mode because memset node breaks graph update\n"
     ]
    },
    {
     "name": "stdout",
     "output_type": "stream",
     "text": [
      "\u001b[1m63/63\u001b[0m \u001b[32m━━━━━━━━━━━━━━━━━━━━\u001b[0m\u001b[37m\u001b[0m \u001b[1m0s\u001b[0m 2s/step - accuracy: 0.8253 - loss: 0.4004"
     ]
    },
    {
     "name": "stderr",
     "output_type": "stream",
     "text": [
      "W0000 00:00:1714412695.518949      84 graph_launch.cc:671] Fallback to op-by-op mode because memset node breaks graph update\n"
     ]
    },
    {
     "name": "stdout",
     "output_type": "stream",
     "text": [
      "\u001b[1m63/63\u001b[0m \u001b[32m━━━━━━━━━━━━━━━━━━━━\u001b[0m\u001b[37m\u001b[0m \u001b[1m238s\u001b[0m 3s/step - accuracy: 0.8252 - loss: 0.4004 - val_accuracy: 0.8250 - val_loss: 0.3921\n",
      "Epoch 2/50\n",
      "\u001b[1m63/63\u001b[0m \u001b[32m━━━━━━━━━━━━━━━━━━━━\u001b[0m\u001b[37m\u001b[0m \u001b[1m117s\u001b[0m 2s/step - accuracy: 0.8210 - loss: 0.4018 - val_accuracy: 0.8255 - val_loss: 0.3909\n",
      "Epoch 3/50\n",
      "\u001b[1m63/63\u001b[0m \u001b[32m━━━━━━━━━━━━━━━━━━━━\u001b[0m\u001b[37m\u001b[0m \u001b[1m118s\u001b[0m 2s/step - accuracy: 0.8419 - loss: 0.3693 - val_accuracy: 0.8340 - val_loss: 0.3746\n",
      "Epoch 4/50\n",
      "\u001b[1m63/63\u001b[0m \u001b[32m━━━━━━━━━━━━━━━━━━━━\u001b[0m\u001b[37m\u001b[0m \u001b[1m118s\u001b[0m 2s/step - accuracy: 0.8328 - loss: 0.3779 - val_accuracy: 0.8340 - val_loss: 0.3766\n",
      "Epoch 5/50\n",
      "\u001b[1m63/63\u001b[0m \u001b[32m━━━━━━━━━━━━━━━━━━━━\u001b[0m\u001b[37m\u001b[0m \u001b[1m117s\u001b[0m 2s/step - accuracy: 0.8349 - loss: 0.3684 - val_accuracy: 0.8355 - val_loss: 0.3757\n",
      "Epoch 6/50\n",
      "\u001b[1m63/63\u001b[0m \u001b[32m━━━━━━━━━━━━━━━━━━━━\u001b[0m\u001b[37m\u001b[0m \u001b[1m117s\u001b[0m 2s/step - accuracy: 0.8459 - loss: 0.3544 - val_accuracy: 0.8360 - val_loss: 0.3705\n",
      "Epoch 7/50\n",
      "\u001b[1m63/63\u001b[0m \u001b[32m━━━━━━━━━━━━━━━━━━━━\u001b[0m\u001b[37m\u001b[0m \u001b[1m117s\u001b[0m 2s/step - accuracy: 0.8455 - loss: 0.3566 - val_accuracy: 0.8447 - val_loss: 0.3535\n",
      "Epoch 8/50\n",
      "\u001b[1m63/63\u001b[0m \u001b[32m━━━━━━━━━━━━━━━━━━━━\u001b[0m\u001b[37m\u001b[0m \u001b[1m117s\u001b[0m 2s/step - accuracy: 0.8506 - loss: 0.3485 - val_accuracy: 0.8455 - val_loss: 0.3494\n",
      "Epoch 9/50\n",
      "\u001b[1m63/63\u001b[0m \u001b[32m━━━━━━━━━━━━━━━━━━━━\u001b[0m\u001b[37m\u001b[0m \u001b[1m117s\u001b[0m 2s/step - accuracy: 0.8553 - loss: 0.3485 - val_accuracy: 0.8450 - val_loss: 0.3546\n",
      "Epoch 10/50\n",
      "\u001b[1m63/63\u001b[0m \u001b[32m━━━━━━━━━━━━━━━━━━━━\u001b[0m\u001b[37m\u001b[0m \u001b[1m116s\u001b[0m 2s/step - accuracy: 0.8583 - loss: 0.3358 - val_accuracy: 0.8480 - val_loss: 0.3507\n",
      "Epoch 11/50\n",
      "\u001b[1m63/63\u001b[0m \u001b[32m━━━━━━━━━━━━━━━━━━━━\u001b[0m\u001b[37m\u001b[0m \u001b[1m117s\u001b[0m 2s/step - accuracy: 0.8558 - loss: 0.3312 - val_accuracy: 0.8518 - val_loss: 0.3453\n",
      "Epoch 12/50\n",
      "\u001b[1m63/63\u001b[0m \u001b[32m━━━━━━━━━━━━━━━━━━━━\u001b[0m\u001b[37m\u001b[0m \u001b[1m116s\u001b[0m 2s/step - accuracy: 0.8599 - loss: 0.3277 - val_accuracy: 0.8568 - val_loss: 0.3390\n",
      "Epoch 13/50\n",
      "\u001b[1m63/63\u001b[0m \u001b[32m━━━━━━━━━━━━━━━━━━━━\u001b[0m\u001b[37m\u001b[0m \u001b[1m117s\u001b[0m 2s/step - accuracy: 0.8662 - loss: 0.3204 - val_accuracy: 0.8522 - val_loss: 0.3409\n",
      "Epoch 14/50\n",
      "\u001b[1m63/63\u001b[0m \u001b[32m━━━━━━━━━━━━━━━━━━━━\u001b[0m\u001b[37m\u001b[0m \u001b[1m117s\u001b[0m 2s/step - accuracy: 0.8686 - loss: 0.3152 - val_accuracy: 0.8562 - val_loss: 0.3351\n",
      "Epoch 15/50\n",
      "\u001b[1m63/63\u001b[0m \u001b[32m━━━━━━━━━━━━━━━━━━━━\u001b[0m\u001b[37m\u001b[0m \u001b[1m117s\u001b[0m 2s/step - accuracy: 0.8681 - loss: 0.3116 - val_accuracy: 0.8558 - val_loss: 0.3354\n",
      "Epoch 16/50\n",
      "\u001b[1m63/63\u001b[0m \u001b[32m━━━━━━━━━━━━━━━━━━━━\u001b[0m\u001b[37m\u001b[0m \u001b[1m117s\u001b[0m 2s/step - accuracy: 0.8659 - loss: 0.3220 - val_accuracy: 0.8627 - val_loss: 0.3235\n",
      "Epoch 17/50\n",
      "\u001b[1m63/63\u001b[0m \u001b[32m━━━━━━━━━━━━━━━━━━━━\u001b[0m\u001b[37m\u001b[0m \u001b[1m117s\u001b[0m 2s/step - accuracy: 0.8660 - loss: 0.3069 - val_accuracy: 0.8580 - val_loss: 0.3331\n",
      "Epoch 18/50\n",
      "\u001b[1m63/63\u001b[0m \u001b[32m━━━━━━━━━━━━━━━━━━━━\u001b[0m\u001b[37m\u001b[0m \u001b[1m118s\u001b[0m 2s/step - accuracy: 0.8734 - loss: 0.3014 - val_accuracy: 0.8675 - val_loss: 0.3147\n",
      "Epoch 19/50\n",
      "\u001b[1m63/63\u001b[0m \u001b[32m━━━━━━━━━━━━━━━━━━━━\u001b[0m\u001b[37m\u001b[0m \u001b[1m117s\u001b[0m 2s/step - accuracy: 0.8780 - loss: 0.2901 - val_accuracy: 0.8670 - val_loss: 0.3128\n",
      "Epoch 20/50\n",
      "\u001b[1m63/63\u001b[0m \u001b[32m━━━━━━━━━━━━━━━━━━━━\u001b[0m\u001b[37m\u001b[0m \u001b[1m117s\u001b[0m 2s/step - accuracy: 0.8780 - loss: 0.2829 - val_accuracy: 0.8698 - val_loss: 0.3146\n",
      "Epoch 21/50\n",
      "\u001b[1m63/63\u001b[0m \u001b[32m━━━━━━━━━━━━━━━━━━━━\u001b[0m\u001b[37m\u001b[0m \u001b[1m116s\u001b[0m 2s/step - accuracy: 0.8794 - loss: 0.2808 - val_accuracy: 0.8683 - val_loss: 0.3187\n",
      "Epoch 22/50\n",
      "\u001b[1m63/63\u001b[0m \u001b[32m━━━━━━━━━━━━━━━━━━━━\u001b[0m\u001b[37m\u001b[0m \u001b[1m117s\u001b[0m 2s/step - accuracy: 0.8792 - loss: 0.2889 - val_accuracy: 0.8720 - val_loss: 0.3068\n",
      "Epoch 23/50\n",
      "\u001b[1m63/63\u001b[0m \u001b[32m━━━━━━━━━━━━━━━━━━━━\u001b[0m\u001b[37m\u001b[0m \u001b[1m116s\u001b[0m 2s/step - accuracy: 0.8830 - loss: 0.2853 - val_accuracy: 0.8660 - val_loss: 0.3222\n",
      "Epoch 24/50\n",
      "\u001b[1m63/63\u001b[0m \u001b[32m━━━━━━━━━━━━━━━━━━━━\u001b[0m\u001b[37m\u001b[0m \u001b[1m117s\u001b[0m 2s/step - accuracy: 0.8781 - loss: 0.2877 - val_accuracy: 0.8758 - val_loss: 0.2970\n",
      "Epoch 25/50\n",
      "\u001b[1m63/63\u001b[0m \u001b[32m━━━━━━━━━━━━━━━━━━━━\u001b[0m\u001b[37m\u001b[0m \u001b[1m117s\u001b[0m 2s/step - accuracy: 0.8887 - loss: 0.2777 - val_accuracy: 0.8740 - val_loss: 0.3022\n",
      "Epoch 26/50\n",
      "\u001b[1m63/63\u001b[0m \u001b[32m━━━━━━━━━━━━━━━━━━━━\u001b[0m\u001b[37m\u001b[0m \u001b[1m118s\u001b[0m 2s/step - accuracy: 0.8862 - loss: 0.2790 - val_accuracy: 0.8735 - val_loss: 0.2961\n",
      "Epoch 27/50\n",
      "\u001b[1m63/63\u001b[0m \u001b[32m━━━━━━━━━━━━━━━━━━━━\u001b[0m\u001b[37m\u001b[0m \u001b[1m118s\u001b[0m 2s/step - accuracy: 0.8775 - loss: 0.2810 - val_accuracy: 0.8785 - val_loss: 0.2832\n",
      "Epoch 28/50\n",
      "\u001b[1m63/63\u001b[0m \u001b[32m━━━━━━━━━━━━━━━━━━━━\u001b[0m\u001b[37m\u001b[0m \u001b[1m118s\u001b[0m 2s/step - accuracy: 0.8905 - loss: 0.2672 - val_accuracy: 0.8770 - val_loss: 0.2906\n",
      "Epoch 29/50\n",
      "\u001b[1m63/63\u001b[0m \u001b[32m━━━━━━━━━━━━━━━━━━━━\u001b[0m\u001b[37m\u001b[0m \u001b[1m116s\u001b[0m 2s/step - accuracy: 0.8928 - loss: 0.2662 - val_accuracy: 0.8773 - val_loss: 0.2875\n",
      "Epoch 30/50\n",
      "\u001b[1m63/63\u001b[0m \u001b[32m━━━━━━━━━━━━━━━━━━━━\u001b[0m\u001b[37m\u001b[0m \u001b[1m118s\u001b[0m 2s/step - accuracy: 0.8943 - loss: 0.2579 - val_accuracy: 0.8810 - val_loss: 0.2799\n",
      "Epoch 31/50\n",
      "\u001b[1m63/63\u001b[0m \u001b[32m━━━━━━━━━━━━━━━━━━━━\u001b[0m\u001b[37m\u001b[0m \u001b[1m118s\u001b[0m 2s/step - accuracy: 0.9002 - loss: 0.2539 - val_accuracy: 0.8783 - val_loss: 0.2816\n",
      "Epoch 32/50\n",
      "\u001b[1m63/63\u001b[0m \u001b[32m━━━━━━━━━━━━━━━━━━━━\u001b[0m\u001b[37m\u001b[0m \u001b[1m118s\u001b[0m 2s/step - accuracy: 0.8997 - loss: 0.2574 - val_accuracy: 0.8773 - val_loss: 0.2843\n",
      "Epoch 33/50\n",
      "\u001b[1m63/63\u001b[0m \u001b[32m━━━━━━━━━━━━━━━━━━━━\u001b[0m\u001b[37m\u001b[0m \u001b[1m116s\u001b[0m 2s/step - accuracy: 0.8919 - loss: 0.2587 - val_accuracy: 0.8795 - val_loss: 0.2771\n",
      "Epoch 34/50\n",
      "\u001b[1m63/63\u001b[0m \u001b[32m━━━━━━━━━━━━━━━━━━━━\u001b[0m\u001b[37m\u001b[0m \u001b[1m117s\u001b[0m 2s/step - accuracy: 0.8915 - loss: 0.2579 - val_accuracy: 0.8810 - val_loss: 0.2738\n",
      "Epoch 35/50\n",
      "\u001b[1m63/63\u001b[0m \u001b[32m━━━━━━━━━━━━━━━━━━━━\u001b[0m\u001b[37m\u001b[0m \u001b[1m118s\u001b[0m 2s/step - accuracy: 0.8915 - loss: 0.2581 - val_accuracy: 0.8857 - val_loss: 0.2684\n",
      "Epoch 36/50\n",
      "\u001b[1m63/63\u001b[0m \u001b[32m━━━━━━━━━━━━━━━━━━━━\u001b[0m\u001b[37m\u001b[0m \u001b[1m118s\u001b[0m 2s/step - accuracy: 0.9048 - loss: 0.2413 - val_accuracy: 0.8808 - val_loss: 0.2731\n",
      "Epoch 37/50\n",
      "\u001b[1m63/63\u001b[0m \u001b[32m━━━━━━━━━━━━━━━━━━━━\u001b[0m\u001b[37m\u001b[0m \u001b[1m118s\u001b[0m 2s/step - accuracy: 0.9019 - loss: 0.2438 - val_accuracy: 0.8888 - val_loss: 0.2669\n",
      "Epoch 38/50\n",
      "\u001b[1m63/63\u001b[0m \u001b[32m━━━━━━━━━━━━━━━━━━━━\u001b[0m\u001b[37m\u001b[0m \u001b[1m116s\u001b[0m 2s/step - accuracy: 0.9043 - loss: 0.2357 - val_accuracy: 0.8805 - val_loss: 0.2769\n",
      "Epoch 39/50\n",
      "\u001b[1m63/63\u001b[0m \u001b[32m━━━━━━━━━━━━━━━━━━━━\u001b[0m\u001b[37m\u001b[0m \u001b[1m118s\u001b[0m 2s/step - accuracy: 0.8992 - loss: 0.2404 - val_accuracy: 0.8840 - val_loss: 0.2722\n",
      "Epoch 40/50\n",
      "\u001b[1m63/63\u001b[0m \u001b[32m━━━━━━━━━━━━━━━━━━━━\u001b[0m\u001b[37m\u001b[0m \u001b[1m119s\u001b[0m 2s/step - accuracy: 0.9000 - loss: 0.2406 - val_accuracy: 0.8875 - val_loss: 0.2638\n",
      "Epoch 41/50\n",
      "\u001b[1m63/63\u001b[0m \u001b[32m━━━━━━━━━━━━━━━━━━━━\u001b[0m\u001b[37m\u001b[0m \u001b[1m117s\u001b[0m 2s/step - accuracy: 0.9044 - loss: 0.2411 - val_accuracy: 0.8865 - val_loss: 0.2675\n",
      "Epoch 42/50\n",
      "\u001b[1m63/63\u001b[0m \u001b[32m━━━━━━━━━━━━━━━━━━━━\u001b[0m\u001b[37m\u001b[0m \u001b[1m117s\u001b[0m 2s/step - accuracy: 0.8996 - loss: 0.2446 - val_accuracy: 0.8920 - val_loss: 0.2675\n",
      "Epoch 43/50\n",
      "\u001b[1m63/63\u001b[0m \u001b[32m━━━━━━━━━━━━━━━━━━━━\u001b[0m\u001b[37m\u001b[0m \u001b[1m118s\u001b[0m 2s/step - accuracy: 0.9028 - loss: 0.2339 - val_accuracy: 0.8913 - val_loss: 0.2604\n",
      "Epoch 44/50\n",
      "\u001b[1m63/63\u001b[0m \u001b[32m━━━━━━━━━━━━━━━━━━━━\u001b[0m\u001b[37m\u001b[0m \u001b[1m117s\u001b[0m 2s/step - accuracy: 0.9096 - loss: 0.2272 - val_accuracy: 0.8947 - val_loss: 0.2577\n",
      "Epoch 45/50\n",
      "\u001b[1m63/63\u001b[0m \u001b[32m━━━━━━━━━━━━━━━━━━━━\u001b[0m\u001b[37m\u001b[0m \u001b[1m117s\u001b[0m 2s/step - accuracy: 0.9185 - loss: 0.2093 - val_accuracy: 0.8925 - val_loss: 0.2589\n",
      "Epoch 46/50\n",
      "\u001b[1m63/63\u001b[0m \u001b[32m━━━━━━━━━━━━━━━━━━━━\u001b[0m\u001b[37m\u001b[0m \u001b[1m116s\u001b[0m 2s/step - accuracy: 0.9044 - loss: 0.2254 - val_accuracy: 0.8928 - val_loss: 0.2592\n",
      "Epoch 47/50\n",
      "\u001b[1m63/63\u001b[0m \u001b[32m━━━━━━━━━━━━━━━━━━━━\u001b[0m\u001b[37m\u001b[0m \u001b[1m117s\u001b[0m 2s/step - accuracy: 0.9060 - loss: 0.2249 - val_accuracy: 0.8942 - val_loss: 0.2545\n",
      "Epoch 48/50\n",
      "\u001b[1m63/63\u001b[0m \u001b[32m━━━━━━━━━━━━━━━━━━━━\u001b[0m\u001b[37m\u001b[0m \u001b[1m142s\u001b[0m 2s/step - accuracy: 0.9124 - loss: 0.2245 - val_accuracy: 0.8920 - val_loss: 0.2550\n",
      "Epoch 49/50\n",
      "\u001b[1m63/63\u001b[0m \u001b[32m━━━━━━━━━━━━━━━━━━━━\u001b[0m\u001b[37m\u001b[0m \u001b[1m117s\u001b[0m 2s/step - accuracy: 0.9136 - loss: 0.2146 - val_accuracy: 0.8898 - val_loss: 0.2599\n",
      "Epoch 50/50\n",
      "\u001b[1m63/63\u001b[0m \u001b[32m━━━━━━━━━━━━━━━━━━━━\u001b[0m\u001b[37m\u001b[0m \u001b[1m118s\u001b[0m 2s/step - accuracy: 0.9037 - loss: 0.2266 - val_accuracy: 0.8890 - val_loss: 0.2616\n",
      "Restoring model weights from the end of the best epoch: 47.\n"
     ]
    }
   ],
   "source": [
    "# fine tune\n",
    "\n",
    "base_model = model.layers[1]\n",
    "base_model.trainable = True\n",
    "\n",
    "fine_tune_at = 970\n",
    "\n",
    "for layer in base_model.layers[:fine_tune_at]:\n",
    "  layer.trainable = False\n",
    "\n",
    "early_stopping_callbacks = tf.keras.callbacks.EarlyStopping(monitor = 'val_loss', patience = 10,restore_best_weights = True, verbose = 1)\n",
    "\n",
    "\n",
    "model.compile(loss=tf.keras.losses.SparseCategoricalCrossentropy(from_logits=False), optimizer=tf.keras.optimizers.Adam(learning_rate=0.00001), metrics\n",
    "              =[\"accuracy\"])\n",
    "\n",
    "history_ft = model.fit(tr_set, epochs = 50, validation_data = te_set, callbacks = [early_stopping_callbacks])"
   ]
  },
  {
   "cell_type": "code",
   "execution_count": 12,
   "id": "a1b04f8f",
   "metadata": {
    "execution": {
     "iopub.execute_input": "2024-04-29T19:21:46.619774Z",
     "iopub.status.busy": "2024-04-29T19:21:46.619393Z",
     "iopub.status.idle": "2024-04-29T19:21:49.743442Z",
     "shell.execute_reply": "2024-04-29T19:21:49.742318Z"
    },
    "papermill": {
     "duration": 3.874419,
     "end_time": "2024-04-29T19:21:49.745737",
     "exception": false,
     "start_time": "2024-04-29T19:21:45.871318",
     "status": "completed"
    },
    "tags": []
   },
   "outputs": [],
   "source": [
    "model.save(\"nasnetlarge_final_2.keras\")"
   ]
  },
  {
   "cell_type": "code",
   "execution_count": 13,
   "id": "0b46b417",
   "metadata": {
    "execution": {
     "iopub.execute_input": "2024-04-29T19:21:51.339057Z",
     "iopub.status.busy": "2024-04-29T19:21:51.338657Z",
     "iopub.status.idle": "2024-04-29T19:21:51.752375Z",
     "shell.execute_reply": "2024-04-29T19:21:51.751470Z"
    },
    "id": "6Hxl2YpVeiIR",
    "papermill": {
     "duration": 1.248096,
     "end_time": "2024-04-29T19:21:51.754576",
     "exception": false,
     "start_time": "2024-04-29T19:21:50.506480",
     "status": "completed"
    },
    "tags": []
   },
   "outputs": [
    {
     "data": {
      "image/png": "[encoded data removed]",
      "text/plain": [
       "<Figure size 640x480 with 1 Axes>"
      ]
     },
     "metadata": {},
     "output_type": "display_data"
    },
    {
     "data": {
      "image/png": "[encoded data removed]",
      "text/plain": [
       "<Figure size 640x480 with 1 Axes>"
      ]
     },
     "metadata": {},
     "output_type": "display_data"
    }
   ],
   "source": [
    "# loss curve\n",
    "\n",
    "l = np.concatenate([history_ft.history['loss']])\n",
    "acc = np.concatenate([history_ft.history['accuracy']])\n",
    "lv = np.concatenate([history_ft.history['val_loss']])\n",
    "accv = np.concatenate([history_ft.history['val_accuracy']])\n",
    "\n",
    "plt.plot(l, label=\"Loss\")\n",
    "plt.plot(acc, label=\"Accuracy\")\n",
    "plt.legend()\n",
    "plt.show()\n",
    "plt.plot(lv, label=\"Val_Loss\")\n",
    "plt.plot(accv, label=\"Val_Accuracy\")\n",
    "plt.legend()\n",
    "plt.show()"
   ]
  },
  {
   "cell_type": "code",
   "execution_count": 14,
   "id": "f884cda1",
   "metadata": {
    "execution": {
     "iopub.execute_input": "2024-04-29T19:21:53.348932Z",
     "iopub.status.busy": "2024-04-29T19:21:53.348529Z",
     "iopub.status.idle": "2024-04-29T19:22:17.361062Z",
     "shell.execute_reply": "2024-04-29T19:22:17.360086Z"
    },
    "id": "BfRAWEEr7VO9",
    "papermill": {
     "duration": 24.843825,
     "end_time": "2024-04-29T19:22:17.363336",
     "exception": false,
     "start_time": "2024-04-29T19:21:52.519511",
     "status": "completed"
    },
    "tags": []
   },
   "outputs": [
    {
     "name": "stdout",
     "output_type": "stream",
     "text": [
      "\u001b[1m32/32\u001b[0m \u001b[32m━━━━━━━━━━━━━━━━━━━━\u001b[0m\u001b[37m\u001b[0m \u001b[1m24s\u001b[0m 733ms/step - accuracy: 0.9025 - loss: 0.2321\n"
     ]
    },
    {
     "data": {
      "text/plain": [
       "[0.2544706463813782, 0.8942499756813049]"
      ]
     },
     "execution_count": 14,
     "metadata": {},
     "output_type": "execute_result"
    }
   ],
   "source": [
    "model.evaluate(te_set)"
   ]
  }
 ],
 "metadata": {
  "colab": {
   "provenance": []
  },
  "kaggle": {
   "accelerator": "gpu",
   "dataSources": [
    {
     "datasetId": 3041726,
     "sourceId": 5256696,
     "sourceType": "datasetVersion"
    }
   ],
   "dockerImageVersionId": 30666,
   "isGpuEnabled": true,
   "isInternetEnabled": true,
   "language": "python",
   "sourceType": "notebook"
  },
  "kernelspec": {
   "display_name": "Python 3",
   "language": "python",
   "name": "python3"
  },
  "language_info": {
   "codemirror_mode": {
    "name": "ipython",
    "version": 3
   },
   "file_extension": ".py",
   "mimetype": "text/x-python",
   "name": "python",
   "nbconvert_exporter": "python",
   "pygments_lexer": "ipython3",
   "version": "3.10.13"
  },
  "papermill": {
   "default_parameters": {},
   "duration": 17163.609523,
   "end_time": "2024-04-29T19:22:21.154170",
   "environment_variables": {},
   "exception": null,
   "input_path": "__notebook__.ipynb",
   "output_path": "__notebook__.ipynb",
   "parameters": {},
   "start_time": "2024-04-29T14:36:17.544647",
   "version": "2.5.0"
  }
 },
 "nbformat": 4,
 "nbformat_minor": 5
}
