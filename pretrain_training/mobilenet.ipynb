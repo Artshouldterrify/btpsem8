{
 "cells": [
  {
   "cell_type": "code",
   "execution_count": 1,
   "id": "054fe84a",
   "metadata": {
    "execution": {
     "iopub.execute_input": "2024-04-29T19:42:57.606314Z",
     "iopub.status.busy": "2024-04-29T19:42:57.605948Z",
     "iopub.status.idle": "2024-04-29T19:43:15.379287Z",
     "shell.execute_reply": "2024-04-29T19:43:15.377925Z"
    },
    "id": "380dVmoMbVoM",
    "outputId": "3f49e613-6318-4c4d-8e0d-05bc4c90f86c",
    "papermill": {
     "duration": 17.781705,
     "end_time": "2024-04-29T19:43:15.381352",
     "exception": false,
     "start_time": "2024-04-29T19:42:57.599647",
     "status": "completed"
    },
    "tags": []
   },
   "outputs": [
    {
     "name": "stdout",
     "output_type": "stream",
     "text": [
      "Collecting mealpy==2.5.4\r\n",
      "  Downloading mealpy-2.5.4-py3-none-any.whl.metadata (92 kB)\r\n",
      "\u001b[2K     \u001b[90m━━━━━━━━━━━━━━━━━━━━━━━━━━━━━━━━━━━━━━━\u001b[0m \u001b[32m92.0/92.0 kB\u001b[0m \u001b[31m927.5 kB/s\u001b[0m eta \u001b[36m0:00:00\u001b[0m\r\n",
      "\u001b[?25hRequirement already satisfied: numpy>=1.16.5 in /opt/conda/lib/python3.10/site-packages (from mealpy==2.5.4) (1.26.4)\r\n",
      "Requirement already satisfied: matplotlib>=3.3.0 in /opt/conda/lib/python3.10/site-packages (from mealpy==2.5.4) (3.7.5)\r\n",
      "Requirement already satisfied: scipy>=1.7.1 in /opt/conda/lib/python3.10/site-packages (from mealpy==2.5.4) (1.11.4)\r\n",
      "Requirement already satisfied: pandas>=1.2.0 in /opt/conda/lib/python3.10/site-packages (from mealpy==2.5.4) (2.1.4)\r\n",
      "Collecting opfunu>=1.0.0 (from mealpy==2.5.4)\r\n",
      "  Downloading opfunu-1.0.2-py3-none-any.whl.metadata (9.0 kB)\r\n",
      "Requirement already satisfied: contourpy>=1.0.1 in /opt/conda/lib/python3.10/site-packages (from matplotlib>=3.3.0->mealpy==2.5.4) (1.2.0)\r\n",
      "Requirement already satisfied: cycler>=0.10 in /opt/conda/lib/python3.10/site-packages (from matplotlib>=3.3.0->mealpy==2.5.4) (0.12.1)\r\n",
      "Requirement already satisfied: fonttools>=4.22.0 in /opt/conda/lib/python3.10/site-packages (from matplotlib>=3.3.0->mealpy==2.5.4) (4.47.0)\r\n",
      "Requirement already satisfied: kiwisolver>=1.0.1 in /opt/conda/lib/python3.10/site-packages (from matplotlib>=3.3.0->mealpy==2.5.4) (1.4.5)\r\n",
      "Requirement already satisfied: packaging>=20.0 in /opt/conda/lib/python3.10/site-packages (from matplotlib>=3.3.0->mealpy==2.5.4) (21.3)\r\n",
      "Requirement already satisfied: pillow>=6.2.0 in /opt/conda/lib/python3.10/site-packages (from matplotlib>=3.3.0->mealpy==2.5.4) (9.5.0)\r\n",
      "Requirement already satisfied: pyparsing>=2.3.1 in /opt/conda/lib/python3.10/site-packages (from matplotlib>=3.3.0->mealpy==2.5.4) (3.1.1)\r\n",
      "Requirement already satisfied: python-dateutil>=2.7 in /opt/conda/lib/python3.10/site-packages (from matplotlib>=3.3.0->mealpy==2.5.4) (2.8.2)\r\n",
      "Requirement already satisfied: requests>=2.27.0 in /opt/conda/lib/python3.10/site-packages (from opfunu>=1.0.0->mealpy==2.5.4) (2.31.0)\r\n",
      "Requirement already satisfied: pytz>=2020.1 in /opt/conda/lib/python3.10/site-packages (from pandas>=1.2.0->mealpy==2.5.4) (2023.3.post1)\r\n",
      "Requirement already satisfied: tzdata>=2022.1 in /opt/conda/lib/python3.10/site-packages (from pandas>=1.2.0->mealpy==2.5.4) (2023.4)\r\n",
      "Requirement already satisfied: six>=1.5 in /opt/conda/lib/python3.10/site-packages (from python-dateutil>=2.7->matplotlib>=3.3.0->mealpy==2.5.4) (1.16.0)\r\n",
      "Requirement already satisfied: charset-normalizer<4,>=2 in /opt/conda/lib/python3.10/site-packages (from requests>=2.27.0->opfunu>=1.0.0->mealpy==2.5.4) (3.3.2)\r\n",
      "Requirement already satisfied: idna<4,>=2.5 in /opt/conda/lib/python3.10/site-packages (from requests>=2.27.0->opfunu>=1.0.0->mealpy==2.5.4) (3.6)\r\n",
      "Requirement already satisfied: urllib3<3,>=1.21.1 in /opt/conda/lib/python3.10/site-packages (from requests>=2.27.0->opfunu>=1.0.0->mealpy==2.5.4) (1.26.18)\r\n",
      "Requirement already satisfied: certifi>=2017.4.17 in /opt/conda/lib/python3.10/site-packages (from requests>=2.27.0->opfunu>=1.0.0->mealpy==2.5.4) (2024.2.2)\r\n",
      "Downloading mealpy-2.5.4-py3-none-any.whl (377 kB)\r\n",
      "\u001b[2K   \u001b[90m━━━━━━━━━━━━━━━━━━━━━━━━━━━━━━━━━━━━━━━━\u001b[0m \u001b[32m378.0/378.0 kB\u001b[0m \u001b[31m3.7 MB/s\u001b[0m eta \u001b[36m0:00:00\u001b[0m\r\n",
      "\u001b[?25hDownloading opfunu-1.0.2-py3-none-any.whl (13.0 MB)\r\n",
      "\u001b[2K   \u001b[90m━━━━━━━━━━━━━━━━━━━━━━━━━━━━━━━━━━━━━━━━\u001b[0m \u001b[32m13.0/13.0 MB\u001b[0m \u001b[31m65.1 MB/s\u001b[0m eta \u001b[36m0:00:00\u001b[0m\r\n",
      "\u001b[?25hInstalling collected packages: opfunu, mealpy\r\n",
      "Successfully installed mealpy-2.5.4 opfunu-1.0.2\r\n",
      "Note: you may need to restart the kernel to use updated packages.\n"
     ]
    }
   ],
   "source": [
    "pip install mealpy==2.5.4"
   ]
  },
  {
   "cell_type": "code",
   "execution_count": 2,
   "id": "880feb0b",
   "metadata": {
    "execution": {
     "iopub.execute_input": "2024-04-29T19:43:15.395738Z",
     "iopub.status.busy": "2024-04-29T19:43:15.394971Z",
     "iopub.status.idle": "2024-04-29T19:43:32.298910Z",
     "shell.execute_reply": "2024-04-29T19:43:32.297823Z"
    },
    "papermill": {
     "duration": 16.913398,
     "end_time": "2024-04-29T19:43:32.301186",
     "exception": false,
     "start_time": "2024-04-29T19:43:15.387788",
     "status": "completed"
    },
    "tags": []
   },
   "outputs": [
    {
     "name": "stdout",
     "output_type": "stream",
     "text": [
      "Collecting mafese==0.1.9\r\n",
      "  Downloading mafese-0.1.9-py3-none-any.whl.metadata (15 kB)\r\n",
      "Requirement already satisfied: numpy>=1.17.1 in /opt/conda/lib/python3.10/site-packages (from mafese==0.1.9) (1.26.4)\r\n",
      "Requirement already satisfied: scipy>=1.7.1 in /opt/conda/lib/python3.10/site-packages (from mafese==0.1.9) (1.11.4)\r\n",
      "Requirement already satisfied: scikit-learn>=1.0.2 in /opt/conda/lib/python3.10/site-packages (from mafese==0.1.9) (1.2.2)\r\n",
      "Requirement already satisfied: pandas>=1.3.5 in /opt/conda/lib/python3.10/site-packages (from mafese==0.1.9) (2.1.4)\r\n",
      "Requirement already satisfied: mealpy>=2.5.4 in /opt/conda/lib/python3.10/site-packages (from mafese==0.1.9) (2.5.4)\r\n",
      "Collecting permetrics>=1.4.2 (from mafese==0.1.9)\r\n",
      "  Downloading permetrics-2.0.0-py3-none-any.whl.metadata (8.7 kB)\r\n",
      "Requirement already satisfied: plotly>=5.10.0 in /opt/conda/lib/python3.10/site-packages (from mafese==0.1.9) (5.18.0)\r\n",
      "Collecting kaleido>=0.2.1 (from mafese==0.1.9)\r\n",
      "  Downloading kaleido-0.2.1-py2.py3-none-manylinux1_x86_64.whl.metadata (15 kB)\r\n",
      "Requirement already satisfied: matplotlib>=3.3.0 in /opt/conda/lib/python3.10/site-packages (from mealpy>=2.5.4->mafese==0.1.9) (3.7.5)\r\n",
      "Requirement already satisfied: opfunu>=1.0.0 in /opt/conda/lib/python3.10/site-packages (from mealpy>=2.5.4->mafese==0.1.9) (1.0.2)\r\n",
      "Requirement already satisfied: python-dateutil>=2.8.2 in /opt/conda/lib/python3.10/site-packages (from pandas>=1.3.5->mafese==0.1.9) (2.8.2)\r\n",
      "Requirement already satisfied: pytz>=2020.1 in /opt/conda/lib/python3.10/site-packages (from pandas>=1.3.5->mafese==0.1.9) (2023.3.post1)\r\n",
      "Requirement already satisfied: tzdata>=2022.1 in /opt/conda/lib/python3.10/site-packages (from pandas>=1.3.5->mafese==0.1.9) (2023.4)\r\n",
      "Requirement already satisfied: tenacity>=6.2.0 in /opt/conda/lib/python3.10/site-packages (from plotly>=5.10.0->mafese==0.1.9) (8.2.3)\r\n",
      "Requirement already satisfied: packaging in /opt/conda/lib/python3.10/site-packages (from plotly>=5.10.0->mafese==0.1.9) (21.3)\r\n",
      "Requirement already satisfied: joblib>=1.1.1 in /opt/conda/lib/python3.10/site-packages (from scikit-learn>=1.0.2->mafese==0.1.9) (1.3.2)\r\n",
      "Requirement already satisfied: threadpoolctl>=2.0.0 in /opt/conda/lib/python3.10/site-packages (from scikit-learn>=1.0.2->mafese==0.1.9) (3.2.0)\r\n",
      "Requirement already satisfied: contourpy>=1.0.1 in /opt/conda/lib/python3.10/site-packages (from matplotlib>=3.3.0->mealpy>=2.5.4->mafese==0.1.9) (1.2.0)\r\n",
      "Requirement already satisfied: cycler>=0.10 in /opt/conda/lib/python3.10/site-packages (from matplotlib>=3.3.0->mealpy>=2.5.4->mafese==0.1.9) (0.12.1)\r\n",
      "Requirement already satisfied: fonttools>=4.22.0 in /opt/conda/lib/python3.10/site-packages (from matplotlib>=3.3.0->mealpy>=2.5.4->mafese==0.1.9) (4.47.0)\r\n",
      "Requirement already satisfied: kiwisolver>=1.0.1 in /opt/conda/lib/python3.10/site-packages (from matplotlib>=3.3.0->mealpy>=2.5.4->mafese==0.1.9) (1.4.5)\r\n",
      "Requirement already satisfied: pillow>=6.2.0 in /opt/conda/lib/python3.10/site-packages (from matplotlib>=3.3.0->mealpy>=2.5.4->mafese==0.1.9) (9.5.0)\r\n",
      "Requirement already satisfied: pyparsing>=2.3.1 in /opt/conda/lib/python3.10/site-packages (from matplotlib>=3.3.0->mealpy>=2.5.4->mafese==0.1.9) (3.1.1)\r\n",
      "Requirement already satisfied: requests>=2.27.0 in /opt/conda/lib/python3.10/site-packages (from opfunu>=1.0.0->mealpy>=2.5.4->mafese==0.1.9) (2.31.0)\r\n",
      "Requirement already satisfied: six>=1.5 in /opt/conda/lib/python3.10/site-packages (from python-dateutil>=2.8.2->pandas>=1.3.5->mafese==0.1.9) (1.16.0)\r\n",
      "Requirement already satisfied: charset-normalizer<4,>=2 in /opt/conda/lib/python3.10/site-packages (from requests>=2.27.0->opfunu>=1.0.0->mealpy>=2.5.4->mafese==0.1.9) (3.3.2)\r\n",
      "Requirement already satisfied: idna<4,>=2.5 in /opt/conda/lib/python3.10/site-packages (from requests>=2.27.0->opfunu>=1.0.0->mealpy>=2.5.4->mafese==0.1.9) (3.6)\r\n",
      "Requirement already satisfied: urllib3<3,>=1.21.1 in /opt/conda/lib/python3.10/site-packages (from requests>=2.27.0->opfunu>=1.0.0->mealpy>=2.5.4->mafese==0.1.9) (1.26.18)\r\n",
      "Requirement already satisfied: certifi>=2017.4.17 in /opt/conda/lib/python3.10/site-packages (from requests>=2.27.0->opfunu>=1.0.0->mealpy>=2.5.4->mafese==0.1.9) (2024.2.2)\r\n",
      "Downloading mafese-0.1.9-py3-none-any.whl (4.2 MB)\r\n",
      "\u001b[2K   \u001b[90m━━━━━━━━━━━━━━━━━━━━━━━━━━━━━━━━━━━━━━━━\u001b[0m \u001b[32m4.2/4.2 MB\u001b[0m \u001b[31m15.6 MB/s\u001b[0m eta \u001b[36m0:00:00\u001b[0m\r\n",
      "\u001b[?25hDownloading kaleido-0.2.1-py2.py3-none-manylinux1_x86_64.whl (79.9 MB)\r\n",
      "\u001b[2K   \u001b[90m━━━━━━━━━━━━━━━━━━━━━━━━━━━━━━━━━━━━━━━━\u001b[0m \u001b[32m79.9/79.9 MB\u001b[0m \u001b[31m19.3 MB/s\u001b[0m eta \u001b[36m0:00:00\u001b[0m\r\n",
      "\u001b[?25hDownloading permetrics-2.0.0-py3-none-any.whl (52 kB)\r\n",
      "\u001b[2K   \u001b[90m━━━━━━━━━━━━━━━━━━━━━━━━━━━━━━━━━━━━━━━━\u001b[0m \u001b[32m52.6/52.6 kB\u001b[0m \u001b[31m2.2 MB/s\u001b[0m eta \u001b[36m0:00:00\u001b[0m\r\n",
      "\u001b[?25hInstalling collected packages: kaleido, permetrics, mafese\r\n",
      "Successfully installed kaleido-0.2.1 mafese-0.1.9 permetrics-2.0.0\r\n",
      "Note: you may need to restart the kernel to use updated packages.\n"
     ]
    }
   ],
   "source": [
    "pip install mafese==0.1.9"
   ]
  },
  {
   "cell_type": "code",
   "execution_count": 3,
   "id": "bd8db86b",
   "metadata": {
    "execution": {
     "iopub.execute_input": "2024-04-29T19:43:32.323743Z",
     "iopub.status.busy": "2024-04-29T19:43:32.323434Z",
     "iopub.status.idle": "2024-04-29T19:43:55.769452Z",
     "shell.execute_reply": "2024-04-29T19:43:55.768673Z"
    },
    "id": "6j4sBROet5iQ",
    "papermill": {
     "duration": 23.459841,
     "end_time": "2024-04-29T19:43:55.771754",
     "exception": false,
     "start_time": "2024-04-29T19:43:32.311913",
     "status": "completed"
    },
    "tags": []
   },
   "outputs": [
    {
     "name": "stderr",
     "output_type": "stream",
     "text": [
      "2024-04-29 19:43:35.869821: E external/local_xla/xla/stream_executor/cuda/cuda_dnn.cc:9261] Unable to register cuDNN factory: Attempting to register factory for plugin cuDNN when one has already been registered\n",
      "2024-04-29 19:43:35.869929: E external/local_xla/xla/stream_executor/cuda/cuda_fft.cc:607] Unable to register cuFFT factory: Attempting to register factory for plugin cuFFT when one has already been registered\n",
      "2024-04-29 19:43:36.127101: E external/local_xla/xla/stream_executor/cuda/cuda_blas.cc:1515] Unable to register cuBLAS factory: Attempting to register factory for plugin cuBLAS when one has already been registered\n"
     ]
    }
   ],
   "source": [
    "# imports\n",
    "\n",
    "import tensorflow as tf\n",
    "import matplotlib.pyplot as plt\n",
    "import numpy as np\n",
    "import seaborn as sns\n",
    "import mafese as mfse"
   ]
  },
  {
   "cell_type": "code",
   "execution_count": 4,
   "id": "a08116d0",
   "metadata": {
    "execution": {
     "iopub.execute_input": "2024-04-29T19:43:55.795695Z",
     "iopub.status.busy": "2024-04-29T19:43:55.794735Z",
     "iopub.status.idle": "2024-04-29T19:43:55.804392Z",
     "shell.execute_reply": "2024-04-29T19:43:55.803569Z"
    },
    "id": "fDTRo85EuGgV",
    "papermill": {
     "duration": 0.022901,
     "end_time": "2024-04-29T19:43:55.806353",
     "exception": false,
     "start_time": "2024-04-29T19:43:55.783452",
     "status": "completed"
    },
    "tags": []
   },
   "outputs": [],
   "source": [
    "# loading the images\n",
    "train_dir = \"/kaggle/input/cifake-real-and-ai-generated-synthetic-images/train\"\n",
    "test_dir = \"/kaggle/input/cifake-real-and-ai-generated-synthetic-images/test\"\n",
    "\n",
    "# generator\n",
    "def datagen(func):\n",
    "  train_gen = tf.keras.preprocessing.image.ImageDataGenerator(\n",
    "              preprocessing_function=func,\n",
    "              horizontal_flip = True,\n",
    "              vertical_flip = True,\n",
    "              rotation_range = 0.5,\n",
    "              width_shift_range = 0.25,\n",
    "              height_shift_range = 0.25,\n",
    "              shear_range = 0.2,\n",
    "              zoom_range = 0.4,\n",
    "              validation_split = 0.92)\n",
    "\n",
    "  test_gen = tf.keras.preprocessing.image.ImageDataGenerator(\n",
    "              preprocessing_function=func,\n",
    "              validation_split = 0.8)\n",
    "\n",
    "  test_gen_2 = tf.keras.preprocessing.image.ImageDataGenerator(\n",
    "              preprocessing_function=func,\n",
    "              validation_split = 0.2)\n",
    "\n",
    "  pred_gen = tf.keras.preprocessing.image.ImageDataGenerator(\n",
    "              preprocessing_function=func,\n",
    "              validation_split = 0.92)\n",
    "\n",
    "  train_set = train_gen.flow_from_directory(train_dir, class_mode = \"binary\", batch_size = 128, target_size = (224,224), shuffle = True, subset = 'training')\n",
    "  test_set = test_gen.flow_from_directory(test_dir, class_mode = \"binary\", batch_size = 128, target_size = (224,224), shuffle = False, subset='training')\n",
    "  val_set = test_gen_2.flow_from_directory(test_dir, class_mode = \"binary\", batch_size = 128, target_size = (224,224), shuffle = False, subset='validation')\n",
    "  pred_tr_set = pred_gen.flow_from_directory(train_dir, class_mode = \"binary\", batch_size = 128, target_size = (224,224), shuffle = False, subset = 'training')\n",
    "  return train_set, test_set, val_set, pred_tr_set"
   ]
  },
  {
   "cell_type": "code",
   "execution_count": 5,
   "id": "a60b8eb0",
   "metadata": {
    "execution": {
     "iopub.execute_input": "2024-04-29T19:43:55.828172Z",
     "iopub.status.busy": "2024-04-29T19:43:55.827882Z",
     "iopub.status.idle": "2024-04-29T19:43:58.400971Z",
     "shell.execute_reply": "2024-04-29T19:43:58.400193Z"
    },
    "id": "voerm_OwuWwO",
    "outputId": "d123e920-2be2-4402-f8a8-f6a5693b1031",
    "papermill": {
     "duration": 2.586423,
     "end_time": "2024-04-29T19:43:58.403069",
     "exception": false,
     "start_time": "2024-04-29T19:43:55.816646",
     "status": "completed"
    },
    "tags": []
   },
   "outputs": [
    {
     "name": "stdout",
     "output_type": "stream",
     "text": [
      "Downloading data from https://storage.googleapis.com/tensorflow/keras-applications/mobilenet_v3/weights_mobilenet_v3_large_224_1.0_float_no_top_v2.h5\n",
      "\u001b[1m12683000/12683000\u001b[0m \u001b[32m━━━━━━━━━━━━━━━━━━━━\u001b[0m\u001b[37m\u001b[0m \u001b[1m0s\u001b[0m 0us/step\n"
     ]
    },
    {
     "data": {
      "text/html": [
       "<pre style=\"white-space:pre;overflow-x:auto;line-height:normal;font-family:Menlo,'DejaVu Sans Mono',consolas,'Courier New',monospace\"><span style=\"font-weight: bold\">Model: \"functional_1\"</span>\n",
       "</pre>\n"
      ],
      "text/plain": [
       "\u001b[1mModel: \"functional_1\"\u001b[0m\n"
      ]
     },
     "metadata": {},
     "output_type": "display_data"
    },
    {
     "data": {
      "text/html": [
       "<pre style=\"white-space:pre;overflow-x:auto;line-height:normal;font-family:Menlo,'DejaVu Sans Mono',consolas,'Courier New',monospace\">┏━━━━━━━━━━━━━━━━━━━━━━━━━━━━━━━━━┳━━━━━━━━━━━━━━━━━━━━━━━━┳━━━━━━━━━━━━━━━┓\n",
       "┃<span style=\"font-weight: bold\"> Layer (type)                    </span>┃<span style=\"font-weight: bold\"> Output Shape           </span>┃<span style=\"font-weight: bold\">       Param # </span>┃\n",
       "┡━━━━━━━━━━━━━━━━━━━━━━━━━━━━━━━━━╇━━━━━━━━━━━━━━━━━━━━━━━━╇━━━━━━━━━━━━━━━┩\n",
       "│ input_layer_1 (<span style=\"color: #0087ff; text-decoration-color: #0087ff\">InputLayer</span>)      │ (<span style=\"color: #00d7ff; text-decoration-color: #00d7ff\">None</span>, <span style=\"color: #00af00; text-decoration-color: #00af00\">224</span>, <span style=\"color: #00af00; text-decoration-color: #00af00\">224</span>, <span style=\"color: #00af00; text-decoration-color: #00af00\">3</span>)    │             <span style=\"color: #00af00; text-decoration-color: #00af00\">0</span> │\n",
       "├─────────────────────────────────┼────────────────────────┼───────────────┤\n",
       "│ MobilenetV3large (<span style=\"color: #0087ff; text-decoration-color: #0087ff\">Functional</span>)   │ (<span style=\"color: #00d7ff; text-decoration-color: #00d7ff\">None</span>, <span style=\"color: #00af00; text-decoration-color: #00af00\">7</span>, <span style=\"color: #00af00; text-decoration-color: #00af00\">7</span>, <span style=\"color: #00af00; text-decoration-color: #00af00\">960</span>)      │     <span style=\"color: #00af00; text-decoration-color: #00af00\">2,996,352</span> │\n",
       "├─────────────────────────────────┼────────────────────────┼───────────────┤\n",
       "│ global_average_pooling2d        │ (<span style=\"color: #00d7ff; text-decoration-color: #00d7ff\">None</span>, <span style=\"color: #00af00; text-decoration-color: #00af00\">960</span>)            │             <span style=\"color: #00af00; text-decoration-color: #00af00\">0</span> │\n",
       "│ (<span style=\"color: #0087ff; text-decoration-color: #0087ff\">GlobalAveragePooling2D</span>)        │                        │               │\n",
       "├─────────────────────────────────┼────────────────────────┼───────────────┤\n",
       "│ dense (<span style=\"color: #0087ff; text-decoration-color: #0087ff\">Dense</span>)                   │ (<span style=\"color: #00d7ff; text-decoration-color: #00d7ff\">None</span>, <span style=\"color: #00af00; text-decoration-color: #00af00\">2</span>)              │         <span style=\"color: #00af00; text-decoration-color: #00af00\">1,922</span> │\n",
       "└─────────────────────────────────┴────────────────────────┴───────────────┘\n",
       "</pre>\n"
      ],
      "text/plain": [
       "┏━━━━━━━━━━━━━━━━━━━━━━━━━━━━━━━━━┳━━━━━━━━━━━━━━━━━━━━━━━━┳━━━━━━━━━━━━━━━┓\n",
       "┃\u001b[1m \u001b[0m\u001b[1mLayer (type)                   \u001b[0m\u001b[1m \u001b[0m┃\u001b[1m \u001b[0m\u001b[1mOutput Shape          \u001b[0m\u001b[1m \u001b[0m┃\u001b[1m \u001b[0m\u001b[1m      Param #\u001b[0m\u001b[1m \u001b[0m┃\n",
       "┡━━━━━━━━━━━━━━━━━━━━━━━━━━━━━━━━━╇━━━━━━━━━━━━━━━━━━━━━━━━╇━━━━━━━━━━━━━━━┩\n",
       "│ input_layer_1 (\u001b[38;5;33mInputLayer\u001b[0m)      │ (\u001b[38;5;45mNone\u001b[0m, \u001b[38;5;34m224\u001b[0m, \u001b[38;5;34m224\u001b[0m, \u001b[38;5;34m3\u001b[0m)    │             \u001b[38;5;34m0\u001b[0m │\n",
       "├─────────────────────────────────┼────────────────────────┼───────────────┤\n",
       "│ MobilenetV3large (\u001b[38;5;33mFunctional\u001b[0m)   │ (\u001b[38;5;45mNone\u001b[0m, \u001b[38;5;34m7\u001b[0m, \u001b[38;5;34m7\u001b[0m, \u001b[38;5;34m960\u001b[0m)      │     \u001b[38;5;34m2,996,352\u001b[0m │\n",
       "├─────────────────────────────────┼────────────────────────┼───────────────┤\n",
       "│ global_average_pooling2d        │ (\u001b[38;5;45mNone\u001b[0m, \u001b[38;5;34m960\u001b[0m)            │             \u001b[38;5;34m0\u001b[0m │\n",
       "│ (\u001b[38;5;33mGlobalAveragePooling2D\u001b[0m)        │                        │               │\n",
       "├─────────────────────────────────┼────────────────────────┼───────────────┤\n",
       "│ dense (\u001b[38;5;33mDense\u001b[0m)                   │ (\u001b[38;5;45mNone\u001b[0m, \u001b[38;5;34m2\u001b[0m)              │         \u001b[38;5;34m1,922\u001b[0m │\n",
       "└─────────────────────────────────┴────────────────────────┴───────────────┘\n"
      ]
     },
     "metadata": {},
     "output_type": "display_data"
    },
    {
     "data": {
      "text/html": [
       "<pre style=\"white-space:pre;overflow-x:auto;line-height:normal;font-family:Menlo,'DejaVu Sans Mono',consolas,'Courier New',monospace\"><span style=\"font-weight: bold\"> Total params: </span><span style=\"color: #00af00; text-decoration-color: #00af00\">2,998,274</span> (11.44 MB)\n",
       "</pre>\n"
      ],
      "text/plain": [
       "\u001b[1m Total params: \u001b[0m\u001b[38;5;34m2,998,274\u001b[0m (11.44 MB)\n"
      ]
     },
     "metadata": {},
     "output_type": "display_data"
    },
    {
     "data": {
      "text/html": [
       "<pre style=\"white-space:pre;overflow-x:auto;line-height:normal;font-family:Menlo,'DejaVu Sans Mono',consolas,'Courier New',monospace\"><span style=\"font-weight: bold\"> Trainable params: </span><span style=\"color: #00af00; text-decoration-color: #00af00\">1,922</span> (7.51 KB)\n",
       "</pre>\n"
      ],
      "text/plain": [
       "\u001b[1m Trainable params: \u001b[0m\u001b[38;5;34m1,922\u001b[0m (7.51 KB)\n"
      ]
     },
     "metadata": {},
     "output_type": "display_data"
    },
    {
     "data": {
      "text/html": [
       "<pre style=\"white-space:pre;overflow-x:auto;line-height:normal;font-family:Menlo,'DejaVu Sans Mono',consolas,'Courier New',monospace\"><span style=\"font-weight: bold\"> Non-trainable params: </span><span style=\"color: #00af00; text-decoration-color: #00af00\">2,996,352</span> (11.43 MB)\n",
       "</pre>\n"
      ],
      "text/plain": [
       "\u001b[1m Non-trainable params: \u001b[0m\u001b[38;5;34m2,996,352\u001b[0m (11.43 MB)\n"
      ]
     },
     "metadata": {},
     "output_type": "display_data"
    }
   ],
   "source": [
    "# model\n",
    "base_model = tf.keras.applications.MobileNetV3Large(include_top=False, weights='imagenet', input_shape=(224,224,3))\n",
    "base_model.trainable = False\n",
    "inputs = tf.keras.Input(shape=(224,224,3))\n",
    "x = base_model(inputs, training=False)\n",
    "x = tf.keras.layers.GlobalAveragePooling2D()(x)\n",
    "outputs = tf.keras.layers.Dense(2, activation=\"softmax\")(x)\n",
    "model = tf.keras.Model(inputs, outputs)\n",
    "model.summary()\n",
    "model.compile(loss=tf.keras.losses.SparseCategoricalCrossentropy(from_logits=False), optimizer=tf.keras.optimizers.Adam(learning_rate=0.0001), metrics\n",
    "              =[\"accuracy\"])"
   ]
  },
  {
   "cell_type": "code",
   "execution_count": 6,
   "id": "95848e27",
   "metadata": {
    "execution": {
     "iopub.execute_input": "2024-04-29T19:43:58.427554Z",
     "iopub.status.busy": "2024-04-29T19:43:58.426952Z",
     "iopub.status.idle": "2024-04-29T19:43:58.432798Z",
     "shell.execute_reply": "2024-04-29T19:43:58.432019Z"
    },
    "id": "16BJGzvDJTpb",
    "outputId": "067bb365-7dbc-4180-9a45-aab325929e40",
    "papermill": {
     "duration": 0.020203,
     "end_time": "2024-04-29T19:43:58.434714",
     "exception": false,
     "start_time": "2024-04-29T19:43:58.414511",
     "status": "completed"
    },
    "tags": []
   },
   "outputs": [
    {
     "data": {
      "text/plain": [
       "187"
      ]
     },
     "execution_count": 6,
     "metadata": {},
     "output_type": "execute_result"
    }
   ],
   "source": [
    "len(model.layers[1].layers)"
   ]
  },
  {
   "cell_type": "code",
   "execution_count": 7,
   "id": "c7389c28",
   "metadata": {
    "execution": {
     "iopub.execute_input": "2024-04-29T19:43:58.459107Z",
     "iopub.status.busy": "2024-04-29T19:43:58.458840Z",
     "iopub.status.idle": "2024-04-29T19:47:13.804977Z",
     "shell.execute_reply": "2024-04-29T19:47:13.804155Z"
    },
    "id": "9KbLcJsnGCmZ",
    "outputId": "17f275a0-dba1-44ac-c340-82d865528066",
    "papermill": {
     "duration": 195.360718,
     "end_time": "2024-04-29T19:47:13.807173",
     "exception": false,
     "start_time": "2024-04-29T19:43:58.446455",
     "status": "completed"
    },
    "tags": []
   },
   "outputs": [
    {
     "name": "stdout",
     "output_type": "stream",
     "text": [
      "Found 8000 images belonging to 2 classes.\n",
      "Found 4000 images belonging to 2 classes.\n",
      "Found 4000 images belonging to 2 classes.\n",
      "Found 8000 images belonging to 2 classes.\n"
     ]
    }
   ],
   "source": [
    "tr_set, te_set, v_set, pr_set = datagen(tf.keras.applications.mobilenet_v3.preprocess_input)"
   ]
  },
  {
   "cell_type": "code",
   "execution_count": 8,
   "id": "bf6626b3",
   "metadata": {
    "execution": {
     "iopub.execute_input": "2024-04-29T19:47:13.831955Z",
     "iopub.status.busy": "2024-04-29T19:47:13.831656Z",
     "iopub.status.idle": "2024-04-29T23:15:44.205031Z",
     "shell.execute_reply": "2024-04-29T23:15:44.204002Z"
    },
    "id": "sO8GdihAePEe",
    "outputId": "5b044fd2-b58f-43ad-bfae-794e803cb3ac",
    "papermill": {
     "duration": 12510.939742,
     "end_time": "2024-04-29T23:15:44.758696",
     "exception": false,
     "start_time": "2024-04-29T19:47:13.818954",
     "status": "completed"
    },
    "tags": []
   },
   "outputs": [
    {
     "name": "stdout",
     "output_type": "stream",
     "text": [
      "Epoch 1/100\n"
     ]
    },
    {
     "name": "stderr",
     "output_type": "stream",
     "text": [
      "/opt/conda/lib/python3.10/site-packages/keras/src/trainers/data_adapters/py_dataset_adapter.py:122: UserWarning:\n",
      "\n",
      "Your `PyDataset` class should call `super().__init__(**kwargs)` in its constructor. `**kwargs` can include `workers`, `use_multiprocessing`, `max_queue_size`. Do not pass these arguments to `fit()`, as they will be ignored.\n",
      "\n"
     ]
    },
    {
     "name": "stdout",
     "output_type": "stream",
     "text": [
      "\u001b[1m 1/63\u001b[0m \u001b[37m━━━━━━━━━━━━━━━━━━━━\u001b[0m \u001b[1m45:03\u001b[0m 44s/step - accuracy: 0.4375 - loss: 0.7844"
     ]
    },
    {
     "name": "stderr",
     "output_type": "stream",
     "text": [
      "WARNING: All log messages before absl::InitializeLog() is called are written to STDERR\n",
      "I0000 00:00:1714420079.790549      89 device_compiler.h:186] Compiled cluster using XLA!  This line is logged at most once for the lifetime of the process.\n",
      "W0000 00:00:1714420079.832692      89 graph_launch.cc:671] Fallback to op-by-op mode because memset node breaks graph update\n"
     ]
    },
    {
     "name": "stdout",
     "output_type": "stream",
     "text": [
      "\u001b[1m51/63\u001b[0m \u001b[32m━━━━━━━━━━━━━━━━\u001b[0m\u001b[37m━━━━\u001b[0m \u001b[1m31s\u001b[0m 3s/step - accuracy: 0.5500 - loss: 0.7357"
     ]
    },
    {
     "name": "stderr",
     "output_type": "stream",
     "text": [
      "W0000 00:00:1714420212.059785      87 graph_launch.cc:671] Fallback to op-by-op mode because memset node breaks graph update\n"
     ]
    },
    {
     "name": "stdout",
     "output_type": "stream",
     "text": [
      "\u001b[1m63/63\u001b[0m \u001b[32m━━━━━━━━━━━━━━━━━━━━\u001b[0m\u001b[37m\u001b[0m \u001b[1m0s\u001b[0m 2s/step - accuracy: 0.5568 - loss: 0.7291"
     ]
    },
    {
     "name": "stderr",
     "output_type": "stream",
     "text": [
      "W0000 00:00:1714420228.672524      87 graph_launch.cc:671] Fallback to op-by-op mode because memset node breaks graph update\n",
      "W0000 00:00:1714420265.214941      87 graph_launch.cc:671] Fallback to op-by-op mode because memset node breaks graph update\n"
     ]
    },
    {
     "name": "stdout",
     "output_type": "stream",
     "text": [
      "\u001b[1m63/63\u001b[0m \u001b[32m━━━━━━━━━━━━━━━━━━━━\u001b[0m\u001b[37m\u001b[0m \u001b[1m229s\u001b[0m 3s/step - accuracy: 0.5573 - loss: 0.7286 - val_accuracy: 0.6635 - val_loss: 0.6178 - learning_rate: 1.0000e-04\n",
      "Epoch 2/100\n",
      "\u001b[1m63/63\u001b[0m \u001b[32m━━━━━━━━━━━━━━━━━━━━\u001b[0m\u001b[37m\u001b[0m \u001b[1m124s\u001b[0m 2s/step - accuracy: 0.6545 - loss: 0.6262 - val_accuracy: 0.7350 - val_loss: 0.5432 - learning_rate: 1.0000e-04\n",
      "Epoch 3/100\n",
      "\u001b[1m63/63\u001b[0m \u001b[32m━━━━━━━━━━━━━━━━━━━━\u001b[0m\u001b[37m\u001b[0m \u001b[1m126s\u001b[0m 2s/step - accuracy: 0.7078 - loss: 0.5642 - val_accuracy: 0.7630 - val_loss: 0.4982 - learning_rate: 1.0000e-04\n",
      "Epoch 4/100\n",
      "\u001b[1m63/63\u001b[0m \u001b[32m━━━━━━━━━━━━━━━━━━━━\u001b[0m\u001b[37m\u001b[0m \u001b[1m126s\u001b[0m 2s/step - accuracy: 0.7421 - loss: 0.5270 - val_accuracy: 0.7840 - val_loss: 0.4665 - learning_rate: 1.0000e-04\n",
      "Epoch 5/100\n",
      "\u001b[1m63/63\u001b[0m \u001b[32m━━━━━━━━━━━━━━━━━━━━\u001b[0m\u001b[37m\u001b[0m \u001b[1m125s\u001b[0m 2s/step - accuracy: 0.7570 - loss: 0.5056 - val_accuracy: 0.8015 - val_loss: 0.4418 - learning_rate: 1.0000e-04\n",
      "Epoch 6/100\n",
      "\u001b[1m63/63\u001b[0m \u001b[32m━━━━━━━━━━━━━━━━━━━━\u001b[0m\u001b[37m\u001b[0m \u001b[1m125s\u001b[0m 2s/step - accuracy: 0.7718 - loss: 0.4774 - val_accuracy: 0.8115 - val_loss: 0.4231 - learning_rate: 1.0000e-04\n",
      "Epoch 7/100\n",
      "\u001b[1m63/63\u001b[0m \u001b[32m━━━━━━━━━━━━━━━━━━━━\u001b[0m\u001b[37m\u001b[0m \u001b[1m125s\u001b[0m 2s/step - accuracy: 0.7855 - loss: 0.4665 - val_accuracy: 0.8202 - val_loss: 0.4076 - learning_rate: 1.0000e-04\n",
      "Epoch 8/100\n",
      "\u001b[1m63/63\u001b[0m \u001b[32m━━━━━━━━━━━━━━━━━━━━\u001b[0m\u001b[37m\u001b[0m \u001b[1m124s\u001b[0m 2s/step - accuracy: 0.7993 - loss: 0.4439 - val_accuracy: 0.8273 - val_loss: 0.3960 - learning_rate: 1.0000e-04\n",
      "Epoch 9/100\n",
      "\u001b[1m63/63\u001b[0m \u001b[32m━━━━━━━━━━━━━━━━━━━━\u001b[0m\u001b[37m\u001b[0m \u001b[1m124s\u001b[0m 2s/step - accuracy: 0.7906 - loss: 0.4429 - val_accuracy: 0.8335 - val_loss: 0.3868 - learning_rate: 1.0000e-04\n",
      "Epoch 10/100\n",
      "\u001b[1m63/63\u001b[0m \u001b[32m━━━━━━━━━━━━━━━━━━━━\u001b[0m\u001b[37m\u001b[0m \u001b[1m124s\u001b[0m 2s/step - accuracy: 0.7990 - loss: 0.4343 - val_accuracy: 0.8342 - val_loss: 0.3793 - learning_rate: 1.0000e-04\n",
      "Epoch 11/100\n",
      "\u001b[1m63/63\u001b[0m \u001b[32m━━━━━━━━━━━━━━━━━━━━\u001b[0m\u001b[37m\u001b[0m \u001b[1m125s\u001b[0m 2s/step - accuracy: 0.8022 - loss: 0.4279 - val_accuracy: 0.8400 - val_loss: 0.3707 - learning_rate: 1.0000e-04\n",
      "Epoch 12/100\n",
      "\u001b[1m63/63\u001b[0m \u001b[32m━━━━━━━━━━━━━━━━━━━━\u001b[0m\u001b[37m\u001b[0m \u001b[1m124s\u001b[0m 2s/step - accuracy: 0.8059 - loss: 0.4193 - val_accuracy: 0.8420 - val_loss: 0.3647 - learning_rate: 1.0000e-04\n",
      "Epoch 13/100\n",
      "\u001b[1m63/63\u001b[0m \u001b[32m━━━━━━━━━━━━━━━━━━━━\u001b[0m\u001b[37m\u001b[0m \u001b[1m125s\u001b[0m 2s/step - accuracy: 0.8166 - loss: 0.4092 - val_accuracy: 0.8462 - val_loss: 0.3574 - learning_rate: 1.0000e-04\n",
      "Epoch 14/100\n",
      "\u001b[1m63/63\u001b[0m \u001b[32m━━━━━━━━━━━━━━━━━━━━\u001b[0m\u001b[37m\u001b[0m \u001b[1m123s\u001b[0m 2s/step - accuracy: 0.8213 - loss: 0.4036 - val_accuracy: 0.8512 - val_loss: 0.3527 - learning_rate: 1.0000e-04\n",
      "Epoch 15/100\n",
      "\u001b[1m63/63\u001b[0m \u001b[32m━━━━━━━━━━━━━━━━━━━━\u001b[0m\u001b[37m\u001b[0m \u001b[1m123s\u001b[0m 2s/step - accuracy: 0.8303 - loss: 0.3968 - val_accuracy: 0.8543 - val_loss: 0.3474 - learning_rate: 1.0000e-04\n",
      "Epoch 16/100\n",
      "\u001b[1m63/63\u001b[0m \u001b[32m━━━━━━━━━━━━━━━━━━━━\u001b[0m\u001b[37m\u001b[0m \u001b[1m123s\u001b[0m 2s/step - accuracy: 0.8288 - loss: 0.3921 - val_accuracy: 0.8555 - val_loss: 0.3424 - learning_rate: 1.0000e-04\n",
      "Epoch 17/100\n",
      "\u001b[1m63/63\u001b[0m \u001b[32m━━━━━━━━━━━━━━━━━━━━\u001b[0m\u001b[37m\u001b[0m \u001b[1m124s\u001b[0m 2s/step - accuracy: 0.8279 - loss: 0.3877 - val_accuracy: 0.8562 - val_loss: 0.3380 - learning_rate: 1.0000e-04\n",
      "Epoch 18/100\n",
      "\u001b[1m63/63\u001b[0m \u001b[32m━━━━━━━━━━━━━━━━━━━━\u001b[0m\u001b[37m\u001b[0m \u001b[1m125s\u001b[0m 2s/step - accuracy: 0.8327 - loss: 0.3779 - val_accuracy: 0.8593 - val_loss: 0.3346 - learning_rate: 1.0000e-04\n",
      "Epoch 19/100\n",
      "\u001b[1m63/63\u001b[0m \u001b[32m━━━━━━━━━━━━━━━━━━━━\u001b[0m\u001b[37m\u001b[0m \u001b[1m125s\u001b[0m 2s/step - accuracy: 0.8444 - loss: 0.3707 - val_accuracy: 0.8602 - val_loss: 0.3307 - learning_rate: 1.0000e-04\n",
      "Epoch 20/100\n",
      "\u001b[1m63/63\u001b[0m \u001b[32m━━━━━━━━━━━━━━━━━━━━\u001b[0m\u001b[37m\u001b[0m \u001b[1m124s\u001b[0m 2s/step - accuracy: 0.8376 - loss: 0.3744 - val_accuracy: 0.8610 - val_loss: 0.3281 - learning_rate: 1.0000e-04\n",
      "Epoch 21/100\n",
      "\u001b[1m63/63\u001b[0m \u001b[32m━━━━━━━━━━━━━━━━━━━━\u001b[0m\u001b[37m\u001b[0m \u001b[1m124s\u001b[0m 2s/step - accuracy: 0.8341 - loss: 0.3768 - val_accuracy: 0.8618 - val_loss: 0.3264 - learning_rate: 1.0000e-04\n",
      "Epoch 22/100\n",
      "\u001b[1m63/63\u001b[0m \u001b[32m━━━━━━━━━━━━━━━━━━━━\u001b[0m\u001b[37m\u001b[0m \u001b[1m123s\u001b[0m 2s/step - accuracy: 0.8428 - loss: 0.3720 - val_accuracy: 0.8630 - val_loss: 0.3221 - learning_rate: 1.0000e-04\n",
      "Epoch 23/100\n",
      "\u001b[1m63/63\u001b[0m \u001b[32m━━━━━━━━━━━━━━━━━━━━\u001b[0m\u001b[37m\u001b[0m \u001b[1m124s\u001b[0m 2s/step - accuracy: 0.8352 - loss: 0.3733 - val_accuracy: 0.8630 - val_loss: 0.3203 - learning_rate: 1.0000e-04\n",
      "Epoch 24/100\n",
      "\u001b[1m63/63\u001b[0m \u001b[32m━━━━━━━━━━━━━━━━━━━━\u001b[0m\u001b[37m\u001b[0m \u001b[1m123s\u001b[0m 2s/step - accuracy: 0.8420 - loss: 0.3641 - val_accuracy: 0.8658 - val_loss: 0.3182 - learning_rate: 1.0000e-04\n",
      "Epoch 25/100\n",
      "\u001b[1m63/63\u001b[0m \u001b[32m━━━━━━━━━━━━━━━━━━━━\u001b[0m\u001b[37m\u001b[0m \u001b[1m124s\u001b[0m 2s/step - accuracy: 0.8362 - loss: 0.3697 - val_accuracy: 0.8655 - val_loss: 0.3159 - learning_rate: 1.0000e-04\n",
      "Epoch 26/100\n",
      "\u001b[1m63/63\u001b[0m \u001b[32m━━━━━━━━━━━━━━━━━━━━\u001b[0m\u001b[37m\u001b[0m \u001b[1m124s\u001b[0m 2s/step - accuracy: 0.8414 - loss: 0.3654 - val_accuracy: 0.8673 - val_loss: 0.3125 - learning_rate: 1.0000e-04\n",
      "Epoch 27/100\n",
      "\u001b[1m63/63\u001b[0m \u001b[32m━━━━━━━━━━━━━━━━━━━━\u001b[0m\u001b[37m\u001b[0m \u001b[1m123s\u001b[0m 2s/step - accuracy: 0.8401 - loss: 0.3614 - val_accuracy: 0.8690 - val_loss: 0.3114 - learning_rate: 1.0000e-04\n",
      "Epoch 28/100\n",
      "\u001b[1m63/63\u001b[0m \u001b[32m━━━━━━━━━━━━━━━━━━━━\u001b[0m\u001b[37m\u001b[0m \u001b[1m123s\u001b[0m 2s/step - accuracy: 0.8430 - loss: 0.3550 - val_accuracy: 0.8698 - val_loss: 0.3101 - learning_rate: 1.0000e-04\n",
      "Epoch 29/100\n",
      "\u001b[1m63/63\u001b[0m \u001b[32m━━━━━━━━━━━━━━━━━━━━\u001b[0m\u001b[37m\u001b[0m \u001b[1m123s\u001b[0m 2s/step - accuracy: 0.8438 - loss: 0.3542 - val_accuracy: 0.8715 - val_loss: 0.3065 - learning_rate: 1.0000e-04\n",
      "Epoch 30/100\n",
      "\u001b[1m63/63\u001b[0m \u001b[32m━━━━━━━━━━━━━━━━━━━━\u001b[0m\u001b[37m\u001b[0m \u001b[1m123s\u001b[0m 2s/step - accuracy: 0.8457 - loss: 0.3581 - val_accuracy: 0.8712 - val_loss: 0.3055 - learning_rate: 1.0000e-04\n",
      "Epoch 31/100\n",
      "\u001b[1m63/63\u001b[0m \u001b[32m━━━━━━━━━━━━━━━━━━━━\u001b[0m\u001b[37m\u001b[0m \u001b[1m122s\u001b[0m 2s/step - accuracy: 0.8481 - loss: 0.3526 - val_accuracy: 0.8720 - val_loss: 0.3043 - learning_rate: 1.0000e-04\n",
      "Epoch 32/100\n",
      "\u001b[1m63/63\u001b[0m \u001b[32m━━━━━━━━━━━━━━━━━━━━\u001b[0m\u001b[37m\u001b[0m \u001b[1m123s\u001b[0m 2s/step - accuracy: 0.8560 - loss: 0.3414 - val_accuracy: 0.8695 - val_loss: 0.3041 - learning_rate: 1.0000e-04\n",
      "Epoch 33/100\n",
      "\u001b[1m63/63\u001b[0m \u001b[32m━━━━━━━━━━━━━━━━━━━━\u001b[0m\u001b[37m\u001b[0m \u001b[1m123s\u001b[0m 2s/step - accuracy: 0.8453 - loss: 0.3541 - val_accuracy: 0.8727 - val_loss: 0.3006 - learning_rate: 1.0000e-04\n",
      "Epoch 34/100\n",
      "\u001b[1m63/63\u001b[0m \u001b[32m━━━━━━━━━━━━━━━━━━━━\u001b[0m\u001b[37m\u001b[0m \u001b[1m123s\u001b[0m 2s/step - accuracy: 0.8527 - loss: 0.3436 - val_accuracy: 0.8720 - val_loss: 0.3005 - learning_rate: 1.0000e-04\n",
      "Epoch 35/100\n",
      "\u001b[1m63/63\u001b[0m \u001b[32m━━━━━━━━━━━━━━━━━━━━\u001b[0m\u001b[37m\u001b[0m \u001b[1m123s\u001b[0m 2s/step - accuracy: 0.8442 - loss: 0.3465 - val_accuracy: 0.8750 - val_loss: 0.2989 - learning_rate: 1.0000e-04\n",
      "Epoch 36/100\n",
      "\u001b[1m63/63\u001b[0m \u001b[32m━━━━━━━━━━━━━━━━━━━━\u001b[0m\u001b[37m\u001b[0m \u001b[1m123s\u001b[0m 2s/step - accuracy: 0.8463 - loss: 0.3510 - val_accuracy: 0.8725 - val_loss: 0.2999 - learning_rate: 1.0000e-04\n",
      "Epoch 37/100\n",
      "\u001b[1m63/63\u001b[0m \u001b[32m━━━━━━━━━━━━━━━━━━━━\u001b[0m\u001b[37m\u001b[0m \u001b[1m123s\u001b[0m 2s/step - accuracy: 0.8475 - loss: 0.3484 - val_accuracy: 0.8752 - val_loss: 0.2979 - learning_rate: 1.0000e-04\n",
      "Epoch 38/100\n",
      "\u001b[1m63/63\u001b[0m \u001b[32m━━━━━━━━━━━━━━━━━━━━\u001b[0m\u001b[37m\u001b[0m \u001b[1m124s\u001b[0m 2s/step - accuracy: 0.8517 - loss: 0.3377 - val_accuracy: 0.8760 - val_loss: 0.2953 - learning_rate: 1.0000e-04\n",
      "Epoch 39/100\n",
      "\u001b[1m63/63\u001b[0m \u001b[32m━━━━━━━━━━━━━━━━━━━━\u001b[0m\u001b[37m\u001b[0m \u001b[1m124s\u001b[0m 2s/step - accuracy: 0.8530 - loss: 0.3398 - val_accuracy: 0.8740 - val_loss: 0.2982 - learning_rate: 1.0000e-04\n",
      "Epoch 40/100\n",
      "\u001b[1m63/63\u001b[0m \u001b[32m━━━━━━━━━━━━━━━━━━━━\u001b[0m\u001b[37m\u001b[0m \u001b[1m124s\u001b[0m 2s/step - accuracy: 0.8403 - loss: 0.3508 - val_accuracy: 0.8770 - val_loss: 0.2931 - learning_rate: 1.0000e-04\n",
      "Epoch 41/100\n",
      "\u001b[1m63/63\u001b[0m \u001b[32m━━━━━━━━━━━━━━━━━━━━\u001b[0m\u001b[37m\u001b[0m \u001b[1m124s\u001b[0m 2s/step - accuracy: 0.8584 - loss: 0.3387 - val_accuracy: 0.8777 - val_loss: 0.2920 - learning_rate: 1.0000e-04\n",
      "Epoch 42/100\n",
      "\u001b[1m63/63\u001b[0m \u001b[32m━━━━━━━━━━━━━━━━━━━━\u001b[0m\u001b[37m\u001b[0m \u001b[1m123s\u001b[0m 2s/step - accuracy: 0.8556 - loss: 0.3369 - val_accuracy: 0.8763 - val_loss: 0.2932 - learning_rate: 1.0000e-04\n",
      "Epoch 43/100\n",
      "\u001b[1m63/63\u001b[0m \u001b[32m━━━━━━━━━━━━━━━━━━━━\u001b[0m\u001b[37m\u001b[0m \u001b[1m123s\u001b[0m 2s/step - accuracy: 0.8526 - loss: 0.3342 - val_accuracy: 0.8777 - val_loss: 0.2896 - learning_rate: 1.0000e-04\n",
      "Epoch 44/100\n",
      "\u001b[1m63/63\u001b[0m \u001b[32m━━━━━━━━━━━━━━━━━━━━\u001b[0m\u001b[37m\u001b[0m \u001b[1m124s\u001b[0m 2s/step - accuracy: 0.8633 - loss: 0.3264 - val_accuracy: 0.8785 - val_loss: 0.2887 - learning_rate: 1.0000e-04\n",
      "Epoch 45/100\n",
      "\u001b[1m63/63\u001b[0m \u001b[32m━━━━━━━━━━━━━━━━━━━━\u001b[0m\u001b[37m\u001b[0m \u001b[1m123s\u001b[0m 2s/step - accuracy: 0.8553 - loss: 0.3372 - val_accuracy: 0.8800 - val_loss: 0.2880 - learning_rate: 1.0000e-04\n",
      "Epoch 46/100\n",
      "\u001b[1m63/63\u001b[0m \u001b[32m━━━━━━━━━━━━━━━━━━━━\u001b[0m\u001b[37m\u001b[0m \u001b[1m124s\u001b[0m 2s/step - accuracy: 0.8615 - loss: 0.3345 - val_accuracy: 0.8808 - val_loss: 0.2875 - learning_rate: 1.0000e-04\n",
      "Epoch 47/100\n",
      "\u001b[1m63/63\u001b[0m \u001b[32m━━━━━━━━━━━━━━━━━━━━\u001b[0m\u001b[37m\u001b[0m \u001b[1m124s\u001b[0m 2s/step - accuracy: 0.8588 - loss: 0.3298 - val_accuracy: 0.8810 - val_loss: 0.2866 - learning_rate: 1.0000e-04\n",
      "Epoch 48/100\n",
      "\u001b[1m63/63\u001b[0m \u001b[32m━━━━━━━━━━━━━━━━━━━━\u001b[0m\u001b[37m\u001b[0m \u001b[1m124s\u001b[0m 2s/step - accuracy: 0.8523 - loss: 0.3406 - val_accuracy: 0.8805 - val_loss: 0.2864 - learning_rate: 1.0000e-04\n",
      "Epoch 49/100\n",
      "\u001b[1m63/63\u001b[0m \u001b[32m━━━━━━━━━━━━━━━━━━━━\u001b[0m\u001b[37m\u001b[0m \u001b[1m124s\u001b[0m 2s/step - accuracy: 0.8523 - loss: 0.3345 - val_accuracy: 0.8785 - val_loss: 0.2880 - learning_rate: 1.0000e-04\n",
      "Epoch 50/100\n",
      "\u001b[1m63/63\u001b[0m \u001b[32m━━━━━━━━━━━━━━━━━━━━\u001b[0m\u001b[37m\u001b[0m \u001b[1m125s\u001b[0m 2s/step - accuracy: 0.8522 - loss: 0.3374 - val_accuracy: 0.8805 - val_loss: 0.2859 - learning_rate: 1.0000e-04\n",
      "Epoch 51/100\n",
      "\u001b[1m63/63\u001b[0m \u001b[32m━━━━━━━━━━━━━━━━━━━━\u001b[0m\u001b[37m\u001b[0m \u001b[1m125s\u001b[0m 2s/step - accuracy: 0.8581 - loss: 0.3260 - val_accuracy: 0.8815 - val_loss: 0.2850 - learning_rate: 1.0000e-04\n",
      "Epoch 52/100\n",
      "\u001b[1m63/63\u001b[0m \u001b[32m━━━━━━━━━━━━━━━━━━━━\u001b[0m\u001b[37m\u001b[0m \u001b[1m124s\u001b[0m 2s/step - accuracy: 0.8567 - loss: 0.3324 - val_accuracy: 0.8792 - val_loss: 0.2866 - learning_rate: 1.0000e-04\n",
      "Epoch 53/100\n",
      "\u001b[1m63/63\u001b[0m \u001b[32m━━━━━━━━━━━━━━━━━━━━\u001b[0m\u001b[37m\u001b[0m \u001b[1m124s\u001b[0m 2s/step - accuracy: 0.8607 - loss: 0.3264 - val_accuracy: 0.8815 - val_loss: 0.2842 - learning_rate: 1.0000e-04\n",
      "Epoch 54/100\n",
      "\u001b[1m63/63\u001b[0m \u001b[32m━━━━━━━━━━━━━━━━━━━━\u001b[0m\u001b[37m\u001b[0m \u001b[1m124s\u001b[0m 2s/step - accuracy: 0.8610 - loss: 0.3261 - val_accuracy: 0.8820 - val_loss: 0.2839 - learning_rate: 1.0000e-04\n",
      "Epoch 55/100\n",
      "\u001b[1m63/63\u001b[0m \u001b[32m━━━━━━━━━━━━━━━━━━━━\u001b[0m\u001b[37m\u001b[0m \u001b[1m124s\u001b[0m 2s/step - accuracy: 0.8521 - loss: 0.3287 - val_accuracy: 0.8820 - val_loss: 0.2833 - learning_rate: 1.0000e-04\n",
      "Epoch 56/100\n",
      "\u001b[1m63/63\u001b[0m \u001b[32m━━━━━━━━━━━━━━━━━━━━\u001b[0m\u001b[37m\u001b[0m \u001b[1m123s\u001b[0m 2s/step - accuracy: 0.8540 - loss: 0.3279 - val_accuracy: 0.8795 - val_loss: 0.2811 - learning_rate: 1.0000e-04\n",
      "Epoch 57/100\n",
      "\u001b[1m63/63\u001b[0m \u001b[32m━━━━━━━━━━━━━━━━━━━━\u001b[0m\u001b[37m\u001b[0m \u001b[1m124s\u001b[0m 2s/step - accuracy: 0.8557 - loss: 0.3289 - val_accuracy: 0.8817 - val_loss: 0.2846 - learning_rate: 1.0000e-04\n",
      "Epoch 58/100\n",
      "\u001b[1m63/63\u001b[0m \u001b[32m━━━━━━━━━━━━━━━━━━━━\u001b[0m\u001b[37m\u001b[0m \u001b[1m123s\u001b[0m 2s/step - accuracy: 0.8637 - loss: 0.3164 - val_accuracy: 0.8810 - val_loss: 0.2808 - learning_rate: 1.0000e-04\n",
      "Epoch 59/100\n",
      "\u001b[1m63/63\u001b[0m \u001b[32m━━━━━━━━━━━━━━━━━━━━\u001b[0m\u001b[37m\u001b[0m \u001b[1m124s\u001b[0m 2s/step - accuracy: 0.8538 - loss: 0.3314 - val_accuracy: 0.8815 - val_loss: 0.2797 - learning_rate: 1.0000e-04\n",
      "Epoch 60/100\n",
      "\u001b[1m63/63\u001b[0m \u001b[32m━━━━━━━━━━━━━━━━━━━━\u001b[0m\u001b[37m\u001b[0m \u001b[1m123s\u001b[0m 2s/step - accuracy: 0.8691 - loss: 0.3162 - val_accuracy: 0.8815 - val_loss: 0.2808 - learning_rate: 1.0000e-04\n",
      "Epoch 61/100\n",
      "\u001b[1m63/63\u001b[0m \u001b[32m━━━━━━━━━━━━━━━━━━━━\u001b[0m\u001b[37m\u001b[0m \u001b[1m123s\u001b[0m 2s/step - accuracy: 0.8649 - loss: 0.3181 - val_accuracy: 0.8792 - val_loss: 0.2784 - learning_rate: 1.0000e-04\n",
      "Epoch 62/100\n",
      "\u001b[1m63/63\u001b[0m \u001b[32m━━━━━━━━━━━━━━━━━━━━\u001b[0m\u001b[37m\u001b[0m \u001b[1m122s\u001b[0m 2s/step - accuracy: 0.8565 - loss: 0.3313 - val_accuracy: 0.8808 - val_loss: 0.2789 - learning_rate: 1.0000e-04\n",
      "Epoch 63/100\n",
      "\u001b[1m63/63\u001b[0m \u001b[32m━━━━━━━━━━━━━━━━━━━━\u001b[0m\u001b[37m\u001b[0m \u001b[1m123s\u001b[0m 2s/step - accuracy: 0.8612 - loss: 0.3230 - val_accuracy: 0.8808 - val_loss: 0.2793 - learning_rate: 1.0000e-04\n",
      "Epoch 64/100\n",
      "\u001b[1m63/63\u001b[0m \u001b[32m━━━━━━━━━━━━━━━━━━━━\u001b[0m\u001b[37m\u001b[0m \u001b[1m123s\u001b[0m 2s/step - accuracy: 0.8650 - loss: 0.3167 - val_accuracy: 0.8820 - val_loss: 0.2795 - learning_rate: 1.0000e-04\n",
      "Epoch 65/100\n",
      "\u001b[1m63/63\u001b[0m \u001b[32m━━━━━━━━━━━━━━━━━━━━\u001b[0m\u001b[37m\u001b[0m \u001b[1m123s\u001b[0m 2s/step - accuracy: 0.8632 - loss: 0.3150 - val_accuracy: 0.8825 - val_loss: 0.2781 - learning_rate: 1.0000e-04\n",
      "Epoch 66/100\n",
      "\u001b[1m63/63\u001b[0m \u001b[32m━━━━━━━━━━━━━━━━━━━━\u001b[0m\u001b[37m\u001b[0m \u001b[1m127s\u001b[0m 2s/step - accuracy: 0.8615 - loss: 0.3189 - val_accuracy: 0.8835 - val_loss: 0.2802 - learning_rate: 1.0000e-04\n",
      "Epoch 67/100\n",
      "\u001b[1m63/63\u001b[0m \u001b[32m━━━━━━━━━━━━━━━━━━━━\u001b[0m\u001b[37m\u001b[0m \u001b[1m124s\u001b[0m 2s/step - accuracy: 0.8625 - loss: 0.3248 - val_accuracy: 0.8810 - val_loss: 0.2768 - learning_rate: 1.0000e-04\n",
      "Epoch 68/100\n",
      "\u001b[1m63/63\u001b[0m \u001b[32m━━━━━━━━━━━━━━━━━━━━\u001b[0m\u001b[37m\u001b[0m \u001b[1m123s\u001b[0m 2s/step - accuracy: 0.8652 - loss: 0.3154 - val_accuracy: 0.8835 - val_loss: 0.2783 - learning_rate: 1.0000e-04\n",
      "Epoch 69/100\n",
      "\u001b[1m63/63\u001b[0m \u001b[32m━━━━━━━━━━━━━━━━━━━━\u001b[0m\u001b[37m\u001b[0m \u001b[1m124s\u001b[0m 2s/step - accuracy: 0.8646 - loss: 0.3197 - val_accuracy: 0.8835 - val_loss: 0.2773 - learning_rate: 1.0000e-04\n",
      "Epoch 70/100\n",
      "\u001b[1m63/63\u001b[0m \u001b[32m━━━━━━━━━━━━━━━━━━━━\u001b[0m\u001b[37m\u001b[0m \u001b[1m125s\u001b[0m 2s/step - accuracy: 0.8595 - loss: 0.3188 - val_accuracy: 0.8832 - val_loss: 0.2769 - learning_rate: 1.0000e-04\n",
      "Epoch 71/100\n",
      "\u001b[1m63/63\u001b[0m \u001b[32m━━━━━━━━━━━━━━━━━━━━\u001b[0m\u001b[37m\u001b[0m \u001b[1m123s\u001b[0m 2s/step - accuracy: 0.8679 - loss: 0.3157 - val_accuracy: 0.8823 - val_loss: 0.2757 - learning_rate: 1.0000e-04\n",
      "Epoch 72/100\n",
      "\u001b[1m63/63\u001b[0m \u001b[32m━━━━━━━━━━━━━━━━━━━━\u001b[0m\u001b[37m\u001b[0m \u001b[1m124s\u001b[0m 2s/step - accuracy: 0.8700 - loss: 0.3075 - val_accuracy: 0.8838 - val_loss: 0.2781 - learning_rate: 1.0000e-04\n",
      "Epoch 73/100\n",
      "\u001b[1m63/63\u001b[0m \u001b[32m━━━━━━━━━━━━━━━━━━━━\u001b[0m\u001b[37m\u001b[0m \u001b[1m124s\u001b[0m 2s/step - accuracy: 0.8615 - loss: 0.3200 - val_accuracy: 0.8830 - val_loss: 0.2756 - learning_rate: 1.0000e-04\n",
      "Epoch 74/100\n",
      "\u001b[1m63/63\u001b[0m \u001b[32m━━━━━━━━━━━━━━━━━━━━\u001b[0m\u001b[37m\u001b[0m \u001b[1m124s\u001b[0m 2s/step - accuracy: 0.8643 - loss: 0.3134 - val_accuracy: 0.8827 - val_loss: 0.2744 - learning_rate: 1.0000e-04\n",
      "Epoch 75/100\n",
      "\u001b[1m63/63\u001b[0m \u001b[32m━━━━━━━━━━━━━━━━━━━━\u001b[0m\u001b[37m\u001b[0m \u001b[1m123s\u001b[0m 2s/step - accuracy: 0.8630 - loss: 0.3214 - val_accuracy: 0.8852 - val_loss: 0.2741 - learning_rate: 1.0000e-04\n",
      "Epoch 76/100\n",
      "\u001b[1m63/63\u001b[0m \u001b[32m━━━━━━━━━━━━━━━━━━━━\u001b[0m\u001b[37m\u001b[0m \u001b[1m124s\u001b[0m 2s/step - accuracy: 0.8711 - loss: 0.3096 - val_accuracy: 0.8838 - val_loss: 0.2749 - learning_rate: 1.0000e-04\n",
      "Epoch 77/100\n",
      "\u001b[1m63/63\u001b[0m \u001b[32m━━━━━━━━━━━━━━━━━━━━\u001b[0m\u001b[37m\u001b[0m \u001b[1m123s\u001b[0m 2s/step - accuracy: 0.8627 - loss: 0.3141 - val_accuracy: 0.8835 - val_loss: 0.2762 - learning_rate: 1.0000e-04\n",
      "Epoch 78/100\n",
      "\u001b[1m63/63\u001b[0m \u001b[32m━━━━━━━━━━━━━━━━━━━━\u001b[0m\u001b[37m\u001b[0m \u001b[1m123s\u001b[0m 2s/step - accuracy: 0.8690 - loss: 0.3102 - val_accuracy: 0.8827 - val_loss: 0.2733 - learning_rate: 1.0000e-04\n",
      "Epoch 79/100\n",
      "\u001b[1m63/63\u001b[0m \u001b[32m━━━━━━━━━━━━━━━━━━━━\u001b[0m\u001b[37m\u001b[0m \u001b[1m123s\u001b[0m 2s/step - accuracy: 0.8646 - loss: 0.3161 - val_accuracy: 0.8850 - val_loss: 0.2739 - learning_rate: 1.0000e-04\n",
      "Epoch 80/100\n",
      "\u001b[1m63/63\u001b[0m \u001b[32m━━━━━━━━━━━━━━━━━━━━\u001b[0m\u001b[37m\u001b[0m \u001b[1m126s\u001b[0m 2s/step - accuracy: 0.8746 - loss: 0.3077 - val_accuracy: 0.8845 - val_loss: 0.2744 - learning_rate: 1.0000e-04\n",
      "Epoch 81/100\n",
      "\u001b[1m63/63\u001b[0m \u001b[32m━━━━━━━━━━━━━━━━━━━━\u001b[0m\u001b[37m\u001b[0m \u001b[1m123s\u001b[0m 2s/step - accuracy: 0.8562 - loss: 0.3194 - val_accuracy: 0.8855 - val_loss: 0.2727 - learning_rate: 1.0000e-04\n",
      "Epoch 82/100\n",
      "\u001b[1m63/63\u001b[0m \u001b[32m━━━━━━━━━━━━━━━━━━━━\u001b[0m\u001b[37m\u001b[0m \u001b[1m124s\u001b[0m 2s/step - accuracy: 0.8723 - loss: 0.3084 - val_accuracy: 0.8863 - val_loss: 0.2726 - learning_rate: 1.0000e-04\n",
      "Epoch 83/100\n",
      "\u001b[1m63/63\u001b[0m \u001b[32m━━━━━━━━━━━━━━━━━━━━\u001b[0m\u001b[37m\u001b[0m \u001b[1m124s\u001b[0m 2s/step - accuracy: 0.8699 - loss: 0.3065 - val_accuracy: 0.8857 - val_loss: 0.2729 - learning_rate: 1.0000e-04\n",
      "Epoch 84/100\n",
      "\u001b[1m63/63\u001b[0m \u001b[32m━━━━━━━━━━━━━━━━━━━━\u001b[0m\u001b[37m\u001b[0m \u001b[1m123s\u001b[0m 2s/step - accuracy: 0.8623 - loss: 0.3190 - val_accuracy: 0.8860 - val_loss: 0.2737 - learning_rate: 1.0000e-04\n",
      "Epoch 85/100\n",
      "\u001b[1m63/63\u001b[0m \u001b[32m━━━━━━━━━━━━━━━━━━━━\u001b[0m\u001b[37m\u001b[0m \u001b[1m123s\u001b[0m 2s/step - accuracy: 0.8653 - loss: 0.3162 - val_accuracy: 0.8860 - val_loss: 0.2713 - learning_rate: 1.0000e-04\n",
      "Epoch 86/100\n",
      "\u001b[1m63/63\u001b[0m \u001b[32m━━━━━━━━━━━━━━━━━━━━\u001b[0m\u001b[37m\u001b[0m \u001b[1m124s\u001b[0m 2s/step - accuracy: 0.8695 - loss: 0.3016 - val_accuracy: 0.8863 - val_loss: 0.2742 - learning_rate: 1.0000e-04\n",
      "Epoch 87/100\n",
      "\u001b[1m63/63\u001b[0m \u001b[32m━━━━━━━━━━━━━━━━━━━━\u001b[0m\u001b[37m\u001b[0m \u001b[1m124s\u001b[0m 2s/step - accuracy: 0.8653 - loss: 0.3162 - val_accuracy: 0.8865 - val_loss: 0.2698 - learning_rate: 1.0000e-04\n",
      "Epoch 88/100\n",
      "\u001b[1m63/63\u001b[0m \u001b[32m━━━━━━━━━━━━━━━━━━━━\u001b[0m\u001b[37m\u001b[0m \u001b[1m123s\u001b[0m 2s/step - accuracy: 0.8622 - loss: 0.3115 - val_accuracy: 0.8865 - val_loss: 0.2721 - learning_rate: 1.0000e-04\n",
      "Epoch 89/100\n",
      "\u001b[1m63/63\u001b[0m \u001b[32m━━━━━━━━━━━━━━━━━━━━\u001b[0m\u001b[37m\u001b[0m \u001b[1m125s\u001b[0m 2s/step - accuracy: 0.8669 - loss: 0.3111 - val_accuracy: 0.8857 - val_loss: 0.2696 - learning_rate: 1.0000e-04\n",
      "Epoch 90/100\n",
      "\u001b[1m63/63\u001b[0m \u001b[32m━━━━━━━━━━━━━━━━━━━━\u001b[0m\u001b[37m\u001b[0m \u001b[1m125s\u001b[0m 2s/step - accuracy: 0.8663 - loss: 0.3040 - val_accuracy: 0.8865 - val_loss: 0.2708 - learning_rate: 1.0000e-04\n",
      "Epoch 91/100\n",
      "\u001b[1m63/63\u001b[0m \u001b[32m━━━━━━━━━━━━━━━━━━━━\u001b[0m\u001b[37m\u001b[0m \u001b[1m129s\u001b[0m 2s/step - accuracy: 0.8581 - loss: 0.3192 - val_accuracy: 0.8860 - val_loss: 0.2714 - learning_rate: 1.0000e-04\n",
      "Epoch 92/100\n",
      "\u001b[1m63/63\u001b[0m \u001b[32m━━━━━━━━━━━━━━━━━━━━\u001b[0m\u001b[37m\u001b[0m \u001b[1m129s\u001b[0m 2s/step - accuracy: 0.8689 - loss: 0.3124 - val_accuracy: 0.8857 - val_loss: 0.2701 - learning_rate: 1.0000e-04\n",
      "Epoch 93/100\n",
      "\u001b[1m63/63\u001b[0m \u001b[32m━━━━━━━━━━━━━━━━━━━━\u001b[0m\u001b[37m\u001b[0m \u001b[1m126s\u001b[0m 2s/step - accuracy: 0.8694 - loss: 0.3019 - val_accuracy: 0.8863 - val_loss: 0.2719 - learning_rate: 1.0000e-04\n",
      "Epoch 94/100\n",
      "\u001b[1m63/63\u001b[0m \u001b[32m━━━━━━━━━━━━━━━━━━━━\u001b[0m\u001b[37m\u001b[0m \u001b[1m124s\u001b[0m 2s/step - accuracy: 0.8672 - loss: 0.3122 - val_accuracy: 0.8863 - val_loss: 0.2697 - learning_rate: 1.0000e-04\n",
      "Epoch 95/100\n",
      "\u001b[1m63/63\u001b[0m \u001b[32m━━━━━━━━━━━━━━━━━━━━\u001b[0m\u001b[37m\u001b[0m \u001b[1m124s\u001b[0m 2s/step - accuracy: 0.8691 - loss: 0.3119 - val_accuracy: 0.8870 - val_loss: 0.2709 - learning_rate: 1.0000e-04\n",
      "Epoch 96/100\n",
      "\u001b[1m63/63\u001b[0m \u001b[32m━━━━━━━━━━━━━━━━━━━━\u001b[0m\u001b[37m\u001b[0m \u001b[1m125s\u001b[0m 2s/step - accuracy: 0.8728 - loss: 0.3046 - val_accuracy: 0.8865 - val_loss: 0.2704 - learning_rate: 1.0000e-04\n",
      "Epoch 97/100\n",
      "\u001b[1m63/63\u001b[0m \u001b[32m━━━━━━━━━━━━━━━━━━━━\u001b[0m\u001b[37m\u001b[0m \u001b[1m124s\u001b[0m 2s/step - accuracy: 0.8782 - loss: 0.2968 - val_accuracy: 0.8870 - val_loss: 0.2703 - learning_rate: 1.0000e-04\n",
      "Epoch 98/100\n",
      "\u001b[1m63/63\u001b[0m \u001b[32m━━━━━━━━━━━━━━━━━━━━\u001b[0m\u001b[37m\u001b[0m \u001b[1m125s\u001b[0m 2s/step - accuracy: 0.8598 - loss: 0.3144 - val_accuracy: 0.8860 - val_loss: 0.2694 - learning_rate: 1.0000e-04\n",
      "Epoch 99/100\n",
      "\u001b[1m63/63\u001b[0m \u001b[32m━━━━━━━━━━━━━━━━━━━━\u001b[0m\u001b[37m\u001b[0m \u001b[1m126s\u001b[0m 2s/step - accuracy: 0.8732 - loss: 0.3016 - val_accuracy: 0.8863 - val_loss: 0.2683 - learning_rate: 1.0000e-04\n",
      "Epoch 100/100\n",
      "\u001b[1m63/63\u001b[0m \u001b[32m━━━━━━━━━━━━━━━━━━━━\u001b[0m\u001b[37m\u001b[0m \u001b[1m129s\u001b[0m 2s/step - accuracy: 0.8765 - loss: 0.3003 - val_accuracy: 0.8857 - val_loss: 0.2675 - learning_rate: 1.0000e-04\n",
      "Restoring model weights from the end of the best epoch: 100.\n"
     ]
    }
   ],
   "source": [
    "# callback and fit\n",
    "early_stopping_callbacks = [tf.keras.callbacks.EarlyStopping(monitor = 'val_loss', patience = 10, restore_best_weights = True, verbose = 1),\n",
    "                            tf.keras.callbacks.ReduceLROnPlateau(paitence = 10, monitor = 'val_loss', min_lr = 0.00001)]\n",
    "\n",
    "history = model.fit(tr_set, epochs = 100, validation_data = v_set, callbacks = early_stopping_callbacks)"
   ]
  },
  {
   "cell_type": "code",
   "execution_count": 9,
   "id": "6830119c",
   "metadata": {
    "execution": {
     "iopub.execute_input": "2024-04-29T23:15:45.914911Z",
     "iopub.status.busy": "2024-04-29T23:15:45.914485Z",
     "iopub.status.idle": "2024-04-29T23:15:46.488601Z",
     "shell.execute_reply": "2024-04-29T23:15:46.487660Z"
    },
    "id": "aT97vDrB66EQ",
    "papermill": {
     "duration": 1.135103,
     "end_time": "2024-04-29T23:15:46.490699",
     "exception": false,
     "start_time": "2024-04-29T23:15:45.355596",
     "status": "completed"
    },
    "tags": []
   },
   "outputs": [
    {
     "data": {
      "image/png": "[encoded data removed]",
      "text/plain": [
       "<Figure size 640x480 with 1 Axes>"
      ]
     },
     "metadata": {},
     "output_type": "display_data"
    },
    {
     "data": {
      "image/png": "[encoded data removed]",
      "text/plain": [
       "<Figure size 640x480 with 1 Axes>"
      ]
     },
     "metadata": {},
     "output_type": "display_data"
    }
   ],
   "source": [
    "# loss curve\n",
    "\n",
    "l = np.concatenate([history.history['loss']])\n",
    "acc = np.concatenate([history.history['accuracy']])\n",
    "lv = np.concatenate([history.history['val_loss']])\n",
    "accv = np.concatenate([history.history['val_accuracy']])\n",
    "\n",
    "plt.plot(l, label=\"Loss\")\n",
    "plt.plot(acc, label=\"Accuracy\")\n",
    "plt.legend()\n",
    "plt.show()\n",
    "plt.plot(lv, label=\"Val_Loss\")\n",
    "plt.plot(accv, label=\"Val_Accuracy\")\n",
    "plt.legend()\n",
    "plt.show()"
   ]
  },
  {
   "cell_type": "code",
   "execution_count": 10,
   "id": "a0f080fd",
   "metadata": {
    "execution": {
     "iopub.execute_input": "2024-04-29T23:15:47.602811Z",
     "iopub.status.busy": "2024-04-29T23:15:47.602445Z",
     "iopub.status.idle": "2024-04-29T23:15:48.279626Z",
     "shell.execute_reply": "2024-04-29T23:15:48.278608Z"
    },
    "papermill": {
     "duration": 1.221659,
     "end_time": "2024-04-29T23:15:48.281975",
     "exception": false,
     "start_time": "2024-04-29T23:15:47.060316",
     "status": "completed"
    },
    "tags": []
   },
   "outputs": [],
   "source": [
    "model.save(\"mobilenetv3_pretrain_2.keras\")"
   ]
  },
  {
   "cell_type": "code",
   "execution_count": 11,
   "id": "78736d5a",
   "metadata": {
    "execution": {
     "iopub.execute_input": "2024-04-29T23:15:49.441739Z",
     "iopub.status.busy": "2024-04-29T23:15:49.441371Z",
     "iopub.status.idle": "2024-04-30T00:49:33.062015Z",
     "shell.execute_reply": "2024-04-30T00:49:33.060953Z"
    },
    "id": "jYjmoez2eSuv",
    "papermill": {
     "duration": 5624.243568,
     "end_time": "2024-04-30T00:49:33.064346",
     "exception": false,
     "start_time": "2024-04-29T23:15:48.820778",
     "status": "completed"
    },
    "tags": []
   },
   "outputs": [
    {
     "name": "stdout",
     "output_type": "stream",
     "text": [
      "Epoch 1/50\n",
      "\u001b[1m 1/63\u001b[0m \u001b[37m━━━━━━━━━━━━━━━━━━━━\u001b[0m \u001b[1m31:40\u001b[0m 31s/step - accuracy: 0.6562 - loss: 0.9717"
     ]
    },
    {
     "name": "stderr",
     "output_type": "stream",
     "text": [
      "W0000 00:00:1714432581.951919      90 graph_launch.cc:671] Fallback to op-by-op mode because memset node breaks graph update\n"
     ]
    },
    {
     "name": "stdout",
     "output_type": "stream",
     "text": [
      "\u001b[1m 6/63\u001b[0m \u001b[32m━\u001b[0m\u001b[37m━━━━━━━━━━━━━━━━━━━\u001b[0m \u001b[1m2:12\u001b[0m 2s/step - accuracy: 0.6388 - loss: 1.0850"
     ]
    },
    {
     "name": "stderr",
     "output_type": "stream",
     "text": [
      "W0000 00:00:1714432593.501874      88 graph_launch.cc:671] Fallback to op-by-op mode because memset node breaks graph update\n"
     ]
    },
    {
     "name": "stdout",
     "output_type": "stream",
     "text": [
      "\u001b[1m63/63\u001b[0m \u001b[32m━━━━━━━━━━━━━━━━━━━━\u001b[0m\u001b[37m\u001b[0m \u001b[1m0s\u001b[0m 2s/step - accuracy: 0.6659 - loss: 0.9606"
     ]
    },
    {
     "name": "stderr",
     "output_type": "stream",
     "text": [
      "W0000 00:00:1714432687.751669      90 graph_launch.cc:671] Fallback to op-by-op mode because memset node breaks graph update\n"
     ]
    },
    {
     "name": "stdout",
     "output_type": "stream",
     "text": [
      "\u001b[1m63/63\u001b[0m \u001b[32m━━━━━━━━━━━━━━━━━━━━\u001b[0m\u001b[37m\u001b[0m \u001b[1m171s\u001b[0m 2s/step - accuracy: 0.6664 - loss: 0.9581 - val_accuracy: 0.8815 - val_loss: 0.2772\n",
      "Epoch 2/50\n"
     ]
    },
    {
     "name": "stderr",
     "output_type": "stream",
     "text": [
      "W0000 00:00:1714432721.892121      90 graph_launch.cc:671] Fallback to op-by-op mode because memset node breaks graph update\n"
     ]
    },
    {
     "name": "stdout",
     "output_type": "stream",
     "text": [
      "\u001b[1m63/63\u001b[0m \u001b[32m━━━━━━━━━━━━━━━━━━━━\u001b[0m\u001b[37m\u001b[0m \u001b[1m124s\u001b[0m 2s/step - accuracy: 0.7768 - loss: 0.5170 - val_accuracy: 0.8735 - val_loss: 0.2853\n",
      "Epoch 3/50\n",
      "\u001b[1m63/63\u001b[0m \u001b[32m━━━━━━━━━━━━━━━━━━━━\u001b[0m\u001b[37m\u001b[0m \u001b[1m124s\u001b[0m 2s/step - accuracy: 0.8229 - loss: 0.4126 - val_accuracy: 0.8700 - val_loss: 0.2926\n",
      "Epoch 4/50\n",
      "\u001b[1m63/63\u001b[0m \u001b[32m━━━━━━━━━━━━━━━━━━━━\u001b[0m\u001b[37m\u001b[0m \u001b[1m123s\u001b[0m 2s/step - accuracy: 0.8377 - loss: 0.3651 - val_accuracy: 0.8645 - val_loss: 0.2993\n",
      "Epoch 5/50\n",
      "\u001b[1m63/63\u001b[0m \u001b[32m━━━━━━━━━━━━━━━━━━━━\u001b[0m\u001b[37m\u001b[0m \u001b[1m124s\u001b[0m 2s/step - accuracy: 0.8493 - loss: 0.3402 - val_accuracy: 0.8668 - val_loss: 0.2992\n",
      "Epoch 6/50\n",
      "\u001b[1m63/63\u001b[0m \u001b[32m━━━━━━━━━━━━━━━━━━━━\u001b[0m\u001b[37m\u001b[0m \u001b[1m124s\u001b[0m 2s/step - accuracy: 0.8452 - loss: 0.3488 - val_accuracy: 0.8685 - val_loss: 0.2961\n",
      "Epoch 7/50\n",
      "\u001b[1m63/63\u001b[0m \u001b[32m━━━━━━━━━━━━━━━━━━━━\u001b[0m\u001b[37m\u001b[0m \u001b[1m123s\u001b[0m 2s/step - accuracy: 0.8585 - loss: 0.3242 - val_accuracy: 0.8673 - val_loss: 0.2970\n",
      "Epoch 8/50\n",
      "\u001b[1m63/63\u001b[0m \u001b[32m━━━━━━━━━━━━━━━━━━━━\u001b[0m\u001b[37m\u001b[0m \u001b[1m124s\u001b[0m 2s/step - accuracy: 0.8646 - loss: 0.3157 - val_accuracy: 0.8690 - val_loss: 0.2917\n",
      "Epoch 9/50\n",
      "\u001b[1m63/63\u001b[0m \u001b[32m━━━━━━━━━━━━━━━━━━━━\u001b[0m\u001b[37m\u001b[0m \u001b[1m124s\u001b[0m 2s/step - accuracy: 0.8594 - loss: 0.3221 - val_accuracy: 0.8685 - val_loss: 0.2873\n",
      "Epoch 10/50\n",
      "\u001b[1m63/63\u001b[0m \u001b[32m━━━━━━━━━━━━━━━━━━━━\u001b[0m\u001b[37m\u001b[0m \u001b[1m123s\u001b[0m 2s/step - accuracy: 0.8660 - loss: 0.3238 - val_accuracy: 0.8730 - val_loss: 0.2798\n",
      "Epoch 11/50\n",
      "\u001b[1m63/63\u001b[0m \u001b[32m━━━━━━━━━━━━━━━━━━━━\u001b[0m\u001b[37m\u001b[0m \u001b[1m124s\u001b[0m 2s/step - accuracy: 0.8671 - loss: 0.3195 - val_accuracy: 0.8752 - val_loss: 0.2766\n",
      "Epoch 12/50\n",
      "\u001b[1m63/63\u001b[0m \u001b[32m━━━━━━━━━━━━━━━━━━━━\u001b[0m\u001b[37m\u001b[0m \u001b[1m123s\u001b[0m 2s/step - accuracy: 0.8756 - loss: 0.2919 - val_accuracy: 0.8798 - val_loss: 0.2716\n",
      "Epoch 13/50\n",
      "\u001b[1m63/63\u001b[0m \u001b[32m━━━━━━━━━━━━━━━━━━━━\u001b[0m\u001b[37m\u001b[0m \u001b[1m124s\u001b[0m 2s/step - accuracy: 0.8694 - loss: 0.3111 - val_accuracy: 0.8838 - val_loss: 0.2660\n",
      "Epoch 14/50\n",
      "\u001b[1m63/63\u001b[0m \u001b[32m━━━━━━━━━━━━━━━━━━━━\u001b[0m\u001b[37m\u001b[0m \u001b[1m125s\u001b[0m 2s/step - accuracy: 0.8732 - loss: 0.2902 - val_accuracy: 0.8865 - val_loss: 0.2619\n",
      "Epoch 15/50\n",
      "\u001b[1m63/63\u001b[0m \u001b[32m━━━━━━━━━━━━━━━━━━━━\u001b[0m\u001b[37m\u001b[0m \u001b[1m124s\u001b[0m 2s/step - accuracy: 0.8685 - loss: 0.3056 - val_accuracy: 0.8885 - val_loss: 0.2579\n",
      "Epoch 16/50\n",
      "\u001b[1m63/63\u001b[0m \u001b[32m━━━━━━━━━━━━━━━━━━━━\u001b[0m\u001b[37m\u001b[0m \u001b[1m124s\u001b[0m 2s/step - accuracy: 0.8739 - loss: 0.3009 - val_accuracy: 0.8888 - val_loss: 0.2544\n",
      "Epoch 17/50\n",
      "\u001b[1m63/63\u001b[0m \u001b[32m━━━━━━━━━━━━━━━━━━━━\u001b[0m\u001b[37m\u001b[0m \u001b[1m123s\u001b[0m 2s/step - accuracy: 0.8837 - loss: 0.2730 - val_accuracy: 0.8898 - val_loss: 0.2527\n",
      "Epoch 18/50\n",
      "\u001b[1m63/63\u001b[0m \u001b[32m━━━━━━━━━━━━━━━━━━━━\u001b[0m\u001b[37m\u001b[0m \u001b[1m123s\u001b[0m 2s/step - accuracy: 0.8847 - loss: 0.2662 - val_accuracy: 0.8925 - val_loss: 0.2500\n",
      "Epoch 19/50\n",
      "\u001b[1m63/63\u001b[0m \u001b[32m━━━━━━━━━━━━━━━━━━━━\u001b[0m\u001b[37m\u001b[0m \u001b[1m124s\u001b[0m 2s/step - accuracy: 0.8795 - loss: 0.2914 - val_accuracy: 0.8923 - val_loss: 0.2460\n",
      "Epoch 20/50\n",
      "\u001b[1m63/63\u001b[0m \u001b[32m━━━━━━━━━━━━━━━━━━━━\u001b[0m\u001b[37m\u001b[0m \u001b[1m124s\u001b[0m 2s/step - accuracy: 0.8810 - loss: 0.2808 - val_accuracy: 0.8935 - val_loss: 0.2428\n",
      "Epoch 21/50\n",
      "\u001b[1m63/63\u001b[0m \u001b[32m━━━━━━━━━━━━━━━━━━━━\u001b[0m\u001b[37m\u001b[0m \u001b[1m124s\u001b[0m 2s/step - accuracy: 0.8786 - loss: 0.2862 - val_accuracy: 0.8940 - val_loss: 0.2416\n",
      "Epoch 22/50\n",
      "\u001b[1m63/63\u001b[0m \u001b[32m━━━━━━━━━━━━━━━━━━━━\u001b[0m\u001b[37m\u001b[0m \u001b[1m123s\u001b[0m 2s/step - accuracy: 0.8800 - loss: 0.2925 - val_accuracy: 0.8940 - val_loss: 0.2396\n",
      "Epoch 23/50\n",
      "\u001b[1m63/63\u001b[0m \u001b[32m━━━━━━━━━━━━━━━━━━━━\u001b[0m\u001b[37m\u001b[0m \u001b[1m124s\u001b[0m 2s/step - accuracy: 0.8947 - loss: 0.2520 - val_accuracy: 0.8953 - val_loss: 0.2399\n",
      "Epoch 24/50\n",
      "\u001b[1m63/63\u001b[0m \u001b[32m━━━━━━━━━━━━━━━━━━━━\u001b[0m\u001b[37m\u001b[0m \u001b[1m123s\u001b[0m 2s/step - accuracy: 0.8906 - loss: 0.2574 - val_accuracy: 0.8960 - val_loss: 0.2394\n",
      "Epoch 25/50\n",
      "\u001b[1m63/63\u001b[0m \u001b[32m━━━━━━━━━━━━━━━━━━━━\u001b[0m\u001b[37m\u001b[0m \u001b[1m124s\u001b[0m 2s/step - accuracy: 0.8927 - loss: 0.2615 - val_accuracy: 0.8970 - val_loss: 0.2378\n",
      "Epoch 26/50\n",
      "\u001b[1m63/63\u001b[0m \u001b[32m━━━━━━━━━━━━━━━━━━━━\u001b[0m\u001b[37m\u001b[0m \u001b[1m123s\u001b[0m 2s/step - accuracy: 0.8874 - loss: 0.2593 - val_accuracy: 0.8967 - val_loss: 0.2359\n",
      "Epoch 27/50\n",
      "\u001b[1m63/63\u001b[0m \u001b[32m━━━━━━━━━━━━━━━━━━━━\u001b[0m\u001b[37m\u001b[0m \u001b[1m123s\u001b[0m 2s/step - accuracy: 0.8920 - loss: 0.2564 - val_accuracy: 0.8960 - val_loss: 0.2376\n",
      "Epoch 28/50\n",
      "\u001b[1m63/63\u001b[0m \u001b[32m━━━━━━━━━━━━━━━━━━━━\u001b[0m\u001b[37m\u001b[0m \u001b[1m124s\u001b[0m 2s/step - accuracy: 0.8925 - loss: 0.2569 - val_accuracy: 0.8980 - val_loss: 0.2355\n",
      "Epoch 29/50\n",
      "\u001b[1m63/63\u001b[0m \u001b[32m━━━━━━━━━━━━━━━━━━━━\u001b[0m\u001b[37m\u001b[0m \u001b[1m123s\u001b[0m 2s/step - accuracy: 0.8858 - loss: 0.2682 - val_accuracy: 0.8980 - val_loss: 0.2344\n",
      "Epoch 30/50\n",
      "\u001b[1m63/63\u001b[0m \u001b[32m━━━━━━━━━━━━━━━━━━━━\u001b[0m\u001b[37m\u001b[0m \u001b[1m124s\u001b[0m 2s/step - accuracy: 0.8929 - loss: 0.2501 - val_accuracy: 0.8970 - val_loss: 0.2360\n",
      "Epoch 31/50\n",
      "\u001b[1m63/63\u001b[0m \u001b[32m━━━━━━━━━━━━━━━━━━━━\u001b[0m\u001b[37m\u001b[0m \u001b[1m123s\u001b[0m 2s/step - accuracy: 0.8974 - loss: 0.2407 - val_accuracy: 0.8997 - val_loss: 0.2349\n",
      "Epoch 32/50\n",
      "\u001b[1m63/63\u001b[0m \u001b[32m━━━━━━━━━━━━━━━━━━━━\u001b[0m\u001b[37m\u001b[0m \u001b[1m125s\u001b[0m 2s/step - accuracy: 0.8931 - loss: 0.2543 - val_accuracy: 0.9010 - val_loss: 0.2339\n",
      "Epoch 33/50\n",
      "\u001b[1m63/63\u001b[0m \u001b[32m━━━━━━━━━━━━━━━━━━━━\u001b[0m\u001b[37m\u001b[0m \u001b[1m124s\u001b[0m 2s/step - accuracy: 0.8969 - loss: 0.2460 - val_accuracy: 0.9013 - val_loss: 0.2345\n",
      "Epoch 34/50\n",
      "\u001b[1m63/63\u001b[0m \u001b[32m━━━━━━━━━━━━━━━━━━━━\u001b[0m\u001b[37m\u001b[0m \u001b[1m124s\u001b[0m 2s/step - accuracy: 0.9008 - loss: 0.2371 - val_accuracy: 0.9005 - val_loss: 0.2342\n",
      "Epoch 35/50\n",
      "\u001b[1m63/63\u001b[0m \u001b[32m━━━━━━━━━━━━━━━━━━━━\u001b[0m\u001b[37m\u001b[0m \u001b[1m124s\u001b[0m 2s/step - accuracy: 0.9005 - loss: 0.2456 - val_accuracy: 0.9032 - val_loss: 0.2317\n",
      "Epoch 36/50\n",
      "\u001b[1m63/63\u001b[0m \u001b[32m━━━━━━━━━━━━━━━━━━━━\u001b[0m\u001b[37m\u001b[0m \u001b[1m124s\u001b[0m 2s/step - accuracy: 0.9037 - loss: 0.2345 - val_accuracy: 0.9043 - val_loss: 0.2322\n",
      "Epoch 37/50\n",
      "\u001b[1m63/63\u001b[0m \u001b[32m━━━━━━━━━━━━━━━━━━━━\u001b[0m\u001b[37m\u001b[0m \u001b[1m124s\u001b[0m 2s/step - accuracy: 0.9100 - loss: 0.2201 - val_accuracy: 0.9038 - val_loss: 0.2349\n",
      "Epoch 38/50\n",
      "\u001b[1m63/63\u001b[0m \u001b[32m━━━━━━━━━━━━━━━━━━━━\u001b[0m\u001b[37m\u001b[0m \u001b[1m124s\u001b[0m 2s/step - accuracy: 0.8976 - loss: 0.2433 - val_accuracy: 0.9038 - val_loss: 0.2341\n",
      "Epoch 39/50\n",
      "\u001b[1m63/63\u001b[0m \u001b[32m━━━━━━━━━━━━━━━━━━━━\u001b[0m\u001b[37m\u001b[0m \u001b[1m124s\u001b[0m 2s/step - accuracy: 0.9015 - loss: 0.2380 - val_accuracy: 0.9045 - val_loss: 0.2354\n",
      "Epoch 40/50\n",
      "\u001b[1m63/63\u001b[0m \u001b[32m━━━━━━━━━━━━━━━━━━━━\u001b[0m\u001b[37m\u001b[0m \u001b[1m124s\u001b[0m 2s/step - accuracy: 0.9009 - loss: 0.2339 - val_accuracy: 0.9057 - val_loss: 0.2330\n",
      "Epoch 41/50\n",
      "\u001b[1m63/63\u001b[0m \u001b[32m━━━━━━━━━━━━━━━━━━━━\u001b[0m\u001b[37m\u001b[0m \u001b[1m125s\u001b[0m 2s/step - accuracy: 0.9092 - loss: 0.2269 - val_accuracy: 0.9057 - val_loss: 0.2334\n",
      "Epoch 42/50\n",
      "\u001b[1m63/63\u001b[0m \u001b[32m━━━━━━━━━━━━━━━━━━━━\u001b[0m\u001b[37m\u001b[0m \u001b[1m125s\u001b[0m 2s/step - accuracy: 0.9093 - loss: 0.2285 - val_accuracy: 0.9047 - val_loss: 0.2321\n",
      "Epoch 43/50\n",
      "\u001b[1m63/63\u001b[0m \u001b[32m━━━━━━━━━━━━━━━━━━━━\u001b[0m\u001b[37m\u001b[0m \u001b[1m125s\u001b[0m 2s/step - accuracy: 0.9031 - loss: 0.2265 - val_accuracy: 0.9040 - val_loss: 0.2378\n",
      "Epoch 44/50\n",
      "\u001b[1m63/63\u001b[0m \u001b[32m━━━━━━━━━━━━━━━━━━━━\u001b[0m\u001b[37m\u001b[0m \u001b[1m125s\u001b[0m 2s/step - accuracy: 0.9077 - loss: 0.2320 - val_accuracy: 0.9038 - val_loss: 0.2397\n",
      "Epoch 45/50\n",
      "\u001b[1m63/63\u001b[0m \u001b[32m━━━━━━━━━━━━━━━━━━━━\u001b[0m\u001b[37m\u001b[0m \u001b[1m125s\u001b[0m 2s/step - accuracy: 0.8997 - loss: 0.2327 - val_accuracy: 0.9030 - val_loss: 0.2436\n",
      "Epoch 45: early stopping\n",
      "Restoring model weights from the end of the best epoch: 35.\n"
     ]
    }
   ],
   "source": [
    "# fine tune\n",
    "\n",
    "base_model = model.layers[1]\n",
    "base_model.trainable = True\n",
    "\n",
    "fine_tune_at = 160\n",
    "\n",
    "for layer in base_model.layers[:fine_tune_at]:\n",
    "  layer.trainable = False\n",
    "\n",
    "early_stopping_callbacks = tf.keras.callbacks.EarlyStopping(monitor = 'val_loss', patience = 10,restore_best_weights = True, verbose = 1)\n",
    "\n",
    "\n",
    "model.compile(loss=tf.keras.losses.SparseCategoricalCrossentropy(from_logits=False), optimizer=tf.keras.optimizers.Adam(learning_rate=0.00001), metrics\n",
    "              =[\"accuracy\"])\n",
    "\n",
    "history_ft = model.fit(tr_set, epochs = 50, validation_data = te_set, callbacks = [early_stopping_callbacks])"
   ]
  },
  {
   "cell_type": "code",
   "execution_count": 12,
   "id": "13018575",
   "metadata": {
    "execution": {
     "iopub.execute_input": "2024-04-30T00:49:34.730728Z",
     "iopub.status.busy": "2024-04-30T00:49:34.730360Z",
     "iopub.status.idle": "2024-04-30T00:49:35.183552Z",
     "shell.execute_reply": "2024-04-30T00:49:35.182589Z"
    },
    "papermill": {
     "duration": 1.333132,
     "end_time": "2024-04-30T00:49:35.185817",
     "exception": false,
     "start_time": "2024-04-30T00:49:33.852685",
     "status": "completed"
    },
    "tags": []
   },
   "outputs": [],
   "source": [
    "model.save(\"mobilenetv3_final_2.keras\")"
   ]
  },
  {
   "cell_type": "code",
   "execution_count": 13,
   "id": "45e73a28",
   "metadata": {
    "execution": {
     "iopub.execute_input": "2024-04-30T00:49:36.768788Z",
     "iopub.status.busy": "2024-04-30T00:49:36.768100Z",
     "iopub.status.idle": "2024-04-30T00:49:37.313835Z",
     "shell.execute_reply": "2024-04-30T00:49:37.312899Z"
    },
    "id": "6Hxl2YpVeiIR",
    "papermill": {
     "duration": 1.351799,
     "end_time": "2024-04-30T00:49:37.315807",
     "exception": false,
     "start_time": "2024-04-30T00:49:35.964008",
     "status": "completed"
    },
    "tags": []
   },
   "outputs": [
    {
     "data": {
      "image/png": "[encoded data removed]",
      "text/plain": [
       "<Figure size 640x480 with 1 Axes>"
      ]
     },
     "metadata": {},
     "output_type": "display_data"
    },
    {
     "data": {
      "image/png": "[encoded data removed]",
      "text/plain": [
       "<Figure size 640x480 with 1 Axes>"
      ]
     },
     "metadata": {},
     "output_type": "display_data"
    }
   ],
   "source": [
    "# loss curve\n",
    "\n",
    "l = np.concatenate([history_ft.history['loss']])\n",
    "acc = np.concatenate([history_ft.history['accuracy']])\n",
    "lv = np.concatenate([history_ft.history['val_loss']])\n",
    "accv = np.concatenate([history_ft.history['val_accuracy']])\n",
    "\n",
    "plt.plot(l, label=\"Loss\")\n",
    "plt.plot(acc, label=\"Accuracy\")\n",
    "plt.legend()\n",
    "plt.show()\n",
    "plt.plot(lv, label=\"Val_Loss\")\n",
    "plt.plot(accv, label=\"Val_Accuracy\")\n",
    "plt.legend()\n",
    "plt.show()"
   ]
  },
  {
   "cell_type": "code",
   "execution_count": 14,
   "id": "301526fe",
   "metadata": {
    "execution": {
     "iopub.execute_input": "2024-04-30T00:49:38.916296Z",
     "iopub.status.busy": "2024-04-30T00:49:38.915811Z",
     "iopub.status.idle": "2024-04-30T00:49:50.020890Z",
     "shell.execute_reply": "2024-04-30T00:49:50.019985Z"
    },
    "id": "BfRAWEEr7VO9",
    "papermill": {
     "duration": 11.923547,
     "end_time": "2024-04-30T00:49:50.023052",
     "exception": false,
     "start_time": "2024-04-30T00:49:38.099505",
     "status": "completed"
    },
    "tags": []
   },
   "outputs": [
    {
     "name": "stdout",
     "output_type": "stream",
     "text": [
      "\u001b[1m32/32\u001b[0m \u001b[32m━━━━━━━━━━━━━━━━━━━━\u001b[0m\u001b[37m\u001b[0m \u001b[1m11s\u001b[0m 332ms/step - accuracy: 0.9179 - loss: 0.1937\n"
     ]
    },
    {
     "data": {
      "text/plain": [
       "[0.23168936371803284, 0.903249979019165]"
      ]
     },
     "execution_count": 14,
     "metadata": {},
     "output_type": "execute_result"
    }
   ],
   "source": [
    "model.evaluate(te_set)"
   ]
  }
 ],
 "metadata": {
  "colab": {
   "provenance": []
  },
  "kaggle": {
   "accelerator": "nvidiaTeslaT4",
   "dataSources": [
    {
     "datasetId": 3041726,
     "sourceId": 5256696,
     "sourceType": "datasetVersion"
    }
   ],
   "dockerImageVersionId": 30666,
   "isGpuEnabled": true,
   "isInternetEnabled": true,
   "language": "python",
   "sourceType": "notebook"
  },
  "kernelspec": {
   "display_name": "Python 3",
   "language": "python",
   "name": "python3"
  },
  "language_info": {
   "codemirror_mode": {
    "name": "ipython",
    "version": 3
   },
   "file_extension": ".py",
   "mimetype": "text/x-python",
   "name": "python",
   "nbconvert_exporter": "python",
   "pygments_lexer": "ipython3",
   "version": "3.10.13"
  },
  "papermill": {
   "default_parameters": {},
   "duration": 18420.512517,
   "end_time": "2024-04-30T00:49:54.222305",
   "environment_variables": {},
   "exception": null,
   "input_path": "__notebook__.ipynb",
   "output_path": "__notebook__.ipynb",
   "parameters": {},
   "start_time": "2024-04-29T19:42:53.709788",
   "version": "2.5.0"
  }
 },
 "nbformat": 4,
 "nbformat_minor": 5
}
