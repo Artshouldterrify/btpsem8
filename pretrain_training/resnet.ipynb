{
 "cells": [
  {
   "cell_type": "code",
   "execution_count": 1,
   "id": "bbe33626",
   "metadata": {
    "execution": {
     "iopub.execute_input": "2024-03-04T05:50:24.157480Z",
     "iopub.status.busy": "2024-03-04T05:50:24.157194Z",
     "iopub.status.idle": "2024-03-04T05:50:39.632851Z",
     "shell.execute_reply": "2024-03-04T05:50:39.631777Z"
    },
    "id": "380dVmoMbVoM",
    "outputId": "3f49e613-6318-4c4d-8e0d-05bc4c90f86c",
    "papermill": {
     "duration": 15.483715,
     "end_time": "2024-03-04T05:50:39.635111",
     "exception": false,
     "start_time": "2024-03-04T05:50:24.151396",
     "status": "completed"
    },
    "tags": []
   },
   "outputs": [
    {
     "name": "stdout",
     "output_type": "stream",
     "text": [
      "Collecting mealpy==2.5.4\r\n",
      "  Downloading mealpy-2.5.4-py3-none-any.whl.metadata (92 kB)\r\n",
      "\u001b[2K     \u001b[90m━━━━━━━━━━━━━━━━━━━━━━━━━━━━━━━━━━━━━━━━\u001b[0m \u001b[32m92.0/92.0 kB\u001b[0m \u001b[31m2.3 MB/s\u001b[0m eta \u001b[36m0:00:00\u001b[0m\r\n",
      "\u001b[?25hRequirement already satisfied: numpy>=1.16.5 in /opt/conda/lib/python3.10/site-packages (from mealpy==2.5.4) (1.26.4)\r\n",
      "Requirement already satisfied: matplotlib>=3.3.0 in /opt/conda/lib/python3.10/site-packages (from mealpy==2.5.4) (3.7.5)\r\n",
      "Requirement already satisfied: scipy>=1.7.1 in /opt/conda/lib/python3.10/site-packages (from mealpy==2.5.4) (1.11.4)\r\n",
      "Requirement already satisfied: pandas>=1.2.0 in /opt/conda/lib/python3.10/site-packages (from mealpy==2.5.4) (2.1.4)\r\n",
      "Collecting opfunu>=1.0.0 (from mealpy==2.5.4)\r\n",
      "  Downloading opfunu-1.0.1-py3-none-any.whl.metadata (8.7 kB)\r\n",
      "Requirement already satisfied: contourpy>=1.0.1 in /opt/conda/lib/python3.10/site-packages (from matplotlib>=3.3.0->mealpy==2.5.4) (1.2.0)\r\n",
      "Requirement already satisfied: cycler>=0.10 in /opt/conda/lib/python3.10/site-packages (from matplotlib>=3.3.0->mealpy==2.5.4) (0.12.1)\r\n",
      "Requirement already satisfied: fonttools>=4.22.0 in /opt/conda/lib/python3.10/site-packages (from matplotlib>=3.3.0->mealpy==2.5.4) (4.47.0)\r\n",
      "Requirement already satisfied: kiwisolver>=1.0.1 in /opt/conda/lib/python3.10/site-packages (from matplotlib>=3.3.0->mealpy==2.5.4) (1.4.5)\r\n",
      "Requirement already satisfied: packaging>=20.0 in /opt/conda/lib/python3.10/site-packages (from matplotlib>=3.3.0->mealpy==2.5.4) (21.3)\r\n",
      "Requirement already satisfied: pillow>=6.2.0 in /opt/conda/lib/python3.10/site-packages (from matplotlib>=3.3.0->mealpy==2.5.4) (9.5.0)\r\n",
      "Requirement already satisfied: pyparsing>=2.3.1 in /opt/conda/lib/python3.10/site-packages (from matplotlib>=3.3.0->mealpy==2.5.4) (3.1.1)\r\n",
      "Requirement already satisfied: python-dateutil>=2.7 in /opt/conda/lib/python3.10/site-packages (from matplotlib>=3.3.0->mealpy==2.5.4) (2.8.2)\r\n",
      "Requirement already satisfied: requests>=2.27.0 in /opt/conda/lib/python3.10/site-packages (from opfunu>=1.0.0->mealpy==2.5.4) (2.31.0)\r\n",
      "Requirement already satisfied: pytz>=2020.1 in /opt/conda/lib/python3.10/site-packages (from pandas>=1.2.0->mealpy==2.5.4) (2023.3.post1)\r\n",
      "Requirement already satisfied: tzdata>=2022.1 in /opt/conda/lib/python3.10/site-packages (from pandas>=1.2.0->mealpy==2.5.4) (2023.4)\r\n",
      "Requirement already satisfied: six>=1.5 in /opt/conda/lib/python3.10/site-packages (from python-dateutil>=2.7->matplotlib>=3.3.0->mealpy==2.5.4) (1.16.0)\r\n",
      "Requirement already satisfied: charset-normalizer<4,>=2 in /opt/conda/lib/python3.10/site-packages (from requests>=2.27.0->opfunu>=1.0.0->mealpy==2.5.4) (3.3.2)\r\n",
      "Requirement already satisfied: idna<4,>=2.5 in /opt/conda/lib/python3.10/site-packages (from requests>=2.27.0->opfunu>=1.0.0->mealpy==2.5.4) (3.6)\r\n",
      "Requirement already satisfied: urllib3<3,>=1.21.1 in /opt/conda/lib/python3.10/site-packages (from requests>=2.27.0->opfunu>=1.0.0->mealpy==2.5.4) (1.26.18)\r\n",
      "Requirement already satisfied: certifi>=2017.4.17 in /opt/conda/lib/python3.10/site-packages (from requests>=2.27.0->opfunu>=1.0.0->mealpy==2.5.4) (2024.2.2)\r\n",
      "Downloading mealpy-2.5.4-py3-none-any.whl (377 kB)\r\n",
      "\u001b[2K   \u001b[90m━━━━━━━━━━━━━━━━━━━━━━━━━━━━━━━━━━━━━━━━\u001b[0m \u001b[32m378.0/378.0 kB\u001b[0m \u001b[31m10.2 MB/s\u001b[0m eta \u001b[36m0:00:00\u001b[0m\r\n",
      "\u001b[?25hDownloading opfunu-1.0.1-py3-none-any.whl (13.0 MB)\r\n",
      "\u001b[2K   \u001b[90m━━━━━━━━━━━━━━━━━━━━━━━━━━━━━━━━━━━━━━━━\u001b[0m \u001b[32m13.0/13.0 MB\u001b[0m \u001b[31m69.4 MB/s\u001b[0m eta \u001b[36m0:00:00\u001b[0m\r\n",
      "\u001b[?25hInstalling collected packages: opfunu, mealpy\r\n",
      "Successfully installed mealpy-2.5.4 opfunu-1.0.1\r\n",
      "Note: you may need to restart the kernel to use updated packages.\n"
     ]
    }
   ],
   "source": [
    "pip install mealpy==2.5.4"
   ]
  },
  {
   "cell_type": "code",
   "execution_count": 2,
   "id": "f01c8dac",
   "metadata": {
    "execution": {
     "iopub.execute_input": "2024-03-04T05:50:39.648456Z",
     "iopub.status.busy": "2024-03-04T05:50:39.648138Z",
     "iopub.status.idle": "2024-03-04T05:50:55.788298Z",
     "shell.execute_reply": "2024-03-04T05:50:55.787197Z"
    },
    "papermill": {
     "duration": 16.149214,
     "end_time": "2024-03-04T05:50:55.790416",
     "exception": false,
     "start_time": "2024-03-04T05:50:39.641202",
     "status": "completed"
    },
    "tags": []
   },
   "outputs": [
    {
     "name": "stdout",
     "output_type": "stream",
     "text": [
      "Collecting mafese==0.1.9\r\n",
      "  Downloading mafese-0.1.9-py3-none-any.whl.metadata (15 kB)\r\n",
      "Requirement already satisfied: numpy>=1.17.1 in /opt/conda/lib/python3.10/site-packages (from mafese==0.1.9) (1.26.4)\r\n",
      "Requirement already satisfied: scipy>=1.7.1 in /opt/conda/lib/python3.10/site-packages (from mafese==0.1.9) (1.11.4)\r\n",
      "Requirement already satisfied: scikit-learn>=1.0.2 in /opt/conda/lib/python3.10/site-packages (from mafese==0.1.9) (1.2.2)\r\n",
      "Requirement already satisfied: pandas>=1.3.5 in /opt/conda/lib/python3.10/site-packages (from mafese==0.1.9) (2.1.4)\r\n",
      "Requirement already satisfied: mealpy>=2.5.4 in /opt/conda/lib/python3.10/site-packages (from mafese==0.1.9) (2.5.4)\r\n",
      "Collecting permetrics>=1.4.2 (from mafese==0.1.9)\r\n",
      "  Downloading permetrics-2.0.0-py3-none-any.whl.metadata (8.7 kB)\r\n",
      "Requirement already satisfied: plotly>=5.10.0 in /opt/conda/lib/python3.10/site-packages (from mafese==0.1.9) (5.18.0)\r\n",
      "Collecting kaleido>=0.2.1 (from mafese==0.1.9)\r\n",
      "  Downloading kaleido-0.2.1-py2.py3-none-manylinux1_x86_64.whl.metadata (15 kB)\r\n",
      "Requirement already satisfied: matplotlib>=3.3.0 in /opt/conda/lib/python3.10/site-packages (from mealpy>=2.5.4->mafese==0.1.9) (3.7.5)\r\n",
      "Requirement already satisfied: opfunu>=1.0.0 in /opt/conda/lib/python3.10/site-packages (from mealpy>=2.5.4->mafese==0.1.9) (1.0.1)\r\n",
      "Requirement already satisfied: python-dateutil>=2.8.2 in /opt/conda/lib/python3.10/site-packages (from pandas>=1.3.5->mafese==0.1.9) (2.8.2)\r\n",
      "Requirement already satisfied: pytz>=2020.1 in /opt/conda/lib/python3.10/site-packages (from pandas>=1.3.5->mafese==0.1.9) (2023.3.post1)\r\n",
      "Requirement already satisfied: tzdata>=2022.1 in /opt/conda/lib/python3.10/site-packages (from pandas>=1.3.5->mafese==0.1.9) (2023.4)\r\n",
      "Requirement already satisfied: tenacity>=6.2.0 in /opt/conda/lib/python3.10/site-packages (from plotly>=5.10.0->mafese==0.1.9) (8.2.3)\r\n",
      "Requirement already satisfied: packaging in /opt/conda/lib/python3.10/site-packages (from plotly>=5.10.0->mafese==0.1.9) (21.3)\r\n",
      "Requirement already satisfied: joblib>=1.1.1 in /opt/conda/lib/python3.10/site-packages (from scikit-learn>=1.0.2->mafese==0.1.9) (1.3.2)\r\n",
      "Requirement already satisfied: threadpoolctl>=2.0.0 in /opt/conda/lib/python3.10/site-packages (from scikit-learn>=1.0.2->mafese==0.1.9) (3.2.0)\r\n",
      "Requirement already satisfied: contourpy>=1.0.1 in /opt/conda/lib/python3.10/site-packages (from matplotlib>=3.3.0->mealpy>=2.5.4->mafese==0.1.9) (1.2.0)\r\n",
      "Requirement already satisfied: cycler>=0.10 in /opt/conda/lib/python3.10/site-packages (from matplotlib>=3.3.0->mealpy>=2.5.4->mafese==0.1.9) (0.12.1)\r\n",
      "Requirement already satisfied: fonttools>=4.22.0 in /opt/conda/lib/python3.10/site-packages (from matplotlib>=3.3.0->mealpy>=2.5.4->mafese==0.1.9) (4.47.0)\r\n",
      "Requirement already satisfied: kiwisolver>=1.0.1 in /opt/conda/lib/python3.10/site-packages (from matplotlib>=3.3.0->mealpy>=2.5.4->mafese==0.1.9) (1.4.5)\r\n",
      "Requirement already satisfied: pillow>=6.2.0 in /opt/conda/lib/python3.10/site-packages (from matplotlib>=3.3.0->mealpy>=2.5.4->mafese==0.1.9) (9.5.0)\r\n",
      "Requirement already satisfied: pyparsing>=2.3.1 in /opt/conda/lib/python3.10/site-packages (from matplotlib>=3.3.0->mealpy>=2.5.4->mafese==0.1.9) (3.1.1)\r\n",
      "Requirement already satisfied: requests>=2.27.0 in /opt/conda/lib/python3.10/site-packages (from opfunu>=1.0.0->mealpy>=2.5.4->mafese==0.1.9) (2.31.0)\r\n",
      "Requirement already satisfied: six>=1.5 in /opt/conda/lib/python3.10/site-packages (from python-dateutil>=2.8.2->pandas>=1.3.5->mafese==0.1.9) (1.16.0)\r\n",
      "Requirement already satisfied: charset-normalizer<4,>=2 in /opt/conda/lib/python3.10/site-packages (from requests>=2.27.0->opfunu>=1.0.0->mealpy>=2.5.4->mafese==0.1.9) (3.3.2)\r\n",
      "Requirement already satisfied: idna<4,>=2.5 in /opt/conda/lib/python3.10/site-packages (from requests>=2.27.0->opfunu>=1.0.0->mealpy>=2.5.4->mafese==0.1.9) (3.6)\r\n",
      "Requirement already satisfied: urllib3<3,>=1.21.1 in /opt/conda/lib/python3.10/site-packages (from requests>=2.27.0->opfunu>=1.0.0->mealpy>=2.5.4->mafese==0.1.9) (1.26.18)\r\n",
      "Requirement already satisfied: certifi>=2017.4.17 in /opt/conda/lib/python3.10/site-packages (from requests>=2.27.0->opfunu>=1.0.0->mealpy>=2.5.4->mafese==0.1.9) (2024.2.2)\r\n",
      "Downloading mafese-0.1.9-py3-none-any.whl (4.2 MB)\r\n",
      "\u001b[2K   \u001b[90m━━━━━━━━━━━━━━━━━━━━━━━━━━━━━━━━━━━━━━━━\u001b[0m \u001b[32m4.2/4.2 MB\u001b[0m \u001b[31m36.8 MB/s\u001b[0m eta \u001b[36m0:00:00\u001b[0m\r\n",
      "\u001b[?25hDownloading kaleido-0.2.1-py2.py3-none-manylinux1_x86_64.whl (79.9 MB)\r\n",
      "\u001b[2K   \u001b[90m━━━━━━━━━━━━━━━━━━━━━━━━━━━━━━━━━━━━━━━━\u001b[0m \u001b[32m79.9/79.9 MB\u001b[0m \u001b[31m19.1 MB/s\u001b[0m eta \u001b[36m0:00:00\u001b[0m\r\n",
      "\u001b[?25hDownloading permetrics-2.0.0-py3-none-any.whl (52 kB)\r\n",
      "\u001b[2K   \u001b[90m━━━━━━━━━━━━━━━━━━━━━━━━━━━━━━━━━━━━━━━━\u001b[0m \u001b[32m52.6/52.6 kB\u001b[0m \u001b[31m3.7 MB/s\u001b[0m eta \u001b[36m0:00:00\u001b[0m\r\n",
      "\u001b[?25hInstalling collected packages: kaleido, permetrics, mafese\r\n",
      "Successfully installed kaleido-0.2.1 mafese-0.1.9 permetrics-2.0.0\r\n",
      "Note: you may need to restart the kernel to use updated packages.\n"
     ]
    }
   ],
   "source": [
    "pip install mafese==0.1.9"
   ]
  },
  {
   "cell_type": "code",
   "execution_count": 3,
   "id": "0b1132ce",
   "metadata": {
    "execution": {
     "iopub.execute_input": "2024-03-04T05:50:55.811208Z",
     "iopub.status.busy": "2024-03-04T05:50:55.810899Z",
     "iopub.status.idle": "2024-03-04T05:51:10.068110Z",
     "shell.execute_reply": "2024-03-04T05:51:10.066910Z"
    },
    "id": "6j4sBROet5iQ",
    "papermill": {
     "duration": 14.270151,
     "end_time": "2024-03-04T05:51:10.070991",
     "exception": false,
     "start_time": "2024-03-04T05:50:55.800840",
     "status": "completed"
    },
    "tags": []
   },
   "outputs": [
    {
     "name": "stderr",
     "output_type": "stream",
     "text": [
      "2024-03-04 05:50:57.602735: E external/local_xla/xla/stream_executor/cuda/cuda_dnn.cc:9261] Unable to register cuDNN factory: Attempting to register factory for plugin cuDNN when one has already been registered\n",
      "2024-03-04 05:50:57.602859: E external/local_xla/xla/stream_executor/cuda/cuda_fft.cc:607] Unable to register cuFFT factory: Attempting to register factory for plugin cuFFT when one has already been registered\n",
      "2024-03-04 05:50:57.737015: E external/local_xla/xla/stream_executor/cuda/cuda_blas.cc:1515] Unable to register cuBLAS factory: Attempting to register factory for plugin cuBLAS when one has already been registered\n"
     ]
    }
   ],
   "source": [
    "# imports\n",
    "\n",
    "import tensorflow as tf\n",
    "import matplotlib.pyplot as plt\n",
    "import numpy as np\n",
    "import seaborn as sns\n",
    "import mafese as mfse"
   ]
  },
  {
   "cell_type": "code",
   "execution_count": 4,
   "id": "e9086a1c",
   "metadata": {
    "execution": {
     "iopub.execute_input": "2024-03-04T05:51:10.099948Z",
     "iopub.status.busy": "2024-03-04T05:51:10.099287Z",
     "iopub.status.idle": "2024-03-04T05:51:10.112911Z",
     "shell.execute_reply": "2024-03-04T05:51:10.111922Z"
    },
    "id": "fDTRo85EuGgV",
    "papermill": {
     "duration": 0.0293,
     "end_time": "2024-03-04T05:51:10.115544",
     "exception": false,
     "start_time": "2024-03-04T05:51:10.086244",
     "status": "completed"
    },
    "tags": []
   },
   "outputs": [],
   "source": [
    "# loading the images\n",
    "train_dir = \"/kaggle/input/cifake-real-and-ai-generated-synthetic-images/train\"\n",
    "test_dir = \"/kaggle/input/cifake-real-and-ai-generated-synthetic-images/test\"\n",
    "\n",
    "# generator\n",
    "def datagen(func):\n",
    "  train_gen = tf.keras.preprocessing.image.ImageDataGenerator(\n",
    "              preprocessing_function=func,\n",
    "              horizontal_flip = True,\n",
    "              vertical_flip = True,\n",
    "              rotation_range = 0.5,\n",
    "              width_shift_range = 0.25,\n",
    "              height_shift_range = 0.25,\n",
    "              shear_range = 0.2,\n",
    "              zoom_range = 0.4,\n",
    "              validation_split = 0.92)\n",
    "\n",
    "  test_gen = tf.keras.preprocessing.image.ImageDataGenerator(\n",
    "              preprocessing_function=func,\n",
    "              validation_split = 0.8)\n",
    "\n",
    "  test_gen_2 = tf.keras.preprocessing.image.ImageDataGenerator(\n",
    "              preprocessing_function=func,\n",
    "              validation_split = 0.2)\n",
    "\n",
    "  pred_gen = tf.keras.preprocessing.image.ImageDataGenerator(\n",
    "              preprocessing_function=func,\n",
    "              validation_split = 0.92)\n",
    "\n",
    "  train_set = train_gen.flow_from_directory(train_dir, class_mode = \"binary\", batch_size = 128, target_size = (224,224), shuffle = True, subset = 'training')\n",
    "  test_set = test_gen.flow_from_directory(test_dir, class_mode = \"binary\", batch_size = 128, target_size = (224,224), shuffle = False, subset='training')\n",
    "  val_set = test_gen_2.flow_from_directory(test_dir, class_mode = \"binary\", batch_size = 128, target_size = (224,224), shuffle = False, subset='validation')\n",
    "  pred_tr_set = pred_gen.flow_from_directory(train_dir, class_mode = \"binary\", batch_size = 128, target_size = (224,224), shuffle = False, subset = 'training')\n",
    "  return train_set, test_set, val_set, pred_tr_set"
   ]
  },
  {
   "cell_type": "code",
   "execution_count": 5,
   "id": "3a745084",
   "metadata": {
    "execution": {
     "iopub.execute_input": "2024-03-04T05:51:10.141204Z",
     "iopub.status.busy": "2024-03-04T05:51:10.140791Z",
     "iopub.status.idle": "2024-03-04T05:51:23.448808Z",
     "shell.execute_reply": "2024-03-04T05:51:23.447914Z"
    },
    "id": "voerm_OwuWwO",
    "outputId": "d123e920-2be2-4402-f8a8-f6a5693b1031",
    "papermill": {
     "duration": 13.323491,
     "end_time": "2024-03-04T05:51:23.450788",
     "exception": false,
     "start_time": "2024-03-04T05:51:10.127297",
     "status": "completed"
    },
    "tags": []
   },
   "outputs": [
    {
     "name": "stdout",
     "output_type": "stream",
     "text": [
      "Downloading data from https://storage.googleapis.com/tensorflow/keras-applications/resnet/resnet152v2_weights_tf_dim_ordering_tf_kernels_notop.h5\n",
      "\u001b[1m234545216/234545216\u001b[0m \u001b[32m━━━━━━━━━━━━━━━━━━━━\u001b[0m\u001b[37m\u001b[0m \u001b[1m9s\u001b[0m 0us/step\n"
     ]
    },
    {
     "data": {
      "text/html": [
       "<pre style=\"white-space:pre;overflow-x:auto;line-height:normal;font-family:Menlo,'DejaVu Sans Mono',consolas,'Courier New',monospace\"><span style=\"font-weight: bold\">Model: \"functional_1\"</span>\n",
       "</pre>\n"
      ],
      "text/plain": [
       "\u001b[1mModel: \"functional_1\"\u001b[0m\n"
      ]
     },
     "metadata": {},
     "output_type": "display_data"
    },
    {
     "data": {
      "text/html": [
       "<pre style=\"white-space:pre;overflow-x:auto;line-height:normal;font-family:Menlo,'DejaVu Sans Mono',consolas,'Courier New',monospace\">┏━━━━━━━━━━━━━━━━━━━━━━━━━━━━━━━━━┳━━━━━━━━━━━━━━━━━━━━━━━━┳━━━━━━━━━━━━━━━┓\n",
       "┃<span style=\"font-weight: bold\"> Layer (type)                    </span>┃<span style=\"font-weight: bold\"> Output Shape           </span>┃<span style=\"font-weight: bold\">       Param # </span>┃\n",
       "┡━━━━━━━━━━━━━━━━━━━━━━━━━━━━━━━━━╇━━━━━━━━━━━━━━━━━━━━━━━━╇━━━━━━━━━━━━━━━┩\n",
       "│ input_layer_1 (<span style=\"color: #0087ff; text-decoration-color: #0087ff\">InputLayer</span>)      │ (<span style=\"color: #00d7ff; text-decoration-color: #00d7ff\">None</span>, <span style=\"color: #00af00; text-decoration-color: #00af00\">224</span>, <span style=\"color: #00af00; text-decoration-color: #00af00\">224</span>, <span style=\"color: #00af00; text-decoration-color: #00af00\">3</span>)    │             <span style=\"color: #00af00; text-decoration-color: #00af00\">0</span> │\n",
       "├─────────────────────────────────┼────────────────────────┼───────────────┤\n",
       "│ resnet152v2 (<span style=\"color: #0087ff; text-decoration-color: #0087ff\">Functional</span>)        │ (<span style=\"color: #00d7ff; text-decoration-color: #00d7ff\">None</span>, <span style=\"color: #00af00; text-decoration-color: #00af00\">7</span>, <span style=\"color: #00af00; text-decoration-color: #00af00\">7</span>, <span style=\"color: #00af00; text-decoration-color: #00af00\">2048</span>)     │    <span style=\"color: #00af00; text-decoration-color: #00af00\">58,331,648</span> │\n",
       "├─────────────────────────────────┼────────────────────────┼───────────────┤\n",
       "│ global_average_pooling2d        │ (<span style=\"color: #00d7ff; text-decoration-color: #00d7ff\">None</span>, <span style=\"color: #00af00; text-decoration-color: #00af00\">2048</span>)           │             <span style=\"color: #00af00; text-decoration-color: #00af00\">0</span> │\n",
       "│ (<span style=\"color: #0087ff; text-decoration-color: #0087ff\">GlobalAveragePooling2D</span>)        │                        │               │\n",
       "├─────────────────────────────────┼────────────────────────┼───────────────┤\n",
       "│ dense (<span style=\"color: #0087ff; text-decoration-color: #0087ff\">Dense</span>)                   │ (<span style=\"color: #00d7ff; text-decoration-color: #00d7ff\">None</span>, <span style=\"color: #00af00; text-decoration-color: #00af00\">2</span>)              │         <span style=\"color: #00af00; text-decoration-color: #00af00\">4,098</span> │\n",
       "└─────────────────────────────────┴────────────────────────┴───────────────┘\n",
       "</pre>\n"
      ],
      "text/plain": [
       "┏━━━━━━━━━━━━━━━━━━━━━━━━━━━━━━━━━┳━━━━━━━━━━━━━━━━━━━━━━━━┳━━━━━━━━━━━━━━━┓\n",
       "┃\u001b[1m \u001b[0m\u001b[1mLayer (type)                   \u001b[0m\u001b[1m \u001b[0m┃\u001b[1m \u001b[0m\u001b[1mOutput Shape          \u001b[0m\u001b[1m \u001b[0m┃\u001b[1m \u001b[0m\u001b[1m      Param #\u001b[0m\u001b[1m \u001b[0m┃\n",
       "┡━━━━━━━━━━━━━━━━━━━━━━━━━━━━━━━━━╇━━━━━━━━━━━━━━━━━━━━━━━━╇━━━━━━━━━━━━━━━┩\n",
       "│ input_layer_1 (\u001b[38;5;33mInputLayer\u001b[0m)      │ (\u001b[38;5;45mNone\u001b[0m, \u001b[38;5;34m224\u001b[0m, \u001b[38;5;34m224\u001b[0m, \u001b[38;5;34m3\u001b[0m)    │             \u001b[38;5;34m0\u001b[0m │\n",
       "├─────────────────────────────────┼────────────────────────┼───────────────┤\n",
       "│ resnet152v2 (\u001b[38;5;33mFunctional\u001b[0m)        │ (\u001b[38;5;45mNone\u001b[0m, \u001b[38;5;34m7\u001b[0m, \u001b[38;5;34m7\u001b[0m, \u001b[38;5;34m2048\u001b[0m)     │    \u001b[38;5;34m58,331,648\u001b[0m │\n",
       "├─────────────────────────────────┼────────────────────────┼───────────────┤\n",
       "│ global_average_pooling2d        │ (\u001b[38;5;45mNone\u001b[0m, \u001b[38;5;34m2048\u001b[0m)           │             \u001b[38;5;34m0\u001b[0m │\n",
       "│ (\u001b[38;5;33mGlobalAveragePooling2D\u001b[0m)        │                        │               │\n",
       "├─────────────────────────────────┼────────────────────────┼───────────────┤\n",
       "│ dense (\u001b[38;5;33mDense\u001b[0m)                   │ (\u001b[38;5;45mNone\u001b[0m, \u001b[38;5;34m2\u001b[0m)              │         \u001b[38;5;34m4,098\u001b[0m │\n",
       "└─────────────────────────────────┴────────────────────────┴───────────────┘\n"
      ]
     },
     "metadata": {},
     "output_type": "display_data"
    },
    {
     "data": {
      "text/html": [
       "<pre style=\"white-space:pre;overflow-x:auto;line-height:normal;font-family:Menlo,'DejaVu Sans Mono',consolas,'Courier New',monospace\"><span style=\"font-weight: bold\"> Total params: </span><span style=\"color: #00af00; text-decoration-color: #00af00\">58,335,746</span> (222.53 MB)\n",
       "</pre>\n"
      ],
      "text/plain": [
       "\u001b[1m Total params: \u001b[0m\u001b[38;5;34m58,335,746\u001b[0m (222.53 MB)\n"
      ]
     },
     "metadata": {},
     "output_type": "display_data"
    },
    {
     "data": {
      "text/html": [
       "<pre style=\"white-space:pre;overflow-x:auto;line-height:normal;font-family:Menlo,'DejaVu Sans Mono',consolas,'Courier New',monospace\"><span style=\"font-weight: bold\"> Trainable params: </span><span style=\"color: #00af00; text-decoration-color: #00af00\">4,098</span> (16.01 KB)\n",
       "</pre>\n"
      ],
      "text/plain": [
       "\u001b[1m Trainable params: \u001b[0m\u001b[38;5;34m4,098\u001b[0m (16.01 KB)\n"
      ]
     },
     "metadata": {},
     "output_type": "display_data"
    },
    {
     "data": {
      "text/html": [
       "<pre style=\"white-space:pre;overflow-x:auto;line-height:normal;font-family:Menlo,'DejaVu Sans Mono',consolas,'Courier New',monospace\"><span style=\"font-weight: bold\"> Non-trainable params: </span><span style=\"color: #00af00; text-decoration-color: #00af00\">58,331,648</span> (222.52 MB)\n",
       "</pre>\n"
      ],
      "text/plain": [
       "\u001b[1m Non-trainable params: \u001b[0m\u001b[38;5;34m58,331,648\u001b[0m (222.52 MB)\n"
      ]
     },
     "metadata": {},
     "output_type": "display_data"
    }
   ],
   "source": [
    "# model\n",
    "base_model = tf.keras.applications.ResNet152V2(include_top=False, weights='imagenet', input_shape=(224,224,3))\n",
    "base_model.trainable = False\n",
    "inputs = tf.keras.Input(shape=(224,224,3))\n",
    "x = base_model(inputs, training=False)\n",
    "x = tf.keras.layers.GlobalAveragePooling2D()(x)\n",
    "outputs = tf.keras.layers.Dense(2, activation=\"softmax\")(x)\n",
    "model = tf.keras.Model(inputs, outputs)\n",
    "model.summary()\n",
    "model.compile(loss=tf.keras.losses.SparseCategoricalCrossentropy(from_logits=False), optimizer=tf.keras.optimizers.Adam(learning_rate=0.0001), metrics\n",
    "              =[\"accuracy\"])"
   ]
  },
  {
   "cell_type": "code",
   "execution_count": 6,
   "id": "1d0128b4",
   "metadata": {
    "execution": {
     "iopub.execute_input": "2024-03-04T05:51:23.495151Z",
     "iopub.status.busy": "2024-03-04T05:51:23.494827Z",
     "iopub.status.idle": "2024-03-04T05:51:23.500843Z",
     "shell.execute_reply": "2024-03-04T05:51:23.500028Z"
    },
    "id": "16BJGzvDJTpb",
    "outputId": "067bb365-7dbc-4180-9a45-aab325929e40",
    "papermill": {
     "duration": 0.030463,
     "end_time": "2024-03-04T05:51:23.502708",
     "exception": false,
     "start_time": "2024-03-04T05:51:23.472245",
     "status": "completed"
    },
    "tags": []
   },
   "outputs": [
    {
     "data": {
      "text/plain": [
       "564"
      ]
     },
     "execution_count": 6,
     "metadata": {},
     "output_type": "execute_result"
    }
   ],
   "source": [
    "len(model.layers[1].layers)"
   ]
  },
  {
   "cell_type": "code",
   "execution_count": 7,
   "id": "78b6669d",
   "metadata": {
    "execution": {
     "iopub.execute_input": "2024-03-04T05:51:23.547170Z",
     "iopub.status.busy": "2024-03-04T05:51:23.546867Z",
     "iopub.status.idle": "2024-03-04T05:52:33.129753Z",
     "shell.execute_reply": "2024-03-04T05:52:33.128922Z"
    },
    "id": "9KbLcJsnGCmZ",
    "outputId": "17f275a0-dba1-44ac-c340-82d865528066",
    "papermill": {
     "duration": 69.607055,
     "end_time": "2024-03-04T05:52:33.132099",
     "exception": false,
     "start_time": "2024-03-04T05:51:23.525044",
     "status": "completed"
    },
    "tags": []
   },
   "outputs": [
    {
     "name": "stdout",
     "output_type": "stream",
     "text": [
      "Found 8000 images belonging to 2 classes.\n",
      "Found 4000 images belonging to 2 classes.\n",
      "Found 4000 images belonging to 2 classes.\n",
      "Found 8000 images belonging to 2 classes.\n"
     ]
    }
   ],
   "source": [
    "tr_set, te_set, v_set, pr_set = datagen(tf.keras.applications.resnet_v2.preprocess_input)"
   ]
  },
  {
   "cell_type": "code",
   "execution_count": 8,
   "id": "8a9739b6",
   "metadata": {
    "execution": {
     "iopub.execute_input": "2024-03-04T05:52:33.179788Z",
     "iopub.status.busy": "2024-03-04T05:52:33.179413Z",
     "iopub.status.idle": "2024-03-04T12:34:32.282411Z",
     "shell.execute_reply": "2024-03-04T12:34:32.281332Z"
    },
    "id": "sO8GdihAePEe",
    "outputId": "5b044fd2-b58f-43ad-bfae-794e803cb3ac",
    "papermill": {
     "duration": 24119.129,
     "end_time": "2024-03-04T12:34:32.284997",
     "exception": false,
     "start_time": "2024-03-04T05:52:33.155997",
     "status": "completed"
    },
    "tags": []
   },
   "outputs": [
    {
     "name": "stdout",
     "output_type": "stream",
     "text": [
      "Epoch 1/200\n"
     ]
    },
    {
     "name": "stderr",
     "output_type": "stream",
     "text": [
      "/opt/conda/lib/python3.10/site-packages/keras/src/trainers/data_adapters/py_dataset_adapter.py:122: UserWarning:\n",
      "\n",
      "Your `PyDataset` class should call `super().__init__(**kwargs)` in its constructor. `**kwargs` can include `workers`, `use_multiprocessing`, `max_queue_size`. Do not pass these arguments to `fit()`, as they will be ignored.\n",
      "\n",
      "WARNING: All log messages before absl::InitializeLog() is called are written to STDERR\n",
      "I0000 00:00:1709531610.704645      84 device_compiler.h:186] Compiled cluster using XLA!  This line is logged at most once for the lifetime of the process.\n",
      "W0000 00:00:1709531610.803056      84 graph_launch.cc:671] Fallback to op-by-op mode because memset node breaks graph update\n"
     ]
    },
    {
     "name": "stdout",
     "output_type": "stream",
     "text": [
      "\u001b[1m24/63\u001b[0m \u001b[32m━━━━━━━\u001b[0m\u001b[37m━━━━━━━━━━━━━\u001b[0m \u001b[1m1:38\u001b[0m 3s/step - accuracy: 0.5190 - loss: 0.8402"
     ]
    },
    {
     "name": "stderr",
     "output_type": "stream",
     "text": [
      "W0000 00:00:1709531668.981222      83 graph_launch.cc:671] Fallback to op-by-op mode because memset node breaks graph update\n"
     ]
    },
    {
     "name": "stdout",
     "output_type": "stream",
     "text": [
      "\u001b[1m63/63\u001b[0m \u001b[32m━━━━━━━━━━━━━━━━━━━━\u001b[0m\u001b[37m\u001b[0m \u001b[1m0s\u001b[0m 2s/step - accuracy: 0.5371 - loss: 0.8085"
     ]
    },
    {
     "name": "stderr",
     "output_type": "stream",
     "text": [
      "W0000 00:00:1709531743.290428      84 graph_launch.cc:671] Fallback to op-by-op mode because memset node breaks graph update\n",
      "W0000 00:00:1709531767.199015      84 graph_launch.cc:671] Fallback to op-by-op mode because memset node breaks graph update\n"
     ]
    },
    {
     "name": "stdout",
     "output_type": "stream",
     "text": [
      "\u001b[1m63/63\u001b[0m \u001b[32m━━━━━━━━━━━━━━━━━━━━\u001b[0m\u001b[37m\u001b[0m \u001b[1m213s\u001b[0m 3s/step - accuracy: 0.5374 - loss: 0.8080 - val_accuracy: 0.5995 - val_loss: 0.7134 - learning_rate: 1.0000e-04\n",
      "Epoch 2/200\n",
      "\u001b[1m63/63\u001b[0m \u001b[32m━━━━━━━━━━━━━━━━━━━━\u001b[0m\u001b[37m\u001b[0m \u001b[1m122s\u001b[0m 2s/step - accuracy: 0.6131 - loss: 0.6938 - val_accuracy: 0.6635 - val_loss: 0.6292 - learning_rate: 1.0000e-04\n",
      "Epoch 3/200\n",
      "\u001b[1m63/63\u001b[0m \u001b[32m━━━━━━━━━━━━━━━━━━━━\u001b[0m\u001b[37m\u001b[0m \u001b[1m120s\u001b[0m 2s/step - accuracy: 0.6748 - loss: 0.6209 - val_accuracy: 0.7042 - val_loss: 0.5762 - learning_rate: 1.0000e-04\n",
      "Epoch 4/200\n",
      "\u001b[1m63/63\u001b[0m \u001b[32m━━━━━━━━━━━━━━━━━━━━\u001b[0m\u001b[37m\u001b[0m \u001b[1m119s\u001b[0m 2s/step - accuracy: 0.7038 - loss: 0.5806 - val_accuracy: 0.7340 - val_loss: 0.5333 - learning_rate: 1.0000e-04\n",
      "Epoch 5/200\n",
      "\u001b[1m63/63\u001b[0m \u001b[32m━━━━━━━━━━━━━━━━━━━━\u001b[0m\u001b[37m\u001b[0m \u001b[1m120s\u001b[0m 2s/step - accuracy: 0.7300 - loss: 0.5358 - val_accuracy: 0.7513 - val_loss: 0.5102 - learning_rate: 1.0000e-04\n",
      "Epoch 6/200\n",
      "\u001b[1m63/63\u001b[0m \u001b[32m━━━━━━━━━━━━━━━━━━━━\u001b[0m\u001b[37m\u001b[0m \u001b[1m123s\u001b[0m 2s/step - accuracy: 0.7396 - loss: 0.5232 - val_accuracy: 0.7707 - val_loss: 0.4844 - learning_rate: 1.0000e-04\n",
      "Epoch 7/200\n",
      "\u001b[1m63/63\u001b[0m \u001b[32m━━━━━━━━━━━━━━━━━━━━\u001b[0m\u001b[37m\u001b[0m \u001b[1m124s\u001b[0m 2s/step - accuracy: 0.7594 - loss: 0.4990 - val_accuracy: 0.7790 - val_loss: 0.4662 - learning_rate: 1.0000e-04\n",
      "Epoch 8/200\n",
      "\u001b[1m63/63\u001b[0m \u001b[32m━━━━━━━━━━━━━━━━━━━━\u001b[0m\u001b[37m\u001b[0m \u001b[1m124s\u001b[0m 2s/step - accuracy: 0.7661 - loss: 0.4834 - val_accuracy: 0.7868 - val_loss: 0.4513 - learning_rate: 1.0000e-04\n",
      "Epoch 9/200\n",
      "\u001b[1m63/63\u001b[0m \u001b[32m━━━━━━━━━━━━━━━━━━━━\u001b[0m\u001b[37m\u001b[0m \u001b[1m122s\u001b[0m 2s/step - accuracy: 0.7698 - loss: 0.4831 - val_accuracy: 0.7920 - val_loss: 0.4384 - learning_rate: 1.0000e-04\n",
      "Epoch 10/200\n",
      "\u001b[1m63/63\u001b[0m \u001b[32m━━━━━━━━━━━━━━━━━━━━\u001b[0m\u001b[37m\u001b[0m \u001b[1m124s\u001b[0m 2s/step - accuracy: 0.7751 - loss: 0.4710 - val_accuracy: 0.7997 - val_loss: 0.4257 - learning_rate: 1.0000e-04\n",
      "Epoch 11/200\n",
      "\u001b[1m63/63\u001b[0m \u001b[32m━━━━━━━━━━━━━━━━━━━━\u001b[0m\u001b[37m\u001b[0m \u001b[1m124s\u001b[0m 2s/step - accuracy: 0.7852 - loss: 0.4513 - val_accuracy: 0.8050 - val_loss: 0.4148 - learning_rate: 1.0000e-04\n",
      "Epoch 12/200\n",
      "\u001b[1m63/63\u001b[0m \u001b[32m━━━━━━━━━━━━━━━━━━━━\u001b[0m\u001b[37m\u001b[0m \u001b[1m125s\u001b[0m 2s/step - accuracy: 0.7867 - loss: 0.4523 - val_accuracy: 0.8083 - val_loss: 0.4065 - learning_rate: 1.0000e-04\n",
      "Epoch 13/200\n",
      "\u001b[1m63/63\u001b[0m \u001b[32m━━━━━━━━━━━━━━━━━━━━\u001b[0m\u001b[37m\u001b[0m \u001b[1m124s\u001b[0m 2s/step - accuracy: 0.7961 - loss: 0.4400 - val_accuracy: 0.8105 - val_loss: 0.3997 - learning_rate: 1.0000e-04\n",
      "Epoch 14/200\n",
      "\u001b[1m63/63\u001b[0m \u001b[32m━━━━━━━━━━━━━━━━━━━━\u001b[0m\u001b[37m\u001b[0m \u001b[1m125s\u001b[0m 2s/step - accuracy: 0.7958 - loss: 0.4366 - val_accuracy: 0.8167 - val_loss: 0.3939 - learning_rate: 1.0000e-04\n",
      "Epoch 15/200\n",
      "\u001b[1m63/63\u001b[0m \u001b[32m━━━━━━━━━━━━━━━━━━━━\u001b[0m\u001b[37m\u001b[0m \u001b[1m125s\u001b[0m 2s/step - accuracy: 0.7923 - loss: 0.4393 - val_accuracy: 0.8213 - val_loss: 0.3876 - learning_rate: 1.0000e-04\n",
      "Epoch 16/200\n",
      "\u001b[1m63/63\u001b[0m \u001b[32m━━━━━━━━━━━━━━━━━━━━\u001b[0m\u001b[37m\u001b[0m \u001b[1m126s\u001b[0m 2s/step - accuracy: 0.7983 - loss: 0.4243 - val_accuracy: 0.8240 - val_loss: 0.3852 - learning_rate: 1.0000e-04\n",
      "Epoch 17/200\n",
      "\u001b[1m63/63\u001b[0m \u001b[32m━━━━━━━━━━━━━━━━━━━━\u001b[0m\u001b[37m\u001b[0m \u001b[1m124s\u001b[0m 2s/step - accuracy: 0.8030 - loss: 0.4224 - val_accuracy: 0.8305 - val_loss: 0.3750 - learning_rate: 1.0000e-04\n",
      "Epoch 18/200\n",
      "\u001b[1m63/63\u001b[0m \u001b[32m━━━━━━━━━━━━━━━━━━━━\u001b[0m\u001b[37m\u001b[0m \u001b[1m126s\u001b[0m 2s/step - accuracy: 0.8083 - loss: 0.4186 - val_accuracy: 0.8307 - val_loss: 0.3744 - learning_rate: 1.0000e-04\n",
      "Epoch 19/200\n",
      "\u001b[1m63/63\u001b[0m \u001b[32m━━━━━━━━━━━━━━━━━━━━\u001b[0m\u001b[37m\u001b[0m \u001b[1m126s\u001b[0m 2s/step - accuracy: 0.8113 - loss: 0.4112 - val_accuracy: 0.8380 - val_loss: 0.3647 - learning_rate: 1.0000e-04\n",
      "Epoch 20/200\n",
      "\u001b[1m63/63\u001b[0m \u001b[32m━━━━━━━━━━━━━━━━━━━━\u001b[0m\u001b[37m\u001b[0m \u001b[1m126s\u001b[0m 2s/step - accuracy: 0.8171 - loss: 0.4052 - val_accuracy: 0.8410 - val_loss: 0.3608 - learning_rate: 1.0000e-04\n",
      "Epoch 21/200\n",
      "\u001b[1m63/63\u001b[0m \u001b[32m━━━━━━━━━━━━━━━━━━━━\u001b[0m\u001b[37m\u001b[0m \u001b[1m123s\u001b[0m 2s/step - accuracy: 0.8101 - loss: 0.4076 - val_accuracy: 0.8428 - val_loss: 0.3572 - learning_rate: 1.0000e-04\n",
      "Epoch 22/200\n",
      "\u001b[1m63/63\u001b[0m \u001b[32m━━━━━━━━━━━━━━━━━━━━\u001b[0m\u001b[37m\u001b[0m \u001b[1m127s\u001b[0m 2s/step - accuracy: 0.8156 - loss: 0.4038 - val_accuracy: 0.8455 - val_loss: 0.3535 - learning_rate: 1.0000e-04\n",
      "Epoch 23/200\n",
      "\u001b[1m63/63\u001b[0m \u001b[32m━━━━━━━━━━━━━━━━━━━━\u001b[0m\u001b[37m\u001b[0m \u001b[1m129s\u001b[0m 2s/step - accuracy: 0.8214 - loss: 0.4001 - val_accuracy: 0.8450 - val_loss: 0.3507 - learning_rate: 1.0000e-04\n",
      "Epoch 24/200\n",
      "\u001b[1m63/63\u001b[0m \u001b[32m━━━━━━━━━━━━━━━━━━━━\u001b[0m\u001b[37m\u001b[0m \u001b[1m126s\u001b[0m 2s/step - accuracy: 0.8204 - loss: 0.3981 - val_accuracy: 0.8432 - val_loss: 0.3503 - learning_rate: 1.0000e-04\n",
      "Epoch 25/200\n",
      "\u001b[1m63/63\u001b[0m \u001b[32m━━━━━━━━━━━━━━━━━━━━\u001b[0m\u001b[37m\u001b[0m \u001b[1m127s\u001b[0m 2s/step - accuracy: 0.8166 - loss: 0.3967 - val_accuracy: 0.8482 - val_loss: 0.3454 - learning_rate: 1.0000e-04\n",
      "Epoch 26/200\n",
      "\u001b[1m63/63\u001b[0m \u001b[32m━━━━━━━━━━━━━━━━━━━━\u001b[0m\u001b[37m\u001b[0m \u001b[1m125s\u001b[0m 2s/step - accuracy: 0.8251 - loss: 0.3905 - val_accuracy: 0.8525 - val_loss: 0.3407 - learning_rate: 1.0000e-04\n",
      "Epoch 27/200\n",
      "\u001b[1m63/63\u001b[0m \u001b[32m━━━━━━━━━━━━━━━━━━━━\u001b[0m\u001b[37m\u001b[0m \u001b[1m125s\u001b[0m 2s/step - accuracy: 0.8257 - loss: 0.3966 - val_accuracy: 0.8518 - val_loss: 0.3418 - learning_rate: 1.0000e-04\n",
      "Epoch 28/200\n",
      "\u001b[1m63/63\u001b[0m \u001b[32m━━━━━━━━━━━━━━━━━━━━\u001b[0m\u001b[37m\u001b[0m \u001b[1m127s\u001b[0m 2s/step - accuracy: 0.8234 - loss: 0.3810 - val_accuracy: 0.8570 - val_loss: 0.3356 - learning_rate: 1.0000e-04\n",
      "Epoch 29/200\n",
      "\u001b[1m63/63\u001b[0m \u001b[32m━━━━━━━━━━━━━━━━━━━━\u001b[0m\u001b[37m\u001b[0m \u001b[1m127s\u001b[0m 2s/step - accuracy: 0.8293 - loss: 0.3782 - val_accuracy: 0.8547 - val_loss: 0.3355 - learning_rate: 1.0000e-04\n",
      "Epoch 30/200\n",
      "\u001b[1m63/63\u001b[0m \u001b[32m━━━━━━━━━━━━━━━━━━━━\u001b[0m\u001b[37m\u001b[0m \u001b[1m123s\u001b[0m 2s/step - accuracy: 0.8276 - loss: 0.3800 - val_accuracy: 0.8572 - val_loss: 0.3310 - learning_rate: 1.0000e-04\n",
      "Epoch 31/200\n",
      "\u001b[1m63/63\u001b[0m \u001b[32m━━━━━━━━━━━━━━━━━━━━\u001b[0m\u001b[37m\u001b[0m \u001b[1m124s\u001b[0m 2s/step - accuracy: 0.8306 - loss: 0.3825 - val_accuracy: 0.8568 - val_loss: 0.3285 - learning_rate: 1.0000e-04\n",
      "Epoch 32/200\n",
      "\u001b[1m63/63\u001b[0m \u001b[32m━━━━━━━━━━━━━━━━━━━━\u001b[0m\u001b[37m\u001b[0m \u001b[1m121s\u001b[0m 2s/step - accuracy: 0.8375 - loss: 0.3648 - val_accuracy: 0.8593 - val_loss: 0.3271 - learning_rate: 1.0000e-04\n",
      "Epoch 33/200\n",
      "\u001b[1m63/63\u001b[0m \u001b[32m━━━━━━━━━━━━━━━━━━━━\u001b[0m\u001b[37m\u001b[0m \u001b[1m123s\u001b[0m 2s/step - accuracy: 0.8341 - loss: 0.3685 - val_accuracy: 0.8595 - val_loss: 0.3246 - learning_rate: 1.0000e-04\n",
      "Epoch 34/200\n",
      "\u001b[1m63/63\u001b[0m \u001b[32m━━━━━━━━━━━━━━━━━━━━\u001b[0m\u001b[37m\u001b[0m \u001b[1m122s\u001b[0m 2s/step - accuracy: 0.8385 - loss: 0.3704 - val_accuracy: 0.8597 - val_loss: 0.3232 - learning_rate: 1.0000e-04\n",
      "Epoch 35/200\n",
      "\u001b[1m63/63\u001b[0m \u001b[32m━━━━━━━━━━━━━━━━━━━━\u001b[0m\u001b[37m\u001b[0m \u001b[1m127s\u001b[0m 2s/step - accuracy: 0.8400 - loss: 0.3658 - val_accuracy: 0.8618 - val_loss: 0.3220 - learning_rate: 1.0000e-04\n",
      "Epoch 36/200\n",
      "\u001b[1m63/63\u001b[0m \u001b[32m━━━━━━━━━━━━━━━━━━━━\u001b[0m\u001b[37m\u001b[0m \u001b[1m123s\u001b[0m 2s/step - accuracy: 0.8354 - loss: 0.3654 - val_accuracy: 0.8660 - val_loss: 0.3176 - learning_rate: 1.0000e-04\n",
      "Epoch 37/200\n",
      "\u001b[1m63/63\u001b[0m \u001b[32m━━━━━━━━━━━━━━━━━━━━\u001b[0m\u001b[37m\u001b[0m \u001b[1m122s\u001b[0m 2s/step - accuracy: 0.8271 - loss: 0.3771 - val_accuracy: 0.8662 - val_loss: 0.3167 - learning_rate: 1.0000e-04\n",
      "Epoch 38/200\n",
      "\u001b[1m63/63\u001b[0m \u001b[32m━━━━━━━━━━━━━━━━━━━━\u001b[0m\u001b[37m\u001b[0m \u001b[1m121s\u001b[0m 2s/step - accuracy: 0.8330 - loss: 0.3746 - val_accuracy: 0.8675 - val_loss: 0.3160 - learning_rate: 1.0000e-04\n",
      "Epoch 39/200\n",
      "\u001b[1m63/63\u001b[0m \u001b[32m━━━━━━━━━━━━━━━━━━━━\u001b[0m\u001b[37m\u001b[0m \u001b[1m143s\u001b[0m 2s/step - accuracy: 0.8406 - loss: 0.3683 - val_accuracy: 0.8683 - val_loss: 0.3155 - learning_rate: 1.0000e-04\n",
      "Epoch 40/200\n",
      "\u001b[1m63/63\u001b[0m \u001b[32m━━━━━━━━━━━━━━━━━━━━\u001b[0m\u001b[37m\u001b[0m \u001b[1m122s\u001b[0m 2s/step - accuracy: 0.8339 - loss: 0.3625 - val_accuracy: 0.8685 - val_loss: 0.3168 - learning_rate: 1.0000e-04\n",
      "Epoch 41/200\n",
      "\u001b[1m63/63\u001b[0m \u001b[32m━━━━━━━━━━━━━━━━━━━━\u001b[0m\u001b[37m\u001b[0m \u001b[1m122s\u001b[0m 2s/step - accuracy: 0.8428 - loss: 0.3630 - val_accuracy: 0.8687 - val_loss: 0.3141 - learning_rate: 1.0000e-04\n",
      "Epoch 42/200\n",
      "\u001b[1m63/63\u001b[0m \u001b[32m━━━━━━━━━━━━━━━━━━━━\u001b[0m\u001b[37m\u001b[0m \u001b[1m121s\u001b[0m 2s/step - accuracy: 0.8428 - loss: 0.3551 - val_accuracy: 0.8660 - val_loss: 0.3131 - learning_rate: 1.0000e-04\n",
      "Epoch 43/200\n",
      "\u001b[1m63/63\u001b[0m \u001b[32m━━━━━━━━━━━━━━━━━━━━\u001b[0m\u001b[37m\u001b[0m \u001b[1m122s\u001b[0m 2s/step - accuracy: 0.8473 - loss: 0.3536 - val_accuracy: 0.8695 - val_loss: 0.3106 - learning_rate: 1.0000e-04\n",
      "Epoch 44/200\n",
      "\u001b[1m63/63\u001b[0m \u001b[32m━━━━━━━━━━━━━━━━━━━━\u001b[0m\u001b[37m\u001b[0m \u001b[1m142s\u001b[0m 2s/step - accuracy: 0.8424 - loss: 0.3559 - val_accuracy: 0.8690 - val_loss: 0.3106 - learning_rate: 1.0000e-04\n",
      "Epoch 45/200\n",
      "\u001b[1m63/63\u001b[0m \u001b[32m━━━━━━━━━━━━━━━━━━━━\u001b[0m\u001b[37m\u001b[0m \u001b[1m122s\u001b[0m 2s/step - accuracy: 0.8447 - loss: 0.3586 - val_accuracy: 0.8692 - val_loss: 0.3107 - learning_rate: 1.0000e-04\n",
      "Epoch 46/200\n",
      "\u001b[1m63/63\u001b[0m \u001b[32m━━━━━━━━━━━━━━━━━━━━\u001b[0m\u001b[37m\u001b[0m \u001b[1m123s\u001b[0m 2s/step - accuracy: 0.8336 - loss: 0.3747 - val_accuracy: 0.8695 - val_loss: 0.3081 - learning_rate: 1.0000e-04\n",
      "Epoch 47/200\n",
      "\u001b[1m63/63\u001b[0m \u001b[32m━━━━━━━━━━━━━━━━━━━━\u001b[0m\u001b[37m\u001b[0m \u001b[1m122s\u001b[0m 2s/step - accuracy: 0.8414 - loss: 0.3591 - val_accuracy: 0.8705 - val_loss: 0.3062 - learning_rate: 1.0000e-04\n",
      "Epoch 48/200\n",
      "\u001b[1m63/63\u001b[0m \u001b[32m━━━━━━━━━━━━━━━━━━━━\u001b[0m\u001b[37m\u001b[0m \u001b[1m121s\u001b[0m 2s/step - accuracy: 0.8488 - loss: 0.3438 - val_accuracy: 0.8710 - val_loss: 0.3065 - learning_rate: 1.0000e-04\n",
      "Epoch 49/200\n",
      "\u001b[1m63/63\u001b[0m \u001b[32m━━━━━━━━━━━━━━━━━━━━\u001b[0m\u001b[37m\u001b[0m \u001b[1m122s\u001b[0m 2s/step - accuracy: 0.8453 - loss: 0.3468 - val_accuracy: 0.8712 - val_loss: 0.3061 - learning_rate: 1.0000e-04\n",
      "Epoch 50/200\n",
      "\u001b[1m63/63\u001b[0m \u001b[32m━━━━━━━━━━━━━━━━━━━━\u001b[0m\u001b[37m\u001b[0m \u001b[1m123s\u001b[0m 2s/step - accuracy: 0.8376 - loss: 0.3604 - val_accuracy: 0.8723 - val_loss: 0.3046 - learning_rate: 1.0000e-04\n",
      "Epoch 51/200\n",
      "\u001b[1m63/63\u001b[0m \u001b[32m━━━━━━━━━━━━━━━━━━━━\u001b[0m\u001b[37m\u001b[0m \u001b[1m124s\u001b[0m 2s/step - accuracy: 0.8590 - loss: 0.3384 - val_accuracy: 0.8720 - val_loss: 0.3042 - learning_rate: 1.0000e-04\n",
      "Epoch 52/200\n",
      "\u001b[1m63/63\u001b[0m \u001b[32m━━━━━━━━━━━━━━━━━━━━\u001b[0m\u001b[37m\u001b[0m \u001b[1m123s\u001b[0m 2s/step - accuracy: 0.8596 - loss: 0.3395 - val_accuracy: 0.8733 - val_loss: 0.3020 - learning_rate: 1.0000e-04\n",
      "Epoch 53/200\n",
      "\u001b[1m63/63\u001b[0m \u001b[32m━━━━━━━━━━━━━━━━━━━━\u001b[0m\u001b[37m\u001b[0m \u001b[1m125s\u001b[0m 2s/step - accuracy: 0.8433 - loss: 0.3513 - val_accuracy: 0.8715 - val_loss: 0.2998 - learning_rate: 1.0000e-04\n",
      "Epoch 54/200\n",
      "\u001b[1m63/63\u001b[0m \u001b[32m━━━━━━━━━━━━━━━━━━━━\u001b[0m\u001b[37m\u001b[0m \u001b[1m126s\u001b[0m 2s/step - accuracy: 0.8466 - loss: 0.3520 - val_accuracy: 0.8748 - val_loss: 0.3022 - learning_rate: 1.0000e-04\n",
      "Epoch 55/200\n",
      "\u001b[1m63/63\u001b[0m \u001b[32m━━━━━━━━━━━━━━━━━━━━\u001b[0m\u001b[37m\u001b[0m \u001b[1m127s\u001b[0m 2s/step - accuracy: 0.8541 - loss: 0.3435 - val_accuracy: 0.8750 - val_loss: 0.2995 - learning_rate: 1.0000e-04\n",
      "Epoch 56/200\n",
      "\u001b[1m63/63\u001b[0m \u001b[32m━━━━━━━━━━━━━━━━━━━━\u001b[0m\u001b[37m\u001b[0m \u001b[1m128s\u001b[0m 2s/step - accuracy: 0.8504 - loss: 0.3389 - val_accuracy: 0.8773 - val_loss: 0.2982 - learning_rate: 1.0000e-04\n",
      "Epoch 57/200\n",
      "\u001b[1m63/63\u001b[0m \u001b[32m━━━━━━━━━━━━━━━━━━━━\u001b[0m\u001b[37m\u001b[0m \u001b[1m128s\u001b[0m 2s/step - accuracy: 0.8494 - loss: 0.3491 - val_accuracy: 0.8775 - val_loss: 0.2971 - learning_rate: 1.0000e-04\n",
      "Epoch 58/200\n",
      "\u001b[1m63/63\u001b[0m \u001b[32m━━━━━━━━━━━━━━━━━━━━\u001b[0m\u001b[37m\u001b[0m \u001b[1m129s\u001b[0m 2s/step - accuracy: 0.8453 - loss: 0.3477 - val_accuracy: 0.8765 - val_loss: 0.2970 - learning_rate: 1.0000e-04\n",
      "Epoch 59/200\n",
      "\u001b[1m63/63\u001b[0m \u001b[32m━━━━━━━━━━━━━━━━━━━━\u001b[0m\u001b[37m\u001b[0m \u001b[1m122s\u001b[0m 2s/step - accuracy: 0.8458 - loss: 0.3515 - val_accuracy: 0.8765 - val_loss: 0.2983 - learning_rate: 1.0000e-04\n",
      "Epoch 60/200\n",
      "\u001b[1m63/63\u001b[0m \u001b[32m━━━━━━━━━━━━━━━━━━━━\u001b[0m\u001b[37m\u001b[0m \u001b[1m125s\u001b[0m 2s/step - accuracy: 0.8543 - loss: 0.3369 - val_accuracy: 0.8788 - val_loss: 0.2938 - learning_rate: 1.0000e-04\n",
      "Epoch 61/200\n",
      "\u001b[1m63/63\u001b[0m \u001b[32m━━━━━━━━━━━━━━━━━━━━\u001b[0m\u001b[37m\u001b[0m \u001b[1m126s\u001b[0m 2s/step - accuracy: 0.8494 - loss: 0.3451 - val_accuracy: 0.8790 - val_loss: 0.2946 - learning_rate: 1.0000e-04\n",
      "Epoch 62/200\n",
      "\u001b[1m63/63\u001b[0m \u001b[32m━━━━━━━━━━━━━━━━━━━━\u001b[0m\u001b[37m\u001b[0m \u001b[1m126s\u001b[0m 2s/step - accuracy: 0.8447 - loss: 0.3547 - val_accuracy: 0.8788 - val_loss: 0.2942 - learning_rate: 1.0000e-04\n",
      "Epoch 63/200\n",
      "\u001b[1m63/63\u001b[0m \u001b[32m━━━━━━━━━━━━━━━━━━━━\u001b[0m\u001b[37m\u001b[0m \u001b[1m125s\u001b[0m 2s/step - accuracy: 0.8505 - loss: 0.3534 - val_accuracy: 0.8780 - val_loss: 0.2943 - learning_rate: 1.0000e-04\n",
      "Epoch 64/200\n",
      "\u001b[1m63/63\u001b[0m \u001b[32m━━━━━━━━━━━━━━━━━━━━\u001b[0m\u001b[37m\u001b[0m \u001b[1m124s\u001b[0m 2s/step - accuracy: 0.8458 - loss: 0.3570 - val_accuracy: 0.8798 - val_loss: 0.2923 - learning_rate: 1.0000e-04\n",
      "Epoch 65/200\n",
      "\u001b[1m63/63\u001b[0m \u001b[32m━━━━━━━━━━━━━━━━━━━━\u001b[0m\u001b[37m\u001b[0m \u001b[1m122s\u001b[0m 2s/step - accuracy: 0.8558 - loss: 0.3372 - val_accuracy: 0.8810 - val_loss: 0.2935 - learning_rate: 1.0000e-04\n",
      "Epoch 66/200\n",
      "\u001b[1m63/63\u001b[0m \u001b[32m━━━━━━━━━━━━━━━━━━━━\u001b[0m\u001b[37m\u001b[0m \u001b[1m123s\u001b[0m 2s/step - accuracy: 0.8415 - loss: 0.3535 - val_accuracy: 0.8795 - val_loss: 0.2932 - learning_rate: 1.0000e-04\n",
      "Epoch 67/200\n",
      "\u001b[1m63/63\u001b[0m \u001b[32m━━━━━━━━━━━━━━━━━━━━\u001b[0m\u001b[37m\u001b[0m \u001b[1m123s\u001b[0m 2s/step - accuracy: 0.8457 - loss: 0.3426 - val_accuracy: 0.8810 - val_loss: 0.2920 - learning_rate: 1.0000e-04\n",
      "Epoch 68/200\n",
      "\u001b[1m63/63\u001b[0m \u001b[32m━━━━━━━━━━━━━━━━━━━━\u001b[0m\u001b[37m\u001b[0m \u001b[1m123s\u001b[0m 2s/step - accuracy: 0.8474 - loss: 0.3484 - val_accuracy: 0.8830 - val_loss: 0.2918 - learning_rate: 1.0000e-04\n",
      "Epoch 69/200\n",
      "\u001b[1m63/63\u001b[0m \u001b[32m━━━━━━━━━━━━━━━━━━━━\u001b[0m\u001b[37m\u001b[0m \u001b[1m124s\u001b[0m 2s/step - accuracy: 0.8442 - loss: 0.3566 - val_accuracy: 0.8817 - val_loss: 0.2888 - learning_rate: 1.0000e-04\n",
      "Epoch 70/200\n",
      "\u001b[1m63/63\u001b[0m \u001b[32m━━━━━━━━━━━━━━━━━━━━\u001b[0m\u001b[37m\u001b[0m \u001b[1m122s\u001b[0m 2s/step - accuracy: 0.8435 - loss: 0.3562 - val_accuracy: 0.8817 - val_loss: 0.2880 - learning_rate: 1.0000e-04\n",
      "Epoch 71/200\n",
      "\u001b[1m63/63\u001b[0m \u001b[32m━━━━━━━━━━━━━━━━━━━━\u001b[0m\u001b[37m\u001b[0m \u001b[1m122s\u001b[0m 2s/step - accuracy: 0.8508 - loss: 0.3414 - val_accuracy: 0.8835 - val_loss: 0.2914 - learning_rate: 1.0000e-04\n",
      "Epoch 72/200\n",
      "\u001b[1m63/63\u001b[0m \u001b[32m━━━━━━━━━━━━━━━━━━━━\u001b[0m\u001b[37m\u001b[0m \u001b[1m126s\u001b[0m 2s/step - accuracy: 0.8469 - loss: 0.3390 - val_accuracy: 0.8817 - val_loss: 0.2880 - learning_rate: 1.0000e-04\n",
      "Epoch 73/200\n",
      "\u001b[1m63/63\u001b[0m \u001b[32m━━━━━━━━━━━━━━━━━━━━\u001b[0m\u001b[37m\u001b[0m \u001b[1m123s\u001b[0m 2s/step - accuracy: 0.8490 - loss: 0.3400 - val_accuracy: 0.8813 - val_loss: 0.2891 - learning_rate: 1.0000e-04\n",
      "Epoch 74/200\n",
      "\u001b[1m63/63\u001b[0m \u001b[32m━━━━━━━━━━━━━━━━━━━━\u001b[0m\u001b[37m\u001b[0m \u001b[1m122s\u001b[0m 2s/step - accuracy: 0.8556 - loss: 0.3367 - val_accuracy: 0.8813 - val_loss: 0.2889 - learning_rate: 1.0000e-04\n",
      "Epoch 75/200\n",
      "\u001b[1m63/63\u001b[0m \u001b[32m━━━━━━━━━━━━━━━━━━━━\u001b[0m\u001b[37m\u001b[0m \u001b[1m122s\u001b[0m 2s/step - accuracy: 0.8605 - loss: 0.3242 - val_accuracy: 0.8788 - val_loss: 0.2876 - learning_rate: 1.0000e-04\n",
      "Epoch 76/200\n",
      "\u001b[1m63/63\u001b[0m \u001b[32m━━━━━━━━━━━━━━━━━━━━\u001b[0m\u001b[37m\u001b[0m \u001b[1m123s\u001b[0m 2s/step - accuracy: 0.8530 - loss: 0.3333 - val_accuracy: 0.8820 - val_loss: 0.2892 - learning_rate: 1.0000e-04\n",
      "Epoch 77/200\n",
      "\u001b[1m63/63\u001b[0m \u001b[32m━━━━━━━━━━━━━━━━━━━━\u001b[0m\u001b[37m\u001b[0m \u001b[1m123s\u001b[0m 2s/step - accuracy: 0.8508 - loss: 0.3390 - val_accuracy: 0.8827 - val_loss: 0.2874 - learning_rate: 1.0000e-04\n",
      "Epoch 78/200\n",
      "\u001b[1m63/63\u001b[0m \u001b[32m━━━━━━━━━━━━━━━━━━━━\u001b[0m\u001b[37m\u001b[0m \u001b[1m124s\u001b[0m 2s/step - accuracy: 0.8460 - loss: 0.3455 - val_accuracy: 0.8830 - val_loss: 0.2864 - learning_rate: 1.0000e-04\n",
      "Epoch 79/200\n",
      "\u001b[1m63/63\u001b[0m \u001b[32m━━━━━━━━━━━━━━━━━━━━\u001b[0m\u001b[37m\u001b[0m \u001b[1m123s\u001b[0m 2s/step - accuracy: 0.8574 - loss: 0.3319 - val_accuracy: 0.8813 - val_loss: 0.2874 - learning_rate: 1.0000e-04\n",
      "Epoch 80/200\n",
      "\u001b[1m63/63\u001b[0m \u001b[32m━━━━━━━━━━━━━━━━━━━━\u001b[0m\u001b[37m\u001b[0m \u001b[1m122s\u001b[0m 2s/step - accuracy: 0.8531 - loss: 0.3383 - val_accuracy: 0.8823 - val_loss: 0.2854 - learning_rate: 1.0000e-04\n",
      "Epoch 81/200\n",
      "\u001b[1m63/63\u001b[0m \u001b[32m━━━━━━━━━━━━━━━━━━━━\u001b[0m\u001b[37m\u001b[0m \u001b[1m122s\u001b[0m 2s/step - accuracy: 0.8639 - loss: 0.3213 - val_accuracy: 0.8825 - val_loss: 0.2861 - learning_rate: 1.0000e-04\n",
      "Epoch 82/200\n",
      "\u001b[1m63/63\u001b[0m \u001b[32m━━━━━━━━━━━━━━━━━━━━\u001b[0m\u001b[37m\u001b[0m \u001b[1m124s\u001b[0m 2s/step - accuracy: 0.8546 - loss: 0.3326 - val_accuracy: 0.8832 - val_loss: 0.2843 - learning_rate: 1.0000e-04\n",
      "Epoch 83/200\n",
      "\u001b[1m63/63\u001b[0m \u001b[32m━━━━━━━━━━━━━━━━━━━━\u001b[0m\u001b[37m\u001b[0m \u001b[1m123s\u001b[0m 2s/step - accuracy: 0.8605 - loss: 0.3284 - val_accuracy: 0.8840 - val_loss: 0.2839 - learning_rate: 1.0000e-04\n",
      "Epoch 84/200\n",
      "\u001b[1m63/63\u001b[0m \u001b[32m━━━━━━━━━━━━━━━━━━━━\u001b[0m\u001b[37m\u001b[0m \u001b[1m123s\u001b[0m 2s/step - accuracy: 0.8511 - loss: 0.3387 - val_accuracy: 0.8823 - val_loss: 0.2835 - learning_rate: 1.0000e-04\n",
      "Epoch 85/200\n",
      "\u001b[1m63/63\u001b[0m \u001b[32m━━━━━━━━━━━━━━━━━━━━\u001b[0m\u001b[37m\u001b[0m \u001b[1m123s\u001b[0m 2s/step - accuracy: 0.8575 - loss: 0.3339 - val_accuracy: 0.8835 - val_loss: 0.2852 - learning_rate: 1.0000e-04\n",
      "Epoch 86/200\n",
      "\u001b[1m63/63\u001b[0m \u001b[32m━━━━━━━━━━━━━━━━━━━━\u001b[0m\u001b[37m\u001b[0m \u001b[1m123s\u001b[0m 2s/step - accuracy: 0.8592 - loss: 0.3244 - val_accuracy: 0.8835 - val_loss: 0.2837 - learning_rate: 1.0000e-04\n",
      "Epoch 87/200\n",
      "\u001b[1m63/63\u001b[0m \u001b[32m━━━━━━━━━━━━━━━━━━━━\u001b[0m\u001b[37m\u001b[0m \u001b[1m124s\u001b[0m 2s/step - accuracy: 0.8531 - loss: 0.3393 - val_accuracy: 0.8840 - val_loss: 0.2830 - learning_rate: 1.0000e-04\n",
      "Epoch 88/200\n",
      "\u001b[1m63/63\u001b[0m \u001b[32m━━━━━━━━━━━━━━━━━━━━\u001b[0m\u001b[37m\u001b[0m \u001b[1m123s\u001b[0m 2s/step - accuracy: 0.8602 - loss: 0.3234 - val_accuracy: 0.8840 - val_loss: 0.2832 - learning_rate: 1.0000e-04\n",
      "Epoch 89/200\n",
      "\u001b[1m63/63\u001b[0m \u001b[32m━━━━━━━━━━━━━━━━━━━━\u001b[0m\u001b[37m\u001b[0m \u001b[1m142s\u001b[0m 2s/step - accuracy: 0.8584 - loss: 0.3366 - val_accuracy: 0.8810 - val_loss: 0.2813 - learning_rate: 1.0000e-04\n",
      "Epoch 90/200\n",
      "\u001b[1m63/63\u001b[0m \u001b[32m━━━━━━━━━━━━━━━━━━━━\u001b[0m\u001b[37m\u001b[0m \u001b[1m123s\u001b[0m 2s/step - accuracy: 0.8574 - loss: 0.3363 - val_accuracy: 0.8845 - val_loss: 0.2832 - learning_rate: 1.0000e-04\n",
      "Epoch 91/200\n",
      "\u001b[1m63/63\u001b[0m \u001b[32m━━━━━━━━━━━━━━━━━━━━\u001b[0m\u001b[37m\u001b[0m \u001b[1m122s\u001b[0m 2s/step - accuracy: 0.8585 - loss: 0.3360 - val_accuracy: 0.8842 - val_loss: 0.2811 - learning_rate: 1.0000e-04\n",
      "Epoch 92/200\n",
      "\u001b[1m63/63\u001b[0m \u001b[32m━━━━━━━━━━━━━━━━━━━━\u001b[0m\u001b[37m\u001b[0m \u001b[1m123s\u001b[0m 2s/step - accuracy: 0.8516 - loss: 0.3392 - val_accuracy: 0.8840 - val_loss: 0.2831 - learning_rate: 1.0000e-04\n",
      "Epoch 93/200\n",
      "\u001b[1m63/63\u001b[0m \u001b[32m━━━━━━━━━━━━━━━━━━━━\u001b[0m\u001b[37m\u001b[0m \u001b[1m124s\u001b[0m 2s/step - accuracy: 0.8584 - loss: 0.3235 - val_accuracy: 0.8825 - val_loss: 0.2804 - learning_rate: 1.0000e-04\n",
      "Epoch 94/200\n",
      "\u001b[1m63/63\u001b[0m \u001b[32m━━━━━━━━━━━━━━━━━━━━\u001b[0m\u001b[37m\u001b[0m \u001b[1m123s\u001b[0m 2s/step - accuracy: 0.8557 - loss: 0.3317 - val_accuracy: 0.8827 - val_loss: 0.2801 - learning_rate: 1.0000e-04\n",
      "Epoch 95/200\n",
      "\u001b[1m63/63\u001b[0m \u001b[32m━━━━━━━━━━━━━━━━━━━━\u001b[0m\u001b[37m\u001b[0m \u001b[1m123s\u001b[0m 2s/step - accuracy: 0.8627 - loss: 0.3227 - val_accuracy: 0.8830 - val_loss: 0.2797 - learning_rate: 1.0000e-04\n",
      "Epoch 96/200\n",
      "\u001b[1m63/63\u001b[0m \u001b[32m━━━━━━━━━━━━━━━━━━━━\u001b[0m\u001b[37m\u001b[0m \u001b[1m124s\u001b[0m 2s/step - accuracy: 0.8666 - loss: 0.3172 - val_accuracy: 0.8845 - val_loss: 0.2805 - learning_rate: 1.0000e-04\n",
      "Epoch 97/200\n",
      "\u001b[1m63/63\u001b[0m \u001b[32m━━━━━━━━━━━━━━━━━━━━\u001b[0m\u001b[37m\u001b[0m \u001b[1m125s\u001b[0m 2s/step - accuracy: 0.8583 - loss: 0.3298 - val_accuracy: 0.8842 - val_loss: 0.2785 - learning_rate: 1.0000e-04\n",
      "Epoch 98/200\n",
      "\u001b[1m63/63\u001b[0m \u001b[32m━━━━━━━━━━━━━━━━━━━━\u001b[0m\u001b[37m\u001b[0m \u001b[1m125s\u001b[0m 2s/step - accuracy: 0.8596 - loss: 0.3250 - val_accuracy: 0.8845 - val_loss: 0.2792 - learning_rate: 1.0000e-04\n",
      "Epoch 99/200\n",
      "\u001b[1m63/63\u001b[0m \u001b[32m━━━━━━━━━━━━━━━━━━━━\u001b[0m\u001b[37m\u001b[0m \u001b[1m126s\u001b[0m 2s/step - accuracy: 0.8586 - loss: 0.3259 - val_accuracy: 0.8848 - val_loss: 0.2801 - learning_rate: 1.0000e-04\n",
      "Epoch 100/200\n",
      "\u001b[1m63/63\u001b[0m \u001b[32m━━━━━━━━━━━━━━━━━━━━\u001b[0m\u001b[37m\u001b[0m \u001b[1m124s\u001b[0m 2s/step - accuracy: 0.8563 - loss: 0.3329 - val_accuracy: 0.8845 - val_loss: 0.2783 - learning_rate: 1.0000e-04\n",
      "Epoch 101/200\n",
      "\u001b[1m63/63\u001b[0m \u001b[32m━━━━━━━━━━━━━━━━━━━━\u001b[0m\u001b[37m\u001b[0m \u001b[1m124s\u001b[0m 2s/step - accuracy: 0.8514 - loss: 0.3408 - val_accuracy: 0.8850 - val_loss: 0.2800 - learning_rate: 1.0000e-04\n",
      "Epoch 102/200\n",
      "\u001b[1m63/63\u001b[0m \u001b[32m━━━━━━━━━━━━━━━━━━━━\u001b[0m\u001b[37m\u001b[0m \u001b[1m123s\u001b[0m 2s/step - accuracy: 0.8543 - loss: 0.3382 - val_accuracy: 0.8840 - val_loss: 0.2815 - learning_rate: 1.0000e-04\n",
      "Epoch 103/200\n",
      "\u001b[1m63/63\u001b[0m \u001b[32m━━━━━━━━━━━━━━━━━━━━\u001b[0m\u001b[37m\u001b[0m \u001b[1m123s\u001b[0m 2s/step - accuracy: 0.8617 - loss: 0.3229 - val_accuracy: 0.8845 - val_loss: 0.2802 - learning_rate: 1.0000e-04\n",
      "Epoch 104/200\n",
      "\u001b[1m63/63\u001b[0m \u001b[32m━━━━━━━━━━━━━━━━━━━━\u001b[0m\u001b[37m\u001b[0m \u001b[1m122s\u001b[0m 2s/step - accuracy: 0.8688 - loss: 0.3139 - val_accuracy: 0.8840 - val_loss: 0.2809 - learning_rate: 1.0000e-04\n",
      "Epoch 105/200\n",
      "\u001b[1m63/63\u001b[0m \u001b[32m━━━━━━━━━━━━━━━━━━━━\u001b[0m\u001b[37m\u001b[0m \u001b[1m122s\u001b[0m 2s/step - accuracy: 0.8578 - loss: 0.3283 - val_accuracy: 0.8830 - val_loss: 0.2791 - learning_rate: 1.0000e-04\n",
      "Epoch 106/200\n",
      "\u001b[1m63/63\u001b[0m \u001b[32m━━━━━━━━━━━━━━━━━━━━\u001b[0m\u001b[37m\u001b[0m \u001b[1m122s\u001b[0m 2s/step - accuracy: 0.8616 - loss: 0.3170 - val_accuracy: 0.8840 - val_loss: 0.2797 - learning_rate: 1.0000e-04\n",
      "Epoch 107/200\n",
      "\u001b[1m63/63\u001b[0m \u001b[32m━━━━━━━━━━━━━━━━━━━━\u001b[0m\u001b[37m\u001b[0m \u001b[1m122s\u001b[0m 2s/step - accuracy: 0.8650 - loss: 0.3180 - val_accuracy: 0.8840 - val_loss: 0.2811 - learning_rate: 1.0000e-04\n",
      "Epoch 108/200\n",
      "\u001b[1m63/63\u001b[0m \u001b[32m━━━━━━━━━━━━━━━━━━━━\u001b[0m\u001b[37m\u001b[0m \u001b[1m123s\u001b[0m 2s/step - accuracy: 0.8630 - loss: 0.3239 - val_accuracy: 0.8882 - val_loss: 0.2763 - learning_rate: 1.0000e-04\n",
      "Epoch 109/200\n",
      "\u001b[1m63/63\u001b[0m \u001b[32m━━━━━━━━━━━━━━━━━━━━\u001b[0m\u001b[37m\u001b[0m \u001b[1m122s\u001b[0m 2s/step - accuracy: 0.8634 - loss: 0.3188 - val_accuracy: 0.8855 - val_loss: 0.2766 - learning_rate: 1.0000e-04\n",
      "Epoch 110/200\n",
      "\u001b[1m63/63\u001b[0m \u001b[32m━━━━━━━━━━━━━━━━━━━━\u001b[0m\u001b[37m\u001b[0m \u001b[1m125s\u001b[0m 2s/step - accuracy: 0.8575 - loss: 0.3245 - val_accuracy: 0.8840 - val_loss: 0.2802 - learning_rate: 1.0000e-04\n",
      "Epoch 111/200\n",
      "\u001b[1m63/63\u001b[0m \u001b[32m━━━━━━━━━━━━━━━━━━━━\u001b[0m\u001b[37m\u001b[0m \u001b[1m125s\u001b[0m 2s/step - accuracy: 0.8510 - loss: 0.3395 - val_accuracy: 0.8873 - val_loss: 0.2778 - learning_rate: 1.0000e-04\n",
      "Epoch 112/200\n",
      "\u001b[1m63/63\u001b[0m \u001b[32m━━━━━━━━━━━━━━━━━━━━\u001b[0m\u001b[37m\u001b[0m \u001b[1m124s\u001b[0m 2s/step - accuracy: 0.8603 - loss: 0.3300 - val_accuracy: 0.8857 - val_loss: 0.2787 - learning_rate: 1.0000e-04\n",
      "Epoch 113/200\n",
      "\u001b[1m63/63\u001b[0m \u001b[32m━━━━━━━━━━━━━━━━━━━━\u001b[0m\u001b[37m\u001b[0m \u001b[1m123s\u001b[0m 2s/step - accuracy: 0.8620 - loss: 0.3153 - val_accuracy: 0.8842 - val_loss: 0.2781 - learning_rate: 1.0000e-04\n",
      "Epoch 114/200\n",
      "\u001b[1m63/63\u001b[0m \u001b[32m━━━━━━━━━━━━━━━━━━━━\u001b[0m\u001b[37m\u001b[0m \u001b[1m124s\u001b[0m 2s/step - accuracy: 0.8671 - loss: 0.3186 - val_accuracy: 0.8848 - val_loss: 0.2768 - learning_rate: 1.0000e-04\n",
      "Epoch 115/200\n",
      "\u001b[1m63/63\u001b[0m \u001b[32m━━━━━━━━━━━━━━━━━━━━\u001b[0m\u001b[37m\u001b[0m \u001b[1m123s\u001b[0m 2s/step - accuracy: 0.8572 - loss: 0.3222 - val_accuracy: 0.8842 - val_loss: 0.2774 - learning_rate: 1.0000e-04\n",
      "Epoch 116/200\n",
      "\u001b[1m63/63\u001b[0m \u001b[32m━━━━━━━━━━━━━━━━━━━━\u001b[0m\u001b[37m\u001b[0m \u001b[1m124s\u001b[0m 2s/step - accuracy: 0.8579 - loss: 0.3293 - val_accuracy: 0.8850 - val_loss: 0.2761 - learning_rate: 1.0000e-04\n",
      "Epoch 117/200\n",
      "\u001b[1m63/63\u001b[0m \u001b[32m━━━━━━━━━━━━━━━━━━━━\u001b[0m\u001b[37m\u001b[0m \u001b[1m123s\u001b[0m 2s/step - accuracy: 0.8590 - loss: 0.3279 - val_accuracy: 0.8855 - val_loss: 0.2760 - learning_rate: 1.0000e-04\n",
      "Epoch 118/200\n",
      "\u001b[1m63/63\u001b[0m \u001b[32m━━━━━━━━━━━━━━━━━━━━\u001b[0m\u001b[37m\u001b[0m \u001b[1m125s\u001b[0m 2s/step - accuracy: 0.8682 - loss: 0.3100 - val_accuracy: 0.8867 - val_loss: 0.2749 - learning_rate: 1.0000e-04\n",
      "Epoch 119/200\n",
      "\u001b[1m63/63\u001b[0m \u001b[32m━━━━━━━━━━━━━━━━━━━━\u001b[0m\u001b[37m\u001b[0m \u001b[1m122s\u001b[0m 2s/step - accuracy: 0.8616 - loss: 0.3222 - val_accuracy: 0.8850 - val_loss: 0.2751 - learning_rate: 1.0000e-04\n",
      "Epoch 120/200\n",
      "\u001b[1m63/63\u001b[0m \u001b[32m━━━━━━━━━━━━━━━━━━━━\u001b[0m\u001b[37m\u001b[0m \u001b[1m126s\u001b[0m 2s/step - accuracy: 0.8531 - loss: 0.3356 - val_accuracy: 0.8838 - val_loss: 0.2782 - learning_rate: 1.0000e-04\n",
      "Epoch 121/200\n",
      "\u001b[1m63/63\u001b[0m \u001b[32m━━━━━━━━━━━━━━━━━━━━\u001b[0m\u001b[37m\u001b[0m \u001b[1m125s\u001b[0m 2s/step - accuracy: 0.8630 - loss: 0.3239 - val_accuracy: 0.8873 - val_loss: 0.2751 - learning_rate: 1.0000e-04\n",
      "Epoch 122/200\n",
      "\u001b[1m63/63\u001b[0m \u001b[32m━━━━━━━━━━━━━━━━━━━━\u001b[0m\u001b[37m\u001b[0m \u001b[1m126s\u001b[0m 2s/step - accuracy: 0.8553 - loss: 0.3304 - val_accuracy: 0.8830 - val_loss: 0.2775 - learning_rate: 1.0000e-04\n",
      "Epoch 123/200\n",
      "\u001b[1m63/63\u001b[0m \u001b[32m━━━━━━━━━━━━━━━━━━━━\u001b[0m\u001b[37m\u001b[0m \u001b[1m124s\u001b[0m 2s/step - accuracy: 0.8618 - loss: 0.3235 - val_accuracy: 0.8820 - val_loss: 0.2768 - learning_rate: 1.0000e-04\n",
      "Epoch 124/200\n",
      "\u001b[1m63/63\u001b[0m \u001b[32m━━━━━━━━━━━━━━━━━━━━\u001b[0m\u001b[37m\u001b[0m \u001b[1m123s\u001b[0m 2s/step - accuracy: 0.8520 - loss: 0.3280 - val_accuracy: 0.8865 - val_loss: 0.2749 - learning_rate: 1.0000e-04\n",
      "Epoch 125/200\n",
      "\u001b[1m63/63\u001b[0m \u001b[32m━━━━━━━━━━━━━━━━━━━━\u001b[0m\u001b[37m\u001b[0m \u001b[1m123s\u001b[0m 2s/step - accuracy: 0.8604 - loss: 0.3276 - val_accuracy: 0.8832 - val_loss: 0.2768 - learning_rate: 1.0000e-04\n",
      "Epoch 126/200\n",
      "\u001b[1m63/63\u001b[0m \u001b[32m━━━━━━━━━━━━━━━━━━━━\u001b[0m\u001b[37m\u001b[0m \u001b[1m127s\u001b[0m 2s/step - accuracy: 0.8613 - loss: 0.3117 - val_accuracy: 0.8865 - val_loss: 0.2753 - learning_rate: 1.0000e-04\n",
      "Epoch 127/200\n",
      "\u001b[1m63/63\u001b[0m \u001b[32m━━━━━━━━━━━━━━━━━━━━\u001b[0m\u001b[37m\u001b[0m \u001b[1m143s\u001b[0m 2s/step - accuracy: 0.8575 - loss: 0.3327 - val_accuracy: 0.8842 - val_loss: 0.2752 - learning_rate: 1.0000e-04\n",
      "Epoch 128/200\n",
      "\u001b[1m63/63\u001b[0m \u001b[32m━━━━━━━━━━━━━━━━━━━━\u001b[0m\u001b[37m\u001b[0m \u001b[1m127s\u001b[0m 2s/step - accuracy: 0.8566 - loss: 0.3287 - val_accuracy: 0.8835 - val_loss: 0.2744 - learning_rate: 1.0000e-04\n",
      "Epoch 129/200\n",
      "\u001b[1m63/63\u001b[0m \u001b[32m━━━━━━━━━━━━━━━━━━━━\u001b[0m\u001b[37m\u001b[0m \u001b[1m127s\u001b[0m 2s/step - accuracy: 0.8653 - loss: 0.3181 - val_accuracy: 0.8832 - val_loss: 0.2743 - learning_rate: 1.0000e-04\n",
      "Epoch 130/200\n",
      "\u001b[1m63/63\u001b[0m \u001b[32m━━━━━━━━━━━━━━━━━━━━\u001b[0m\u001b[37m\u001b[0m \u001b[1m128s\u001b[0m 2s/step - accuracy: 0.8538 - loss: 0.3296 - val_accuracy: 0.8845 - val_loss: 0.2753 - learning_rate: 1.0000e-04\n",
      "Epoch 131/200\n",
      "\u001b[1m63/63\u001b[0m \u001b[32m━━━━━━━━━━━━━━━━━━━━\u001b[0m\u001b[37m\u001b[0m \u001b[1m128s\u001b[0m 2s/step - accuracy: 0.8567 - loss: 0.3312 - val_accuracy: 0.8865 - val_loss: 0.2738 - learning_rate: 1.0000e-04\n",
      "Epoch 132/200\n",
      "\u001b[1m63/63\u001b[0m \u001b[32m━━━━━━━━━━━━━━━━━━━━\u001b[0m\u001b[37m\u001b[0m \u001b[1m127s\u001b[0m 2s/step - accuracy: 0.8596 - loss: 0.3299 - val_accuracy: 0.8882 - val_loss: 0.2739 - learning_rate: 1.0000e-04\n",
      "Epoch 133/200\n",
      "\u001b[1m63/63\u001b[0m \u001b[32m━━━━━━━━━━━━━━━━━━━━\u001b[0m\u001b[37m\u001b[0m \u001b[1m127s\u001b[0m 2s/step - accuracy: 0.8650 - loss: 0.3124 - val_accuracy: 0.8850 - val_loss: 0.2737 - learning_rate: 1.0000e-04\n",
      "Epoch 134/200\n",
      "\u001b[1m63/63\u001b[0m \u001b[32m━━━━━━━━━━━━━━━━━━━━\u001b[0m\u001b[37m\u001b[0m \u001b[1m126s\u001b[0m 2s/step - accuracy: 0.8603 - loss: 0.3182 - val_accuracy: 0.8850 - val_loss: 0.2747 - learning_rate: 1.0000e-04\n",
      "Epoch 135/200\n",
      "\u001b[1m63/63\u001b[0m \u001b[32m━━━━━━━━━━━━━━━━━━━━\u001b[0m\u001b[37m\u001b[0m \u001b[1m125s\u001b[0m 2s/step - accuracy: 0.8694 - loss: 0.3173 - val_accuracy: 0.8850 - val_loss: 0.2747 - learning_rate: 1.0000e-04\n",
      "Epoch 136/200\n",
      "\u001b[1m63/63\u001b[0m \u001b[32m━━━━━━━━━━━━━━━━━━━━\u001b[0m\u001b[37m\u001b[0m \u001b[1m126s\u001b[0m 2s/step - accuracy: 0.8615 - loss: 0.3233 - val_accuracy: 0.8830 - val_loss: 0.2762 - learning_rate: 1.0000e-04\n",
      "Epoch 137/200\n",
      "\u001b[1m63/63\u001b[0m \u001b[32m━━━━━━━━━━━━━━━━━━━━\u001b[0m\u001b[37m\u001b[0m \u001b[1m127s\u001b[0m 2s/step - accuracy: 0.8655 - loss: 0.3199 - val_accuracy: 0.8863 - val_loss: 0.2737 - learning_rate: 1.0000e-04\n",
      "Epoch 138/200\n",
      "\u001b[1m63/63\u001b[0m \u001b[32m━━━━━━━━━━━━━━━━━━━━\u001b[0m\u001b[37m\u001b[0m \u001b[1m126s\u001b[0m 2s/step - accuracy: 0.8543 - loss: 0.3298 - val_accuracy: 0.8867 - val_loss: 0.2742 - learning_rate: 1.0000e-04\n",
      "Epoch 139/200\n",
      "\u001b[1m63/63\u001b[0m \u001b[32m━━━━━━━━━━━━━━━━━━━━\u001b[0m\u001b[37m\u001b[0m \u001b[1m128s\u001b[0m 2s/step - accuracy: 0.8628 - loss: 0.3289 - val_accuracy: 0.8867 - val_loss: 0.2741 - learning_rate: 1.0000e-04\n",
      "Epoch 140/200\n",
      "\u001b[1m63/63\u001b[0m \u001b[32m━━━━━━━━━━━━━━━━━━━━\u001b[0m\u001b[37m\u001b[0m \u001b[1m127s\u001b[0m 2s/step - accuracy: 0.8649 - loss: 0.3201 - val_accuracy: 0.8860 - val_loss: 0.2751 - learning_rate: 1.0000e-04\n",
      "Epoch 141/200\n",
      "\u001b[1m63/63\u001b[0m \u001b[32m━━━━━━━━━━━━━━━━━━━━\u001b[0m\u001b[37m\u001b[0m \u001b[1m128s\u001b[0m 2s/step - accuracy: 0.8596 - loss: 0.3317 - val_accuracy: 0.8845 - val_loss: 0.2751 - learning_rate: 1.0000e-04\n",
      "Epoch 142/200\n",
      "\u001b[1m63/63\u001b[0m \u001b[32m━━━━━━━━━━━━━━━━━━━━\u001b[0m\u001b[37m\u001b[0m \u001b[1m128s\u001b[0m 2s/step - accuracy: 0.8675 - loss: 0.3037 - val_accuracy: 0.8845 - val_loss: 0.2733 - learning_rate: 1.0000e-05\n",
      "Epoch 143/200\n",
      "\u001b[1m63/63\u001b[0m \u001b[32m━━━━━━━━━━━━━━━━━━━━\u001b[0m\u001b[37m\u001b[0m \u001b[1m127s\u001b[0m 2s/step - accuracy: 0.8589 - loss: 0.3138 - val_accuracy: 0.8852 - val_loss: 0.2731 - learning_rate: 1.0000e-05\n",
      "Epoch 144/200\n",
      "\u001b[1m63/63\u001b[0m \u001b[32m━━━━━━━━━━━━━━━━━━━━\u001b[0m\u001b[37m\u001b[0m \u001b[1m128s\u001b[0m 2s/step - accuracy: 0.8666 - loss: 0.3198 - val_accuracy: 0.8848 - val_loss: 0.2727 - learning_rate: 1.0000e-05\n",
      "Epoch 145/200\n",
      "\u001b[1m63/63\u001b[0m \u001b[32m━━━━━━━━━━━━━━━━━━━━\u001b[0m\u001b[37m\u001b[0m \u001b[1m128s\u001b[0m 2s/step - accuracy: 0.8535 - loss: 0.3256 - val_accuracy: 0.8850 - val_loss: 0.2728 - learning_rate: 1.0000e-05\n",
      "Epoch 146/200\n",
      "\u001b[1m63/63\u001b[0m \u001b[32m━━━━━━━━━━━━━━━━━━━━\u001b[0m\u001b[37m\u001b[0m \u001b[1m127s\u001b[0m 2s/step - accuracy: 0.8716 - loss: 0.3104 - val_accuracy: 0.8848 - val_loss: 0.2730 - learning_rate: 1.0000e-05\n",
      "Epoch 147/200\n",
      "\u001b[1m63/63\u001b[0m \u001b[32m━━━━━━━━━━━━━━━━━━━━\u001b[0m\u001b[37m\u001b[0m \u001b[1m129s\u001b[0m 2s/step - accuracy: 0.8643 - loss: 0.3211 - val_accuracy: 0.8850 - val_loss: 0.2729 - learning_rate: 1.0000e-05\n",
      "Epoch 148/200\n",
      "\u001b[1m63/63\u001b[0m \u001b[32m━━━━━━━━━━━━━━━━━━━━\u001b[0m\u001b[37m\u001b[0m \u001b[1m128s\u001b[0m 2s/step - accuracy: 0.8618 - loss: 0.3212 - val_accuracy: 0.8848 - val_loss: 0.2729 - learning_rate: 1.0000e-05\n",
      "Epoch 149/200\n",
      "\u001b[1m63/63\u001b[0m \u001b[32m━━━━━━━━━━━━━━━━━━━━\u001b[0m\u001b[37m\u001b[0m \u001b[1m127s\u001b[0m 2s/step - accuracy: 0.8688 - loss: 0.3179 - val_accuracy: 0.8857 - val_loss: 0.2727 - learning_rate: 1.0000e-05\n",
      "Epoch 150/200\n",
      "\u001b[1m63/63\u001b[0m \u001b[32m━━━━━━━━━━━━━━━━━━━━\u001b[0m\u001b[37m\u001b[0m \u001b[1m128s\u001b[0m 2s/step - accuracy: 0.8653 - loss: 0.3128 - val_accuracy: 0.8840 - val_loss: 0.2733 - learning_rate: 1.0000e-05\n",
      "Epoch 151/200\n",
      "\u001b[1m63/63\u001b[0m \u001b[32m━━━━━━━━━━━━━━━━━━━━\u001b[0m\u001b[37m\u001b[0m \u001b[1m128s\u001b[0m 2s/step - accuracy: 0.8654 - loss: 0.3206 - val_accuracy: 0.8842 - val_loss: 0.2732 - learning_rate: 1.0000e-05\n",
      "Epoch 152/200\n",
      "\u001b[1m63/63\u001b[0m \u001b[32m━━━━━━━━━━━━━━━━━━━━\u001b[0m\u001b[37m\u001b[0m \u001b[1m126s\u001b[0m 2s/step - accuracy: 0.8582 - loss: 0.3280 - val_accuracy: 0.8845 - val_loss: 0.2734 - learning_rate: 1.0000e-05\n",
      "Epoch 153/200\n",
      "\u001b[1m63/63\u001b[0m \u001b[32m━━━━━━━━━━━━━━━━━━━━\u001b[0m\u001b[37m\u001b[0m \u001b[1m127s\u001b[0m 2s/step - accuracy: 0.8677 - loss: 0.3215 - val_accuracy: 0.8863 - val_loss: 0.2727 - learning_rate: 1.0000e-05\n",
      "Epoch 154/200\n",
      "\u001b[1m63/63\u001b[0m \u001b[32m━━━━━━━━━━━━━━━━━━━━\u001b[0m\u001b[37m\u001b[0m \u001b[1m126s\u001b[0m 2s/step - accuracy: 0.8667 - loss: 0.3205 - val_accuracy: 0.8863 - val_loss: 0.2728 - learning_rate: 1.0000e-05\n",
      "Epoch 155/200\n",
      "\u001b[1m63/63\u001b[0m \u001b[32m━━━━━━━━━━━━━━━━━━━━\u001b[0m\u001b[37m\u001b[0m \u001b[1m127s\u001b[0m 2s/step - accuracy: 0.8641 - loss: 0.3102 - val_accuracy: 0.8870 - val_loss: 0.2725 - learning_rate: 1.0000e-05\n",
      "Epoch 156/200\n",
      "\u001b[1m63/63\u001b[0m \u001b[32m━━━━━━━━━━━━━━━━━━━━\u001b[0m\u001b[37m\u001b[0m \u001b[1m127s\u001b[0m 2s/step - accuracy: 0.8600 - loss: 0.3238 - val_accuracy: 0.8865 - val_loss: 0.2726 - learning_rate: 1.0000e-05\n",
      "Epoch 157/200\n",
      "\u001b[1m63/63\u001b[0m \u001b[32m━━━━━━━━━━━━━━━━━━━━\u001b[0m\u001b[37m\u001b[0m \u001b[1m126s\u001b[0m 2s/step - accuracy: 0.8636 - loss: 0.3185 - val_accuracy: 0.8848 - val_loss: 0.2731 - learning_rate: 1.0000e-05\n",
      "Epoch 158/200\n",
      "\u001b[1m63/63\u001b[0m \u001b[32m━━━━━━━━━━━━━━━━━━━━\u001b[0m\u001b[37m\u001b[0m \u001b[1m128s\u001b[0m 2s/step - accuracy: 0.8641 - loss: 0.3195 - val_accuracy: 0.8850 - val_loss: 0.2728 - learning_rate: 1.0000e-05\n",
      "Epoch 159/200\n",
      "\u001b[1m63/63\u001b[0m \u001b[32m━━━━━━━━━━━━━━━━━━━━\u001b[0m\u001b[37m\u001b[0m \u001b[1m130s\u001b[0m 2s/step - accuracy: 0.8613 - loss: 0.3200 - val_accuracy: 0.8860 - val_loss: 0.2728 - learning_rate: 1.0000e-05\n",
      "Epoch 160/200\n",
      "\u001b[1m63/63\u001b[0m \u001b[32m━━━━━━━━━━━━━━━━━━━━\u001b[0m\u001b[37m\u001b[0m \u001b[1m126s\u001b[0m 2s/step - accuracy: 0.8658 - loss: 0.3095 - val_accuracy: 0.8857 - val_loss: 0.2727 - learning_rate: 1.0000e-05\n",
      "Epoch 161/200\n",
      "\u001b[1m63/63\u001b[0m \u001b[32m━━━━━━━━━━━━━━━━━━━━\u001b[0m\u001b[37m\u001b[0m \u001b[1m128s\u001b[0m 2s/step - accuracy: 0.8509 - loss: 0.3334 - val_accuracy: 0.8875 - val_loss: 0.2723 - learning_rate: 1.0000e-05\n",
      "Epoch 162/200\n",
      "\u001b[1m63/63\u001b[0m \u001b[32m━━━━━━━━━━━━━━━━━━━━\u001b[0m\u001b[37m\u001b[0m \u001b[1m126s\u001b[0m 2s/step - accuracy: 0.8603 - loss: 0.3163 - val_accuracy: 0.8867 - val_loss: 0.2726 - learning_rate: 1.0000e-05\n",
      "Epoch 163/200\n",
      "\u001b[1m63/63\u001b[0m \u001b[32m━━━━━━━━━━━━━━━━━━━━\u001b[0m\u001b[37m\u001b[0m \u001b[1m127s\u001b[0m 2s/step - accuracy: 0.8678 - loss: 0.3151 - val_accuracy: 0.8870 - val_loss: 0.2725 - learning_rate: 1.0000e-05\n",
      "Epoch 164/200\n",
      "\u001b[1m63/63\u001b[0m \u001b[32m━━━━━━━━━━━━━━━━━━━━\u001b[0m\u001b[37m\u001b[0m \u001b[1m127s\u001b[0m 2s/step - accuracy: 0.8611 - loss: 0.3208 - val_accuracy: 0.8870 - val_loss: 0.2726 - learning_rate: 1.0000e-05\n",
      "Epoch 165/200\n",
      "\u001b[1m63/63\u001b[0m \u001b[32m━━━━━━━━━━━━━━━━━━━━\u001b[0m\u001b[37m\u001b[0m \u001b[1m126s\u001b[0m 2s/step - accuracy: 0.8603 - loss: 0.3227 - val_accuracy: 0.8873 - val_loss: 0.2726 - learning_rate: 1.0000e-05\n",
      "Epoch 166/200\n",
      "\u001b[1m63/63\u001b[0m \u001b[32m━━━━━━━━━━━━━━━━━━━━\u001b[0m\u001b[37m\u001b[0m \u001b[1m126s\u001b[0m 2s/step - accuracy: 0.8631 - loss: 0.3154 - val_accuracy: 0.8850 - val_loss: 0.2727 - learning_rate: 1.0000e-05\n",
      "Epoch 167/200\n",
      "\u001b[1m63/63\u001b[0m \u001b[32m━━━━━━━━━━━━━━━━━━━━\u001b[0m\u001b[37m\u001b[0m \u001b[1m126s\u001b[0m 2s/step - accuracy: 0.8666 - loss: 0.3182 - val_accuracy: 0.8857 - val_loss: 0.2725 - learning_rate: 1.0000e-05\n",
      "Epoch 168/200\n",
      "\u001b[1m63/63\u001b[0m \u001b[32m━━━━━━━━━━━━━━━━━━━━\u001b[0m\u001b[37m\u001b[0m \u001b[1m127s\u001b[0m 2s/step - accuracy: 0.8665 - loss: 0.3097 - val_accuracy: 0.8857 - val_loss: 0.2724 - learning_rate: 1.0000e-05\n",
      "Epoch 169/200\n",
      "\u001b[1m63/63\u001b[0m \u001b[32m━━━━━━━━━━━━━━━━━━━━\u001b[0m\u001b[37m\u001b[0m \u001b[1m127s\u001b[0m 2s/step - accuracy: 0.8637 - loss: 0.3151 - val_accuracy: 0.8867 - val_loss: 0.2722 - learning_rate: 1.0000e-05\n",
      "Epoch 170/200\n",
      "\u001b[1m63/63\u001b[0m \u001b[32m━━━━━━━━━━━━━━━━━━━━\u001b[0m\u001b[37m\u001b[0m \u001b[1m127s\u001b[0m 2s/step - accuracy: 0.8609 - loss: 0.3203 - val_accuracy: 0.8855 - val_loss: 0.2725 - learning_rate: 1.0000e-05\n",
      "Epoch 171/200\n",
      "\u001b[1m63/63\u001b[0m \u001b[32m━━━━━━━━━━━━━━━━━━━━\u001b[0m\u001b[37m\u001b[0m \u001b[1m127s\u001b[0m 2s/step - accuracy: 0.8548 - loss: 0.3244 - val_accuracy: 0.8865 - val_loss: 0.2721 - learning_rate: 1.0000e-05\n",
      "Epoch 172/200\n",
      "\u001b[1m63/63\u001b[0m \u001b[32m━━━━━━━━━━━━━━━━━━━━\u001b[0m\u001b[37m\u001b[0m \u001b[1m126s\u001b[0m 2s/step - accuracy: 0.8577 - loss: 0.3258 - val_accuracy: 0.8860 - val_loss: 0.2722 - learning_rate: 1.0000e-05\n",
      "Epoch 173/200\n",
      "\u001b[1m63/63\u001b[0m \u001b[32m━━━━━━━━━━━━━━━━━━━━\u001b[0m\u001b[37m\u001b[0m \u001b[1m127s\u001b[0m 2s/step - accuracy: 0.8654 - loss: 0.3219 - val_accuracy: 0.8865 - val_loss: 0.2720 - learning_rate: 1.0000e-05\n",
      "Epoch 174/200\n",
      "\u001b[1m63/63\u001b[0m \u001b[32m━━━━━━━━━━━━━━━━━━━━\u001b[0m\u001b[37m\u001b[0m \u001b[1m126s\u001b[0m 2s/step - accuracy: 0.8546 - loss: 0.3322 - val_accuracy: 0.8860 - val_loss: 0.2722 - learning_rate: 1.0000e-05\n",
      "Epoch 175/200\n",
      "\u001b[1m63/63\u001b[0m \u001b[32m━━━━━━━━━━━━━━━━━━━━\u001b[0m\u001b[37m\u001b[0m \u001b[1m126s\u001b[0m 2s/step - accuracy: 0.8686 - loss: 0.3140 - val_accuracy: 0.8855 - val_loss: 0.2722 - learning_rate: 1.0000e-05\n",
      "Epoch 176/200\n",
      "\u001b[1m63/63\u001b[0m \u001b[32m━━━━━━━━━━━━━━━━━━━━\u001b[0m\u001b[37m\u001b[0m \u001b[1m127s\u001b[0m 2s/step - accuracy: 0.8694 - loss: 0.3134 - val_accuracy: 0.8863 - val_loss: 0.2722 - learning_rate: 1.0000e-05\n",
      "Epoch 177/200\n",
      "\u001b[1m63/63\u001b[0m \u001b[32m━━━━━━━━━━━━━━━━━━━━\u001b[0m\u001b[37m\u001b[0m \u001b[1m126s\u001b[0m 2s/step - accuracy: 0.8561 - loss: 0.3256 - val_accuracy: 0.8855 - val_loss: 0.2723 - learning_rate: 1.0000e-05\n",
      "Epoch 178/200\n",
      "\u001b[1m63/63\u001b[0m \u001b[32m━━━━━━━━━━━━━━━━━━━━\u001b[0m\u001b[37m\u001b[0m \u001b[1m126s\u001b[0m 2s/step - accuracy: 0.8665 - loss: 0.3111 - val_accuracy: 0.8855 - val_loss: 0.2722 - learning_rate: 1.0000e-05\n",
      "Epoch 179/200\n",
      "\u001b[1m63/63\u001b[0m \u001b[32m━━━━━━━━━━━━━━━━━━━━\u001b[0m\u001b[37m\u001b[0m \u001b[1m127s\u001b[0m 2s/step - accuracy: 0.8599 - loss: 0.3220 - val_accuracy: 0.8863 - val_loss: 0.2721 - learning_rate: 1.0000e-05\n",
      "Epoch 180/200\n",
      "\u001b[1m63/63\u001b[0m \u001b[32m━━━━━━━━━━━━━━━━━━━━\u001b[0m\u001b[37m\u001b[0m \u001b[1m127s\u001b[0m 2s/step - accuracy: 0.8666 - loss: 0.3138 - val_accuracy: 0.8857 - val_loss: 0.2721 - learning_rate: 1.0000e-05\n",
      "Epoch 181/200\n",
      "\u001b[1m63/63\u001b[0m \u001b[32m━━━━━━━━━━━━━━━━━━━━\u001b[0m\u001b[37m\u001b[0m \u001b[1m127s\u001b[0m 2s/step - accuracy: 0.8533 - loss: 0.3230 - val_accuracy: 0.8865 - val_loss: 0.2720 - learning_rate: 1.0000e-05\n",
      "Epoch 182/200\n",
      "\u001b[1m63/63\u001b[0m \u001b[32m━━━━━━━━━━━━━━━━━━━━\u001b[0m\u001b[37m\u001b[0m \u001b[1m126s\u001b[0m 2s/step - accuracy: 0.8671 - loss: 0.3147 - val_accuracy: 0.8852 - val_loss: 0.2718 - learning_rate: 1.0000e-05\n",
      "Epoch 183/200\n",
      "\u001b[1m63/63\u001b[0m \u001b[32m━━━━━━━━━━━━━━━━━━━━\u001b[0m\u001b[37m\u001b[0m \u001b[1m127s\u001b[0m 2s/step - accuracy: 0.8689 - loss: 0.3098 - val_accuracy: 0.8857 - val_loss: 0.2720 - learning_rate: 1.0000e-05\n",
      "Epoch 184/200\n",
      "\u001b[1m63/63\u001b[0m \u001b[32m━━━━━━━━━━━━━━━━━━━━\u001b[0m\u001b[37m\u001b[0m \u001b[1m128s\u001b[0m 2s/step - accuracy: 0.8639 - loss: 0.3176 - val_accuracy: 0.8865 - val_loss: 0.2722 - learning_rate: 1.0000e-05\n",
      "Epoch 185/200\n",
      "\u001b[1m63/63\u001b[0m \u001b[32m━━━━━━━━━━━━━━━━━━━━\u001b[0m\u001b[37m\u001b[0m \u001b[1m128s\u001b[0m 2s/step - accuracy: 0.8655 - loss: 0.3085 - val_accuracy: 0.8863 - val_loss: 0.2722 - learning_rate: 1.0000e-05\n",
      "Epoch 186/200\n",
      "\u001b[1m63/63\u001b[0m \u001b[32m━━━━━━━━━━━━━━━━━━━━\u001b[0m\u001b[37m\u001b[0m \u001b[1m124s\u001b[0m 2s/step - accuracy: 0.8625 - loss: 0.3200 - val_accuracy: 0.8863 - val_loss: 0.2721 - learning_rate: 1.0000e-05\n",
      "Epoch 187/200\n",
      "\u001b[1m63/63\u001b[0m \u001b[32m━━━━━━━━━━━━━━━━━━━━\u001b[0m\u001b[37m\u001b[0m \u001b[1m124s\u001b[0m 2s/step - accuracy: 0.8652 - loss: 0.3295 - val_accuracy: 0.8857 - val_loss: 0.2721 - learning_rate: 1.0000e-05\n",
      "Epoch 188/200\n",
      "\u001b[1m63/63\u001b[0m \u001b[32m━━━━━━━━━━━━━━━━━━━━\u001b[0m\u001b[37m\u001b[0m \u001b[1m124s\u001b[0m 2s/step - accuracy: 0.8607 - loss: 0.3239 - val_accuracy: 0.8860 - val_loss: 0.2723 - learning_rate: 1.0000e-05\n",
      "Epoch 189/200\n",
      "\u001b[1m63/63\u001b[0m \u001b[32m━━━━━━━━━━━━━━━━━━━━\u001b[0m\u001b[37m\u001b[0m \u001b[1m124s\u001b[0m 2s/step - accuracy: 0.8701 - loss: 0.3151 - val_accuracy: 0.8863 - val_loss: 0.2721 - learning_rate: 1.0000e-05\n",
      "Epoch 190/200\n",
      "\u001b[1m63/63\u001b[0m \u001b[32m━━━━━━━━━━━━━━━━━━━━\u001b[0m\u001b[37m\u001b[0m \u001b[1m125s\u001b[0m 2s/step - accuracy: 0.8607 - loss: 0.3290 - val_accuracy: 0.8860 - val_loss: 0.2723 - learning_rate: 1.0000e-05\n",
      "Epoch 191/200\n",
      "\u001b[1m63/63\u001b[0m \u001b[32m━━━━━━━━━━━━━━━━━━━━\u001b[0m\u001b[37m\u001b[0m \u001b[1m126s\u001b[0m 2s/step - accuracy: 0.8693 - loss: 0.3134 - val_accuracy: 0.8863 - val_loss: 0.2722 - learning_rate: 1.0000e-05\n",
      "Epoch 192/200\n",
      "\u001b[1m63/63\u001b[0m \u001b[32m━━━━━━━━━━━━━━━━━━━━\u001b[0m\u001b[37m\u001b[0m \u001b[1m124s\u001b[0m 2s/step - accuracy: 0.8623 - loss: 0.3184 - val_accuracy: 0.8855 - val_loss: 0.2722 - learning_rate: 1.0000e-05\n",
      "Epoch 192: early stopping\n",
      "Restoring model weights from the end of the best epoch: 182.\n"
     ]
    }
   ],
   "source": [
    "# callback and fit\n",
    "early_stopping_callbacks = [tf.keras.callbacks.EarlyStopping(monitor = 'val_loss', patience = 10, restore_best_weights = True, verbose = 1),\n",
    "                            tf.keras.callbacks.ReduceLROnPlateau(paitence = 10, monitor = 'val_loss', min_lr = 0.00001)]\n",
    "\n",
    "history = model.fit(tr_set, epochs = 200, validation_data = v_set, callbacks = early_stopping_callbacks)"
   ]
  },
  {
   "cell_type": "code",
   "execution_count": 9,
   "id": "6b9d9118",
   "metadata": {
    "execution": {
     "iopub.execute_input": "2024-03-04T12:34:34.389246Z",
     "iopub.status.busy": "2024-03-04T12:34:34.388860Z",
     "iopub.status.idle": "2024-03-04T12:34:34.947944Z",
     "shell.execute_reply": "2024-03-04T12:34:34.947009Z"
    },
    "id": "aT97vDrB66EQ",
    "papermill": {
     "duration": 1.629167,
     "end_time": "2024-03-04T12:34:34.950032",
     "exception": false,
     "start_time": "2024-03-04T12:34:33.320865",
     "status": "completed"
    },
    "tags": []
   },
   "outputs": [
    {
     "data": {
      "image/png": "[encoded data removed]",
      "text/plain": [
       "<Figure size 640x480 with 1 Axes>"
      ]
     },
     "metadata": {},
     "output_type": "display_data"
    },
    {
     "data": {
      "image/png": "[encoded data removed]",
      "text/plain": [
       "<Figure size 640x480 with 1 Axes>"
      ]
     },
     "metadata": {},
     "output_type": "display_data"
    }
   ],
   "source": [
    "# loss curve\n",
    "\n",
    "l = np.concatenate([history.history['loss']])\n",
    "acc = np.concatenate([history.history['accuracy']])\n",
    "lv = np.concatenate([history.history['val_loss']])\n",
    "accv = np.concatenate([history.history['val_accuracy']])\n",
    "\n",
    "plt.plot(l, label=\"Loss\")\n",
    "plt.plot(acc, label=\"Accuracy\")\n",
    "plt.legend()\n",
    "plt.show()\n",
    "plt.plot(lv, label=\"Val_Loss\")\n",
    "plt.plot(accv, label=\"Val_Accuracy\")\n",
    "plt.legend()\n",
    "plt.show()"
   ]
  },
  {
   "cell_type": "code",
   "execution_count": 10,
   "id": "3f85589e",
   "metadata": {
    "execution": {
     "iopub.execute_input": "2024-03-04T12:34:37.137073Z",
     "iopub.status.busy": "2024-03-04T12:34:37.136469Z",
     "iopub.status.idle": "2024-03-04T12:34:38.795610Z",
     "shell.execute_reply": "2024-03-04T12:34:38.794737Z"
    },
    "papermill": {
     "duration": 2.800512,
     "end_time": "2024-03-04T12:34:38.797896",
     "exception": false,
     "start_time": "2024-03-04T12:34:35.997384",
     "status": "completed"
    },
    "tags": []
   },
   "outputs": [],
   "source": [
    "model.save(\"resnet152_pretrain_2.keras\")"
   ]
  },
  {
   "cell_type": "code",
   "execution_count": 11,
   "id": "039edebc",
   "metadata": {
    "execution": {
     "iopub.execute_input": "2024-03-04T12:34:40.880230Z",
     "iopub.status.busy": "2024-03-04T12:34:40.879383Z",
     "iopub.status.idle": "2024-03-04T14:13:11.369898Z",
     "shell.execute_reply": "2024-03-04T14:13:11.368822Z"
    },
    "id": "jYjmoez2eSuv",
    "papermill": {
     "duration": 5912.334976,
     "end_time": "2024-03-04T14:13:12.185335",
     "exception": false,
     "start_time": "2024-03-04T12:34:39.850359",
     "status": "completed"
    },
    "tags": []
   },
   "outputs": [
    {
     "name": "stdout",
     "output_type": "stream",
     "text": [
      "Epoch 1/200\n"
     ]
    },
    {
     "name": "stderr",
     "output_type": "stream",
     "text": [
      "W0000 00:00:1709555739.809276      84 graph_launch.cc:671] Fallback to op-by-op mode because memset node breaks graph update\n"
     ]
    },
    {
     "name": "stdout",
     "output_type": "stream",
     "text": [
      "\u001b[1m 4/63\u001b[0m \u001b[32m━\u001b[0m\u001b[37m━━━━━━━━━━━━━━━━━━━\u001b[0m \u001b[1m6:39\u001b[0m 7s/step - accuracy: 0.8581 - loss: 0.3458"
     ]
    },
    {
     "name": "stderr",
     "output_type": "stream",
     "text": [
      "W0000 00:00:1709555760.270111      84 graph_launch.cc:671] Fallback to op-by-op mode because memset node breaks graph update\n"
     ]
    },
    {
     "name": "stdout",
     "output_type": "stream",
     "text": [
      "\u001b[1m63/63\u001b[0m \u001b[32m━━━━━━━━━━━━━━━━━━━━\u001b[0m\u001b[37m\u001b[0m \u001b[1m0s\u001b[0m 2s/step - accuracy: 0.8327 - loss: 0.3729"
     ]
    },
    {
     "name": "stderr",
     "output_type": "stream",
     "text": [
      "W0000 00:00:1709555863.979532      84 graph_launch.cc:671] Fallback to op-by-op mode because memset node breaks graph update\n",
      "W0000 00:00:1709555896.154287      83 graph_launch.cc:671] Fallback to op-by-op mode because memset node breaks graph update\n"
     ]
    },
    {
     "name": "stdout",
     "output_type": "stream",
     "text": [
      "\u001b[1m63/63\u001b[0m \u001b[32m━━━━━━━━━━━━━━━━━━━━\u001b[0m\u001b[37m\u001b[0m \u001b[1m214s\u001b[0m 3s/step - accuracy: 0.8328 - loss: 0.3728 - val_accuracy: 0.8737 - val_loss: 0.2902\n",
      "Epoch 2/200\n",
      "\u001b[1m63/63\u001b[0m \u001b[32m━━━━━━━━━━━━━━━━━━━━\u001b[0m\u001b[37m\u001b[0m \u001b[1m124s\u001b[0m 2s/step - accuracy: 0.8579 - loss: 0.3347 - val_accuracy: 0.8788 - val_loss: 0.2791\n",
      "Epoch 3/200\n",
      "\u001b[1m63/63\u001b[0m \u001b[32m━━━━━━━━━━━━━━━━━━━━\u001b[0m\u001b[37m\u001b[0m \u001b[1m125s\u001b[0m 2s/step - accuracy: 0.8736 - loss: 0.3085 - val_accuracy: 0.8880 - val_loss: 0.2649\n",
      "Epoch 4/200\n",
      "\u001b[1m63/63\u001b[0m \u001b[32m━━━━━━━━━━━━━━━━━━━━\u001b[0m\u001b[37m\u001b[0m \u001b[1m126s\u001b[0m 2s/step - accuracy: 0.8696 - loss: 0.3057 - val_accuracy: 0.8950 - val_loss: 0.2560\n",
      "Epoch 5/200\n",
      "\u001b[1m63/63\u001b[0m \u001b[32m━━━━━━━━━━━━━━━━━━━━\u001b[0m\u001b[37m\u001b[0m \u001b[1m127s\u001b[0m 2s/step - accuracy: 0.8836 - loss: 0.2742 - val_accuracy: 0.8988 - val_loss: 0.2467\n",
      "Epoch 6/200\n",
      "\u001b[1m63/63\u001b[0m \u001b[32m━━━━━━━━━━━━━━━━━━━━\u001b[0m\u001b[37m\u001b[0m \u001b[1m125s\u001b[0m 2s/step - accuracy: 0.8958 - loss: 0.2557 - val_accuracy: 0.9028 - val_loss: 0.2355\n",
      "Epoch 7/200\n",
      "\u001b[1m63/63\u001b[0m \u001b[32m━━━━━━━━━━━━━━━━━━━━\u001b[0m\u001b[37m\u001b[0m \u001b[1m125s\u001b[0m 2s/step - accuracy: 0.8968 - loss: 0.2503 - val_accuracy: 0.9062 - val_loss: 0.2257\n",
      "Epoch 8/200\n",
      "\u001b[1m63/63\u001b[0m \u001b[32m━━━━━━━━━━━━━━━━━━━━\u001b[0m\u001b[37m\u001b[0m \u001b[1m126s\u001b[0m 2s/step - accuracy: 0.9037 - loss: 0.2368 - val_accuracy: 0.9097 - val_loss: 0.2193\n",
      "Epoch 9/200\n",
      "\u001b[1m63/63\u001b[0m \u001b[32m━━━━━━━━━━━━━━━━━━━━\u001b[0m\u001b[37m\u001b[0m \u001b[1m126s\u001b[0m 2s/step - accuracy: 0.9065 - loss: 0.2373 - val_accuracy: 0.9110 - val_loss: 0.2115\n",
      "Epoch 10/200\n",
      "\u001b[1m63/63\u001b[0m \u001b[32m━━━━━━━━━━━━━━━━━━━━\u001b[0m\u001b[37m\u001b[0m \u001b[1m123s\u001b[0m 2s/step - accuracy: 0.9128 - loss: 0.2229 - val_accuracy: 0.9147 - val_loss: 0.2079\n",
      "Epoch 11/200\n",
      "\u001b[1m63/63\u001b[0m \u001b[32m━━━━━━━━━━━━━━━━━━━━\u001b[0m\u001b[37m\u001b[0m \u001b[1m123s\u001b[0m 2s/step - accuracy: 0.9141 - loss: 0.2160 - val_accuracy: 0.9155 - val_loss: 0.2038\n",
      "Epoch 12/200\n",
      "\u001b[1m63/63\u001b[0m \u001b[32m━━━━━━━━━━━━━━━━━━━━\u001b[0m\u001b[37m\u001b[0m \u001b[1m123s\u001b[0m 2s/step - accuracy: 0.9200 - loss: 0.2051 - val_accuracy: 0.9170 - val_loss: 0.2021\n",
      "Epoch 13/200\n",
      "\u001b[1m63/63\u001b[0m \u001b[32m━━━━━━━━━━━━━━━━━━━━\u001b[0m\u001b[37m\u001b[0m \u001b[1m123s\u001b[0m 2s/step - accuracy: 0.9176 - loss: 0.2011 - val_accuracy: 0.9202 - val_loss: 0.1942\n",
      "Epoch 14/200\n",
      "\u001b[1m63/63\u001b[0m \u001b[32m━━━━━━━━━━━━━━━━━━━━\u001b[0m\u001b[37m\u001b[0m \u001b[1m124s\u001b[0m 2s/step - accuracy: 0.9284 - loss: 0.1807 - val_accuracy: 0.9208 - val_loss: 0.1958\n",
      "Epoch 15/200\n",
      "\u001b[1m63/63\u001b[0m \u001b[32m━━━━━━━━━━━━━━━━━━━━\u001b[0m\u001b[37m\u001b[0m \u001b[1m123s\u001b[0m 2s/step - accuracy: 0.9301 - loss: 0.1834 - val_accuracy: 0.9247 - val_loss: 0.1886\n",
      "Epoch 16/200\n",
      "\u001b[1m63/63\u001b[0m \u001b[32m━━━━━━━━━━━━━━━━━━━━\u001b[0m\u001b[37m\u001b[0m \u001b[1m124s\u001b[0m 2s/step - accuracy: 0.9217 - loss: 0.1908 - val_accuracy: 0.9225 - val_loss: 0.1860\n",
      "Epoch 17/200\n",
      "\u001b[1m63/63\u001b[0m \u001b[32m━━━━━━━━━━━━━━━━━━━━\u001b[0m\u001b[37m\u001b[0m \u001b[1m123s\u001b[0m 2s/step - accuracy: 0.9332 - loss: 0.1748 - val_accuracy: 0.9260 - val_loss: 0.1784\n",
      "Epoch 18/200\n",
      "\u001b[1m63/63\u001b[0m \u001b[32m━━━━━━━━━━━━━━━━━━━━\u001b[0m\u001b[37m\u001b[0m \u001b[1m123s\u001b[0m 2s/step - accuracy: 0.9329 - loss: 0.1683 - val_accuracy: 0.9270 - val_loss: 0.1811\n",
      "Epoch 19/200\n",
      "\u001b[1m63/63\u001b[0m \u001b[32m━━━━━━━━━━━━━━━━━━━━\u001b[0m\u001b[37m\u001b[0m \u001b[1m124s\u001b[0m 2s/step - accuracy: 0.9381 - loss: 0.1594 - val_accuracy: 0.9275 - val_loss: 0.1769\n",
      "Epoch 20/200\n",
      "\u001b[1m63/63\u001b[0m \u001b[32m━━━━━━━━━━━━━━━━━━━━\u001b[0m\u001b[37m\u001b[0m \u001b[1m124s\u001b[0m 2s/step - accuracy: 0.9339 - loss: 0.1683 - val_accuracy: 0.9300 - val_loss: 0.1726\n",
      "Epoch 21/200\n",
      "\u001b[1m63/63\u001b[0m \u001b[32m━━━━━━━━━━━━━━━━━━━━\u001b[0m\u001b[37m\u001b[0m \u001b[1m123s\u001b[0m 2s/step - accuracy: 0.9386 - loss: 0.1614 - val_accuracy: 0.9312 - val_loss: 0.1732\n",
      "Epoch 22/200\n",
      "\u001b[1m63/63\u001b[0m \u001b[32m━━━━━━━━━━━━━━━━━━━━\u001b[0m\u001b[37m\u001b[0m \u001b[1m123s\u001b[0m 2s/step - accuracy: 0.9325 - loss: 0.1601 - val_accuracy: 0.9312 - val_loss: 0.1737\n",
      "Epoch 23/200\n",
      "\u001b[1m63/63\u001b[0m \u001b[32m━━━━━━━━━━━━━━━━━━━━\u001b[0m\u001b[37m\u001b[0m \u001b[1m126s\u001b[0m 2s/step - accuracy: 0.9447 - loss: 0.1432 - val_accuracy: 0.9323 - val_loss: 0.1692\n",
      "Epoch 24/200\n",
      "\u001b[1m63/63\u001b[0m \u001b[32m━━━━━━━━━━━━━━━━━━━━\u001b[0m\u001b[37m\u001b[0m \u001b[1m125s\u001b[0m 2s/step - accuracy: 0.9405 - loss: 0.1521 - val_accuracy: 0.9340 - val_loss: 0.1644\n",
      "Epoch 25/200\n",
      "\u001b[1m63/63\u001b[0m \u001b[32m━━━━━━━━━━━━━━━━━━━━\u001b[0m\u001b[37m\u001b[0m \u001b[1m124s\u001b[0m 2s/step - accuracy: 0.9341 - loss: 0.1621 - val_accuracy: 0.9335 - val_loss: 0.1649\n",
      "Epoch 26/200\n",
      "\u001b[1m63/63\u001b[0m \u001b[32m━━━━━━━━━━━━━━━━━━━━\u001b[0m\u001b[37m\u001b[0m \u001b[1m126s\u001b[0m 2s/step - accuracy: 0.9522 - loss: 0.1310 - val_accuracy: 0.9352 - val_loss: 0.1654\n",
      "Epoch 27/200\n",
      "\u001b[1m63/63\u001b[0m \u001b[32m━━━━━━━━━━━━━━━━━━━━\u001b[0m\u001b[37m\u001b[0m \u001b[1m124s\u001b[0m 2s/step - accuracy: 0.9464 - loss: 0.1402 - val_accuracy: 0.9355 - val_loss: 0.1590\n",
      "Epoch 28/200\n",
      "\u001b[1m63/63\u001b[0m \u001b[32m━━━━━━━━━━━━━━━━━━━━\u001b[0m\u001b[37m\u001b[0m \u001b[1m124s\u001b[0m 2s/step - accuracy: 0.9445 - loss: 0.1363 - val_accuracy: 0.9375 - val_loss: 0.1611\n",
      "Epoch 29/200\n",
      "\u001b[1m63/63\u001b[0m \u001b[32m━━━━━━━━━━━━━━━━━━━━\u001b[0m\u001b[37m\u001b[0m \u001b[1m124s\u001b[0m 2s/step - accuracy: 0.9483 - loss: 0.1264 - val_accuracy: 0.9373 - val_loss: 0.1590\n",
      "Epoch 30/200\n",
      "\u001b[1m63/63\u001b[0m \u001b[32m━━━━━━━━━━━━━━━━━━━━\u001b[0m\u001b[37m\u001b[0m \u001b[1m123s\u001b[0m 2s/step - accuracy: 0.9511 - loss: 0.1288 - val_accuracy: 0.9385 - val_loss: 0.1601\n",
      "Epoch 31/200\n",
      "\u001b[1m63/63\u001b[0m \u001b[32m━━━━━━━━━━━━━━━━━━━━\u001b[0m\u001b[37m\u001b[0m \u001b[1m123s\u001b[0m 2s/step - accuracy: 0.9555 - loss: 0.1210 - val_accuracy: 0.9392 - val_loss: 0.1579\n",
      "Epoch 32/200\n",
      "\u001b[1m63/63\u001b[0m \u001b[32m━━━━━━━━━━━━━━━━━━━━\u001b[0m\u001b[37m\u001b[0m \u001b[1m124s\u001b[0m 2s/step - accuracy: 0.9559 - loss: 0.1132 - val_accuracy: 0.9390 - val_loss: 0.1556\n",
      "Epoch 33/200\n",
      "\u001b[1m63/63\u001b[0m \u001b[32m━━━━━━━━━━━━━━━━━━━━\u001b[0m\u001b[37m\u001b[0m \u001b[1m124s\u001b[0m 2s/step - accuracy: 0.9562 - loss: 0.1132 - val_accuracy: 0.9398 - val_loss: 0.1588\n",
      "Epoch 34/200\n",
      "\u001b[1m63/63\u001b[0m \u001b[32m━━━━━━━━━━━━━━━━━━━━\u001b[0m\u001b[37m\u001b[0m \u001b[1m122s\u001b[0m 2s/step - accuracy: 0.9609 - loss: 0.1104 - val_accuracy: 0.9402 - val_loss: 0.1557\n",
      "Epoch 35/200\n",
      "\u001b[1m63/63\u001b[0m \u001b[32m━━━━━━━━━━━━━━━━━━━━\u001b[0m\u001b[37m\u001b[0m \u001b[1m122s\u001b[0m 2s/step - accuracy: 0.9561 - loss: 0.1178 - val_accuracy: 0.9398 - val_loss: 0.1552\n",
      "Epoch 36/200\n",
      "\u001b[1m63/63\u001b[0m \u001b[32m━━━━━━━━━━━━━━━━━━━━\u001b[0m\u001b[37m\u001b[0m \u001b[1m124s\u001b[0m 2s/step - accuracy: 0.9542 - loss: 0.1189 - val_accuracy: 0.9398 - val_loss: 0.1516\n",
      "Epoch 37/200\n",
      "\u001b[1m63/63\u001b[0m \u001b[32m━━━━━━━━━━━━━━━━━━━━\u001b[0m\u001b[37m\u001b[0m \u001b[1m122s\u001b[0m 2s/step - accuracy: 0.9622 - loss: 0.1009 - val_accuracy: 0.9417 - val_loss: 0.1468\n",
      "Epoch 38/200\n",
      "\u001b[1m63/63\u001b[0m \u001b[32m━━━━━━━━━━━━━━━━━━━━\u001b[0m\u001b[37m\u001b[0m \u001b[1m123s\u001b[0m 2s/step - accuracy: 0.9624 - loss: 0.1032 - val_accuracy: 0.9388 - val_loss: 0.1512\n",
      "Epoch 39/200\n",
      "\u001b[1m63/63\u001b[0m \u001b[32m━━━━━━━━━━━━━━━━━━━━\u001b[0m\u001b[37m\u001b[0m \u001b[1m122s\u001b[0m 2s/step - accuracy: 0.9663 - loss: 0.0979 - val_accuracy: 0.9395 - val_loss: 0.1547\n",
      "Epoch 40/200\n",
      "\u001b[1m63/63\u001b[0m \u001b[32m━━━━━━━━━━━━━━━━━━━━\u001b[0m\u001b[37m\u001b[0m \u001b[1m121s\u001b[0m 2s/step - accuracy: 0.9659 - loss: 0.0959 - val_accuracy: 0.9398 - val_loss: 0.1484\n",
      "Epoch 41/200\n",
      "\u001b[1m63/63\u001b[0m \u001b[32m━━━━━━━━━━━━━━━━━━━━\u001b[0m\u001b[37m\u001b[0m \u001b[1m122s\u001b[0m 2s/step - accuracy: 0.9663 - loss: 0.0933 - val_accuracy: 0.9402 - val_loss: 0.1566\n",
      "Epoch 42/200\n",
      "\u001b[1m63/63\u001b[0m \u001b[32m━━━━━━━━━━━━━━━━━━━━\u001b[0m\u001b[37m\u001b[0m \u001b[1m122s\u001b[0m 2s/step - accuracy: 0.9641 - loss: 0.1011 - val_accuracy: 0.9385 - val_loss: 0.1565\n",
      "Epoch 43/200\n",
      "\u001b[1m63/63\u001b[0m \u001b[32m━━━━━━━━━━━━━━━━━━━━\u001b[0m\u001b[37m\u001b[0m \u001b[1m123s\u001b[0m 2s/step - accuracy: 0.9653 - loss: 0.0922 - val_accuracy: 0.9400 - val_loss: 0.1481\n",
      "Epoch 44/200\n",
      "\u001b[1m63/63\u001b[0m \u001b[32m━━━━━━━━━━━━━━━━━━━━\u001b[0m\u001b[37m\u001b[0m \u001b[1m124s\u001b[0m 2s/step - accuracy: 0.9665 - loss: 0.0887 - val_accuracy: 0.9420 - val_loss: 0.1525\n",
      "Epoch 45/200\n",
      "\u001b[1m63/63\u001b[0m \u001b[32m━━━━━━━━━━━━━━━━━━━━\u001b[0m\u001b[37m\u001b[0m \u001b[1m122s\u001b[0m 2s/step - accuracy: 0.9665 - loss: 0.0850 - val_accuracy: 0.9417 - val_loss: 0.1587\n",
      "Epoch 46/200\n",
      "\u001b[1m63/63\u001b[0m \u001b[32m━━━━━━━━━━━━━━━━━━━━\u001b[0m\u001b[37m\u001b[0m \u001b[1m126s\u001b[0m 2s/step - accuracy: 0.9653 - loss: 0.0933 - val_accuracy: 0.9415 - val_loss: 0.1642\n",
      "Epoch 47/200\n",
      "\u001b[1m63/63\u001b[0m \u001b[32m━━━━━━━━━━━━━━━━━━━━\u001b[0m\u001b[37m\u001b[0m \u001b[1m124s\u001b[0m 2s/step - accuracy: 0.9676 - loss: 0.0910 - val_accuracy: 0.9417 - val_loss: 0.1606\n",
      "Epoch 47: early stopping\n",
      "Restoring model weights from the end of the best epoch: 37.\n"
     ]
    }
   ],
   "source": [
    "# fine tune\n",
    "\n",
    "base_model = model.layers[1]\n",
    "base_model.trainable = True\n",
    "\n",
    "fine_tune_at = 500\n",
    "\n",
    "for layer in base_model.layers[:fine_tune_at]:\n",
    "  layer.trainable = False\n",
    "\n",
    "early_stopping_callbacks = tf.keras.callbacks.EarlyStopping(monitor = 'val_loss', patience = 10,restore_best_weights = True, verbose = 1)\n",
    "\n",
    "\n",
    "model.compile(loss=tf.keras.losses.SparseCategoricalCrossentropy(from_logits=False), optimizer=tf.keras.optimizers.Adam(learning_rate=0.00001), metrics=[\"accuracy\"])\n",
    "\n",
    "history_ft = model.fit(tr_set, epochs = 200, validation_data = te_set, callbacks = [early_stopping_callbacks])"
   ]
  },
  {
   "cell_type": "code",
   "execution_count": 12,
   "id": "aa629d4e",
   "metadata": {
    "execution": {
     "iopub.execute_input": "2024-03-04T14:13:14.929545Z",
     "iopub.status.busy": "2024-03-04T14:13:14.928796Z",
     "iopub.status.idle": "2024-03-04T14:13:16.993866Z",
     "shell.execute_reply": "2024-03-04T14:13:16.992884Z"
    },
    "papermill": {
     "duration": 3.361061,
     "end_time": "2024-03-04T14:13:16.996125",
     "exception": false,
     "start_time": "2024-03-04T14:13:13.635064",
     "status": "completed"
    },
    "tags": []
   },
   "outputs": [],
   "source": [
    "model.save(\"resnet152_final_2.keras\")"
   ]
  },
  {
   "cell_type": "code",
   "execution_count": 13,
   "id": "46d407c1",
   "metadata": {
    "execution": {
     "iopub.execute_input": "2024-03-04T14:13:19.697076Z",
     "iopub.status.busy": "2024-03-04T14:13:19.695915Z",
     "iopub.status.idle": "2024-03-04T14:13:20.175462Z",
     "shell.execute_reply": "2024-03-04T14:13:20.174530Z"
    },
    "id": "6Hxl2YpVeiIR",
    "papermill": {
     "duration": 1.898268,
     "end_time": "2024-03-04T14:13:20.177633",
     "exception": false,
     "start_time": "2024-03-04T14:13:18.279365",
     "status": "completed"
    },
    "tags": []
   },
   "outputs": [
    {
     "data": {
      "image/png": "[encoded data removed]",
      "text/plain": [
       "<Figure size 640x480 with 1 Axes>"
      ]
     },
     "metadata": {},
     "output_type": "display_data"
    },
    {
     "data": {
      "image/png": "[encoded data removed]",
      "text/plain": [
       "<Figure size 640x480 with 1 Axes>"
      ]
     },
     "metadata": {},
     "output_type": "display_data"
    }
   ],
   "source": [
    "# loss curve\n",
    "\n",
    "l = np.concatenate([history_ft.history['loss']])\n",
    "acc = np.concatenate([history_ft.history['accuracy']])\n",
    "lv = np.concatenate([history_ft.history['val_loss']])\n",
    "accv = np.concatenate([history_ft.history['val_accuracy']])\n",
    "\n",
    "plt.plot(l, label=\"Loss\")\n",
    "plt.plot(acc, label=\"Accuracy\")\n",
    "plt.legend()\n",
    "plt.show()\n",
    "plt.plot(lv, label=\"Val_Loss\")\n",
    "plt.plot(accv, label=\"Val_Accuracy\")\n",
    "plt.legend()\n",
    "plt.show()"
   ]
  },
  {
   "cell_type": "code",
   "execution_count": 14,
   "id": "4d0833e3",
   "metadata": {
    "execution": {
     "iopub.execute_input": "2024-03-04T14:13:22.733721Z",
     "iopub.status.busy": "2024-03-04T14:13:22.732835Z",
     "iopub.status.idle": "2024-03-04T14:13:34.224127Z",
     "shell.execute_reply": "2024-03-04T14:13:34.223214Z"
    },
    "id": "BfRAWEEr7VO9",
    "papermill": {
     "duration": 12.768815,
     "end_time": "2024-03-04T14:13:34.226176",
     "exception": false,
     "start_time": "2024-03-04T14:13:21.457361",
     "status": "completed"
    },
    "tags": []
   },
   "outputs": [
    {
     "name": "stdout",
     "output_type": "stream",
     "text": [
      "\u001b[1m32/32\u001b[0m \u001b[32m━━━━━━━━━━━━━━━━━━━━\u001b[0m\u001b[37m\u001b[0m \u001b[1m11s\u001b[0m 340ms/step - accuracy: 0.9435 - loss: 0.1392\n"
     ]
    },
    {
     "data": {
      "text/plain": [
       "[0.14684481918811798, 0.9417499899864197]"
      ]
     },
     "execution_count": 14,
     "metadata": {},
     "output_type": "execute_result"
    }
   ],
   "source": [
    "model.evaluate(te_set)"
   ]
  }
 ],
 "metadata": {
  "colab": {
   "provenance": []
  },
  "kaggle": {
   "accelerator": "gpu",
   "dataSources": [
    {
     "datasetId": 3041726,
     "sourceId": 5256696,
     "sourceType": "datasetVersion"
    }
   ],
   "dockerImageVersionId": 30666,
   "isGpuEnabled": true,
   "isInternetEnabled": true,
   "language": "python",
   "sourceType": "notebook"
  },
  "kernelspec": {
   "display_name": "Python 3",
   "language": "python",
   "name": "python3"
  },
  "language_info": {
   "codemirror_mode": {
    "name": "ipython",
    "version": 3
   },
   "file_extension": ".py",
   "mimetype": "text/x-python",
   "name": "python",
   "nbconvert_exporter": "python",
   "pygments_lexer": "ipython3",
   "version": "3.10.13"
  },
  "papermill": {
   "default_parameters": {},
   "duration": 30197.032479,
   "end_time": "2024-03-04T14:13:38.494108",
   "environment_variables": {},
   "exception": null,
   "input_path": "__notebook__.ipynb",
   "output_path": "__notebook__.ipynb",
   "parameters": {},
   "start_time": "2024-03-04T05:50:21.461629",
   "version": "2.5.0"
  }
 },
 "nbformat": 4,
 "nbformat_minor": 5
}
