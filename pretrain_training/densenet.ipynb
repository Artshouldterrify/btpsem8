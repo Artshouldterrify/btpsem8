{
 "cells": [
  {
   "cell_type": "code",
   "execution_count": 1,
   "id": "62a1ca38",
   "metadata": {
    "execution": {
     "iopub.execute_input": "2024-04-29T14:38:17.263067Z",
     "iopub.status.busy": "2024-04-29T14:38:17.262565Z",
     "iopub.status.idle": "2024-04-29T14:38:32.684187Z",
     "shell.execute_reply": "2024-04-29T14:38:32.682751Z"
    },
    "id": "380dVmoMbVoM",
    "outputId": "3f49e613-6318-4c4d-8e0d-05bc4c90f86c",
    "papermill": {
     "duration": 15.43007,
     "end_time": "2024-04-29T14:38:32.686329",
     "exception": false,
     "start_time": "2024-04-29T14:38:17.256259",
     "status": "completed"
    },
    "tags": []
   },
   "outputs": [
    {
     "name": "stdout",
     "output_type": "stream",
     "text": [
      "Collecting mealpy==2.5.4\r\n",
      "  Downloading mealpy-2.5.4-py3-none-any.whl.metadata (92 kB)\r\n",
      "\u001b[2K     \u001b[90m━━━━━━━━━━━━━━━━━━━━━━━━━━━━━━━━━━━━━━━━\u001b[0m \u001b[32m92.0/92.0 kB\u001b[0m \u001b[31m2.6 MB/s\u001b[0m eta \u001b[36m0:00:00\u001b[0m\r\n",
      "\u001b[?25hRequirement already satisfied: numpy>=1.16.5 in /opt/conda/lib/python3.10/site-packages (from mealpy==2.5.4) (1.26.4)\r\n",
      "Requirement already satisfied: matplotlib>=3.3.0 in /opt/conda/lib/python3.10/site-packages (from mealpy==2.5.4) (3.7.5)\r\n",
      "Requirement already satisfied: scipy>=1.7.1 in /opt/conda/lib/python3.10/site-packages (from mealpy==2.5.4) (1.11.4)\r\n",
      "Requirement already satisfied: pandas>=1.2.0 in /opt/conda/lib/python3.10/site-packages (from mealpy==2.5.4) (2.1.4)\r\n",
      "Collecting opfunu>=1.0.0 (from mealpy==2.5.4)\r\n",
      "  Downloading opfunu-1.0.2-py3-none-any.whl.metadata (9.0 kB)\r\n",
      "Requirement already satisfied: contourpy>=1.0.1 in /opt/conda/lib/python3.10/site-packages (from matplotlib>=3.3.0->mealpy==2.5.4) (1.2.0)\r\n",
      "Requirement already satisfied: cycler>=0.10 in /opt/conda/lib/python3.10/site-packages (from matplotlib>=3.3.0->mealpy==2.5.4) (0.12.1)\r\n",
      "Requirement already satisfied: fonttools>=4.22.0 in /opt/conda/lib/python3.10/site-packages (from matplotlib>=3.3.0->mealpy==2.5.4) (4.47.0)\r\n",
      "Requirement already satisfied: kiwisolver>=1.0.1 in /opt/conda/lib/python3.10/site-packages (from matplotlib>=3.3.0->mealpy==2.5.4) (1.4.5)\r\n",
      "Requirement already satisfied: packaging>=20.0 in /opt/conda/lib/python3.10/site-packages (from matplotlib>=3.3.0->mealpy==2.5.4) (21.3)\r\n",
      "Requirement already satisfied: pillow>=6.2.0 in /opt/conda/lib/python3.10/site-packages (from matplotlib>=3.3.0->mealpy==2.5.4) (9.5.0)\r\n",
      "Requirement already satisfied: pyparsing>=2.3.1 in /opt/conda/lib/python3.10/site-packages (from matplotlib>=3.3.0->mealpy==2.5.4) (3.1.1)\r\n",
      "Requirement already satisfied: python-dateutil>=2.7 in /opt/conda/lib/python3.10/site-packages (from matplotlib>=3.3.0->mealpy==2.5.4) (2.8.2)\r\n",
      "Requirement already satisfied: requests>=2.27.0 in /opt/conda/lib/python3.10/site-packages (from opfunu>=1.0.0->mealpy==2.5.4) (2.31.0)\r\n",
      "Requirement already satisfied: pytz>=2020.1 in /opt/conda/lib/python3.10/site-packages (from pandas>=1.2.0->mealpy==2.5.4) (2023.3.post1)\r\n",
      "Requirement already satisfied: tzdata>=2022.1 in /opt/conda/lib/python3.10/site-packages (from pandas>=1.2.0->mealpy==2.5.4) (2023.4)\r\n",
      "Requirement already satisfied: six>=1.5 in /opt/conda/lib/python3.10/site-packages (from python-dateutil>=2.7->matplotlib>=3.3.0->mealpy==2.5.4) (1.16.0)\r\n",
      "Requirement already satisfied: charset-normalizer<4,>=2 in /opt/conda/lib/python3.10/site-packages (from requests>=2.27.0->opfunu>=1.0.0->mealpy==2.5.4) (3.3.2)\r\n",
      "Requirement already satisfied: idna<4,>=2.5 in /opt/conda/lib/python3.10/site-packages (from requests>=2.27.0->opfunu>=1.0.0->mealpy==2.5.4) (3.6)\r\n",
      "Requirement already satisfied: urllib3<3,>=1.21.1 in /opt/conda/lib/python3.10/site-packages (from requests>=2.27.0->opfunu>=1.0.0->mealpy==2.5.4) (1.26.18)\r\n",
      "Requirement already satisfied: certifi>=2017.4.17 in /opt/conda/lib/python3.10/site-packages (from requests>=2.27.0->opfunu>=1.0.0->mealpy==2.5.4) (2024.2.2)\r\n",
      "Downloading mealpy-2.5.4-py3-none-any.whl (377 kB)\r\n",
      "\u001b[2K   \u001b[90m━━━━━━━━━━━━━━━━━━━━━━━━━━━━━━━━━━━━━━━━\u001b[0m \u001b[32m378.0/378.0 kB\u001b[0m \u001b[31m10.4 MB/s\u001b[0m eta \u001b[36m0:00:00\u001b[0m\r\n",
      "\u001b[?25hDownloading opfunu-1.0.2-py3-none-any.whl (13.0 MB)\r\n",
      "\u001b[2K   \u001b[90m━━━━━━━━━━━━━━━━━━━━━━━━━━━━━━━━━━━━━━━━\u001b[0m \u001b[32m13.0/13.0 MB\u001b[0m \u001b[31m79.5 MB/s\u001b[0m eta \u001b[36m0:00:00\u001b[0m\r\n",
      "\u001b[?25hInstalling collected packages: opfunu, mealpy\r\n",
      "Successfully installed mealpy-2.5.4 opfunu-1.0.2\r\n",
      "Note: you may need to restart the kernel to use updated packages.\n"
     ]
    }
   ],
   "source": [
    "pip install mealpy==2.5.4"
   ]
  },
  {
   "cell_type": "code",
   "execution_count": 2,
   "id": "013718ef",
   "metadata": {
    "execution": {
     "iopub.execute_input": "2024-04-29T14:38:32.700465Z",
     "iopub.status.busy": "2024-04-29T14:38:32.699492Z",
     "iopub.status.idle": "2024-04-29T14:38:48.627789Z",
     "shell.execute_reply": "2024-04-29T14:38:48.626587Z"
    },
    "papermill": {
     "duration": 15.937579,
     "end_time": "2024-04-29T14:38:48.629899",
     "exception": false,
     "start_time": "2024-04-29T14:38:32.692320",
     "status": "completed"
    },
    "tags": []
   },
   "outputs": [
    {
     "name": "stdout",
     "output_type": "stream",
     "text": [
      "Collecting mafese==0.1.9\r\n",
      "  Downloading mafese-0.1.9-py3-none-any.whl.metadata (15 kB)\r\n",
      "Requirement already satisfied: numpy>=1.17.1 in /opt/conda/lib/python3.10/site-packages (from mafese==0.1.9) (1.26.4)\r\n",
      "Requirement already satisfied: scipy>=1.7.1 in /opt/conda/lib/python3.10/site-packages (from mafese==0.1.9) (1.11.4)\r\n",
      "Requirement already satisfied: scikit-learn>=1.0.2 in /opt/conda/lib/python3.10/site-packages (from mafese==0.1.9) (1.2.2)\r\n",
      "Requirement already satisfied: pandas>=1.3.5 in /opt/conda/lib/python3.10/site-packages (from mafese==0.1.9) (2.1.4)\r\n",
      "Requirement already satisfied: mealpy>=2.5.4 in /opt/conda/lib/python3.10/site-packages (from mafese==0.1.9) (2.5.4)\r\n",
      "Collecting permetrics>=1.4.2 (from mafese==0.1.9)\r\n",
      "  Downloading permetrics-2.0.0-py3-none-any.whl.metadata (8.7 kB)\r\n",
      "Requirement already satisfied: plotly>=5.10.0 in /opt/conda/lib/python3.10/site-packages (from mafese==0.1.9) (5.18.0)\r\n",
      "Collecting kaleido>=0.2.1 (from mafese==0.1.9)\r\n",
      "  Downloading kaleido-0.2.1-py2.py3-none-manylinux1_x86_64.whl.metadata (15 kB)\r\n",
      "Requirement already satisfied: matplotlib>=3.3.0 in /opt/conda/lib/python3.10/site-packages (from mealpy>=2.5.4->mafese==0.1.9) (3.7.5)\r\n",
      "Requirement already satisfied: opfunu>=1.0.0 in /opt/conda/lib/python3.10/site-packages (from mealpy>=2.5.4->mafese==0.1.9) (1.0.2)\r\n",
      "Requirement already satisfied: python-dateutil>=2.8.2 in /opt/conda/lib/python3.10/site-packages (from pandas>=1.3.5->mafese==0.1.9) (2.8.2)\r\n",
      "Requirement already satisfied: pytz>=2020.1 in /opt/conda/lib/python3.10/site-packages (from pandas>=1.3.5->mafese==0.1.9) (2023.3.post1)\r\n",
      "Requirement already satisfied: tzdata>=2022.1 in /opt/conda/lib/python3.10/site-packages (from pandas>=1.3.5->mafese==0.1.9) (2023.4)\r\n",
      "Requirement already satisfied: tenacity>=6.2.0 in /opt/conda/lib/python3.10/site-packages (from plotly>=5.10.0->mafese==0.1.9) (8.2.3)\r\n",
      "Requirement already satisfied: packaging in /opt/conda/lib/python3.10/site-packages (from plotly>=5.10.0->mafese==0.1.9) (21.3)\r\n",
      "Requirement already satisfied: joblib>=1.1.1 in /opt/conda/lib/python3.10/site-packages (from scikit-learn>=1.0.2->mafese==0.1.9) (1.3.2)\r\n",
      "Requirement already satisfied: threadpoolctl>=2.0.0 in /opt/conda/lib/python3.10/site-packages (from scikit-learn>=1.0.2->mafese==0.1.9) (3.2.0)\r\n",
      "Requirement already satisfied: contourpy>=1.0.1 in /opt/conda/lib/python3.10/site-packages (from matplotlib>=3.3.0->mealpy>=2.5.4->mafese==0.1.9) (1.2.0)\r\n",
      "Requirement already satisfied: cycler>=0.10 in /opt/conda/lib/python3.10/site-packages (from matplotlib>=3.3.0->mealpy>=2.5.4->mafese==0.1.9) (0.12.1)\r\n",
      "Requirement already satisfied: fonttools>=4.22.0 in /opt/conda/lib/python3.10/site-packages (from matplotlib>=3.3.0->mealpy>=2.5.4->mafese==0.1.9) (4.47.0)\r\n",
      "Requirement already satisfied: kiwisolver>=1.0.1 in /opt/conda/lib/python3.10/site-packages (from matplotlib>=3.3.0->mealpy>=2.5.4->mafese==0.1.9) (1.4.5)\r\n",
      "Requirement already satisfied: pillow>=6.2.0 in /opt/conda/lib/python3.10/site-packages (from matplotlib>=3.3.0->mealpy>=2.5.4->mafese==0.1.9) (9.5.0)\r\n",
      "Requirement already satisfied: pyparsing>=2.3.1 in /opt/conda/lib/python3.10/site-packages (from matplotlib>=3.3.0->mealpy>=2.5.4->mafese==0.1.9) (3.1.1)\r\n",
      "Requirement already satisfied: requests>=2.27.0 in /opt/conda/lib/python3.10/site-packages (from opfunu>=1.0.0->mealpy>=2.5.4->mafese==0.1.9) (2.31.0)\r\n",
      "Requirement already satisfied: six>=1.5 in /opt/conda/lib/python3.10/site-packages (from python-dateutil>=2.8.2->pandas>=1.3.5->mafese==0.1.9) (1.16.0)\r\n",
      "Requirement already satisfied: charset-normalizer<4,>=2 in /opt/conda/lib/python3.10/site-packages (from requests>=2.27.0->opfunu>=1.0.0->mealpy>=2.5.4->mafese==0.1.9) (3.3.2)\r\n",
      "Requirement already satisfied: idna<4,>=2.5 in /opt/conda/lib/python3.10/site-packages (from requests>=2.27.0->opfunu>=1.0.0->mealpy>=2.5.4->mafese==0.1.9) (3.6)\r\n",
      "Requirement already satisfied: urllib3<3,>=1.21.1 in /opt/conda/lib/python3.10/site-packages (from requests>=2.27.0->opfunu>=1.0.0->mealpy>=2.5.4->mafese==0.1.9) (1.26.18)\r\n",
      "Requirement already satisfied: certifi>=2017.4.17 in /opt/conda/lib/python3.10/site-packages (from requests>=2.27.0->opfunu>=1.0.0->mealpy>=2.5.4->mafese==0.1.9) (2024.2.2)\r\n",
      "Downloading mafese-0.1.9-py3-none-any.whl (4.2 MB)\r\n",
      "\u001b[2K   \u001b[90m━━━━━━━━━━━━━━━━━━━━━━━━━━━━━━━━━━━━━━━━\u001b[0m \u001b[32m4.2/4.2 MB\u001b[0m \u001b[31m40.7 MB/s\u001b[0m eta \u001b[36m0:00:00\u001b[0m\r\n",
      "\u001b[?25hDownloading kaleido-0.2.1-py2.py3-none-manylinux1_x86_64.whl (79.9 MB)\r\n",
      "\u001b[2K   \u001b[90m━━━━━━━━━━━━━━━━━━━━━━━━━━━━━━━━━━━━━━━━\u001b[0m \u001b[32m79.9/79.9 MB\u001b[0m \u001b[31m20.7 MB/s\u001b[0m eta \u001b[36m0:00:00\u001b[0m\r\n",
      "\u001b[?25hDownloading permetrics-2.0.0-py3-none-any.whl (52 kB)\r\n",
      "\u001b[2K   \u001b[90m━━━━━━━━━━━━━━━━━━━━━━━━━━━━━━━━━━━━━━━━\u001b[0m \u001b[32m52.6/52.6 kB\u001b[0m \u001b[31m2.9 MB/s\u001b[0m eta \u001b[36m0:00:00\u001b[0m\r\n",
      "\u001b[?25hInstalling collected packages: kaleido, permetrics, mafese\r\n",
      "Successfully installed kaleido-0.2.1 mafese-0.1.9 permetrics-2.0.0\r\n",
      "Note: you may need to restart the kernel to use updated packages.\n"
     ]
    }
   ],
   "source": [
    "pip install mafese==0.1.9"
   ]
  },
  {
   "cell_type": "code",
   "execution_count": 3,
   "id": "084e751a",
   "metadata": {
    "execution": {
     "iopub.execute_input": "2024-04-29T14:38:48.648685Z",
     "iopub.status.busy": "2024-04-29T14:38:48.648351Z",
     "iopub.status.idle": "2024-04-29T14:39:03.324532Z",
     "shell.execute_reply": "2024-04-29T14:39:03.323493Z"
    },
    "id": "6j4sBROet5iQ",
    "papermill": {
     "duration": 14.689247,
     "end_time": "2024-04-29T14:39:03.327955",
     "exception": false,
     "start_time": "2024-04-29T14:38:48.638708",
     "status": "completed"
    },
    "tags": []
   },
   "outputs": [
    {
     "name": "stderr",
     "output_type": "stream",
     "text": [
      "2024-04-29 14:38:50.361813: E external/local_xla/xla/stream_executor/cuda/cuda_dnn.cc:9261] Unable to register cuDNN factory: Attempting to register factory for plugin cuDNN when one has already been registered\n",
      "2024-04-29 14:38:50.361968: E external/local_xla/xla/stream_executor/cuda/cuda_fft.cc:607] Unable to register cuFFT factory: Attempting to register factory for plugin cuFFT when one has already been registered\n",
      "2024-04-29 14:38:50.491086: E external/local_xla/xla/stream_executor/cuda/cuda_blas.cc:1515] Unable to register cuBLAS factory: Attempting to register factory for plugin cuBLAS when one has already been registered\n"
     ]
    }
   ],
   "source": [
    "# imports\n",
    "\n",
    "import tensorflow as tf\n",
    "import matplotlib.pyplot as plt\n",
    "import numpy as np\n",
    "import seaborn as sns\n",
    "import mafese as mfse"
   ]
  },
  {
   "cell_type": "code",
   "execution_count": 4,
   "id": "12622cb8",
   "metadata": {
    "execution": {
     "iopub.execute_input": "2024-04-29T14:39:03.352484Z",
     "iopub.status.busy": "2024-04-29T14:39:03.351034Z",
     "iopub.status.idle": "2024-04-29T14:39:03.364586Z",
     "shell.execute_reply": "2024-04-29T14:39:03.363771Z"
    },
    "id": "fDTRo85EuGgV",
    "papermill": {
     "duration": 0.027507,
     "end_time": "2024-04-29T14:39:03.366602",
     "exception": false,
     "start_time": "2024-04-29T14:39:03.339095",
     "status": "completed"
    },
    "tags": []
   },
   "outputs": [],
   "source": [
    "# loading the images\n",
    "train_dir = \"/kaggle/input/cifake-real-and-ai-generated-synthetic-images/train\"\n",
    "test_dir = \"/kaggle/input/cifake-real-and-ai-generated-synthetic-images/test\"\n",
    "\n",
    "# generator\n",
    "def datagen(func):\n",
    "  train_gen = tf.keras.preprocessing.image.ImageDataGenerator(\n",
    "              preprocessing_function=func,\n",
    "              horizontal_flip = True,\n",
    "              vertical_flip = True,\n",
    "              rotation_range = 0.5,\n",
    "              width_shift_range = 0.25,\n",
    "              height_shift_range = 0.25,\n",
    "              shear_range = 0.2,\n",
    "              zoom_range = 0.4,\n",
    "              validation_split = 0.92)\n",
    "\n",
    "  test_gen = tf.keras.preprocessing.image.ImageDataGenerator(\n",
    "              preprocessing_function=func,\n",
    "              validation_split = 0.8)\n",
    "\n",
    "  test_gen_2 = tf.keras.preprocessing.image.ImageDataGenerator(\n",
    "              preprocessing_function=func,\n",
    "              validation_split = 0.2)\n",
    "\n",
    "  pred_gen = tf.keras.preprocessing.image.ImageDataGenerator(\n",
    "              preprocessing_function=func,\n",
    "              validation_split = 0.92)\n",
    "\n",
    "  train_set = train_gen.flow_from_directory(train_dir, class_mode = \"binary\", batch_size = 128, target_size = (224,224), shuffle = True, subset = 'training')\n",
    "  test_set = test_gen.flow_from_directory(test_dir, class_mode = \"binary\", batch_size = 128, target_size = (224,224), shuffle = False, subset='training')\n",
    "  val_set = test_gen_2.flow_from_directory(test_dir, class_mode = \"binary\", batch_size = 128, target_size = (224,224), shuffle = False, subset='validation')\n",
    "  pred_tr_set = pred_gen.flow_from_directory(train_dir, class_mode = \"binary\", batch_size = 128, target_size = (224,224), shuffle = False, subset = 'training')\n",
    "  return train_set, test_set, val_set, pred_tr_set"
   ]
  },
  {
   "cell_type": "code",
   "execution_count": 5,
   "id": "e40b8668",
   "metadata": {
    "execution": {
     "iopub.execute_input": "2024-04-29T14:39:03.386630Z",
     "iopub.status.busy": "2024-04-29T14:39:03.386311Z",
     "iopub.status.idle": "2024-04-29T14:39:06.795836Z",
     "shell.execute_reply": "2024-04-29T14:39:06.794967Z"
    },
    "id": "voerm_OwuWwO",
    "outputId": "d123e920-2be2-4402-f8a8-f6a5693b1031",
    "papermill": {
     "duration": 3.421785,
     "end_time": "2024-04-29T14:39:06.797915",
     "exception": false,
     "start_time": "2024-04-29T14:39:03.376130",
     "status": "completed"
    },
    "tags": []
   },
   "outputs": [
    {
     "name": "stdout",
     "output_type": "stream",
     "text": [
      "Downloading data from https://storage.googleapis.com/tensorflow/keras-applications/densenet/densenet121_weights_tf_dim_ordering_tf_kernels_notop.h5\n",
      "\u001b[1m29084464/29084464\u001b[0m \u001b[32m━━━━━━━━━━━━━━━━━━━━\u001b[0m\u001b[37m\u001b[0m \u001b[1m0s\u001b[0m 0us/step\n"
     ]
    },
    {
     "data": {
      "text/html": [
       "<pre style=\"white-space:pre;overflow-x:auto;line-height:normal;font-family:Menlo,'DejaVu Sans Mono',consolas,'Courier New',monospace\"><span style=\"font-weight: bold\">Model: \"functional_1\"</span>\n",
       "</pre>\n"
      ],
      "text/plain": [
       "\u001b[1mModel: \"functional_1\"\u001b[0m\n"
      ]
     },
     "metadata": {},
     "output_type": "display_data"
    },
    {
     "data": {
      "text/html": [
       "<pre style=\"white-space:pre;overflow-x:auto;line-height:normal;font-family:Menlo,'DejaVu Sans Mono',consolas,'Courier New',monospace\">┏━━━━━━━━━━━━━━━━━━━━━━━━━━━━━━━━━┳━━━━━━━━━━━━━━━━━━━━━━━━┳━━━━━━━━━━━━━━━┓\n",
       "┃<span style=\"font-weight: bold\"> Layer (type)                    </span>┃<span style=\"font-weight: bold\"> Output Shape           </span>┃<span style=\"font-weight: bold\">       Param # </span>┃\n",
       "┡━━━━━━━━━━━━━━━━━━━━━━━━━━━━━━━━━╇━━━━━━━━━━━━━━━━━━━━━━━━╇━━━━━━━━━━━━━━━┩\n",
       "│ input_layer_1 (<span style=\"color: #0087ff; text-decoration-color: #0087ff\">InputLayer</span>)      │ (<span style=\"color: #00d7ff; text-decoration-color: #00d7ff\">None</span>, <span style=\"color: #00af00; text-decoration-color: #00af00\">224</span>, <span style=\"color: #00af00; text-decoration-color: #00af00\">224</span>, <span style=\"color: #00af00; text-decoration-color: #00af00\">3</span>)    │             <span style=\"color: #00af00; text-decoration-color: #00af00\">0</span> │\n",
       "├─────────────────────────────────┼────────────────────────┼───────────────┤\n",
       "│ densenet121 (<span style=\"color: #0087ff; text-decoration-color: #0087ff\">Functional</span>)        │ (<span style=\"color: #00d7ff; text-decoration-color: #00d7ff\">None</span>, <span style=\"color: #00af00; text-decoration-color: #00af00\">7</span>, <span style=\"color: #00af00; text-decoration-color: #00af00\">7</span>, <span style=\"color: #00af00; text-decoration-color: #00af00\">1024</span>)     │     <span style=\"color: #00af00; text-decoration-color: #00af00\">7,037,504</span> │\n",
       "├─────────────────────────────────┼────────────────────────┼───────────────┤\n",
       "│ global_average_pooling2d        │ (<span style=\"color: #00d7ff; text-decoration-color: #00d7ff\">None</span>, <span style=\"color: #00af00; text-decoration-color: #00af00\">1024</span>)           │             <span style=\"color: #00af00; text-decoration-color: #00af00\">0</span> │\n",
       "│ (<span style=\"color: #0087ff; text-decoration-color: #0087ff\">GlobalAveragePooling2D</span>)        │                        │               │\n",
       "├─────────────────────────────────┼────────────────────────┼───────────────┤\n",
       "│ dense (<span style=\"color: #0087ff; text-decoration-color: #0087ff\">Dense</span>)                   │ (<span style=\"color: #00d7ff; text-decoration-color: #00d7ff\">None</span>, <span style=\"color: #00af00; text-decoration-color: #00af00\">2</span>)              │         <span style=\"color: #00af00; text-decoration-color: #00af00\">2,050</span> │\n",
       "└─────────────────────────────────┴────────────────────────┴───────────────┘\n",
       "</pre>\n"
      ],
      "text/plain": [
       "┏━━━━━━━━━━━━━━━━━━━━━━━━━━━━━━━━━┳━━━━━━━━━━━━━━━━━━━━━━━━┳━━━━━━━━━━━━━━━┓\n",
       "┃\u001b[1m \u001b[0m\u001b[1mLayer (type)                   \u001b[0m\u001b[1m \u001b[0m┃\u001b[1m \u001b[0m\u001b[1mOutput Shape          \u001b[0m\u001b[1m \u001b[0m┃\u001b[1m \u001b[0m\u001b[1m      Param #\u001b[0m\u001b[1m \u001b[0m┃\n",
       "┡━━━━━━━━━━━━━━━━━━━━━━━━━━━━━━━━━╇━━━━━━━━━━━━━━━━━━━━━━━━╇━━━━━━━━━━━━━━━┩\n",
       "│ input_layer_1 (\u001b[38;5;33mInputLayer\u001b[0m)      │ (\u001b[38;5;45mNone\u001b[0m, \u001b[38;5;34m224\u001b[0m, \u001b[38;5;34m224\u001b[0m, \u001b[38;5;34m3\u001b[0m)    │             \u001b[38;5;34m0\u001b[0m │\n",
       "├─────────────────────────────────┼────────────────────────┼───────────────┤\n",
       "│ densenet121 (\u001b[38;5;33mFunctional\u001b[0m)        │ (\u001b[38;5;45mNone\u001b[0m, \u001b[38;5;34m7\u001b[0m, \u001b[38;5;34m7\u001b[0m, \u001b[38;5;34m1024\u001b[0m)     │     \u001b[38;5;34m7,037,504\u001b[0m │\n",
       "├─────────────────────────────────┼────────────────────────┼───────────────┤\n",
       "│ global_average_pooling2d        │ (\u001b[38;5;45mNone\u001b[0m, \u001b[38;5;34m1024\u001b[0m)           │             \u001b[38;5;34m0\u001b[0m │\n",
       "│ (\u001b[38;5;33mGlobalAveragePooling2D\u001b[0m)        │                        │               │\n",
       "├─────────────────────────────────┼────────────────────────┼───────────────┤\n",
       "│ dense (\u001b[38;5;33mDense\u001b[0m)                   │ (\u001b[38;5;45mNone\u001b[0m, \u001b[38;5;34m2\u001b[0m)              │         \u001b[38;5;34m2,050\u001b[0m │\n",
       "└─────────────────────────────────┴────────────────────────┴───────────────┘\n"
      ]
     },
     "metadata": {},
     "output_type": "display_data"
    },
    {
     "data": {
      "text/html": [
       "<pre style=\"white-space:pre;overflow-x:auto;line-height:normal;font-family:Menlo,'DejaVu Sans Mono',consolas,'Courier New',monospace\"><span style=\"font-weight: bold\"> Total params: </span><span style=\"color: #00af00; text-decoration-color: #00af00\">7,039,554</span> (26.85 MB)\n",
       "</pre>\n"
      ],
      "text/plain": [
       "\u001b[1m Total params: \u001b[0m\u001b[38;5;34m7,039,554\u001b[0m (26.85 MB)\n"
      ]
     },
     "metadata": {},
     "output_type": "display_data"
    },
    {
     "data": {
      "text/html": [
       "<pre style=\"white-space:pre;overflow-x:auto;line-height:normal;font-family:Menlo,'DejaVu Sans Mono',consolas,'Courier New',monospace\"><span style=\"font-weight: bold\"> Trainable params: </span><span style=\"color: #00af00; text-decoration-color: #00af00\">2,050</span> (8.01 KB)\n",
       "</pre>\n"
      ],
      "text/plain": [
       "\u001b[1m Trainable params: \u001b[0m\u001b[38;5;34m2,050\u001b[0m (8.01 KB)\n"
      ]
     },
     "metadata": {},
     "output_type": "display_data"
    },
    {
     "data": {
      "text/html": [
       "<pre style=\"white-space:pre;overflow-x:auto;line-height:normal;font-family:Menlo,'DejaVu Sans Mono',consolas,'Courier New',monospace\"><span style=\"font-weight: bold\"> Non-trainable params: </span><span style=\"color: #00af00; text-decoration-color: #00af00\">7,037,504</span> (26.85 MB)\n",
       "</pre>\n"
      ],
      "text/plain": [
       "\u001b[1m Non-trainable params: \u001b[0m\u001b[38;5;34m7,037,504\u001b[0m (26.85 MB)\n"
      ]
     },
     "metadata": {},
     "output_type": "display_data"
    }
   ],
   "source": [
    "# model\n",
    "base_model = tf.keras.applications.DenseNet121(include_top=False, weights='imagenet', input_shape=(224,224,3))\n",
    "base_model.trainable = False\n",
    "inputs = tf.keras.Input(shape=(224,224,3))\n",
    "x = base_model(inputs, training=False)\n",
    "x = tf.keras.layers.GlobalAveragePooling2D()(x)\n",
    "outputs = tf.keras.layers.Dense(2, activation=\"softmax\")(x)\n",
    "model = tf.keras.Model(inputs, outputs)\n",
    "model.summary()\n",
    "model.compile(loss=tf.keras.losses.SparseCategoricalCrossentropy(from_logits=False), optimizer=tf.keras.optimizers.Adam(learning_rate=0.0001), metrics\n",
    "              =[\"accuracy\"])"
   ]
  },
  {
   "cell_type": "code",
   "execution_count": 6,
   "id": "5b6c0361",
   "metadata": {
    "execution": {
     "iopub.execute_input": "2024-04-29T14:39:06.820479Z",
     "iopub.status.busy": "2024-04-29T14:39:06.820147Z",
     "iopub.status.idle": "2024-04-29T14:39:06.826165Z",
     "shell.execute_reply": "2024-04-29T14:39:06.825319Z"
    },
    "id": "16BJGzvDJTpb",
    "outputId": "067bb365-7dbc-4180-9a45-aab325929e40",
    "papermill": {
     "duration": 0.018736,
     "end_time": "2024-04-29T14:39:06.827973",
     "exception": false,
     "start_time": "2024-04-29T14:39:06.809237",
     "status": "completed"
    },
    "tags": []
   },
   "outputs": [
    {
     "data": {
      "text/plain": [
       "427"
      ]
     },
     "execution_count": 6,
     "metadata": {},
     "output_type": "execute_result"
    }
   ],
   "source": [
    "len(model.layers[1].layers)"
   ]
  },
  {
   "cell_type": "code",
   "execution_count": 7,
   "id": "2a989e9f",
   "metadata": {
    "execution": {
     "iopub.execute_input": "2024-04-29T14:39:06.849686Z",
     "iopub.status.busy": "2024-04-29T14:39:06.849052Z",
     "iopub.status.idle": "2024-04-29T14:41:58.065118Z",
     "shell.execute_reply": "2024-04-29T14:41:58.064177Z"
    },
    "id": "9KbLcJsnGCmZ",
    "outputId": "17f275a0-dba1-44ac-c340-82d865528066",
    "papermill": {
     "duration": 171.229211,
     "end_time": "2024-04-29T14:41:58.067225",
     "exception": false,
     "start_time": "2024-04-29T14:39:06.838014",
     "status": "completed"
    },
    "tags": []
   },
   "outputs": [
    {
     "name": "stdout",
     "output_type": "stream",
     "text": [
      "Found 8000 images belonging to 2 classes.\n",
      "Found 4000 images belonging to 2 classes.\n",
      "Found 4000 images belonging to 2 classes.\n",
      "Found 8000 images belonging to 2 classes.\n"
     ]
    }
   ],
   "source": [
    "tr_set, te_set, v_set, pr_set = datagen(tf.keras.applications.densenet.preprocess_input)"
   ]
  },
  {
   "cell_type": "code",
   "execution_count": 8,
   "id": "157b0e54",
   "metadata": {
    "execution": {
     "iopub.execute_input": "2024-04-29T14:41:58.089784Z",
     "iopub.status.busy": "2024-04-29T14:41:58.089444Z",
     "iopub.status.idle": "2024-04-29T18:07:53.078733Z",
     "shell.execute_reply": "2024-04-29T18:07:53.077577Z"
    },
    "id": "sO8GdihAePEe",
    "outputId": "5b044fd2-b58f-43ad-bfae-794e803cb3ac",
    "papermill": {
     "duration": 12355.003309,
     "end_time": "2024-04-29T18:07:53.081364",
     "exception": false,
     "start_time": "2024-04-29T14:41:58.078055",
     "status": "completed"
    },
    "tags": []
   },
   "outputs": [
    {
     "name": "stdout",
     "output_type": "stream",
     "text": [
      "Epoch 1/100\n"
     ]
    },
    {
     "name": "stderr",
     "output_type": "stream",
     "text": [
      "/opt/conda/lib/python3.10/site-packages/keras/src/trainers/data_adapters/py_dataset_adapter.py:122: UserWarning:\n",
      "\n",
      "Your `PyDataset` class should call `super().__init__(**kwargs)` in its constructor. `**kwargs` can include `workers`, `use_multiprocessing`, `max_queue_size`. Do not pass these arguments to `fit()`, as they will be ignored.\n",
      "\n"
     ]
    },
    {
     "name": "stdout",
     "output_type": "stream",
     "text": [
      "\u001b[1m 1/63\u001b[0m \u001b[37m━━━━━━━━━━━━━━━━━━━━\u001b[0m \u001b[1m1:02:17\u001b[0m 60s/step - accuracy: 0.4453 - loss: 0.8620"
     ]
    },
    {
     "name": "stderr",
     "output_type": "stream",
     "text": [
      "WARNING: All log messages before absl::InitializeLog() is called are written to STDERR\n",
      "I0000 00:00:1714401780.589773      84 device_compiler.h:186] Compiled cluster using XLA!  This line is logged at most once for the lifetime of the process.\n"
     ]
    },
    {
     "name": "stdout",
     "output_type": "stream",
     "text": [
      "\u001b[1m63/63\u001b[0m \u001b[32m━━━━━━━━━━━━━━━━━━━━\u001b[0m\u001b[37m\u001b[0m \u001b[1m261s\u001b[0m 3s/step - accuracy: 0.4979 - loss: 0.7672 - val_accuracy: 0.5677 - val_loss: 0.6965 - learning_rate: 1.0000e-04\n",
      "Epoch 2/100\n",
      "\u001b[1m63/63\u001b[0m \u001b[32m━━━━━━━━━━━━━━━━━━━━\u001b[0m\u001b[37m\u001b[0m \u001b[1m121s\u001b[0m 2s/step - accuracy: 0.5423 - loss: 0.7036 - val_accuracy: 0.6310 - val_loss: 0.6443 - learning_rate: 1.0000e-04\n",
      "Epoch 3/100\n",
      "\u001b[1m63/63\u001b[0m \u001b[32m━━━━━━━━━━━━━━━━━━━━\u001b[0m\u001b[37m\u001b[0m \u001b[1m122s\u001b[0m 2s/step - accuracy: 0.6168 - loss: 0.6529 - val_accuracy: 0.6580 - val_loss: 0.6114 - learning_rate: 1.0000e-04\n",
      "Epoch 4/100\n",
      "\u001b[1m63/63\u001b[0m \u001b[32m━━━━━━━━━━━━━━━━━━━━\u001b[0m\u001b[37m\u001b[0m \u001b[1m123s\u001b[0m 2s/step - accuracy: 0.6579 - loss: 0.6190 - val_accuracy: 0.6970 - val_loss: 0.5789 - learning_rate: 1.0000e-04\n",
      "Epoch 5/100\n",
      "\u001b[1m63/63\u001b[0m \u001b[32m━━━━━━━━━━━━━━━━━━━━\u001b[0m\u001b[37m\u001b[0m \u001b[1m120s\u001b[0m 2s/step - accuracy: 0.7027 - loss: 0.5890 - val_accuracy: 0.7232 - val_loss: 0.5549 - learning_rate: 1.0000e-04\n",
      "Epoch 6/100\n",
      "\u001b[1m63/63\u001b[0m \u001b[32m━━━━━━━━━━━━━━━━━━━━\u001b[0m\u001b[37m\u001b[0m \u001b[1m119s\u001b[0m 2s/step - accuracy: 0.7145 - loss: 0.5706 - val_accuracy: 0.7415 - val_loss: 0.5328 - learning_rate: 1.0000e-04\n",
      "Epoch 7/100\n",
      "\u001b[1m63/63\u001b[0m \u001b[32m━━━━━━━━━━━━━━━━━━━━\u001b[0m\u001b[37m\u001b[0m \u001b[1m119s\u001b[0m 2s/step - accuracy: 0.7400 - loss: 0.5475 - val_accuracy: 0.7605 - val_loss: 0.5136 - learning_rate: 1.0000e-04\n",
      "Epoch 8/100\n",
      "\u001b[1m63/63\u001b[0m \u001b[32m━━━━━━━━━━━━━━━━━━━━\u001b[0m\u001b[37m\u001b[0m \u001b[1m119s\u001b[0m 2s/step - accuracy: 0.7550 - loss: 0.5308 - val_accuracy: 0.7682 - val_loss: 0.4996 - learning_rate: 1.0000e-04\n",
      "Epoch 9/100\n",
      "\u001b[1m63/63\u001b[0m \u001b[32m━━━━━━━━━━━━━━━━━━━━\u001b[0m\u001b[37m\u001b[0m \u001b[1m119s\u001b[0m 2s/step - accuracy: 0.7650 - loss: 0.5150 - val_accuracy: 0.7780 - val_loss: 0.4857 - learning_rate: 1.0000e-04\n",
      "Epoch 10/100\n",
      "\u001b[1m63/63\u001b[0m \u001b[32m━━━━━━━━━━━━━━━━━━━━\u001b[0m\u001b[37m\u001b[0m \u001b[1m120s\u001b[0m 2s/step - accuracy: 0.7636 - loss: 0.5084 - val_accuracy: 0.7812 - val_loss: 0.4760 - learning_rate: 1.0000e-04\n",
      "Epoch 11/100\n",
      "\u001b[1m63/63\u001b[0m \u001b[32m━━━━━━━━━━━━━━━━━━━━\u001b[0m\u001b[37m\u001b[0m \u001b[1m119s\u001b[0m 2s/step - accuracy: 0.7738 - loss: 0.4950 - val_accuracy: 0.7872 - val_loss: 0.4647 - learning_rate: 1.0000e-04\n",
      "Epoch 12/100\n",
      "\u001b[1m63/63\u001b[0m \u001b[32m━━━━━━━━━━━━━━━━━━━━\u001b[0m\u001b[37m\u001b[0m \u001b[1m119s\u001b[0m 2s/step - accuracy: 0.7796 - loss: 0.4880 - val_accuracy: 0.7903 - val_loss: 0.4569 - learning_rate: 1.0000e-04\n",
      "Epoch 13/100\n",
      "\u001b[1m63/63\u001b[0m \u001b[32m━━━━━━━━━━━━━━━━━━━━\u001b[0m\u001b[37m\u001b[0m \u001b[1m118s\u001b[0m 2s/step - accuracy: 0.7953 - loss: 0.4708 - val_accuracy: 0.7922 - val_loss: 0.4500 - learning_rate: 1.0000e-04\n",
      "Epoch 14/100\n",
      "\u001b[1m63/63\u001b[0m \u001b[32m━━━━━━━━━━━━━━━━━━━━\u001b[0m\u001b[37m\u001b[0m \u001b[1m118s\u001b[0m 2s/step - accuracy: 0.7953 - loss: 0.4675 - val_accuracy: 0.7960 - val_loss: 0.4422 - learning_rate: 1.0000e-04\n",
      "Epoch 15/100\n",
      "\u001b[1m63/63\u001b[0m \u001b[32m━━━━━━━━━━━━━━━━━━━━\u001b[0m\u001b[37m\u001b[0m \u001b[1m120s\u001b[0m 2s/step - accuracy: 0.8050 - loss: 0.4568 - val_accuracy: 0.7975 - val_loss: 0.4388 - learning_rate: 1.0000e-04\n",
      "Epoch 16/100\n",
      "\u001b[1m63/63\u001b[0m \u001b[32m━━━━━━━━━━━━━━━━━━━━\u001b[0m\u001b[37m\u001b[0m \u001b[1m119s\u001b[0m 2s/step - accuracy: 0.7929 - loss: 0.4607 - val_accuracy: 0.8030 - val_loss: 0.4296 - learning_rate: 1.0000e-04\n",
      "Epoch 17/100\n",
      "\u001b[1m63/63\u001b[0m \u001b[32m━━━━━━━━━━━━━━━━━━━━\u001b[0m\u001b[37m\u001b[0m \u001b[1m121s\u001b[0m 2s/step - accuracy: 0.8039 - loss: 0.4526 - val_accuracy: 0.8035 - val_loss: 0.4267 - learning_rate: 1.0000e-04\n",
      "Epoch 18/100\n",
      "\u001b[1m63/63\u001b[0m \u001b[32m━━━━━━━━━━━━━━━━━━━━\u001b[0m\u001b[37m\u001b[0m \u001b[1m120s\u001b[0m 2s/step - accuracy: 0.8021 - loss: 0.4417 - val_accuracy: 0.8065 - val_loss: 0.4213 - learning_rate: 1.0000e-04\n",
      "Epoch 19/100\n",
      "\u001b[1m63/63\u001b[0m \u001b[32m━━━━━━━━━━━━━━━━━━━━\u001b[0m\u001b[37m\u001b[0m \u001b[1m120s\u001b[0m 2s/step - accuracy: 0.8059 - loss: 0.4468 - val_accuracy: 0.8027 - val_loss: 0.4210 - learning_rate: 1.0000e-04\n",
      "Epoch 20/100\n",
      "\u001b[1m63/63\u001b[0m \u001b[32m━━━━━━━━━━━━━━━━━━━━\u001b[0m\u001b[37m\u001b[0m \u001b[1m119s\u001b[0m 2s/step - accuracy: 0.8230 - loss: 0.4225 - val_accuracy: 0.8075 - val_loss: 0.4149 - learning_rate: 1.0000e-04\n",
      "Epoch 21/100\n",
      "\u001b[1m63/63\u001b[0m \u001b[32m━━━━━━━━━━━━━━━━━━━━\u001b[0m\u001b[37m\u001b[0m \u001b[1m119s\u001b[0m 2s/step - accuracy: 0.8223 - loss: 0.4264 - val_accuracy: 0.8090 - val_loss: 0.4106 - learning_rate: 1.0000e-04\n",
      "Epoch 22/100\n",
      "\u001b[1m63/63\u001b[0m \u001b[32m━━━━━━━━━━━━━━━━━━━━\u001b[0m\u001b[37m\u001b[0m \u001b[1m120s\u001b[0m 2s/step - accuracy: 0.8142 - loss: 0.4269 - val_accuracy: 0.8112 - val_loss: 0.4061 - learning_rate: 1.0000e-04\n",
      "Epoch 23/100\n",
      "\u001b[1m63/63\u001b[0m \u001b[32m━━━━━━━━━━━━━━━━━━━━\u001b[0m\u001b[37m\u001b[0m \u001b[1m120s\u001b[0m 2s/step - accuracy: 0.8025 - loss: 0.4304 - val_accuracy: 0.8183 - val_loss: 0.3976 - learning_rate: 1.0000e-04\n",
      "Epoch 24/100\n",
      "\u001b[1m63/63\u001b[0m \u001b[32m━━━━━━━━━━━━━━━━━━━━\u001b[0m\u001b[37m\u001b[0m \u001b[1m119s\u001b[0m 2s/step - accuracy: 0.8091 - loss: 0.4247 - val_accuracy: 0.8083 - val_loss: 0.4047 - learning_rate: 1.0000e-04\n",
      "Epoch 25/100\n",
      "\u001b[1m63/63\u001b[0m \u001b[32m━━━━━━━━━━━━━━━━━━━━\u001b[0m\u001b[37m\u001b[0m \u001b[1m119s\u001b[0m 2s/step - accuracy: 0.8167 - loss: 0.4207 - val_accuracy: 0.8163 - val_loss: 0.3940 - learning_rate: 1.0000e-04\n",
      "Epoch 26/100\n",
      "\u001b[1m63/63\u001b[0m \u001b[32m━━━━━━━━━━━━━━━━━━━━\u001b[0m\u001b[37m\u001b[0m \u001b[1m142s\u001b[0m 2s/step - accuracy: 0.8173 - loss: 0.4163 - val_accuracy: 0.8090 - val_loss: 0.3987 - learning_rate: 1.0000e-04\n",
      "Epoch 27/100\n",
      "\u001b[1m63/63\u001b[0m \u001b[32m━━━━━━━━━━━━━━━━━━━━\u001b[0m\u001b[37m\u001b[0m \u001b[1m120s\u001b[0m 2s/step - accuracy: 0.8227 - loss: 0.4090 - val_accuracy: 0.8198 - val_loss: 0.3879 - learning_rate: 1.0000e-04\n",
      "Epoch 28/100\n",
      "\u001b[1m63/63\u001b[0m \u001b[32m━━━━━━━━━━━━━━━━━━━━\u001b[0m\u001b[37m\u001b[0m \u001b[1m120s\u001b[0m 2s/step - accuracy: 0.8273 - loss: 0.4013 - val_accuracy: 0.8165 - val_loss: 0.3882 - learning_rate: 1.0000e-04\n",
      "Epoch 29/100\n",
      "\u001b[1m63/63\u001b[0m \u001b[32m━━━━━━━━━━━━━━━━━━━━\u001b[0m\u001b[37m\u001b[0m \u001b[1m119s\u001b[0m 2s/step - accuracy: 0.8338 - loss: 0.4007 - val_accuracy: 0.8188 - val_loss: 0.3855 - learning_rate: 1.0000e-04\n",
      "Epoch 30/100\n",
      "\u001b[1m63/63\u001b[0m \u001b[32m━━━━━━━━━━━━━━━━━━━━\u001b[0m\u001b[37m\u001b[0m \u001b[1m120s\u001b[0m 2s/step - accuracy: 0.8193 - loss: 0.4100 - val_accuracy: 0.8220 - val_loss: 0.3822 - learning_rate: 1.0000e-04\n",
      "Epoch 31/100\n",
      "\u001b[1m63/63\u001b[0m \u001b[32m━━━━━━━━━━━━━━━━━━━━\u001b[0m\u001b[37m\u001b[0m \u001b[1m119s\u001b[0m 2s/step - accuracy: 0.8327 - loss: 0.4016 - val_accuracy: 0.8167 - val_loss: 0.3830 - learning_rate: 1.0000e-04\n",
      "Epoch 32/100\n",
      "\u001b[1m63/63\u001b[0m \u001b[32m━━━━━━━━━━━━━━━━━━━━\u001b[0m\u001b[37m\u001b[0m \u001b[1m120s\u001b[0m 2s/step - accuracy: 0.8231 - loss: 0.4019 - val_accuracy: 0.8267 - val_loss: 0.3764 - learning_rate: 1.0000e-04\n",
      "Epoch 33/100\n",
      "\u001b[1m63/63\u001b[0m \u001b[32m━━━━━━━━━━━━━━━━━━━━\u001b[0m\u001b[37m\u001b[0m \u001b[1m119s\u001b[0m 2s/step - accuracy: 0.8290 - loss: 0.3993 - val_accuracy: 0.8232 - val_loss: 0.3771 - learning_rate: 1.0000e-04\n",
      "Epoch 34/100\n",
      "\u001b[1m63/63\u001b[0m \u001b[32m━━━━━━━━━━━━━━━━━━━━\u001b[0m\u001b[37m\u001b[0m \u001b[1m119s\u001b[0m 2s/step - accuracy: 0.8281 - loss: 0.3933 - val_accuracy: 0.8210 - val_loss: 0.3776 - learning_rate: 1.0000e-04\n",
      "Epoch 35/100\n",
      "\u001b[1m63/63\u001b[0m \u001b[32m━━━━━━━━━━━━━━━━━━━━\u001b[0m\u001b[37m\u001b[0m \u001b[1m119s\u001b[0m 2s/step - accuracy: 0.8296 - loss: 0.3949 - val_accuracy: 0.8290 - val_loss: 0.3704 - learning_rate: 1.0000e-04\n",
      "Epoch 36/100\n",
      "\u001b[1m63/63\u001b[0m \u001b[32m━━━━━━━━━━━━━━━━━━━━\u001b[0m\u001b[37m\u001b[0m \u001b[1m119s\u001b[0m 2s/step - accuracy: 0.8272 - loss: 0.4004 - val_accuracy: 0.8158 - val_loss: 0.3788 - learning_rate: 1.0000e-04\n",
      "Epoch 37/100\n",
      "\u001b[1m63/63\u001b[0m \u001b[32m━━━━━━━━━━━━━━━━━━━━\u001b[0m\u001b[37m\u001b[0m \u001b[1m119s\u001b[0m 2s/step - accuracy: 0.8243 - loss: 0.3939 - val_accuracy: 0.8142 - val_loss: 0.3795 - learning_rate: 1.0000e-04\n",
      "Epoch 38/100\n",
      "\u001b[1m63/63\u001b[0m \u001b[32m━━━━━━━━━━━━━━━━━━━━\u001b[0m\u001b[37m\u001b[0m \u001b[1m119s\u001b[0m 2s/step - accuracy: 0.8285 - loss: 0.3930 - val_accuracy: 0.8273 - val_loss: 0.3683 - learning_rate: 1.0000e-04\n",
      "Epoch 39/100\n",
      "\u001b[1m63/63\u001b[0m \u001b[32m━━━━━━━━━━━━━━━━━━━━\u001b[0m\u001b[37m\u001b[0m \u001b[1m120s\u001b[0m 2s/step - accuracy: 0.8257 - loss: 0.3974 - val_accuracy: 0.8307 - val_loss: 0.3650 - learning_rate: 1.0000e-04\n",
      "Epoch 40/100\n",
      "\u001b[1m63/63\u001b[0m \u001b[32m━━━━━━━━━━━━━━━━━━━━\u001b[0m\u001b[37m\u001b[0m \u001b[1m119s\u001b[0m 2s/step - accuracy: 0.8275 - loss: 0.3893 - val_accuracy: 0.8332 - val_loss: 0.3628 - learning_rate: 1.0000e-04\n",
      "Epoch 41/100\n",
      "\u001b[1m63/63\u001b[0m \u001b[32m━━━━━━━━━━━━━━━━━━━━\u001b[0m\u001b[37m\u001b[0m \u001b[1m120s\u001b[0m 2s/step - accuracy: 0.8360 - loss: 0.3779 - val_accuracy: 0.8270 - val_loss: 0.3659 - learning_rate: 1.0000e-04\n",
      "Epoch 42/100\n",
      "\u001b[1m63/63\u001b[0m \u001b[32m━━━━━━━━━━━━━━━━━━━━\u001b[0m\u001b[37m\u001b[0m \u001b[1m122s\u001b[0m 2s/step - accuracy: 0.8424 - loss: 0.3733 - val_accuracy: 0.8370 - val_loss: 0.3580 - learning_rate: 1.0000e-04\n",
      "Epoch 43/100\n",
      "\u001b[1m63/63\u001b[0m \u001b[32m━━━━━━━━━━━━━━━━━━━━\u001b[0m\u001b[37m\u001b[0m \u001b[1m141s\u001b[0m 2s/step - accuracy: 0.8364 - loss: 0.3810 - val_accuracy: 0.8322 - val_loss: 0.3612 - learning_rate: 1.0000e-04\n",
      "Epoch 44/100\n",
      "\u001b[1m63/63\u001b[0m \u001b[32m━━━━━━━━━━━━━━━━━━━━\u001b[0m\u001b[37m\u001b[0m \u001b[1m121s\u001b[0m 2s/step - accuracy: 0.8276 - loss: 0.3890 - val_accuracy: 0.8232 - val_loss: 0.3676 - learning_rate: 1.0000e-04\n",
      "Epoch 45/100\n",
      "\u001b[1m63/63\u001b[0m \u001b[32m━━━━━━━━━━━━━━━━━━━━\u001b[0m\u001b[37m\u001b[0m \u001b[1m120s\u001b[0m 2s/step - accuracy: 0.8350 - loss: 0.3794 - val_accuracy: 0.8275 - val_loss: 0.3642 - learning_rate: 1.0000e-04\n",
      "Epoch 46/100\n",
      "\u001b[1m63/63\u001b[0m \u001b[32m━━━━━━━━━━━━━━━━━━━━\u001b[0m\u001b[37m\u001b[0m \u001b[1m122s\u001b[0m 2s/step - accuracy: 0.8308 - loss: 0.3825 - val_accuracy: 0.8410 - val_loss: 0.3514 - learning_rate: 1.0000e-04\n",
      "Epoch 47/100\n",
      "\u001b[1m63/63\u001b[0m \u001b[32m━━━━━━━━━━━━━━━━━━━━\u001b[0m\u001b[37m\u001b[0m \u001b[1m122s\u001b[0m 2s/step - accuracy: 0.8383 - loss: 0.3821 - val_accuracy: 0.8340 - val_loss: 0.3575 - learning_rate: 1.0000e-04\n",
      "Epoch 48/100\n",
      "\u001b[1m63/63\u001b[0m \u001b[32m━━━━━━━━━━━━━━━━━━━━\u001b[0m\u001b[37m\u001b[0m \u001b[1m120s\u001b[0m 2s/step - accuracy: 0.8384 - loss: 0.3760 - val_accuracy: 0.8332 - val_loss: 0.3571 - learning_rate: 1.0000e-04\n",
      "Epoch 49/100\n",
      "\u001b[1m63/63\u001b[0m \u001b[32m━━━━━━━━━━━━━━━━━━━━\u001b[0m\u001b[37m\u001b[0m \u001b[1m120s\u001b[0m 2s/step - accuracy: 0.8403 - loss: 0.3758 - val_accuracy: 0.8335 - val_loss: 0.3589 - learning_rate: 1.0000e-04\n",
      "Epoch 50/100\n",
      "\u001b[1m63/63\u001b[0m \u001b[32m━━━━━━━━━━━━━━━━━━━━\u001b[0m\u001b[37m\u001b[0m \u001b[1m120s\u001b[0m 2s/step - accuracy: 0.8395 - loss: 0.3703 - val_accuracy: 0.8303 - val_loss: 0.3592 - learning_rate: 1.0000e-04\n",
      "Epoch 51/100\n",
      "\u001b[1m63/63\u001b[0m \u001b[32m━━━━━━━━━━━━━━━━━━━━\u001b[0m\u001b[37m\u001b[0m \u001b[1m121s\u001b[0m 2s/step - accuracy: 0.8406 - loss: 0.3770 - val_accuracy: 0.8338 - val_loss: 0.3563 - learning_rate: 1.0000e-04\n",
      "Epoch 52/100\n",
      "\u001b[1m63/63\u001b[0m \u001b[32m━━━━━━━━━━━━━━━━━━━━\u001b[0m\u001b[37m\u001b[0m \u001b[1m121s\u001b[0m 2s/step - accuracy: 0.8360 - loss: 0.3823 - val_accuracy: 0.8453 - val_loss: 0.3435 - learning_rate: 1.0000e-04\n",
      "Epoch 53/100\n",
      "\u001b[1m63/63\u001b[0m \u001b[32m━━━━━━━━━━━━━━━━━━━━\u001b[0m\u001b[37m\u001b[0m \u001b[1m121s\u001b[0m 2s/step - accuracy: 0.8428 - loss: 0.3735 - val_accuracy: 0.8280 - val_loss: 0.3591 - learning_rate: 1.0000e-04\n",
      "Epoch 54/100\n",
      "\u001b[1m63/63\u001b[0m \u001b[32m━━━━━━━━━━━━━━━━━━━━\u001b[0m\u001b[37m\u001b[0m \u001b[1m131s\u001b[0m 2s/step - accuracy: 0.8411 - loss: 0.3665 - val_accuracy: 0.8380 - val_loss: 0.3496 - learning_rate: 1.0000e-04\n",
      "Epoch 55/100\n",
      "\u001b[1m63/63\u001b[0m \u001b[32m━━━━━━━━━━━━━━━━━━━━\u001b[0m\u001b[37m\u001b[0m \u001b[1m121s\u001b[0m 2s/step - accuracy: 0.8393 - loss: 0.3772 - val_accuracy: 0.8432 - val_loss: 0.3432 - learning_rate: 1.0000e-04\n",
      "Epoch 56/100\n",
      "\u001b[1m63/63\u001b[0m \u001b[32m━━━━━━━━━━━━━━━━━━━━\u001b[0m\u001b[37m\u001b[0m \u001b[1m121s\u001b[0m 2s/step - accuracy: 0.8372 - loss: 0.3745 - val_accuracy: 0.8367 - val_loss: 0.3489 - learning_rate: 1.0000e-04\n",
      "Epoch 57/100\n",
      "\u001b[1m63/63\u001b[0m \u001b[32m━━━━━━━━━━━━━━━━━━━━\u001b[0m\u001b[37m\u001b[0m \u001b[1m123s\u001b[0m 2s/step - accuracy: 0.8439 - loss: 0.3683 - val_accuracy: 0.8415 - val_loss: 0.3447 - learning_rate: 1.0000e-04\n",
      "Epoch 58/100\n",
      "\u001b[1m63/63\u001b[0m \u001b[32m━━━━━━━━━━━━━━━━━━━━\u001b[0m\u001b[37m\u001b[0m \u001b[1m122s\u001b[0m 2s/step - accuracy: 0.8474 - loss: 0.3637 - val_accuracy: 0.8390 - val_loss: 0.3455 - learning_rate: 1.0000e-04\n",
      "Epoch 59/100\n",
      "\u001b[1m63/63\u001b[0m \u001b[32m━━━━━━━━━━━━━━━━━━━━\u001b[0m\u001b[37m\u001b[0m \u001b[1m121s\u001b[0m 2s/step - accuracy: 0.8369 - loss: 0.3705 - val_accuracy: 0.8418 - val_loss: 0.3432 - learning_rate: 1.0000e-04\n",
      "Epoch 60/100\n",
      "\u001b[1m63/63\u001b[0m \u001b[32m━━━━━━━━━━━━━━━━━━━━\u001b[0m\u001b[37m\u001b[0m \u001b[1m122s\u001b[0m 2s/step - accuracy: 0.8499 - loss: 0.3549 - val_accuracy: 0.8460 - val_loss: 0.3390 - learning_rate: 1.0000e-04\n",
      "Epoch 61/100\n",
      "\u001b[1m63/63\u001b[0m \u001b[32m━━━━━━━━━━━━━━━━━━━━\u001b[0m\u001b[37m\u001b[0m \u001b[1m121s\u001b[0m 2s/step - accuracy: 0.8497 - loss: 0.3593 - val_accuracy: 0.8475 - val_loss: 0.3378 - learning_rate: 1.0000e-04\n",
      "Epoch 62/100\n",
      "\u001b[1m63/63\u001b[0m \u001b[32m━━━━━━━━━━━━━━━━━━━━\u001b[0m\u001b[37m\u001b[0m \u001b[1m121s\u001b[0m 2s/step - accuracy: 0.8412 - loss: 0.3586 - val_accuracy: 0.8420 - val_loss: 0.3425 - learning_rate: 1.0000e-04\n",
      "Epoch 63/100\n",
      "\u001b[1m63/63\u001b[0m \u001b[32m━━━━━━━━━━━━━━━━━━━━\u001b[0m\u001b[37m\u001b[0m \u001b[1m121s\u001b[0m 2s/step - accuracy: 0.8385 - loss: 0.3732 - val_accuracy: 0.8453 - val_loss: 0.3388 - learning_rate: 1.0000e-04\n",
      "Epoch 64/100\n",
      "\u001b[1m63/63\u001b[0m \u001b[32m━━━━━━━━━━━━━━━━━━━━\u001b[0m\u001b[37m\u001b[0m \u001b[1m121s\u001b[0m 2s/step - accuracy: 0.8424 - loss: 0.3597 - val_accuracy: 0.8447 - val_loss: 0.3390 - learning_rate: 1.0000e-04\n",
      "Epoch 65/100\n",
      "\u001b[1m63/63\u001b[0m \u001b[32m━━━━━━━━━━━━━━━━━━━━\u001b[0m\u001b[37m\u001b[0m \u001b[1m124s\u001b[0m 2s/step - accuracy: 0.8384 - loss: 0.3650 - val_accuracy: 0.8493 - val_loss: 0.3348 - learning_rate: 1.0000e-04\n",
      "Epoch 66/100\n",
      "\u001b[1m63/63\u001b[0m \u001b[32m━━━━━━━━━━━━━━━━━━━━\u001b[0m\u001b[37m\u001b[0m \u001b[1m122s\u001b[0m 2s/step - accuracy: 0.8454 - loss: 0.3614 - val_accuracy: 0.8482 - val_loss: 0.3356 - learning_rate: 1.0000e-04\n",
      "Epoch 67/100\n",
      "\u001b[1m63/63\u001b[0m \u001b[32m━━━━━━━━━━━━━━━━━━━━\u001b[0m\u001b[37m\u001b[0m \u001b[1m122s\u001b[0m 2s/step - accuracy: 0.8445 - loss: 0.3614 - val_accuracy: 0.8413 - val_loss: 0.3400 - learning_rate: 1.0000e-04\n",
      "Epoch 68/100\n",
      "\u001b[1m63/63\u001b[0m \u001b[32m━━━━━━━━━━━━━━━━━━━━\u001b[0m\u001b[37m\u001b[0m \u001b[1m121s\u001b[0m 2s/step - accuracy: 0.8469 - loss: 0.3532 - val_accuracy: 0.8447 - val_loss: 0.3365 - learning_rate: 1.0000e-04\n",
      "Epoch 69/100\n",
      "\u001b[1m63/63\u001b[0m \u001b[32m━━━━━━━━━━━━━━━━━━━━\u001b[0m\u001b[37m\u001b[0m \u001b[1m124s\u001b[0m 2s/step - accuracy: 0.8424 - loss: 0.3557 - val_accuracy: 0.8547 - val_loss: 0.3312 - learning_rate: 1.0000e-04\n",
      "Epoch 70/100\n",
      "\u001b[1m63/63\u001b[0m \u001b[32m━━━━━━━━━━━━━━━━━━━━\u001b[0m\u001b[37m\u001b[0m \u001b[1m123s\u001b[0m 2s/step - accuracy: 0.8432 - loss: 0.3608 - val_accuracy: 0.8485 - val_loss: 0.3347 - learning_rate: 1.0000e-04\n",
      "Epoch 71/100\n",
      "\u001b[1m63/63\u001b[0m \u001b[32m━━━━━━━━━━━━━━━━━━━━\u001b[0m\u001b[37m\u001b[0m \u001b[1m122s\u001b[0m 2s/step - accuracy: 0.8479 - loss: 0.3608 - val_accuracy: 0.8480 - val_loss: 0.3343 - learning_rate: 1.0000e-04\n",
      "Epoch 72/100\n",
      "\u001b[1m63/63\u001b[0m \u001b[32m━━━━━━━━━━━━━━━━━━━━\u001b[0m\u001b[37m\u001b[0m \u001b[1m122s\u001b[0m 2s/step - accuracy: 0.8505 - loss: 0.3543 - val_accuracy: 0.8545 - val_loss: 0.3303 - learning_rate: 1.0000e-04\n",
      "Epoch 73/100\n",
      "\u001b[1m63/63\u001b[0m \u001b[32m━━━━━━━━━━━━━━━━━━━━\u001b[0m\u001b[37m\u001b[0m \u001b[1m122s\u001b[0m 2s/step - accuracy: 0.8448 - loss: 0.3625 - val_accuracy: 0.8480 - val_loss: 0.3334 - learning_rate: 1.0000e-04\n",
      "Epoch 74/100\n",
      "\u001b[1m63/63\u001b[0m \u001b[32m━━━━━━━━━━━━━━━━━━━━\u001b[0m\u001b[37m\u001b[0m \u001b[1m142s\u001b[0m 2s/step - accuracy: 0.8478 - loss: 0.3618 - val_accuracy: 0.8543 - val_loss: 0.3301 - learning_rate: 1.0000e-04\n",
      "Epoch 75/100\n",
      "\u001b[1m63/63\u001b[0m \u001b[32m━━━━━━━━━━━━━━━━━━━━\u001b[0m\u001b[37m\u001b[0m \u001b[1m123s\u001b[0m 2s/step - accuracy: 0.8464 - loss: 0.3620 - val_accuracy: 0.8580 - val_loss: 0.3281 - learning_rate: 1.0000e-04\n",
      "Epoch 76/100\n",
      "\u001b[1m63/63\u001b[0m \u001b[32m━━━━━━━━━━━━━━━━━━━━\u001b[0m\u001b[37m\u001b[0m \u001b[1m122s\u001b[0m 2s/step - accuracy: 0.8473 - loss: 0.3568 - val_accuracy: 0.8495 - val_loss: 0.3314 - learning_rate: 1.0000e-04\n",
      "Epoch 77/100\n",
      "\u001b[1m63/63\u001b[0m \u001b[32m━━━━━━━━━━━━━━━━━━━━\u001b[0m\u001b[37m\u001b[0m \u001b[1m120s\u001b[0m 2s/step - accuracy: 0.8537 - loss: 0.3475 - val_accuracy: 0.8520 - val_loss: 0.3293 - learning_rate: 1.0000e-04\n",
      "Epoch 78/100\n",
      "\u001b[1m63/63\u001b[0m \u001b[32m━━━━━━━━━━━━━━━━━━━━\u001b[0m\u001b[37m\u001b[0m \u001b[1m121s\u001b[0m 2s/step - accuracy: 0.8401 - loss: 0.3630 - val_accuracy: 0.8550 - val_loss: 0.3284 - learning_rate: 1.0000e-04\n",
      "Epoch 79/100\n",
      "\u001b[1m63/63\u001b[0m \u001b[32m━━━━━━━━━━━━━━━━━━━━\u001b[0m\u001b[37m\u001b[0m \u001b[1m120s\u001b[0m 2s/step - accuracy: 0.8471 - loss: 0.3538 - val_accuracy: 0.8537 - val_loss: 0.3283 - learning_rate: 1.0000e-04\n",
      "Epoch 80/100\n",
      "\u001b[1m63/63\u001b[0m \u001b[32m━━━━━━━━━━━━━━━━━━━━\u001b[0m\u001b[37m\u001b[0m \u001b[1m119s\u001b[0m 2s/step - accuracy: 0.8506 - loss: 0.3474 - val_accuracy: 0.8515 - val_loss: 0.3283 - learning_rate: 1.0000e-04\n",
      "Epoch 81/100\n",
      "\u001b[1m63/63\u001b[0m \u001b[32m━━━━━━━━━━━━━━━━━━━━\u001b[0m\u001b[37m\u001b[0m \u001b[1m119s\u001b[0m 2s/step - accuracy: 0.8479 - loss: 0.3550 - val_accuracy: 0.8583 - val_loss: 0.3257 - learning_rate: 1.0000e-04\n",
      "Epoch 82/100\n",
      "\u001b[1m63/63\u001b[0m \u001b[32m━━━━━━━━━━━━━━━━━━━━\u001b[0m\u001b[37m\u001b[0m \u001b[1m123s\u001b[0m 2s/step - accuracy: 0.8504 - loss: 0.3440 - val_accuracy: 0.8453 - val_loss: 0.3317 - learning_rate: 1.0000e-04\n",
      "Epoch 83/100\n",
      "\u001b[1m63/63\u001b[0m \u001b[32m━━━━━━━━━━━━━━━━━━━━\u001b[0m\u001b[37m\u001b[0m \u001b[1m120s\u001b[0m 2s/step - accuracy: 0.8512 - loss: 0.3437 - val_accuracy: 0.8555 - val_loss: 0.3266 - learning_rate: 1.0000e-04\n",
      "Epoch 84/100\n",
      "\u001b[1m63/63\u001b[0m \u001b[32m━━━━━━━━━━━━━━━━━━━━\u001b[0m\u001b[37m\u001b[0m \u001b[1m119s\u001b[0m 2s/step - accuracy: 0.8480 - loss: 0.3490 - val_accuracy: 0.8428 - val_loss: 0.3344 - learning_rate: 1.0000e-04\n",
      "Epoch 85/100\n",
      "\u001b[1m63/63\u001b[0m \u001b[32m━━━━━━━━━━━━━━━━━━━━\u001b[0m\u001b[37m\u001b[0m \u001b[1m119s\u001b[0m 2s/step - accuracy: 0.8526 - loss: 0.3486 - val_accuracy: 0.8505 - val_loss: 0.3289 - learning_rate: 1.0000e-04\n",
      "Epoch 86/100\n",
      "\u001b[1m63/63\u001b[0m \u001b[32m━━━━━━━━━━━━━━━━━━━━\u001b[0m\u001b[37m\u001b[0m \u001b[1m119s\u001b[0m 2s/step - accuracy: 0.8449 - loss: 0.3520 - val_accuracy: 0.8587 - val_loss: 0.3222 - learning_rate: 1.0000e-04\n",
      "Epoch 87/100\n",
      "\u001b[1m63/63\u001b[0m \u001b[32m━━━━━━━━━━━━━━━━━━━━\u001b[0m\u001b[37m\u001b[0m \u001b[1m119s\u001b[0m 2s/step - accuracy: 0.8403 - loss: 0.3549 - val_accuracy: 0.8553 - val_loss: 0.3250 - learning_rate: 1.0000e-04\n",
      "Epoch 88/100\n",
      "\u001b[1m63/63\u001b[0m \u001b[32m━━━━━━━━━━━━━━━━━━━━\u001b[0m\u001b[37m\u001b[0m \u001b[1m119s\u001b[0m 2s/step - accuracy: 0.8461 - loss: 0.3578 - val_accuracy: 0.8547 - val_loss: 0.3252 - learning_rate: 1.0000e-04\n",
      "Epoch 89/100\n",
      "\u001b[1m63/63\u001b[0m \u001b[32m━━━━━━━━━━━━━━━━━━━━\u001b[0m\u001b[37m\u001b[0m \u001b[1m122s\u001b[0m 2s/step - accuracy: 0.8526 - loss: 0.3498 - val_accuracy: 0.8618 - val_loss: 0.3198 - learning_rate: 1.0000e-04\n",
      "Epoch 90/100\n",
      "\u001b[1m63/63\u001b[0m \u001b[32m━━━━━━━━━━━━━━━━━━━━\u001b[0m\u001b[37m\u001b[0m \u001b[1m122s\u001b[0m 2s/step - accuracy: 0.8528 - loss: 0.3482 - val_accuracy: 0.8630 - val_loss: 0.3173 - learning_rate: 1.0000e-04\n",
      "Epoch 91/100\n",
      "\u001b[1m63/63\u001b[0m \u001b[32m━━━━━━━━━━━━━━━━━━━━\u001b[0m\u001b[37m\u001b[0m \u001b[1m122s\u001b[0m 2s/step - accuracy: 0.8518 - loss: 0.3526 - val_accuracy: 0.8627 - val_loss: 0.3187 - learning_rate: 1.0000e-04\n",
      "Epoch 92/100\n",
      "\u001b[1m63/63\u001b[0m \u001b[32m━━━━━━━━━━━━━━━━━━━━\u001b[0m\u001b[37m\u001b[0m \u001b[1m122s\u001b[0m 2s/step - accuracy: 0.8441 - loss: 0.3537 - val_accuracy: 0.8610 - val_loss: 0.3201 - learning_rate: 1.0000e-04\n",
      "Epoch 93/100\n",
      "\u001b[1m63/63\u001b[0m \u001b[32m━━━━━━━━━━━━━━━━━━━━\u001b[0m\u001b[37m\u001b[0m \u001b[1m124s\u001b[0m 2s/step - accuracy: 0.8497 - loss: 0.3431 - val_accuracy: 0.8625 - val_loss: 0.3173 - learning_rate: 1.0000e-04\n",
      "Epoch 94/100\n",
      "\u001b[1m63/63\u001b[0m \u001b[32m━━━━━━━━━━━━━━━━━━━━\u001b[0m\u001b[37m\u001b[0m \u001b[1m136s\u001b[0m 2s/step - accuracy: 0.8538 - loss: 0.3398 - val_accuracy: 0.8625 - val_loss: 0.3177 - learning_rate: 1.0000e-04\n",
      "Epoch 95/100\n",
      "\u001b[1m63/63\u001b[0m \u001b[32m━━━━━━━━━━━━━━━━━━━━\u001b[0m\u001b[37m\u001b[0m \u001b[1m136s\u001b[0m 2s/step - accuracy: 0.8477 - loss: 0.3639 - val_accuracy: 0.8572 - val_loss: 0.3211 - learning_rate: 1.0000e-04\n",
      "Epoch 96/100\n",
      "\u001b[1m63/63\u001b[0m \u001b[32m━━━━━━━━━━━━━━━━━━━━\u001b[0m\u001b[37m\u001b[0m \u001b[1m137s\u001b[0m 2s/step - accuracy: 0.8407 - loss: 0.3531 - val_accuracy: 0.8580 - val_loss: 0.3211 - learning_rate: 1.0000e-04\n",
      "Epoch 97/100\n",
      "\u001b[1m63/63\u001b[0m \u001b[32m━━━━━━━━━━━━━━━━━━━━\u001b[0m\u001b[37m\u001b[0m \u001b[1m132s\u001b[0m 2s/step - accuracy: 0.8581 - loss: 0.3388 - val_accuracy: 0.8608 - val_loss: 0.3192 - learning_rate: 1.0000e-04\n",
      "Epoch 98/100\n",
      "\u001b[1m63/63\u001b[0m \u001b[32m━━━━━━━━━━━━━━━━━━━━\u001b[0m\u001b[37m\u001b[0m \u001b[1m132s\u001b[0m 2s/step - accuracy: 0.8523 - loss: 0.3418 - val_accuracy: 0.8620 - val_loss: 0.3181 - learning_rate: 1.0000e-04\n",
      "Epoch 99/100\n",
      "\u001b[1m63/63\u001b[0m \u001b[32m━━━━━━━━━━━━━━━━━━━━\u001b[0m\u001b[37m\u001b[0m \u001b[1m133s\u001b[0m 2s/step - accuracy: 0.8476 - loss: 0.3418 - val_accuracy: 0.8630 - val_loss: 0.3155 - learning_rate: 1.0000e-04\n",
      "Epoch 100/100\n",
      "\u001b[1m63/63\u001b[0m \u001b[32m━━━━━━━━━━━━━━━━━━━━\u001b[0m\u001b[37m\u001b[0m \u001b[1m132s\u001b[0m 2s/step - accuracy: 0.8554 - loss: 0.3429 - val_accuracy: 0.8627 - val_loss: 0.3171 - learning_rate: 1.0000e-04\n",
      "Restoring model weights from the end of the best epoch: 99.\n"
     ]
    }
   ],
   "source": [
    "# callback and fit\n",
    "early_stopping_callbacks = [tf.keras.callbacks.EarlyStopping(monitor = 'val_loss', patience = 10, restore_best_weights = True, verbose = 1),\n",
    "                            tf.keras.callbacks.ReduceLROnPlateau(paitence = 10, monitor = 'val_loss', min_lr = 0.00001)]\n",
    "\n",
    "history = model.fit(tr_set, epochs = 100, validation_data = v_set, callbacks = early_stopping_callbacks)"
   ]
  },
  {
   "cell_type": "code",
   "execution_count": 9,
   "id": "6430d317",
   "metadata": {
    "execution": {
     "iopub.execute_input": "2024-04-29T18:07:54.352272Z",
     "iopub.status.busy": "2024-04-29T18:07:54.351291Z",
     "iopub.status.idle": "2024-04-29T18:07:54.915243Z",
     "shell.execute_reply": "2024-04-29T18:07:54.914297Z"
    },
    "id": "aT97vDrB66EQ",
    "papermill": {
     "duration": 1.250803,
     "end_time": "2024-04-29T18:07:54.917561",
     "exception": false,
     "start_time": "2024-04-29T18:07:53.666758",
     "status": "completed"
    },
    "tags": []
   },
   "outputs": [
    {
     "data": {
      "image/png": "[encoded data removed]",
      "text/plain": [
       "<Figure size 640x480 with 1 Axes>"
      ]
     },
     "metadata": {},
     "output_type": "display_data"
    },
    {
     "data": {
      "image/png": "[encoded data removed]",
      "text/plain": [
       "<Figure size 640x480 with 1 Axes>"
      ]
     },
     "metadata": {},
     "output_type": "display_data"
    }
   ],
   "source": [
    "# loss curve\n",
    "\n",
    "l = np.concatenate([history.history['loss']])\n",
    "acc = np.concatenate([history.history['accuracy']])\n",
    "lv = np.concatenate([history.history['val_loss']])\n",
    "accv = np.concatenate([history.history['val_accuracy']])\n",
    "\n",
    "plt.plot(l, label=\"Loss\")\n",
    "plt.plot(acc, label=\"Accuracy\")\n",
    "plt.legend()\n",
    "plt.show()\n",
    "plt.plot(lv, label=\"Val_Loss\")\n",
    "plt.plot(accv, label=\"Val_Accuracy\")\n",
    "plt.legend()\n",
    "plt.show()"
   ]
  },
  {
   "cell_type": "code",
   "execution_count": 10,
   "id": "505a51db",
   "metadata": {
    "execution": {
     "iopub.execute_input": "2024-04-29T18:07:56.112964Z",
     "iopub.status.busy": "2024-04-29T18:07:56.112576Z",
     "iopub.status.idle": "2024-04-29T18:07:57.108300Z",
     "shell.execute_reply": "2024-04-29T18:07:57.107349Z"
    },
    "papermill": {
     "duration": 1.584341,
     "end_time": "2024-04-29T18:07:57.110833",
     "exception": false,
     "start_time": "2024-04-29T18:07:55.526492",
     "status": "completed"
    },
    "tags": []
   },
   "outputs": [],
   "source": [
    "model.save(\"densenet_pretrain_2.keras\")"
   ]
  },
  {
   "cell_type": "code",
   "execution_count": 11,
   "id": "cb11e3bd",
   "metadata": {
    "execution": {
     "iopub.execute_input": "2024-04-29T18:07:58.327870Z",
     "iopub.status.busy": "2024-04-29T18:07:58.327442Z",
     "iopub.status.idle": "2024-04-29T20:01:10.331215Z",
     "shell.execute_reply": "2024-04-29T20:01:10.330100Z"
    },
    "id": "jYjmoez2eSuv",
    "papermill": {
     "duration": 6792.610012,
     "end_time": "2024-04-29T20:01:10.333616",
     "exception": false,
     "start_time": "2024-04-29T18:07:57.723604",
     "status": "completed"
    },
    "tags": []
   },
   "outputs": [
    {
     "name": "stdout",
     "output_type": "stream",
     "text": [
      "Epoch 1/50\n",
      "\u001b[1m63/63\u001b[0m \u001b[32m━━━━━━━━━━━━━━━━━━━━\u001b[0m\u001b[37m\u001b[0m \u001b[1m217s\u001b[0m 3s/step - accuracy: 0.6463 - loss: 1.0062 - val_accuracy: 0.8620 - val_loss: 0.3372\n",
      "Epoch 2/50\n",
      "\u001b[1m63/63\u001b[0m \u001b[32m━━━━━━━━━━━━━━━━━━━━\u001b[0m\u001b[37m\u001b[0m \u001b[1m133s\u001b[0m 2s/step - accuracy: 0.7221 - loss: 0.8129 - val_accuracy: 0.8512 - val_loss: 0.3740\n",
      "Epoch 3/50\n",
      "\u001b[1m63/63\u001b[0m \u001b[32m━━━━━━━━━━━━━━━━━━━━\u001b[0m\u001b[37m\u001b[0m \u001b[1m133s\u001b[0m 2s/step - accuracy: 0.7777 - loss: 0.6142 - val_accuracy: 0.8472 - val_loss: 0.3927\n",
      "Epoch 4/50\n",
      "\u001b[1m63/63\u001b[0m \u001b[32m━━━━━━━━━━━━━━━━━━━━\u001b[0m\u001b[37m\u001b[0m \u001b[1m133s\u001b[0m 2s/step - accuracy: 0.8043 - loss: 0.5228 - val_accuracy: 0.8560 - val_loss: 0.3791\n",
      "Epoch 5/50\n",
      "\u001b[1m63/63\u001b[0m \u001b[32m━━━━━━━━━━━━━━━━━━━━\u001b[0m\u001b[37m\u001b[0m \u001b[1m131s\u001b[0m 2s/step - accuracy: 0.8269 - loss: 0.4520 - val_accuracy: 0.8645 - val_loss: 0.3544\n",
      "Epoch 6/50\n",
      "\u001b[1m63/63\u001b[0m \u001b[32m━━━━━━━━━━━━━━━━━━━━\u001b[0m\u001b[37m\u001b[0m \u001b[1m147s\u001b[0m 2s/step - accuracy: 0.8398 - loss: 0.4248 - val_accuracy: 0.8692 - val_loss: 0.3433\n",
      "Epoch 7/50\n",
      "\u001b[1m63/63\u001b[0m \u001b[32m━━━━━━━━━━━━━━━━━━━━\u001b[0m\u001b[37m\u001b[0m \u001b[1m137s\u001b[0m 2s/step - accuracy: 0.8550 - loss: 0.3711 - val_accuracy: 0.8715 - val_loss: 0.3353\n",
      "Epoch 8/50\n",
      "\u001b[1m63/63\u001b[0m \u001b[32m━━━━━━━━━━━━━━━━━━━━\u001b[0m\u001b[37m\u001b[0m \u001b[1m136s\u001b[0m 2s/step - accuracy: 0.8501 - loss: 0.3690 - val_accuracy: 0.8712 - val_loss: 0.3274\n",
      "Epoch 9/50\n",
      "\u001b[1m63/63\u001b[0m \u001b[32m━━━━━━━━━━━━━━━━━━━━\u001b[0m\u001b[37m\u001b[0m \u001b[1m134s\u001b[0m 2s/step - accuracy: 0.8577 - loss: 0.3588 - val_accuracy: 0.8705 - val_loss: 0.3244\n",
      "Epoch 10/50\n",
      "\u001b[1m63/63\u001b[0m \u001b[32m━━━━━━━━━━━━━━━━━━━━\u001b[0m\u001b[37m\u001b[0m \u001b[1m133s\u001b[0m 2s/step - accuracy: 0.8618 - loss: 0.3578 - val_accuracy: 0.8675 - val_loss: 0.3195\n",
      "Epoch 11/50\n",
      "\u001b[1m63/63\u001b[0m \u001b[32m━━━━━━━━━━━━━━━━━━━━\u001b[0m\u001b[37m\u001b[0m \u001b[1m133s\u001b[0m 2s/step - accuracy: 0.8542 - loss: 0.3454 - val_accuracy: 0.8705 - val_loss: 0.3151\n",
      "Epoch 12/50\n",
      "\u001b[1m63/63\u001b[0m \u001b[32m━━━━━━━━━━━━━━━━━━━━\u001b[0m\u001b[37m\u001b[0m \u001b[1m137s\u001b[0m 2s/step - accuracy: 0.8634 - loss: 0.3407 - val_accuracy: 0.8720 - val_loss: 0.3111\n",
      "Epoch 13/50\n",
      "\u001b[1m63/63\u001b[0m \u001b[32m━━━━━━━━━━━━━━━━━━━━\u001b[0m\u001b[37m\u001b[0m \u001b[1m140s\u001b[0m 2s/step - accuracy: 0.8624 - loss: 0.3293 - val_accuracy: 0.8735 - val_loss: 0.3093\n",
      "Epoch 14/50\n",
      "\u001b[1m63/63\u001b[0m \u001b[32m━━━━━━━━━━━━━━━━━━━━\u001b[0m\u001b[37m\u001b[0m \u001b[1m133s\u001b[0m 2s/step - accuracy: 0.8659 - loss: 0.3209 - val_accuracy: 0.8737 - val_loss: 0.3073\n",
      "Epoch 15/50\n",
      "\u001b[1m63/63\u001b[0m \u001b[32m━━━━━━━━━━━━━━━━━━━━\u001b[0m\u001b[37m\u001b[0m \u001b[1m134s\u001b[0m 2s/step - accuracy: 0.8676 - loss: 0.3250 - val_accuracy: 0.8758 - val_loss: 0.3033\n",
      "Epoch 16/50\n",
      "\u001b[1m63/63\u001b[0m \u001b[32m━━━━━━━━━━━━━━━━━━━━\u001b[0m\u001b[37m\u001b[0m \u001b[1m134s\u001b[0m 2s/step - accuracy: 0.8620 - loss: 0.3309 - val_accuracy: 0.8770 - val_loss: 0.3002\n",
      "Epoch 17/50\n",
      "\u001b[1m63/63\u001b[0m \u001b[32m━━━━━━━━━━━━━━━━━━━━\u001b[0m\u001b[37m\u001b[0m \u001b[1m133s\u001b[0m 2s/step - accuracy: 0.8655 - loss: 0.3115 - val_accuracy: 0.8783 - val_loss: 0.2984\n",
      "Epoch 18/50\n",
      "\u001b[1m63/63\u001b[0m \u001b[32m━━━━━━━━━━━━━━━━━━━━\u001b[0m\u001b[37m\u001b[0m \u001b[1m133s\u001b[0m 2s/step - accuracy: 0.8700 - loss: 0.3100 - val_accuracy: 0.8790 - val_loss: 0.2959\n",
      "Epoch 19/50\n",
      "\u001b[1m63/63\u001b[0m \u001b[32m━━━━━━━━━━━━━━━━━━━━\u001b[0m\u001b[37m\u001b[0m \u001b[1m134s\u001b[0m 2s/step - accuracy: 0.8776 - loss: 0.2989 - val_accuracy: 0.8808 - val_loss: 0.2929\n",
      "Epoch 20/50\n",
      "\u001b[1m63/63\u001b[0m \u001b[32m━━━━━━━━━━━━━━━━━━━━\u001b[0m\u001b[37m\u001b[0m \u001b[1m133s\u001b[0m 2s/step - accuracy: 0.8704 - loss: 0.3006 - val_accuracy: 0.8827 - val_loss: 0.2900\n",
      "Epoch 21/50\n",
      "\u001b[1m63/63\u001b[0m \u001b[32m━━━━━━━━━━━━━━━━━━━━\u001b[0m\u001b[37m\u001b[0m \u001b[1m134s\u001b[0m 2s/step - accuracy: 0.8720 - loss: 0.3217 - val_accuracy: 0.8825 - val_loss: 0.2878\n",
      "Epoch 22/50\n",
      "\u001b[1m63/63\u001b[0m \u001b[32m━━━━━━━━━━━━━━━━━━━━\u001b[0m\u001b[37m\u001b[0m \u001b[1m133s\u001b[0m 2s/step - accuracy: 0.8715 - loss: 0.2953 - val_accuracy: 0.8855 - val_loss: 0.2842\n",
      "Epoch 23/50\n",
      "\u001b[1m63/63\u001b[0m \u001b[32m━━━━━━━━━━━━━━━━━━━━\u001b[0m\u001b[37m\u001b[0m \u001b[1m133s\u001b[0m 2s/step - accuracy: 0.8772 - loss: 0.2994 - val_accuracy: 0.8863 - val_loss: 0.2816\n",
      "Epoch 24/50\n",
      "\u001b[1m63/63\u001b[0m \u001b[32m━━━━━━━━━━━━━━━━━━━━\u001b[0m\u001b[37m\u001b[0m \u001b[1m133s\u001b[0m 2s/step - accuracy: 0.8721 - loss: 0.2951 - val_accuracy: 0.8870 - val_loss: 0.2795\n",
      "Epoch 25/50\n",
      "\u001b[1m63/63\u001b[0m \u001b[32m━━━━━━━━━━━━━━━━━━━━\u001b[0m\u001b[37m\u001b[0m \u001b[1m134s\u001b[0m 2s/step - accuracy: 0.8811 - loss: 0.2937 - val_accuracy: 0.8888 - val_loss: 0.2774\n",
      "Epoch 26/50\n",
      "\u001b[1m63/63\u001b[0m \u001b[32m━━━━━━━━━━━━━━━━━━━━\u001b[0m\u001b[37m\u001b[0m \u001b[1m135s\u001b[0m 2s/step - accuracy: 0.8735 - loss: 0.2935 - val_accuracy: 0.8892 - val_loss: 0.2754\n",
      "Epoch 27/50\n",
      "\u001b[1m63/63\u001b[0m \u001b[32m━━━━━━━━━━━━━━━━━━━━\u001b[0m\u001b[37m\u001b[0m \u001b[1m135s\u001b[0m 2s/step - accuracy: 0.8760 - loss: 0.2943 - val_accuracy: 0.8905 - val_loss: 0.2734\n",
      "Epoch 28/50\n",
      "\u001b[1m63/63\u001b[0m \u001b[32m━━━━━━━━━━━━━━━━━━━━\u001b[0m\u001b[37m\u001b[0m \u001b[1m135s\u001b[0m 2s/step - accuracy: 0.8807 - loss: 0.2851 - val_accuracy: 0.8915 - val_loss: 0.2721\n",
      "Epoch 29/50\n",
      "\u001b[1m63/63\u001b[0m \u001b[32m━━━━━━━━━━━━━━━━━━━━\u001b[0m\u001b[37m\u001b[0m \u001b[1m134s\u001b[0m 2s/step - accuracy: 0.8839 - loss: 0.2747 - val_accuracy: 0.8920 - val_loss: 0.2695\n",
      "Epoch 30/50\n",
      "\u001b[1m63/63\u001b[0m \u001b[32m━━━━━━━━━━━━━━━━━━━━\u001b[0m\u001b[37m\u001b[0m \u001b[1m133s\u001b[0m 2s/step - accuracy: 0.8834 - loss: 0.2753 - val_accuracy: 0.8940 - val_loss: 0.2689\n",
      "Epoch 31/50\n",
      "\u001b[1m63/63\u001b[0m \u001b[32m━━━━━━━━━━━━━━━━━━━━\u001b[0m\u001b[37m\u001b[0m \u001b[1m134s\u001b[0m 2s/step - accuracy: 0.8797 - loss: 0.2850 - val_accuracy: 0.8957 - val_loss: 0.2676\n",
      "Epoch 32/50\n",
      "\u001b[1m63/63\u001b[0m \u001b[32m━━━━━━━━━━━━━━━━━━━━\u001b[0m\u001b[37m\u001b[0m \u001b[1m134s\u001b[0m 2s/step - accuracy: 0.8809 - loss: 0.2894 - val_accuracy: 0.8965 - val_loss: 0.2663\n",
      "Epoch 33/50\n",
      "\u001b[1m63/63\u001b[0m \u001b[32m━━━━━━━━━━━━━━━━━━━━\u001b[0m\u001b[37m\u001b[0m \u001b[1m133s\u001b[0m 2s/step - accuracy: 0.8867 - loss: 0.2780 - val_accuracy: 0.8972 - val_loss: 0.2653\n",
      "Epoch 34/50\n",
      "\u001b[1m63/63\u001b[0m \u001b[32m━━━━━━━━━━━━━━━━━━━━\u001b[0m\u001b[37m\u001b[0m \u001b[1m133s\u001b[0m 2s/step - accuracy: 0.8923 - loss: 0.2662 - val_accuracy: 0.8982 - val_loss: 0.2629\n",
      "Epoch 35/50\n",
      "\u001b[1m63/63\u001b[0m \u001b[32m━━━━━━━━━━━━━━━━━━━━\u001b[0m\u001b[37m\u001b[0m \u001b[1m133s\u001b[0m 2s/step - accuracy: 0.8883 - loss: 0.2672 - val_accuracy: 0.8970 - val_loss: 0.2607\n",
      "Epoch 36/50\n",
      "\u001b[1m63/63\u001b[0m \u001b[32m━━━━━━━━━━━━━━━━━━━━\u001b[0m\u001b[37m\u001b[0m \u001b[1m133s\u001b[0m 2s/step - accuracy: 0.8757 - loss: 0.2832 - val_accuracy: 0.8972 - val_loss: 0.2596\n",
      "Epoch 37/50\n",
      "\u001b[1m63/63\u001b[0m \u001b[32m━━━━━━━━━━━━━━━━━━━━\u001b[0m\u001b[37m\u001b[0m \u001b[1m132s\u001b[0m 2s/step - accuracy: 0.8879 - loss: 0.2670 - val_accuracy: 0.9005 - val_loss: 0.2590\n",
      "Epoch 38/50\n",
      "\u001b[1m63/63\u001b[0m \u001b[32m━━━━━━━━━━━━━━━━━━━━\u001b[0m\u001b[37m\u001b[0m \u001b[1m134s\u001b[0m 2s/step - accuracy: 0.8903 - loss: 0.2588 - val_accuracy: 0.8990 - val_loss: 0.2549\n",
      "Epoch 39/50\n",
      "\u001b[1m63/63\u001b[0m \u001b[32m━━━━━━━━━━━━━━━━━━━━\u001b[0m\u001b[37m\u001b[0m \u001b[1m133s\u001b[0m 2s/step - accuracy: 0.8828 - loss: 0.2801 - val_accuracy: 0.8997 - val_loss: 0.2543\n",
      "Epoch 40/50\n",
      "\u001b[1m63/63\u001b[0m \u001b[32m━━━━━━━━━━━━━━━━━━━━\u001b[0m\u001b[37m\u001b[0m \u001b[1m141s\u001b[0m 2s/step - accuracy: 0.8892 - loss: 0.2659 - val_accuracy: 0.9028 - val_loss: 0.2534\n",
      "Epoch 41/50\n",
      "\u001b[1m63/63\u001b[0m \u001b[32m━━━━━━━━━━━━━━━━━━━━\u001b[0m\u001b[37m\u001b[0m \u001b[1m134s\u001b[0m 2s/step - accuracy: 0.8834 - loss: 0.2634 - val_accuracy: 0.8997 - val_loss: 0.2521\n",
      "Epoch 42/50\n",
      "\u001b[1m63/63\u001b[0m \u001b[32m━━━━━━━━━━━━━━━━━━━━\u001b[0m\u001b[37m\u001b[0m \u001b[1m135s\u001b[0m 2s/step - accuracy: 0.8957 - loss: 0.2556 - val_accuracy: 0.9032 - val_loss: 0.2515\n",
      "Epoch 43/50\n",
      "\u001b[1m63/63\u001b[0m \u001b[32m━━━━━━━━━━━━━━━━━━━━\u001b[0m\u001b[37m\u001b[0m \u001b[1m133s\u001b[0m 2s/step - accuracy: 0.8852 - loss: 0.2625 - val_accuracy: 0.9025 - val_loss: 0.2502\n",
      "Epoch 44/50\n",
      "\u001b[1m63/63\u001b[0m \u001b[32m━━━━━━━━━━━━━━━━━━━━\u001b[0m\u001b[37m\u001b[0m \u001b[1m132s\u001b[0m 2s/step - accuracy: 0.9006 - loss: 0.2474 - val_accuracy: 0.9030 - val_loss: 0.2503\n",
      "Epoch 45/50\n",
      "\u001b[1m63/63\u001b[0m \u001b[32m━━━━━━━━━━━━━━━━━━━━\u001b[0m\u001b[37m\u001b[0m \u001b[1m133s\u001b[0m 2s/step - accuracy: 0.8973 - loss: 0.2562 - val_accuracy: 0.9020 - val_loss: 0.2479\n",
      "Epoch 46/50\n",
      "\u001b[1m63/63\u001b[0m \u001b[32m━━━━━━━━━━━━━━━━━━━━\u001b[0m\u001b[37m\u001b[0m \u001b[1m134s\u001b[0m 2s/step - accuracy: 0.9023 - loss: 0.2522 - val_accuracy: 0.9047 - val_loss: 0.2469\n",
      "Epoch 47/50\n",
      "\u001b[1m63/63\u001b[0m \u001b[32m━━━━━━━━━━━━━━━━━━━━\u001b[0m\u001b[37m\u001b[0m \u001b[1m133s\u001b[0m 2s/step - accuracy: 0.8847 - loss: 0.2680 - val_accuracy: 0.9062 - val_loss: 0.2460\n",
      "Epoch 48/50\n",
      "\u001b[1m63/63\u001b[0m \u001b[32m━━━━━━━━━━━━━━━━━━━━\u001b[0m\u001b[37m\u001b[0m \u001b[1m132s\u001b[0m 2s/step - accuracy: 0.8938 - loss: 0.2507 - val_accuracy: 0.9055 - val_loss: 0.2441\n",
      "Epoch 49/50\n",
      "\u001b[1m63/63\u001b[0m \u001b[32m━━━━━━━━━━━━━━━━━━━━\u001b[0m\u001b[37m\u001b[0m \u001b[1m133s\u001b[0m 2s/step - accuracy: 0.8892 - loss: 0.2588 - val_accuracy: 0.9065 - val_loss: 0.2424\n",
      "Epoch 50/50\n",
      "\u001b[1m63/63\u001b[0m \u001b[32m━━━━━━━━━━━━━━━━━━━━\u001b[0m\u001b[37m\u001b[0m \u001b[1m133s\u001b[0m 2s/step - accuracy: 0.8962 - loss: 0.2471 - val_accuracy: 0.9068 - val_loss: 0.2421\n",
      "Restoring model weights from the end of the best epoch: 50.\n"
     ]
    }
   ],
   "source": [
    "# fine tune\n",
    "\n",
    "base_model = model.layers[1]\n",
    "base_model.trainable = True\n",
    "\n",
    "fine_tune_at = 390\n",
    "\n",
    "for layer in base_model.layers[:fine_tune_at]:\n",
    "  layer.trainable = False\n",
    "\n",
    "early_stopping_callbacks = tf.keras.callbacks.EarlyStopping(monitor = 'val_loss', patience = 10,restore_best_weights = True, verbose = 1)\n",
    "\n",
    "\n",
    "model.compile(loss=tf.keras.losses.SparseCategoricalCrossentropy(from_logits=False), optimizer=tf.keras.optimizers.Adam(learning_rate=0.00001), metrics\n",
    "              =[\"accuracy\"])\n",
    "\n",
    "history_ft = model.fit(tr_set, epochs = 50, validation_data = te_set, callbacks = [early_stopping_callbacks])"
   ]
  },
  {
   "cell_type": "code",
   "execution_count": 12,
   "id": "770a7cfc",
   "metadata": {
    "execution": {
     "iopub.execute_input": "2024-04-29T20:01:12.303751Z",
     "iopub.status.busy": "2024-04-29T20:01:12.302769Z",
     "iopub.status.idle": "2024-04-29T20:01:13.320007Z",
     "shell.execute_reply": "2024-04-29T20:01:13.318888Z"
    },
    "papermill": {
     "duration": 1.971429,
     "end_time": "2024-04-29T20:01:13.322704",
     "exception": false,
     "start_time": "2024-04-29T20:01:11.351275",
     "status": "completed"
    },
    "tags": []
   },
   "outputs": [],
   "source": [
    "model.save(\"densenet_final_2.keras\")"
   ]
  },
  {
   "cell_type": "code",
   "execution_count": 13,
   "id": "d360675b",
   "metadata": {
    "execution": {
     "iopub.execute_input": "2024-04-29T20:01:15.123091Z",
     "iopub.status.busy": "2024-04-29T20:01:15.121944Z",
     "iopub.status.idle": "2024-04-29T20:01:15.630944Z",
     "shell.execute_reply": "2024-04-29T20:01:15.630003Z"
    },
    "id": "6Hxl2YpVeiIR",
    "papermill": {
     "duration": 1.400438,
     "end_time": "2024-04-29T20:01:15.633136",
     "exception": false,
     "start_time": "2024-04-29T20:01:14.232698",
     "status": "completed"
    },
    "tags": []
   },
   "outputs": [
    {
     "data": {
      "image/png": "[encoded data removed]",
      "text/plain": [
       "<Figure size 640x480 with 1 Axes>"
      ]
     },
     "metadata": {},
     "output_type": "display_data"
    },
    {
     "data": {
      "image/png": "[encoded data removed]",
      "text/plain": [
       "<Figure size 640x480 with 1 Axes>"
      ]
     },
     "metadata": {},
     "output_type": "display_data"
    }
   ],
   "source": [
    "# loss curve\n",
    "\n",
    "l = np.concatenate([history_ft.history['loss']])\n",
    "acc = np.concatenate([history_ft.history['accuracy']])\n",
    "lv = np.concatenate([history_ft.history['val_loss']])\n",
    "accv = np.concatenate([history_ft.history['val_accuracy']])\n",
    "\n",
    "plt.plot(l, label=\"Loss\")\n",
    "plt.plot(acc, label=\"Accuracy\")\n",
    "plt.legend()\n",
    "plt.show()\n",
    "plt.plot(lv, label=\"Val_Loss\")\n",
    "plt.plot(accv, label=\"Val_Accuracy\")\n",
    "plt.legend()\n",
    "plt.show()"
   ]
  },
  {
   "cell_type": "code",
   "execution_count": 14,
   "id": "2e2dd339",
   "metadata": {
    "execution": {
     "iopub.execute_input": "2024-04-29T20:01:17.551830Z",
     "iopub.status.busy": "2024-04-29T20:01:17.551417Z",
     "iopub.status.idle": "2024-04-29T20:01:28.549162Z",
     "shell.execute_reply": "2024-04-29T20:01:28.548125Z"
    },
    "id": "BfRAWEEr7VO9",
    "papermill": {
     "duration": 12.007999,
     "end_time": "2024-04-29T20:01:28.551281",
     "exception": false,
     "start_time": "2024-04-29T20:01:16.543282",
     "status": "completed"
    },
    "tags": []
   },
   "outputs": [
    {
     "name": "stdout",
     "output_type": "stream",
     "text": [
      "\u001b[1m32/32\u001b[0m \u001b[32m━━━━━━━━━━━━━━━━━━━━\u001b[0m\u001b[37m\u001b[0m \u001b[1m11s\u001b[0m 328ms/step - accuracy: 0.9031 - loss: 0.2432\n"
     ]
    },
    {
     "data": {
      "text/plain": [
       "[0.24205558001995087, 0.9067500233650208]"
      ]
     },
     "execution_count": 14,
     "metadata": {},
     "output_type": "execute_result"
    }
   ],
   "source": [
    "model.evaluate(te_set)"
   ]
  }
 ],
 "metadata": {
  "colab": {
   "provenance": []
  },
  "kaggle": {
   "accelerator": "gpu",
   "dataSources": [
    {
     "datasetId": 3041726,
     "sourceId": 5256696,
     "sourceType": "datasetVersion"
    }
   ],
   "dockerImageVersionId": 30666,
   "isGpuEnabled": true,
   "isInternetEnabled": true,
   "language": "python",
   "sourceType": "notebook"
  },
  "kernelspec": {
   "display_name": "Python 3",
   "language": "python",
   "name": "python3"
  },
  "language_info": {
   "codemirror_mode": {
    "name": "ipython",
    "version": 3
   },
   "file_extension": ".py",
   "mimetype": "text/x-python",
   "name": "python",
   "nbconvert_exporter": "python",
   "pygments_lexer": "ipython3",
   "version": "3.10.13"
  },
  "papermill": {
   "default_parameters": {},
   "duration": 19398.840711,
   "end_time": "2024-04-29T20:01:33.335721",
   "environment_variables": {},
   "exception": null,
   "input_path": "__notebook__.ipynb",
   "output_path": "__notebook__.ipynb",
   "parameters": {},
   "start_time": "2024-04-29T14:38:14.495010",
   "version": "2.5.0"
  }
 },
 "nbformat": 4,
 "nbformat_minor": 5
}
