{
 "cells": [
  {
   "cell_type": "code",
   "execution_count": 1,
   "id": "8bc26b85",
   "metadata": {
    "execution": {
     "iopub.execute_input": "2024-04-30T20:28:25.147200Z",
     "iopub.status.busy": "2024-04-30T20:28:25.146543Z",
     "iopub.status.idle": "2024-04-30T20:28:42.586734Z",
     "shell.execute_reply": "2024-04-30T20:28:42.585556Z"
    },
    "id": "380dVmoMbVoM",
    "outputId": "3f49e613-6318-4c4d-8e0d-05bc4c90f86c",
    "papermill": {
     "duration": 17.448907,
     "end_time": "2024-04-30T20:28:42.589157",
     "exception": false,
     "start_time": "2024-04-30T20:28:25.140250",
     "status": "completed"
    },
    "tags": []
   },
   "outputs": [
    {
     "name": "stdout",
     "output_type": "stream",
     "text": [
      "Collecting mealpy==2.5.4\r\n",
      "  Downloading mealpy-2.5.4-py3-none-any.whl.metadata (92 kB)\r\n",
      "\u001b[2K     \u001b[90m━━━━━━━━━━━━━━━━━━━━━━━━━━━━━━━━━━━━━━━\u001b[0m \u001b[32m92.0/92.0 kB\u001b[0m \u001b[31m874.8 kB/s\u001b[0m eta \u001b[36m0:00:00\u001b[0m\r\n",
      "\u001b[?25hRequirement already satisfied: numpy>=1.16.5 in /opt/conda/lib/python3.10/site-packages (from mealpy==2.5.4) (1.26.4)\r\n",
      "Requirement already satisfied: matplotlib>=3.3.0 in /opt/conda/lib/python3.10/site-packages (from mealpy==2.5.4) (3.7.5)\r\n",
      "Requirement already satisfied: scipy>=1.7.1 in /opt/conda/lib/python3.10/site-packages (from mealpy==2.5.4) (1.11.4)\r\n",
      "Requirement already satisfied: pandas>=1.2.0 in /opt/conda/lib/python3.10/site-packages (from mealpy==2.5.4) (2.1.4)\r\n",
      "Collecting opfunu>=1.0.0 (from mealpy==2.5.4)\r\n",
      "  Downloading opfunu-1.0.2-py3-none-any.whl.metadata (9.0 kB)\r\n",
      "Requirement already satisfied: contourpy>=1.0.1 in /opt/conda/lib/python3.10/site-packages (from matplotlib>=3.3.0->mealpy==2.5.4) (1.2.0)\r\n",
      "Requirement already satisfied: cycler>=0.10 in /opt/conda/lib/python3.10/site-packages (from matplotlib>=3.3.0->mealpy==2.5.4) (0.12.1)\r\n",
      "Requirement already satisfied: fonttools>=4.22.0 in /opt/conda/lib/python3.10/site-packages (from matplotlib>=3.3.0->mealpy==2.5.4) (4.47.0)\r\n",
      "Requirement already satisfied: kiwisolver>=1.0.1 in /opt/conda/lib/python3.10/site-packages (from matplotlib>=3.3.0->mealpy==2.5.4) (1.4.5)\r\n",
      "Requirement already satisfied: packaging>=20.0 in /opt/conda/lib/python3.10/site-packages (from matplotlib>=3.3.0->mealpy==2.5.4) (21.3)\r\n",
      "Requirement already satisfied: pillow>=6.2.0 in /opt/conda/lib/python3.10/site-packages (from matplotlib>=3.3.0->mealpy==2.5.4) (9.5.0)\r\n",
      "Requirement already satisfied: pyparsing>=2.3.1 in /opt/conda/lib/python3.10/site-packages (from matplotlib>=3.3.0->mealpy==2.5.4) (3.1.1)\r\n",
      "Requirement already satisfied: python-dateutil>=2.7 in /opt/conda/lib/python3.10/site-packages (from matplotlib>=3.3.0->mealpy==2.5.4) (2.9.0.post0)\r\n",
      "Requirement already satisfied: requests>=2.27.0 in /opt/conda/lib/python3.10/site-packages (from opfunu>=1.0.0->mealpy==2.5.4) (2.31.0)\r\n",
      "Requirement already satisfied: pytz>=2020.1 in /opt/conda/lib/python3.10/site-packages (from pandas>=1.2.0->mealpy==2.5.4) (2023.3.post1)\r\n",
      "Requirement already satisfied: tzdata>=2022.1 in /opt/conda/lib/python3.10/site-packages (from pandas>=1.2.0->mealpy==2.5.4) (2023.4)\r\n",
      "Requirement already satisfied: six>=1.5 in /opt/conda/lib/python3.10/site-packages (from python-dateutil>=2.7->matplotlib>=3.3.0->mealpy==2.5.4) (1.16.0)\r\n",
      "Requirement already satisfied: charset-normalizer<4,>=2 in /opt/conda/lib/python3.10/site-packages (from requests>=2.27.0->opfunu>=1.0.0->mealpy==2.5.4) (3.3.2)\r\n",
      "Requirement already satisfied: idna<4,>=2.5 in /opt/conda/lib/python3.10/site-packages (from requests>=2.27.0->opfunu>=1.0.0->mealpy==2.5.4) (3.6)\r\n",
      "Requirement already satisfied: urllib3<3,>=1.21.1 in /opt/conda/lib/python3.10/site-packages (from requests>=2.27.0->opfunu>=1.0.0->mealpy==2.5.4) (1.26.18)\r\n",
      "Requirement already satisfied: certifi>=2017.4.17 in /opt/conda/lib/python3.10/site-packages (from requests>=2.27.0->opfunu>=1.0.0->mealpy==2.5.4) (2024.2.2)\r\n",
      "Downloading mealpy-2.5.4-py3-none-any.whl (377 kB)\r\n",
      "\u001b[2K   \u001b[90m━━━━━━━━━━━━━━━━━━━━━━━━━━━━━━━━━━━━━━━━\u001b[0m \u001b[32m378.0/378.0 kB\u001b[0m \u001b[31m3.7 MB/s\u001b[0m eta \u001b[36m0:00:00\u001b[0m\r\n",
      "\u001b[?25hDownloading opfunu-1.0.2-py3-none-any.whl (13.0 MB)\r\n",
      "\u001b[2K   \u001b[90m━━━━━━━━━━━━━━━━━━━━━━━━━━━━━━━━━━━━━━━━\u001b[0m \u001b[32m13.0/13.0 MB\u001b[0m \u001b[31m54.6 MB/s\u001b[0m eta \u001b[36m0:00:00\u001b[0m\r\n",
      "\u001b[?25hInstalling collected packages: opfunu, mealpy\r\n",
      "Successfully installed mealpy-2.5.4 opfunu-1.0.2\r\n",
      "Note: you may need to restart the kernel to use updated packages.\n"
     ]
    }
   ],
   "source": [
    "pip install mealpy==2.5.4"
   ]
  },
  {
   "cell_type": "code",
   "execution_count": 2,
   "id": "85697617",
   "metadata": {
    "execution": {
     "iopub.execute_input": "2024-04-30T20:28:42.603731Z",
     "iopub.status.busy": "2024-04-30T20:28:42.603368Z",
     "iopub.status.idle": "2024-04-30T20:28:59.963500Z",
     "shell.execute_reply": "2024-04-30T20:28:59.962278Z"
    },
    "papermill": {
     "duration": 17.36991,
     "end_time": "2024-04-30T20:28:59.965723",
     "exception": false,
     "start_time": "2024-04-30T20:28:42.595813",
     "status": "completed"
    },
    "tags": []
   },
   "outputs": [
    {
     "name": "stdout",
     "output_type": "stream",
     "text": [
      "Collecting mafese==0.1.9\r\n",
      "  Downloading mafese-0.1.9-py3-none-any.whl.metadata (15 kB)\r\n",
      "Requirement already satisfied: numpy>=1.17.1 in /opt/conda/lib/python3.10/site-packages (from mafese==0.1.9) (1.26.4)\r\n",
      "Requirement already satisfied: scipy>=1.7.1 in /opt/conda/lib/python3.10/site-packages (from mafese==0.1.9) (1.11.4)\r\n",
      "Requirement already satisfied: scikit-learn>=1.0.2 in /opt/conda/lib/python3.10/site-packages (from mafese==0.1.9) (1.2.2)\r\n",
      "Requirement already satisfied: pandas>=1.3.5 in /opt/conda/lib/python3.10/site-packages (from mafese==0.1.9) (2.1.4)\r\n",
      "Requirement already satisfied: mealpy>=2.5.4 in /opt/conda/lib/python3.10/site-packages (from mafese==0.1.9) (2.5.4)\r\n",
      "Collecting permetrics>=1.4.2 (from mafese==0.1.9)\r\n",
      "  Downloading permetrics-2.0.0-py3-none-any.whl.metadata (8.7 kB)\r\n",
      "Requirement already satisfied: plotly>=5.10.0 in /opt/conda/lib/python3.10/site-packages (from mafese==0.1.9) (5.18.0)\r\n",
      "Collecting kaleido>=0.2.1 (from mafese==0.1.9)\r\n",
      "  Downloading kaleido-0.2.1-py2.py3-none-manylinux1_x86_64.whl.metadata (15 kB)\r\n",
      "Requirement already satisfied: matplotlib>=3.3.0 in /opt/conda/lib/python3.10/site-packages (from mealpy>=2.5.4->mafese==0.1.9) (3.7.5)\r\n",
      "Requirement already satisfied: opfunu>=1.0.0 in /opt/conda/lib/python3.10/site-packages (from mealpy>=2.5.4->mafese==0.1.9) (1.0.2)\r\n",
      "Requirement already satisfied: python-dateutil>=2.8.2 in /opt/conda/lib/python3.10/site-packages (from pandas>=1.3.5->mafese==0.1.9) (2.9.0.post0)\r\n",
      "Requirement already satisfied: pytz>=2020.1 in /opt/conda/lib/python3.10/site-packages (from pandas>=1.3.5->mafese==0.1.9) (2023.3.post1)\r\n",
      "Requirement already satisfied: tzdata>=2022.1 in /opt/conda/lib/python3.10/site-packages (from pandas>=1.3.5->mafese==0.1.9) (2023.4)\r\n",
      "Requirement already satisfied: tenacity>=6.2.0 in /opt/conda/lib/python3.10/site-packages (from plotly>=5.10.0->mafese==0.1.9) (8.2.3)\r\n",
      "Requirement already satisfied: packaging in /opt/conda/lib/python3.10/site-packages (from plotly>=5.10.0->mafese==0.1.9) (21.3)\r\n",
      "Requirement already satisfied: joblib>=1.1.1 in /opt/conda/lib/python3.10/site-packages (from scikit-learn>=1.0.2->mafese==0.1.9) (1.4.0)\r\n",
      "Requirement already satisfied: threadpoolctl>=2.0.0 in /opt/conda/lib/python3.10/site-packages (from scikit-learn>=1.0.2->mafese==0.1.9) (3.2.0)\r\n",
      "Requirement already satisfied: contourpy>=1.0.1 in /opt/conda/lib/python3.10/site-packages (from matplotlib>=3.3.0->mealpy>=2.5.4->mafese==0.1.9) (1.2.0)\r\n",
      "Requirement already satisfied: cycler>=0.10 in /opt/conda/lib/python3.10/site-packages (from matplotlib>=3.3.0->mealpy>=2.5.4->mafese==0.1.9) (0.12.1)\r\n",
      "Requirement already satisfied: fonttools>=4.22.0 in /opt/conda/lib/python3.10/site-packages (from matplotlib>=3.3.0->mealpy>=2.5.4->mafese==0.1.9) (4.47.0)\r\n",
      "Requirement already satisfied: kiwisolver>=1.0.1 in /opt/conda/lib/python3.10/site-packages (from matplotlib>=3.3.0->mealpy>=2.5.4->mafese==0.1.9) (1.4.5)\r\n",
      "Requirement already satisfied: pillow>=6.2.0 in /opt/conda/lib/python3.10/site-packages (from matplotlib>=3.3.0->mealpy>=2.5.4->mafese==0.1.9) (9.5.0)\r\n",
      "Requirement already satisfied: pyparsing>=2.3.1 in /opt/conda/lib/python3.10/site-packages (from matplotlib>=3.3.0->mealpy>=2.5.4->mafese==0.1.9) (3.1.1)\r\n",
      "Requirement already satisfied: requests>=2.27.0 in /opt/conda/lib/python3.10/site-packages (from opfunu>=1.0.0->mealpy>=2.5.4->mafese==0.1.9) (2.31.0)\r\n",
      "Requirement already satisfied: six>=1.5 in /opt/conda/lib/python3.10/site-packages (from python-dateutil>=2.8.2->pandas>=1.3.5->mafese==0.1.9) (1.16.0)\r\n",
      "Requirement already satisfied: charset-normalizer<4,>=2 in /opt/conda/lib/python3.10/site-packages (from requests>=2.27.0->opfunu>=1.0.0->mealpy>=2.5.4->mafese==0.1.9) (3.3.2)\r\n",
      "Requirement already satisfied: idna<4,>=2.5 in /opt/conda/lib/python3.10/site-packages (from requests>=2.27.0->opfunu>=1.0.0->mealpy>=2.5.4->mafese==0.1.9) (3.6)\r\n",
      "Requirement already satisfied: urllib3<3,>=1.21.1 in /opt/conda/lib/python3.10/site-packages (from requests>=2.27.0->opfunu>=1.0.0->mealpy>=2.5.4->mafese==0.1.9) (1.26.18)\r\n",
      "Requirement already satisfied: certifi>=2017.4.17 in /opt/conda/lib/python3.10/site-packages (from requests>=2.27.0->opfunu>=1.0.0->mealpy>=2.5.4->mafese==0.1.9) (2024.2.2)\r\n",
      "Downloading mafese-0.1.9-py3-none-any.whl (4.2 MB)\r\n",
      "\u001b[2K   \u001b[90m━━━━━━━━━━━━━━━━━━━━━━━━━━━━━━━━━━━━━━━━\u001b[0m \u001b[32m4.2/4.2 MB\u001b[0m \u001b[31m14.4 MB/s\u001b[0m eta \u001b[36m0:00:00\u001b[0m\r\n",
      "\u001b[?25hDownloading kaleido-0.2.1-py2.py3-none-manylinux1_x86_64.whl (79.9 MB)\r\n",
      "\u001b[2K   \u001b[90m━━━━━━━━━━━━━━━━━━━━━━━━━━━━━━━━━━━━━━━━\u001b[0m \u001b[32m79.9/79.9 MB\u001b[0m \u001b[31m14.9 MB/s\u001b[0m eta \u001b[36m0:00:00\u001b[0m\r\n",
      "\u001b[?25hDownloading permetrics-2.0.0-py3-none-any.whl (52 kB)\r\n",
      "\u001b[2K   \u001b[90m━━━━━━━━━━━━━━━━━━━━━━━━━━━━━━━━━━━━━━━━\u001b[0m \u001b[32m52.6/52.6 kB\u001b[0m \u001b[31m2.5 MB/s\u001b[0m eta \u001b[36m0:00:00\u001b[0m\r\n",
      "\u001b[?25hInstalling collected packages: kaleido, permetrics, mafese\r\n",
      "Successfully installed kaleido-0.2.1 mafese-0.1.9 permetrics-2.0.0\r\n",
      "Note: you may need to restart the kernel to use updated packages.\n"
     ]
    }
   ],
   "source": [
    "pip install mafese==0.1.9"
   ]
  },
  {
   "cell_type": "code",
   "execution_count": 3,
   "id": "cbc38286",
   "metadata": {
    "execution": {
     "iopub.execute_input": "2024-04-30T20:28:59.988940Z",
     "iopub.status.busy": "2024-04-30T20:28:59.988620Z",
     "iopub.status.idle": "2024-04-30T20:29:23.413789Z",
     "shell.execute_reply": "2024-04-30T20:29:23.412871Z"
    },
    "id": "6j4sBROet5iQ",
    "papermill": {
     "duration": 23.439195,
     "end_time": "2024-04-30T20:29:23.416110",
     "exception": false,
     "start_time": "2024-04-30T20:28:59.976915",
     "status": "completed"
    },
    "tags": []
   },
   "outputs": [
    {
     "name": "stderr",
     "output_type": "stream",
     "text": [
      "2024-04-30 20:29:03.477432: E external/local_xla/xla/stream_executor/cuda/cuda_dnn.cc:9261] Unable to register cuDNN factory: Attempting to register factory for plugin cuDNN when one has already been registered\n",
      "2024-04-30 20:29:03.477553: E external/local_xla/xla/stream_executor/cuda/cuda_fft.cc:607] Unable to register cuFFT factory: Attempting to register factory for plugin cuFFT when one has already been registered\n",
      "2024-04-30 20:29:03.789926: E external/local_xla/xla/stream_executor/cuda/cuda_blas.cc:1515] Unable to register cuBLAS factory: Attempting to register factory for plugin cuBLAS when one has already been registered\n"
     ]
    }
   ],
   "source": [
    "# imports\n",
    "\n",
    "import tensorflow as tf\n",
    "import matplotlib.pyplot as plt\n",
    "import numpy as np\n",
    "import seaborn as sns\n",
    "import mafese as mfse"
   ]
  },
  {
   "cell_type": "code",
   "execution_count": 4,
   "id": "aec19ebf",
   "metadata": {
    "execution": {
     "iopub.execute_input": "2024-04-30T20:29:23.441099Z",
     "iopub.status.busy": "2024-04-30T20:29:23.439691Z",
     "iopub.status.idle": "2024-04-30T20:29:23.450035Z",
     "shell.execute_reply": "2024-04-30T20:29:23.449198Z"
    },
    "id": "fDTRo85EuGgV",
    "papermill": {
     "duration": 0.024881,
     "end_time": "2024-04-30T20:29:23.451815",
     "exception": false,
     "start_time": "2024-04-30T20:29:23.426934",
     "status": "completed"
    },
    "tags": []
   },
   "outputs": [],
   "source": [
    "# loading the images\n",
    "train_dir = \"/kaggle/input/cifake-real-and-ai-generated-synthetic-images/train\"\n",
    "test_dir = \"/kaggle/input/cifake-real-and-ai-generated-synthetic-images/test\"\n",
    "\n",
    "# generator\n",
    "def datagen(func):\n",
    "  train_gen = tf.keras.preprocessing.image.ImageDataGenerator(\n",
    "              preprocessing_function=func,\n",
    "              horizontal_flip = True,\n",
    "              vertical_flip = True,\n",
    "              rotation_range = 0.5,\n",
    "              width_shift_range = 0.25,\n",
    "              height_shift_range = 0.25,\n",
    "              shear_range = 0.2,\n",
    "              zoom_range = 0.4,\n",
    "              validation_split = 0.2)\n",
    "\n",
    "  test_gen = tf.keras.preprocessing.image.ImageDataGenerator(\n",
    "              preprocessing_function=func,\n",
    "              validation_split = 0.0)\n",
    "\n",
    "  test_gen_2 = tf.keras.preprocessing.image.ImageDataGenerator(\n",
    "              preprocessing_function=func,\n",
    "              validation_split = 0.2)\n",
    "\n",
    "  pred_gen = tf.keras.preprocessing.image.ImageDataGenerator(\n",
    "              preprocessing_function=func,\n",
    "              validation_split = 0.2)\n",
    "\n",
    "  train_set = train_gen.flow_from_directory(train_dir, class_mode = \"binary\", batch_size = 128, target_size = (224,224), shuffle = True, subset = 'training')\n",
    "  test_set = test_gen.flow_from_directory(test_dir, class_mode = \"binary\", batch_size = 128, target_size = (224,224), shuffle = False, subset='training')\n",
    "  val_set = test_gen_2.flow_from_directory(train_dir, class_mode = \"binary\", batch_size = 128, target_size = (224,224), shuffle = False, subset='validation')\n",
    "  pred_tr_set = pred_gen.flow_from_directory(train_dir, class_mode = \"binary\", batch_size = 128, target_size = (224,224), shuffle = False, subset = 'training')\n",
    "  return train_set, test_set, val_set, pred_tr_set"
   ]
  },
  {
   "cell_type": "code",
   "execution_count": 5,
   "id": "839684e1",
   "metadata": {
    "execution": {
     "iopub.execute_input": "2024-04-30T20:29:23.474016Z",
     "iopub.status.busy": "2024-04-30T20:29:23.473729Z",
     "iopub.status.idle": "2024-04-30T20:29:29.986574Z",
     "shell.execute_reply": "2024-04-30T20:29:29.985756Z"
    },
    "id": "voerm_OwuWwO",
    "outputId": "d123e920-2be2-4402-f8a8-f6a5693b1031",
    "papermill": {
     "duration": 6.526101,
     "end_time": "2024-04-30T20:29:29.988400",
     "exception": false,
     "start_time": "2024-04-30T20:29:23.462299",
     "status": "completed"
    },
    "tags": []
   },
   "outputs": [
    {
     "name": "stdout",
     "output_type": "stream",
     "text": [
      "Downloading data from https://storage.googleapis.com/tensorflow/keras-applications/resnet/resnet152v2_weights_tf_dim_ordering_tf_kernels_notop.h5\n",
      "\u001b[1m234545216/234545216\u001b[0m \u001b[32m━━━━━━━━━━━━━━━━━━━━\u001b[0m\u001b[37m\u001b[0m \u001b[1m1s\u001b[0m 0us/step\n"
     ]
    },
    {
     "data": {
      "text/html": [
       "<pre style=\"white-space:pre;overflow-x:auto;line-height:normal;font-family:Menlo,'DejaVu Sans Mono',consolas,'Courier New',monospace\"><span style=\"font-weight: bold\">Model: \"functional_1\"</span>\n",
       "</pre>\n"
      ],
      "text/plain": [
       "\u001b[1mModel: \"functional_1\"\u001b[0m\n"
      ]
     },
     "metadata": {},
     "output_type": "display_data"
    },
    {
     "data": {
      "text/html": [
       "<pre style=\"white-space:pre;overflow-x:auto;line-height:normal;font-family:Menlo,'DejaVu Sans Mono',consolas,'Courier New',monospace\">┏━━━━━━━━━━━━━━━━━━━━━━━━━━━━━━━━━┳━━━━━━━━━━━━━━━━━━━━━━━━┳━━━━━━━━━━━━━━━┓\n",
       "┃<span style=\"font-weight: bold\"> Layer (type)                    </span>┃<span style=\"font-weight: bold\"> Output Shape           </span>┃<span style=\"font-weight: bold\">       Param # </span>┃\n",
       "┡━━━━━━━━━━━━━━━━━━━━━━━━━━━━━━━━━╇━━━━━━━━━━━━━━━━━━━━━━━━╇━━━━━━━━━━━━━━━┩\n",
       "│ input_layer_1 (<span style=\"color: #0087ff; text-decoration-color: #0087ff\">InputLayer</span>)      │ (<span style=\"color: #00d7ff; text-decoration-color: #00d7ff\">None</span>, <span style=\"color: #00af00; text-decoration-color: #00af00\">224</span>, <span style=\"color: #00af00; text-decoration-color: #00af00\">224</span>, <span style=\"color: #00af00; text-decoration-color: #00af00\">3</span>)    │             <span style=\"color: #00af00; text-decoration-color: #00af00\">0</span> │\n",
       "├─────────────────────────────────┼────────────────────────┼───────────────┤\n",
       "│ resnet152v2 (<span style=\"color: #0087ff; text-decoration-color: #0087ff\">Functional</span>)        │ (<span style=\"color: #00d7ff; text-decoration-color: #00d7ff\">None</span>, <span style=\"color: #00af00; text-decoration-color: #00af00\">7</span>, <span style=\"color: #00af00; text-decoration-color: #00af00\">7</span>, <span style=\"color: #00af00; text-decoration-color: #00af00\">2048</span>)     │    <span style=\"color: #00af00; text-decoration-color: #00af00\">58,331,648</span> │\n",
       "├─────────────────────────────────┼────────────────────────┼───────────────┤\n",
       "│ global_average_pooling2d        │ (<span style=\"color: #00d7ff; text-decoration-color: #00d7ff\">None</span>, <span style=\"color: #00af00; text-decoration-color: #00af00\">2048</span>)           │             <span style=\"color: #00af00; text-decoration-color: #00af00\">0</span> │\n",
       "│ (<span style=\"color: #0087ff; text-decoration-color: #0087ff\">GlobalAveragePooling2D</span>)        │                        │               │\n",
       "├─────────────────────────────────┼────────────────────────┼───────────────┤\n",
       "│ dense (<span style=\"color: #0087ff; text-decoration-color: #0087ff\">Dense</span>)                   │ (<span style=\"color: #00d7ff; text-decoration-color: #00d7ff\">None</span>, <span style=\"color: #00af00; text-decoration-color: #00af00\">2</span>)              │         <span style=\"color: #00af00; text-decoration-color: #00af00\">4,098</span> │\n",
       "└─────────────────────────────────┴────────────────────────┴───────────────┘\n",
       "</pre>\n"
      ],
      "text/plain": [
       "┏━━━━━━━━━━━━━━━━━━━━━━━━━━━━━━━━━┳━━━━━━━━━━━━━━━━━━━━━━━━┳━━━━━━━━━━━━━━━┓\n",
       "┃\u001b[1m \u001b[0m\u001b[1mLayer (type)                   \u001b[0m\u001b[1m \u001b[0m┃\u001b[1m \u001b[0m\u001b[1mOutput Shape          \u001b[0m\u001b[1m \u001b[0m┃\u001b[1m \u001b[0m\u001b[1m      Param #\u001b[0m\u001b[1m \u001b[0m┃\n",
       "┡━━━━━━━━━━━━━━━━━━━━━━━━━━━━━━━━━╇━━━━━━━━━━━━━━━━━━━━━━━━╇━━━━━━━━━━━━━━━┩\n",
       "│ input_layer_1 (\u001b[38;5;33mInputLayer\u001b[0m)      │ (\u001b[38;5;45mNone\u001b[0m, \u001b[38;5;34m224\u001b[0m, \u001b[38;5;34m224\u001b[0m, \u001b[38;5;34m3\u001b[0m)    │             \u001b[38;5;34m0\u001b[0m │\n",
       "├─────────────────────────────────┼────────────────────────┼───────────────┤\n",
       "│ resnet152v2 (\u001b[38;5;33mFunctional\u001b[0m)        │ (\u001b[38;5;45mNone\u001b[0m, \u001b[38;5;34m7\u001b[0m, \u001b[38;5;34m7\u001b[0m, \u001b[38;5;34m2048\u001b[0m)     │    \u001b[38;5;34m58,331,648\u001b[0m │\n",
       "├─────────────────────────────────┼────────────────────────┼───────────────┤\n",
       "│ global_average_pooling2d        │ (\u001b[38;5;45mNone\u001b[0m, \u001b[38;5;34m2048\u001b[0m)           │             \u001b[38;5;34m0\u001b[0m │\n",
       "│ (\u001b[38;5;33mGlobalAveragePooling2D\u001b[0m)        │                        │               │\n",
       "├─────────────────────────────────┼────────────────────────┼───────────────┤\n",
       "│ dense (\u001b[38;5;33mDense\u001b[0m)                   │ (\u001b[38;5;45mNone\u001b[0m, \u001b[38;5;34m2\u001b[0m)              │         \u001b[38;5;34m4,098\u001b[0m │\n",
       "└─────────────────────────────────┴────────────────────────┴───────────────┘\n"
      ]
     },
     "metadata": {},
     "output_type": "display_data"
    },
    {
     "data": {
      "text/html": [
       "<pre style=\"white-space:pre;overflow-x:auto;line-height:normal;font-family:Menlo,'DejaVu Sans Mono',consolas,'Courier New',monospace\"><span style=\"font-weight: bold\"> Total params: </span><span style=\"color: #00af00; text-decoration-color: #00af00\">58,335,746</span> (222.53 MB)\n",
       "</pre>\n"
      ],
      "text/plain": [
       "\u001b[1m Total params: \u001b[0m\u001b[38;5;34m58,335,746\u001b[0m (222.53 MB)\n"
      ]
     },
     "metadata": {},
     "output_type": "display_data"
    },
    {
     "data": {
      "text/html": [
       "<pre style=\"white-space:pre;overflow-x:auto;line-height:normal;font-family:Menlo,'DejaVu Sans Mono',consolas,'Courier New',monospace\"><span style=\"font-weight: bold\"> Trainable params: </span><span style=\"color: #00af00; text-decoration-color: #00af00\">4,098</span> (16.01 KB)\n",
       "</pre>\n"
      ],
      "text/plain": [
       "\u001b[1m Trainable params: \u001b[0m\u001b[38;5;34m4,098\u001b[0m (16.01 KB)\n"
      ]
     },
     "metadata": {},
     "output_type": "display_data"
    },
    {
     "data": {
      "text/html": [
       "<pre style=\"white-space:pre;overflow-x:auto;line-height:normal;font-family:Menlo,'DejaVu Sans Mono',consolas,'Courier New',monospace\"><span style=\"font-weight: bold\"> Non-trainable params: </span><span style=\"color: #00af00; text-decoration-color: #00af00\">58,331,648</span> (222.52 MB)\n",
       "</pre>\n"
      ],
      "text/plain": [
       "\u001b[1m Non-trainable params: \u001b[0m\u001b[38;5;34m58,331,648\u001b[0m (222.52 MB)\n"
      ]
     },
     "metadata": {},
     "output_type": "display_data"
    }
   ],
   "source": [
    "# model\n",
    "base_model = tf.keras.applications.ResNet152V2(include_top=False, weights='imagenet', input_shape=(224,224,3))\n",
    "base_model.trainable = False\n",
    "inputs = tf.keras.Input(shape=(224,224,3))\n",
    "x = base_model(inputs, training=False)\n",
    "x = tf.keras.layers.GlobalAveragePooling2D()(x)\n",
    "outputs = tf.keras.layers.Dense(2, activation=\"softmax\")(x)\n",
    "model = tf.keras.Model(inputs, outputs)\n",
    "model.summary()\n",
    "model.compile(loss=tf.keras.losses.SparseCategoricalCrossentropy(from_logits=False), optimizer=tf.keras.optimizers.Adam(learning_rate=0.0001), metrics\n",
    "              =[\"accuracy\"])"
   ]
  },
  {
   "cell_type": "code",
   "execution_count": 6,
   "id": "945898cb",
   "metadata": {
    "execution": {
     "iopub.execute_input": "2024-04-30T20:29:30.018583Z",
     "iopub.status.busy": "2024-04-30T20:29:30.018309Z",
     "iopub.status.idle": "2024-04-30T20:29:30.024391Z",
     "shell.execute_reply": "2024-04-30T20:29:30.023502Z"
    },
    "id": "16BJGzvDJTpb",
    "outputId": "067bb365-7dbc-4180-9a45-aab325929e40",
    "papermill": {
     "duration": 0.023601,
     "end_time": "2024-04-30T20:29:30.026303",
     "exception": false,
     "start_time": "2024-04-30T20:29:30.002702",
     "status": "completed"
    },
    "tags": []
   },
   "outputs": [
    {
     "data": {
      "text/plain": [
       "564"
      ]
     },
     "execution_count": 6,
     "metadata": {},
     "output_type": "execute_result"
    }
   ],
   "source": [
    "len(model.layers[1].layers)"
   ]
  },
  {
   "cell_type": "code",
   "execution_count": 7,
   "id": "f8b0c4e3",
   "metadata": {
    "execution": {
     "iopub.execute_input": "2024-04-30T20:29:30.056252Z",
     "iopub.status.busy": "2024-04-30T20:29:30.055991Z",
     "iopub.status.idle": "2024-04-30T20:33:02.176625Z",
     "shell.execute_reply": "2024-04-30T20:33:02.175686Z"
    },
    "id": "9KbLcJsnGCmZ",
    "outputId": "17f275a0-dba1-44ac-c340-82d865528066",
    "papermill": {
     "duration": 212.138304,
     "end_time": "2024-04-30T20:33:02.179273",
     "exception": false,
     "start_time": "2024-04-30T20:29:30.040969",
     "status": "completed"
    },
    "tags": []
   },
   "outputs": [
    {
     "name": "stdout",
     "output_type": "stream",
     "text": [
      "Found 80000 images belonging to 2 classes.\n",
      "Found 20000 images belonging to 2 classes.\n",
      "Found 20000 images belonging to 2 classes.\n",
      "Found 80000 images belonging to 2 classes.\n"
     ]
    }
   ],
   "source": [
    "tr_set, te_set, v_set, pr_set = datagen(tf.keras.applications.resnet_v2.preprocess_input)"
   ]
  },
  {
   "cell_type": "code",
   "execution_count": 8,
   "id": "ea624460",
   "metadata": {
    "execution": {
     "iopub.execute_input": "2024-04-30T20:33:02.212079Z",
     "iopub.status.busy": "2024-04-30T20:33:02.211321Z",
     "iopub.status.idle": "2024-05-01T02:41:56.882662Z",
     "shell.execute_reply": "2024-05-01T02:41:56.881704Z"
    },
    "id": "sO8GdihAePEe",
    "outputId": "5b044fd2-b58f-43ad-bfae-794e803cb3ac",
    "papermill": {
     "duration": 22135.004607,
     "end_time": "2024-05-01T02:41:57.199966",
     "exception": false,
     "start_time": "2024-04-30T20:33:02.195359",
     "status": "completed"
    },
    "tags": []
   },
   "outputs": [
    {
     "name": "stdout",
     "output_type": "stream",
     "text": [
      "Epoch 1/15\n"
     ]
    },
    {
     "name": "stderr",
     "output_type": "stream",
     "text": [
      "/opt/conda/lib/python3.10/site-packages/keras/src/trainers/data_adapters/py_dataset_adapter.py:120: UserWarning:\n",
      "\n",
      "Your `PyDataset` class should call `super().__init__(**kwargs)` in its constructor. `**kwargs` can include `workers`, `use_multiprocessing`, `max_queue_size`. Do not pass these arguments to `fit()`, as they will be ignored.\n",
      "\n",
      "WARNING: All log messages before absl::InitializeLog() is called are written to STDERR\n",
      "I0000 00:00:1714509265.500274      84 device_compiler.h:186] Compiled cluster using XLA!  This line is logged at most once for the lifetime of the process.\n",
      "W0000 00:00:1714509265.601222      84 graph_launch.cc:671] Fallback to op-by-op mode because memset node breaks graph update\n"
     ]
    },
    {
     "name": "stdout",
     "output_type": "stream",
     "text": [
      "\u001b[1m625/625\u001b[0m \u001b[32m━━━━━━━━━━━━━━━━━━━━\u001b[0m\u001b[37m\u001b[0m \u001b[1m0s\u001b[0m 3s/step - accuracy: 0.6155 - loss: 0.6999"
     ]
    },
    {
     "name": "stderr",
     "output_type": "stream",
     "text": [
      "W0000 00:00:1714511038.724797      84 graph_launch.cc:671] Fallback to op-by-op mode because memset node breaks graph update\n",
      "W0000 00:00:1714511266.939233      84 graph_launch.cc:671] Fallback to op-by-op mode because memset node breaks graph update\n"
     ]
    },
    {
     "name": "stdout",
     "output_type": "stream",
     "text": [
      "\u001b[1m625/625\u001b[0m \u001b[32m━━━━━━━━━━━━━━━━━━━━\u001b[0m\u001b[37m\u001b[0m \u001b[1m2080s\u001b[0m 3s/step - accuracy: 0.6156 - loss: 0.6997 - val_accuracy: 0.8022 - val_loss: 0.4281 - learning_rate: 1.0000e-04\n",
      "Epoch 2/15\n",
      "\u001b[1m625/625\u001b[0m \u001b[32m━━━━━━━━━━━━━━━━━━━━\u001b[0m\u001b[37m\u001b[0m \u001b[1m1427s\u001b[0m 2s/step - accuracy: 0.7864 - loss: 0.4538 - val_accuracy: 0.8438 - val_loss: 0.3606 - learning_rate: 1.0000e-04\n",
      "Epoch 3/15\n",
      "\u001b[1m625/625\u001b[0m \u001b[32m━━━━━━━━━━━━━━━━━━━━\u001b[0m\u001b[37m\u001b[0m \u001b[1m1426s\u001b[0m 2s/step - accuracy: 0.8153 - loss: 0.4088 - val_accuracy: 0.8608 - val_loss: 0.3320 - learning_rate: 1.0000e-04\n",
      "Epoch 4/15\n",
      "\u001b[1m625/625\u001b[0m \u001b[32m━━━━━━━━━━━━━━━━━━━━\u001b[0m\u001b[37m\u001b[0m \u001b[1m1417s\u001b[0m 2s/step - accuracy: 0.8280 - loss: 0.3869 - val_accuracy: 0.8696 - val_loss: 0.3140 - learning_rate: 1.0000e-04\n",
      "Epoch 5/15\n",
      "\u001b[1m625/625\u001b[0m \u001b[32m━━━━━━━━━━━━━━━━━━━━\u001b[0m\u001b[37m\u001b[0m \u001b[1m1416s\u001b[0m 2s/step - accuracy: 0.8346 - loss: 0.3755 - val_accuracy: 0.8737 - val_loss: 0.3022 - learning_rate: 1.0000e-04\n",
      "Epoch 6/15\n",
      "\u001b[1m625/625\u001b[0m \u001b[32m━━━━━━━━━━━━━━━━━━━━\u001b[0m\u001b[37m\u001b[0m \u001b[1m1563s\u001b[0m 2s/step - accuracy: 0.8406 - loss: 0.3616 - val_accuracy: 0.8761 - val_loss: 0.2967 - learning_rate: 1.0000e-04\n",
      "Epoch 7/15\n",
      "\u001b[1m625/625\u001b[0m \u001b[32m━━━━━━━━━━━━━━━━━━━━\u001b[0m\u001b[37m\u001b[0m \u001b[1m1611s\u001b[0m 3s/step - accuracy: 0.8441 - loss: 0.3570 - val_accuracy: 0.8796 - val_loss: 0.2889 - learning_rate: 1.0000e-04\n",
      "Epoch 8/15\n",
      "\u001b[1m625/625\u001b[0m \u001b[32m━━━━━━━━━━━━━━━━━━━━\u001b[0m\u001b[37m\u001b[0m \u001b[1m1577s\u001b[0m 2s/step - accuracy: 0.8499 - loss: 0.3499 - val_accuracy: 0.8814 - val_loss: 0.2852 - learning_rate: 1.0000e-04\n",
      "Epoch 9/15\n",
      "\u001b[1m625/625\u001b[0m \u001b[32m━━━━━━━━━━━━━━━━━━━━\u001b[0m\u001b[37m\u001b[0m \u001b[1m1409s\u001b[0m 2s/step - accuracy: 0.8481 - loss: 0.3480 - val_accuracy: 0.8848 - val_loss: 0.2804 - learning_rate: 1.0000e-04\n",
      "Epoch 10/15\n",
      "\u001b[1m625/625\u001b[0m \u001b[32m━━━━━━━━━━━━━━━━━━━━\u001b[0m\u001b[37m\u001b[0m \u001b[1m1376s\u001b[0m 2s/step - accuracy: 0.8518 - loss: 0.3396 - val_accuracy: 0.8863 - val_loss: 0.2755 - learning_rate: 1.0000e-04\n",
      "Epoch 11/15\n",
      "\u001b[1m625/625\u001b[0m \u001b[32m━━━━━━━━━━━━━━━━━━━━\u001b[0m\u001b[37m\u001b[0m \u001b[1m1353s\u001b[0m 2s/step - accuracy: 0.8518 - loss: 0.3411 - val_accuracy: 0.8863 - val_loss: 0.2729 - learning_rate: 1.0000e-04\n",
      "Epoch 12/15\n",
      "\u001b[1m625/625\u001b[0m \u001b[32m━━━━━━━━━━━━━━━━━━━━\u001b[0m\u001b[37m\u001b[0m \u001b[1m1349s\u001b[0m 2s/step - accuracy: 0.8542 - loss: 0.3383 - val_accuracy: 0.8885 - val_loss: 0.2699 - learning_rate: 1.0000e-04\n",
      "Epoch 13/15\n",
      "\u001b[1m625/625\u001b[0m \u001b[32m━━━━━━━━━━━━━━━━━━━━\u001b[0m\u001b[37m\u001b[0m \u001b[1m1394s\u001b[0m 2s/step - accuracy: 0.8552 - loss: 0.3354 - val_accuracy: 0.8888 - val_loss: 0.2702 - learning_rate: 1.0000e-04\n",
      "Epoch 14/15\n",
      "\u001b[1m625/625\u001b[0m \u001b[32m━━━━━━━━━━━━━━━━━━━━\u001b[0m\u001b[37m\u001b[0m \u001b[1m1366s\u001b[0m 2s/step - accuracy: 0.8557 - loss: 0.3349 - val_accuracy: 0.8888 - val_loss: 0.2687 - learning_rate: 1.0000e-04\n",
      "Epoch 15/15\n",
      "\u001b[1m625/625\u001b[0m \u001b[32m━━━━━━━━━━━━━━━━━━━━\u001b[0m\u001b[37m\u001b[0m \u001b[1m1366s\u001b[0m 2s/step - accuracy: 0.8555 - loss: 0.3328 - val_accuracy: 0.8914 - val_loss: 0.2653 - learning_rate: 1.0000e-04\n",
      "Restoring model weights from the end of the best epoch: 15.\n"
     ]
    }
   ],
   "source": [
    "# callback and fit\n",
    "early_stopping_callbacks = [tf.keras.callbacks.EarlyStopping(monitor = 'val_loss', patience = 3, restore_best_weights = True, verbose = 1),\n",
    "                            tf.keras.callbacks.ReduceLROnPlateau(paitence = 1, monitor = 'val_loss', min_lr = 0.00001)]\n",
    "\n",
    "history = model.fit(tr_set, epochs = 15, validation_data = v_set, callbacks = early_stopping_callbacks)"
   ]
  },
  {
   "cell_type": "code",
   "execution_count": 9,
   "id": "7e338232",
   "metadata": {
    "execution": {
     "iopub.execute_input": "2024-05-01T02:41:58.816524Z",
     "iopub.status.busy": "2024-05-01T02:41:58.816164Z",
     "iopub.status.idle": "2024-05-01T02:41:59.370045Z",
     "shell.execute_reply": "2024-05-01T02:41:59.368987Z"
    },
    "id": "aT97vDrB66EQ",
    "papermill": {
     "duration": 1.406589,
     "end_time": "2024-05-01T02:41:59.371947",
     "exception": false,
     "start_time": "2024-05-01T02:41:57.965358",
     "status": "completed"
    },
    "tags": []
   },
   "outputs": [
    {
     "data": {
      "image/png": "[encoded data removed]",
      "text/plain": [
       "<Figure size 640x480 with 1 Axes>"
      ]
     },
     "metadata": {},
     "output_type": "display_data"
    },
    {
     "data": {
      "image/png": "[encoded data removed]",
      "text/plain": [
       "<Figure size 640x480 with 1 Axes>"
      ]
     },
     "metadata": {},
     "output_type": "display_data"
    }
   ],
   "source": [
    "# loss curve\n",
    "\n",
    "l = np.concatenate([history.history['loss']])\n",
    "acc = np.concatenate([history.history['accuracy']])\n",
    "lv = np.concatenate([history.history['val_loss']])\n",
    "accv = np.concatenate([history.history['val_accuracy']])\n",
    "\n",
    "plt.plot(l, label=\"Loss\")\n",
    "plt.plot(acc, label=\"Accuracy\")\n",
    "plt.legend()\n",
    "plt.show()\n",
    "plt.plot(lv, label=\"Val_Loss\")\n",
    "plt.plot(accv, label=\"Val_Accuracy\")\n",
    "plt.legend()\n",
    "plt.show()"
   ]
  },
  {
   "cell_type": "code",
   "execution_count": 10,
   "id": "e4327f57",
   "metadata": {
    "execution": {
     "iopub.execute_input": "2024-05-01T02:42:00.894589Z",
     "iopub.status.busy": "2024-05-01T02:42:00.894223Z",
     "iopub.status.idle": "2024-05-01T02:42:02.560649Z",
     "shell.execute_reply": "2024-05-01T02:42:02.559566Z"
    },
    "papermill": {
     "duration": 2.428389,
     "end_time": "2024-05-01T02:42:02.563222",
     "exception": false,
     "start_time": "2024-05-01T02:42:00.134833",
     "status": "completed"
    },
    "tags": []
   },
   "outputs": [],
   "source": [
    "model.save(\"r152full_pretrain.keras\")"
   ]
  },
  {
   "cell_type": "code",
   "execution_count": 11,
   "id": "409beef8",
   "metadata": {
    "execution": {
     "iopub.execute_input": "2024-05-01T02:42:04.097204Z",
     "iopub.status.busy": "2024-05-01T02:42:04.096867Z",
     "iopub.status.idle": "2024-05-01T06:34:43.249528Z",
     "shell.execute_reply": "2024-05-01T06:34:43.248492Z"
    },
    "id": "jYjmoez2eSuv",
    "papermill": {
     "duration": 13960.726975,
     "end_time": "2024-05-01T06:34:44.059484",
     "exception": false,
     "start_time": "2024-05-01T02:42:03.332509",
     "status": "completed"
    },
    "tags": []
   },
   "outputs": [
    {
     "name": "stdout",
     "output_type": "stream",
     "text": [
      "Epoch 1/10\n"
     ]
    },
    {
     "name": "stderr",
     "output_type": "stream",
     "text": [
      "W0000 00:00:1714531397.456448      86 graph_launch.cc:671] Fallback to op-by-op mode because memset node breaks graph update\n"
     ]
    },
    {
     "name": "stdout",
     "output_type": "stream",
     "text": [
      "\u001b[1m625/625\u001b[0m \u001b[32m━━━━━━━━━━━━━━━━━━━━\u001b[0m\u001b[37m\u001b[0m \u001b[1m0s\u001b[0m 2s/step - accuracy: 0.8555 - loss: 0.3336"
     ]
    },
    {
     "name": "stderr",
     "output_type": "stream",
     "text": [
      "W0000 00:00:1714532685.563541      84 graph_launch.cc:671] Fallback to op-by-op mode because memset node breaks graph update\n",
      "W0000 00:00:1714532885.235320      84 graph_launch.cc:671] Fallback to op-by-op mode because memset node breaks graph update\n"
     ]
    },
    {
     "name": "stdout",
     "output_type": "stream",
     "text": [
      "\u001b[1m625/625\u001b[0m \u001b[32m━━━━━━━━━━━━━━━━━━━━\u001b[0m\u001b[37m\u001b[0m \u001b[1m1558s\u001b[0m 2s/step - accuracy: 0.8555 - loss: 0.3335 - val_accuracy: 0.9251 - val_loss: 0.1866\n",
      "Epoch 2/10\n",
      "\u001b[1m625/625\u001b[0m \u001b[32m━━━━━━━━━━━━━━━━━━━━\u001b[0m\u001b[37m\u001b[0m \u001b[1m1380s\u001b[0m 2s/step - accuracy: 0.9033 - loss: 0.2355 - val_accuracy: 0.9402 - val_loss: 0.1498\n",
      "Epoch 3/10\n",
      "\u001b[1m625/625\u001b[0m \u001b[32m━━━━━━━━━━━━━━━━━━━━\u001b[0m\u001b[37m\u001b[0m \u001b[1m1372s\u001b[0m 2s/step - accuracy: 0.9191 - loss: 0.1994 - val_accuracy: 0.9513 - val_loss: 0.1243\n",
      "Epoch 4/10\n",
      "\u001b[1m625/625\u001b[0m \u001b[32m━━━━━━━━━━━━━━━━━━━━\u001b[0m\u001b[37m\u001b[0m \u001b[1m1373s\u001b[0m 2s/step - accuracy: 0.9287 - loss: 0.1785 - val_accuracy: 0.9545 - val_loss: 0.1155\n",
      "Epoch 5/10\n",
      "\u001b[1m625/625\u001b[0m \u001b[32m━━━━━━━━━━━━━━━━━━━━\u001b[0m\u001b[37m\u001b[0m \u001b[1m1366s\u001b[0m 2s/step - accuracy: 0.9352 - loss: 0.1605 - val_accuracy: 0.9600 - val_loss: 0.1014\n",
      "Epoch 6/10\n",
      "\u001b[1m625/625\u001b[0m \u001b[32m━━━━━━━━━━━━━━━━━━━━\u001b[0m\u001b[37m\u001b[0m \u001b[1m1386s\u001b[0m 2s/step - accuracy: 0.9412 - loss: 0.1477 - val_accuracy: 0.9639 - val_loss: 0.0948\n",
      "Epoch 7/10\n",
      "\u001b[1m625/625\u001b[0m \u001b[32m━━━━━━━━━━━━━━━━━━━━\u001b[0m\u001b[37m\u001b[0m \u001b[1m1384s\u001b[0m 2s/step - accuracy: 0.9452 - loss: 0.1412 - val_accuracy: 0.9644 - val_loss: 0.0930\n",
      "Epoch 8/10\n",
      "\u001b[1m625/625\u001b[0m \u001b[32m━━━━━━━━━━━━━━━━━━━━\u001b[0m\u001b[37m\u001b[0m \u001b[1m1378s\u001b[0m 2s/step - accuracy: 0.9493 - loss: 0.1299 - val_accuracy: 0.9678 - val_loss: 0.0834\n",
      "Epoch 9/10\n",
      "\u001b[1m625/625\u001b[0m \u001b[32m━━━━━━━━━━━━━━━━━━━━\u001b[0m\u001b[37m\u001b[0m \u001b[1m1383s\u001b[0m 2s/step - accuracy: 0.9517 - loss: 0.1210 - val_accuracy: 0.9694 - val_loss: 0.0828\n",
      "Epoch 10/10\n",
      "\u001b[1m625/625\u001b[0m \u001b[32m━━━━━━━━━━━━━━━━━━━━\u001b[0m\u001b[37m\u001b[0m \u001b[1m1374s\u001b[0m 2s/step - accuracy: 0.9544 - loss: 0.1182 - val_accuracy: 0.9687 - val_loss: 0.0843\n",
      "Restoring model weights from the end of the best epoch: 9.\n"
     ]
    }
   ],
   "source": [
    "# fine tune\n",
    "\n",
    "base_model = model.layers[1]\n",
    "base_model.trainable = True\n",
    "\n",
    "fine_tune_at = 500\n",
    "\n",
    "for layer in base_model.layers[:fine_tune_at]:\n",
    "  layer.trainable = False\n",
    "\n",
    "early_stopping_callbacks = tf.keras.callbacks.EarlyStopping(monitor = 'val_loss', patience = 3,restore_best_weights = True, verbose = 1)\n",
    "\n",
    "\n",
    "model.compile(loss=tf.keras.losses.SparseCategoricalCrossentropy(from_logits=False), optimizer=tf.keras.optimizers.Adam(learning_rate=0.00001), metrics\n",
    "              =[\"accuracy\"])\n",
    "\n",
    "history_ft = model.fit(tr_set, epochs = 10, validation_data = te_set, callbacks = [early_stopping_callbacks])"
   ]
  },
  {
   "cell_type": "code",
   "execution_count": 12,
   "id": "3f5b30aa",
   "metadata": {
    "execution": {
     "iopub.execute_input": "2024-05-01T06:34:46.755307Z",
     "iopub.status.busy": "2024-05-01T06:34:46.754942Z",
     "iopub.status.idle": "2024-05-01T06:34:48.833229Z",
     "shell.execute_reply": "2024-05-01T06:34:48.832204Z"
    },
    "papermill": {
     "duration": 3.356909,
     "end_time": "2024-05-01T06:34:48.835576",
     "exception": false,
     "start_time": "2024-05-01T06:34:45.478667",
     "status": "completed"
    },
    "tags": []
   },
   "outputs": [],
   "source": [
    "model.save(\"r152full_final.keras\")"
   ]
  },
  {
   "cell_type": "code",
   "execution_count": 13,
   "id": "29fc4c6f",
   "metadata": {
    "execution": {
     "iopub.execute_input": "2024-05-01T06:34:51.384938Z",
     "iopub.status.busy": "2024-05-01T06:34:51.384569Z",
     "iopub.status.idle": "2024-05-01T06:34:51.777657Z",
     "shell.execute_reply": "2024-05-01T06:34:51.776702Z"
    },
    "id": "6Hxl2YpVeiIR",
    "papermill": {
     "duration": 1.662857,
     "end_time": "2024-05-01T06:34:51.779764",
     "exception": false,
     "start_time": "2024-05-01T06:34:50.116907",
     "status": "completed"
    },
    "tags": []
   },
   "outputs": [
    {
     "data": {
      "image/png": "[encoded data removed]",
      "text/plain": [
       "<Figure size 640x480 with 1 Axes>"
      ]
     },
     "metadata": {},
     "output_type": "display_data"
    },
    {
     "data": {
      "image/png": "[encoded data removed]",
      "text/plain": [
       "<Figure size 640x480 with 1 Axes>"
      ]
     },
     "metadata": {},
     "output_type": "display_data"
    }
   ],
   "source": [
    "# loss curve\n",
    "\n",
    "l = np.concatenate([history_ft.history['loss']])\n",
    "acc = np.concatenate([history_ft.history['accuracy']])\n",
    "lv = np.concatenate([history_ft.history['val_loss']])\n",
    "accv = np.concatenate([history_ft.history['val_accuracy']])\n",
    "\n",
    "plt.plot(l, label=\"Loss\")\n",
    "plt.plot(acc, label=\"Accuracy\")\n",
    "plt.legend()\n",
    "plt.show()\n",
    "plt.plot(lv, label=\"Val_Loss\")\n",
    "plt.plot(accv, label=\"Val_Accuracy\")\n",
    "plt.legend()\n",
    "plt.show()"
   ]
  },
  {
   "cell_type": "code",
   "execution_count": 14,
   "id": "5bfc1d08",
   "metadata": {
    "execution": {
     "iopub.execute_input": "2024-05-01T06:34:54.492773Z",
     "iopub.status.busy": "2024-05-01T06:34:54.492382Z",
     "iopub.status.idle": "2024-05-01T06:36:40.241559Z",
     "shell.execute_reply": "2024-05-01T06:36:40.240636Z"
    },
    "id": "BfRAWEEr7VO9",
    "papermill": {
     "duration": 107.054763,
     "end_time": "2024-05-01T06:36:40.243437",
     "exception": false,
     "start_time": "2024-05-01T06:34:53.188674",
     "status": "completed"
    },
    "tags": []
   },
   "outputs": [
    {
     "name": "stdout",
     "output_type": "stream",
     "text": [
      "\u001b[1m157/157\u001b[0m \u001b[32m━━━━━━━━━━━━━━━━━━━━\u001b[0m\u001b[37m\u001b[0m \u001b[1m105s\u001b[0m 667ms/step - accuracy: 0.9752 - loss: 0.0687\n"
     ]
    },
    {
     "data": {
      "text/plain": [
       "[0.08277685195207596, 0.9693999886512756]"
      ]
     },
     "execution_count": 14,
     "metadata": {},
     "output_type": "execute_result"
    }
   ],
   "source": [
    "model.evaluate(te_set)"
   ]
  }
 ],
 "metadata": {
  "colab": {
   "provenance": []
  },
  "kaggle": {
   "accelerator": "nvidiaTeslaT4",
   "dataSources": [
    {
     "datasetId": 3041726,
     "sourceId": 5256696,
     "sourceType": "datasetVersion"
    }
   ],
   "dockerImageVersionId": 30699,
   "isGpuEnabled": true,
   "isInternetEnabled": true,
   "language": "python",
   "sourceType": "notebook"
  },
  "kernelspec": {
   "display_name": "Python 3",
   "language": "python",
   "name": "python3"
  },
  "language_info": {
   "codemirror_mode": {
    "name": "ipython",
    "version": 3
   },
   "file_extension": ".py",
   "mimetype": "text/x-python",
   "name": "python",
   "nbconvert_exporter": "python",
   "pygments_lexer": "ipython3",
   "version": "3.10.13"
  },
  "papermill": {
   "default_parameters": {},
   "duration": 36503.853348,
   "end_time": "2024-05-01T06:36:45.007043",
   "environment_variables": {},
   "exception": null,
   "input_path": "__notebook__.ipynb",
   "output_path": "__notebook__.ipynb",
   "parameters": {},
   "start_time": "2024-04-30T20:28:21.153695",
   "version": "2.5.0"
  }
 },
 "nbformat": 4,
 "nbformat_minor": 5
}
